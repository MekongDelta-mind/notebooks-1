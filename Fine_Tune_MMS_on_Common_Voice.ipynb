{
  "nbformat": 4,
  "nbformat_minor": 0,
  "metadata": {
    "accelerator": "GPU",
    "colab": {
      "provenance": [],
      "machine_shape": "hm",
      "gpuType": "A100",
      "include_colab_link": true
    },
    "kernelspec": {
      "display_name": "Python 3",
      "name": "python3"
    },
    "widgets": {
      "application/vnd.jupyter.widget-state+json": {
        "5c855868a9e84dcea05a3482b1557301": {
          "model_module": "@jupyter-widgets/controls",
          "model_name": "VBoxModel",
          "model_module_version": "1.5.0",
          "state": {
            "_dom_classes": [],
            "_model_module": "@jupyter-widgets/controls",
            "_model_module_version": "1.5.0",
            "_model_name": "VBoxModel",
            "_view_count": null,
            "_view_module": "@jupyter-widgets/controls",
            "_view_module_version": "1.5.0",
            "_view_name": "VBoxView",
            "box_style": "",
            "children": [
              "IPY_MODEL_fc98b737a1694eb6b4ab82570e0f5229",
              "IPY_MODEL_3b1de62d66ca4321aa0de3e950bc7017",
              "IPY_MODEL_d41507a1c7fc42b68844e579707f0a09",
              "IPY_MODEL_198d2ec74b984307bf7e1bd46b355ece",
              "IPY_MODEL_644b6121063c44bbb3c8f1a6570ef35c"
            ],
            "layout": "IPY_MODEL_99f2b2fc72c14c21a6b10fcba19d4ce9"
          }
        },
        "fc98b737a1694eb6b4ab82570e0f5229": {
          "model_module": "@jupyter-widgets/controls",
          "model_name": "HTMLModel",
          "model_module_version": "1.5.0",
          "state": {
            "_dom_classes": [],
            "_model_module": "@jupyter-widgets/controls",
            "_model_module_version": "1.5.0",
            "_model_name": "HTMLModel",
            "_view_count": null,
            "_view_module": "@jupyter-widgets/controls",
            "_view_module_version": "1.5.0",
            "_view_name": "HTMLView",
            "description": "",
            "description_tooltip": null,
            "layout": "IPY_MODEL_df30f15167e34cf8a3bf0c0507c32a18",
            "placeholder": "​",
            "style": "IPY_MODEL_843313007d6640268b96544083b54c37",
            "value": "<center> <img\nsrc=https://huggingface.co/front/assets/huggingface_logo-noborder.svg\nalt='Hugging Face'> <br> Copy a token from <a\nhref=\"https://huggingface.co/settings/tokens\" target=\"_blank\">your Hugging Face\ntokens page</a> and paste it below. <br> Immediately click login after copying\nyour token or it might be stored in plain text in this notebook file. </center>"
          }
        },
        "3b1de62d66ca4321aa0de3e950bc7017": {
          "model_module": "@jupyter-widgets/controls",
          "model_name": "PasswordModel",
          "model_module_version": "1.5.0",
          "state": {
            "_dom_classes": [],
            "_model_module": "@jupyter-widgets/controls",
            "_model_module_version": "1.5.0",
            "_model_name": "PasswordModel",
            "_view_count": null,
            "_view_module": "@jupyter-widgets/controls",
            "_view_module_version": "1.5.0",
            "_view_name": "PasswordView",
            "continuous_update": true,
            "description": "Token:",
            "description_tooltip": null,
            "disabled": false,
            "layout": "IPY_MODEL_da853ffae48a4b6b863e5e048d24e556",
            "placeholder": "​",
            "style": "IPY_MODEL_7ba5540f243c4cf7a993300e50adc5a9",
            "value": ""
          }
        },
        "d41507a1c7fc42b68844e579707f0a09": {
          "model_module": "@jupyter-widgets/controls",
          "model_name": "CheckboxModel",
          "model_module_version": "1.5.0",
          "state": {
            "_dom_classes": [],
            "_model_module": "@jupyter-widgets/controls",
            "_model_module_version": "1.5.0",
            "_model_name": "CheckboxModel",
            "_view_count": null,
            "_view_module": "@jupyter-widgets/controls",
            "_view_module_version": "1.5.0",
            "_view_name": "CheckboxView",
            "description": "Add token as git credential?",
            "description_tooltip": null,
            "disabled": false,
            "indent": true,
            "layout": "IPY_MODEL_6754c7a648004c3490ba6d63faed7d74",
            "style": "IPY_MODEL_aab3264d74c74fe7b2b6fa177c9d62da",
            "value": true
          }
        },
        "198d2ec74b984307bf7e1bd46b355ece": {
          "model_module": "@jupyter-widgets/controls",
          "model_name": "ButtonModel",
          "model_module_version": "1.5.0",
          "state": {
            "_dom_classes": [],
            "_model_module": "@jupyter-widgets/controls",
            "_model_module_version": "1.5.0",
            "_model_name": "ButtonModel",
            "_view_count": null,
            "_view_module": "@jupyter-widgets/controls",
            "_view_module_version": "1.5.0",
            "_view_name": "ButtonView",
            "button_style": "",
            "description": "Login",
            "disabled": false,
            "icon": "",
            "layout": "IPY_MODEL_cac9b4e043b843629d045126e66656ff",
            "style": "IPY_MODEL_56044c814dfc450eb6acf436ff9878b0",
            "tooltip": ""
          }
        },
        "644b6121063c44bbb3c8f1a6570ef35c": {
          "model_module": "@jupyter-widgets/controls",
          "model_name": "HTMLModel",
          "model_module_version": "1.5.0",
          "state": {
            "_dom_classes": [],
            "_model_module": "@jupyter-widgets/controls",
            "_model_module_version": "1.5.0",
            "_model_name": "HTMLModel",
            "_view_count": null,
            "_view_module": "@jupyter-widgets/controls",
            "_view_module_version": "1.5.0",
            "_view_name": "HTMLView",
            "description": "",
            "description_tooltip": null,
            "layout": "IPY_MODEL_df11fa910aa0494da7b388edd313258e",
            "placeholder": "​",
            "style": "IPY_MODEL_f776e241228d4c10a549feb0b49fb48a",
            "value": "\n<b>Pro Tip:</b> If you don't already have one, you can create a dedicated\n'notebooks' token with 'write' access, that you can then easily reuse for all\nnotebooks. </center>"
          }
        },
        "99f2b2fc72c14c21a6b10fcba19d4ce9": {
          "model_module": "@jupyter-widgets/base",
          "model_name": "LayoutModel",
          "model_module_version": "1.2.0",
          "state": {
            "_model_module": "@jupyter-widgets/base",
            "_model_module_version": "1.2.0",
            "_model_name": "LayoutModel",
            "_view_count": null,
            "_view_module": "@jupyter-widgets/base",
            "_view_module_version": "1.2.0",
            "_view_name": "LayoutView",
            "align_content": null,
            "align_items": "center",
            "align_self": null,
            "border": null,
            "bottom": null,
            "display": "flex",
            "flex": null,
            "flex_flow": "column",
            "grid_area": null,
            "grid_auto_columns": null,
            "grid_auto_flow": null,
            "grid_auto_rows": null,
            "grid_column": null,
            "grid_gap": null,
            "grid_row": null,
            "grid_template_areas": null,
            "grid_template_columns": null,
            "grid_template_rows": null,
            "height": null,
            "justify_content": null,
            "justify_items": null,
            "left": null,
            "margin": null,
            "max_height": null,
            "max_width": null,
            "min_height": null,
            "min_width": null,
            "object_fit": null,
            "object_position": null,
            "order": null,
            "overflow": null,
            "overflow_x": null,
            "overflow_y": null,
            "padding": null,
            "right": null,
            "top": null,
            "visibility": null,
            "width": "50%"
          }
        },
        "df30f15167e34cf8a3bf0c0507c32a18": {
          "model_module": "@jupyter-widgets/base",
          "model_name": "LayoutModel",
          "model_module_version": "1.2.0",
          "state": {
            "_model_module": "@jupyter-widgets/base",
            "_model_module_version": "1.2.0",
            "_model_name": "LayoutModel",
            "_view_count": null,
            "_view_module": "@jupyter-widgets/base",
            "_view_module_version": "1.2.0",
            "_view_name": "LayoutView",
            "align_content": null,
            "align_items": null,
            "align_self": null,
            "border": null,
            "bottom": null,
            "display": null,
            "flex": null,
            "flex_flow": null,
            "grid_area": null,
            "grid_auto_columns": null,
            "grid_auto_flow": null,
            "grid_auto_rows": null,
            "grid_column": null,
            "grid_gap": null,
            "grid_row": null,
            "grid_template_areas": null,
            "grid_template_columns": null,
            "grid_template_rows": null,
            "height": null,
            "justify_content": null,
            "justify_items": null,
            "left": null,
            "margin": null,
            "max_height": null,
            "max_width": null,
            "min_height": null,
            "min_width": null,
            "object_fit": null,
            "object_position": null,
            "order": null,
            "overflow": null,
            "overflow_x": null,
            "overflow_y": null,
            "padding": null,
            "right": null,
            "top": null,
            "visibility": null,
            "width": null
          }
        },
        "843313007d6640268b96544083b54c37": {
          "model_module": "@jupyter-widgets/controls",
          "model_name": "DescriptionStyleModel",
          "model_module_version": "1.5.0",
          "state": {
            "_model_module": "@jupyter-widgets/controls",
            "_model_module_version": "1.5.0",
            "_model_name": "DescriptionStyleModel",
            "_view_count": null,
            "_view_module": "@jupyter-widgets/base",
            "_view_module_version": "1.2.0",
            "_view_name": "StyleView",
            "description_width": ""
          }
        },
        "da853ffae48a4b6b863e5e048d24e556": {
          "model_module": "@jupyter-widgets/base",
          "model_name": "LayoutModel",
          "model_module_version": "1.2.0",
          "state": {
            "_model_module": "@jupyter-widgets/base",
            "_model_module_version": "1.2.0",
            "_model_name": "LayoutModel",
            "_view_count": null,
            "_view_module": "@jupyter-widgets/base",
            "_view_module_version": "1.2.0",
            "_view_name": "LayoutView",
            "align_content": null,
            "align_items": null,
            "align_self": null,
            "border": null,
            "bottom": null,
            "display": null,
            "flex": null,
            "flex_flow": null,
            "grid_area": null,
            "grid_auto_columns": null,
            "grid_auto_flow": null,
            "grid_auto_rows": null,
            "grid_column": null,
            "grid_gap": null,
            "grid_row": null,
            "grid_template_areas": null,
            "grid_template_columns": null,
            "grid_template_rows": null,
            "height": null,
            "justify_content": null,
            "justify_items": null,
            "left": null,
            "margin": null,
            "max_height": null,
            "max_width": null,
            "min_height": null,
            "min_width": null,
            "object_fit": null,
            "object_position": null,
            "order": null,
            "overflow": null,
            "overflow_x": null,
            "overflow_y": null,
            "padding": null,
            "right": null,
            "top": null,
            "visibility": null,
            "width": null
          }
        },
        "7ba5540f243c4cf7a993300e50adc5a9": {
          "model_module": "@jupyter-widgets/controls",
          "model_name": "DescriptionStyleModel",
          "model_module_version": "1.5.0",
          "state": {
            "_model_module": "@jupyter-widgets/controls",
            "_model_module_version": "1.5.0",
            "_model_name": "DescriptionStyleModel",
            "_view_count": null,
            "_view_module": "@jupyter-widgets/base",
            "_view_module_version": "1.2.0",
            "_view_name": "StyleView",
            "description_width": ""
          }
        },
        "6754c7a648004c3490ba6d63faed7d74": {
          "model_module": "@jupyter-widgets/base",
          "model_name": "LayoutModel",
          "model_module_version": "1.2.0",
          "state": {
            "_model_module": "@jupyter-widgets/base",
            "_model_module_version": "1.2.0",
            "_model_name": "LayoutModel",
            "_view_count": null,
            "_view_module": "@jupyter-widgets/base",
            "_view_module_version": "1.2.0",
            "_view_name": "LayoutView",
            "align_content": null,
            "align_items": null,
            "align_self": null,
            "border": null,
            "bottom": null,
            "display": null,
            "flex": null,
            "flex_flow": null,
            "grid_area": null,
            "grid_auto_columns": null,
            "grid_auto_flow": null,
            "grid_auto_rows": null,
            "grid_column": null,
            "grid_gap": null,
            "grid_row": null,
            "grid_template_areas": null,
            "grid_template_columns": null,
            "grid_template_rows": null,
            "height": null,
            "justify_content": null,
            "justify_items": null,
            "left": null,
            "margin": null,
            "max_height": null,
            "max_width": null,
            "min_height": null,
            "min_width": null,
            "object_fit": null,
            "object_position": null,
            "order": null,
            "overflow": null,
            "overflow_x": null,
            "overflow_y": null,
            "padding": null,
            "right": null,
            "top": null,
            "visibility": null,
            "width": null
          }
        },
        "aab3264d74c74fe7b2b6fa177c9d62da": {
          "model_module": "@jupyter-widgets/controls",
          "model_name": "DescriptionStyleModel",
          "model_module_version": "1.5.0",
          "state": {
            "_model_module": "@jupyter-widgets/controls",
            "_model_module_version": "1.5.0",
            "_model_name": "DescriptionStyleModel",
            "_view_count": null,
            "_view_module": "@jupyter-widgets/base",
            "_view_module_version": "1.2.0",
            "_view_name": "StyleView",
            "description_width": ""
          }
        },
        "cac9b4e043b843629d045126e66656ff": {
          "model_module": "@jupyter-widgets/base",
          "model_name": "LayoutModel",
          "model_module_version": "1.2.0",
          "state": {
            "_model_module": "@jupyter-widgets/base",
            "_model_module_version": "1.2.0",
            "_model_name": "LayoutModel",
            "_view_count": null,
            "_view_module": "@jupyter-widgets/base",
            "_view_module_version": "1.2.0",
            "_view_name": "LayoutView",
            "align_content": null,
            "align_items": null,
            "align_self": null,
            "border": null,
            "bottom": null,
            "display": null,
            "flex": null,
            "flex_flow": null,
            "grid_area": null,
            "grid_auto_columns": null,
            "grid_auto_flow": null,
            "grid_auto_rows": null,
            "grid_column": null,
            "grid_gap": null,
            "grid_row": null,
            "grid_template_areas": null,
            "grid_template_columns": null,
            "grid_template_rows": null,
            "height": null,
            "justify_content": null,
            "justify_items": null,
            "left": null,
            "margin": null,
            "max_height": null,
            "max_width": null,
            "min_height": null,
            "min_width": null,
            "object_fit": null,
            "object_position": null,
            "order": null,
            "overflow": null,
            "overflow_x": null,
            "overflow_y": null,
            "padding": null,
            "right": null,
            "top": null,
            "visibility": null,
            "width": null
          }
        },
        "56044c814dfc450eb6acf436ff9878b0": {
          "model_module": "@jupyter-widgets/controls",
          "model_name": "ButtonStyleModel",
          "model_module_version": "1.5.0",
          "state": {
            "_model_module": "@jupyter-widgets/controls",
            "_model_module_version": "1.5.0",
            "_model_name": "ButtonStyleModel",
            "_view_count": null,
            "_view_module": "@jupyter-widgets/base",
            "_view_module_version": "1.2.0",
            "_view_name": "StyleView",
            "button_color": null,
            "font_weight": ""
          }
        },
        "df11fa910aa0494da7b388edd313258e": {
          "model_module": "@jupyter-widgets/base",
          "model_name": "LayoutModel",
          "model_module_version": "1.2.0",
          "state": {
            "_model_module": "@jupyter-widgets/base",
            "_model_module_version": "1.2.0",
            "_model_name": "LayoutModel",
            "_view_count": null,
            "_view_module": "@jupyter-widgets/base",
            "_view_module_version": "1.2.0",
            "_view_name": "LayoutView",
            "align_content": null,
            "align_items": null,
            "align_self": null,
            "border": null,
            "bottom": null,
            "display": null,
            "flex": null,
            "flex_flow": null,
            "grid_area": null,
            "grid_auto_columns": null,
            "grid_auto_flow": null,
            "grid_auto_rows": null,
            "grid_column": null,
            "grid_gap": null,
            "grid_row": null,
            "grid_template_areas": null,
            "grid_template_columns": null,
            "grid_template_rows": null,
            "height": null,
            "justify_content": null,
            "justify_items": null,
            "left": null,
            "margin": null,
            "max_height": null,
            "max_width": null,
            "min_height": null,
            "min_width": null,
            "object_fit": null,
            "object_position": null,
            "order": null,
            "overflow": null,
            "overflow_x": null,
            "overflow_y": null,
            "padding": null,
            "right": null,
            "top": null,
            "visibility": null,
            "width": null
          }
        },
        "f776e241228d4c10a549feb0b49fb48a": {
          "model_module": "@jupyter-widgets/controls",
          "model_name": "DescriptionStyleModel",
          "model_module_version": "1.5.0",
          "state": {
            "_model_module": "@jupyter-widgets/controls",
            "_model_module_version": "1.5.0",
            "_model_name": "DescriptionStyleModel",
            "_view_count": null,
            "_view_module": "@jupyter-widgets/base",
            "_view_module_version": "1.2.0",
            "_view_name": "StyleView",
            "description_width": ""
          }
        },
        "92f06390774e4a4e8b8a9876b1124e7c": {
          "model_module": "@jupyter-widgets/controls",
          "model_name": "HBoxModel",
          "model_module_version": "1.5.0",
          "state": {
            "_dom_classes": [],
            "_model_module": "@jupyter-widgets/controls",
            "_model_module_version": "1.5.0",
            "_model_name": "HBoxModel",
            "_view_count": null,
            "_view_module": "@jupyter-widgets/controls",
            "_view_module_version": "1.5.0",
            "_view_name": "HBoxView",
            "box_style": "",
            "children": [
              "IPY_MODEL_915bcf23a8aa4c8aad023024da8ebef1",
              "IPY_MODEL_a67519f20b6f4a8aa0c31026094c4361",
              "IPY_MODEL_196fb9fbd0ff444bb5e391482f541de1"
            ],
            "layout": "IPY_MODEL_4da9fe628f464b1faea6c0a504ebd9eb"
          }
        },
        "915bcf23a8aa4c8aad023024da8ebef1": {
          "model_module": "@jupyter-widgets/controls",
          "model_name": "HTMLModel",
          "model_module_version": "1.5.0",
          "state": {
            "_dom_classes": [],
            "_model_module": "@jupyter-widgets/controls",
            "_model_module_version": "1.5.0",
            "_model_name": "HTMLModel",
            "_view_count": null,
            "_view_module": "@jupyter-widgets/controls",
            "_view_module_version": "1.5.0",
            "_view_name": "HTMLView",
            "description": "",
            "description_tooltip": null,
            "layout": "IPY_MODEL_c6e51ab52e4f44d0b8afa5e1731c7f84",
            "placeholder": "​",
            "style": "IPY_MODEL_30d12a46194a4268a6bf9f6f14f25359",
            "value": "Map:   0%"
          }
        },
        "a67519f20b6f4a8aa0c31026094c4361": {
          "model_module": "@jupyter-widgets/controls",
          "model_name": "FloatProgressModel",
          "model_module_version": "1.5.0",
          "state": {
            "_dom_classes": [],
            "_model_module": "@jupyter-widgets/controls",
            "_model_module_version": "1.5.0",
            "_model_name": "FloatProgressModel",
            "_view_count": null,
            "_view_module": "@jupyter-widgets/controls",
            "_view_module_version": "1.5.0",
            "_view_name": "ProgressView",
            "bar_style": "",
            "description": "",
            "description_tooltip": null,
            "layout": "IPY_MODEL_f371c3d5244e40d58b734fa0cbb98974",
            "max": 3478,
            "min": 0,
            "orientation": "horizontal",
            "style": "IPY_MODEL_2b80fbb85e9e4c13ac0f9d4f5d5a37e9",
            "value": 3478
          }
        },
        "196fb9fbd0ff444bb5e391482f541de1": {
          "model_module": "@jupyter-widgets/controls",
          "model_name": "HTMLModel",
          "model_module_version": "1.5.0",
          "state": {
            "_dom_classes": [],
            "_model_module": "@jupyter-widgets/controls",
            "_model_module_version": "1.5.0",
            "_model_name": "HTMLModel",
            "_view_count": null,
            "_view_module": "@jupyter-widgets/controls",
            "_view_module_version": "1.5.0",
            "_view_name": "HTMLView",
            "description": "",
            "description_tooltip": null,
            "layout": "IPY_MODEL_0c6c3621ee8f4600ae6a44a6a5da3420",
            "placeholder": "​",
            "style": "IPY_MODEL_03d827d3db7140ca94a9f87ae10392f0",
            "value": " 0/3478 [00:00&lt;?, ? examples/s]"
          }
        },
        "4da9fe628f464b1faea6c0a504ebd9eb": {
          "model_module": "@jupyter-widgets/base",
          "model_name": "LayoutModel",
          "model_module_version": "1.2.0",
          "state": {
            "_model_module": "@jupyter-widgets/base",
            "_model_module_version": "1.2.0",
            "_model_name": "LayoutModel",
            "_view_count": null,
            "_view_module": "@jupyter-widgets/base",
            "_view_module_version": "1.2.0",
            "_view_name": "LayoutView",
            "align_content": null,
            "align_items": null,
            "align_self": null,
            "border": null,
            "bottom": null,
            "display": null,
            "flex": null,
            "flex_flow": null,
            "grid_area": null,
            "grid_auto_columns": null,
            "grid_auto_flow": null,
            "grid_auto_rows": null,
            "grid_column": null,
            "grid_gap": null,
            "grid_row": null,
            "grid_template_areas": null,
            "grid_template_columns": null,
            "grid_template_rows": null,
            "height": null,
            "justify_content": null,
            "justify_items": null,
            "left": null,
            "margin": null,
            "max_height": null,
            "max_width": null,
            "min_height": null,
            "min_width": null,
            "object_fit": null,
            "object_position": null,
            "order": null,
            "overflow": null,
            "overflow_x": null,
            "overflow_y": null,
            "padding": null,
            "right": null,
            "top": null,
            "visibility": "hidden",
            "width": null
          }
        },
        "c6e51ab52e4f44d0b8afa5e1731c7f84": {
          "model_module": "@jupyter-widgets/base",
          "model_name": "LayoutModel",
          "model_module_version": "1.2.0",
          "state": {
            "_model_module": "@jupyter-widgets/base",
            "_model_module_version": "1.2.0",
            "_model_name": "LayoutModel",
            "_view_count": null,
            "_view_module": "@jupyter-widgets/base",
            "_view_module_version": "1.2.0",
            "_view_name": "LayoutView",
            "align_content": null,
            "align_items": null,
            "align_self": null,
            "border": null,
            "bottom": null,
            "display": null,
            "flex": null,
            "flex_flow": null,
            "grid_area": null,
            "grid_auto_columns": null,
            "grid_auto_flow": null,
            "grid_auto_rows": null,
            "grid_column": null,
            "grid_gap": null,
            "grid_row": null,
            "grid_template_areas": null,
            "grid_template_columns": null,
            "grid_template_rows": null,
            "height": null,
            "justify_content": null,
            "justify_items": null,
            "left": null,
            "margin": null,
            "max_height": null,
            "max_width": null,
            "min_height": null,
            "min_width": null,
            "object_fit": null,
            "object_position": null,
            "order": null,
            "overflow": null,
            "overflow_x": null,
            "overflow_y": null,
            "padding": null,
            "right": null,
            "top": null,
            "visibility": null,
            "width": null
          }
        },
        "30d12a46194a4268a6bf9f6f14f25359": {
          "model_module": "@jupyter-widgets/controls",
          "model_name": "DescriptionStyleModel",
          "model_module_version": "1.5.0",
          "state": {
            "_model_module": "@jupyter-widgets/controls",
            "_model_module_version": "1.5.0",
            "_model_name": "DescriptionStyleModel",
            "_view_count": null,
            "_view_module": "@jupyter-widgets/base",
            "_view_module_version": "1.2.0",
            "_view_name": "StyleView",
            "description_width": ""
          }
        },
        "f371c3d5244e40d58b734fa0cbb98974": {
          "model_module": "@jupyter-widgets/base",
          "model_name": "LayoutModel",
          "model_module_version": "1.2.0",
          "state": {
            "_model_module": "@jupyter-widgets/base",
            "_model_module_version": "1.2.0",
            "_model_name": "LayoutModel",
            "_view_count": null,
            "_view_module": "@jupyter-widgets/base",
            "_view_module_version": "1.2.0",
            "_view_name": "LayoutView",
            "align_content": null,
            "align_items": null,
            "align_self": null,
            "border": null,
            "bottom": null,
            "display": null,
            "flex": null,
            "flex_flow": null,
            "grid_area": null,
            "grid_auto_columns": null,
            "grid_auto_flow": null,
            "grid_auto_rows": null,
            "grid_column": null,
            "grid_gap": null,
            "grid_row": null,
            "grid_template_areas": null,
            "grid_template_columns": null,
            "grid_template_rows": null,
            "height": null,
            "justify_content": null,
            "justify_items": null,
            "left": null,
            "margin": null,
            "max_height": null,
            "max_width": null,
            "min_height": null,
            "min_width": null,
            "object_fit": null,
            "object_position": null,
            "order": null,
            "overflow": null,
            "overflow_x": null,
            "overflow_y": null,
            "padding": null,
            "right": null,
            "top": null,
            "visibility": null,
            "width": null
          }
        },
        "2b80fbb85e9e4c13ac0f9d4f5d5a37e9": {
          "model_module": "@jupyter-widgets/controls",
          "model_name": "ProgressStyleModel",
          "model_module_version": "1.5.0",
          "state": {
            "_model_module": "@jupyter-widgets/controls",
            "_model_module_version": "1.5.0",
            "_model_name": "ProgressStyleModel",
            "_view_count": null,
            "_view_module": "@jupyter-widgets/base",
            "_view_module_version": "1.2.0",
            "_view_name": "StyleView",
            "bar_color": null,
            "description_width": ""
          }
        },
        "0c6c3621ee8f4600ae6a44a6a5da3420": {
          "model_module": "@jupyter-widgets/base",
          "model_name": "LayoutModel",
          "model_module_version": "1.2.0",
          "state": {
            "_model_module": "@jupyter-widgets/base",
            "_model_module_version": "1.2.0",
            "_model_name": "LayoutModel",
            "_view_count": null,
            "_view_module": "@jupyter-widgets/base",
            "_view_module_version": "1.2.0",
            "_view_name": "LayoutView",
            "align_content": null,
            "align_items": null,
            "align_self": null,
            "border": null,
            "bottom": null,
            "display": null,
            "flex": null,
            "flex_flow": null,
            "grid_area": null,
            "grid_auto_columns": null,
            "grid_auto_flow": null,
            "grid_auto_rows": null,
            "grid_column": null,
            "grid_gap": null,
            "grid_row": null,
            "grid_template_areas": null,
            "grid_template_columns": null,
            "grid_template_rows": null,
            "height": null,
            "justify_content": null,
            "justify_items": null,
            "left": null,
            "margin": null,
            "max_height": null,
            "max_width": null,
            "min_height": null,
            "min_width": null,
            "object_fit": null,
            "object_position": null,
            "order": null,
            "overflow": null,
            "overflow_x": null,
            "overflow_y": null,
            "padding": null,
            "right": null,
            "top": null,
            "visibility": null,
            "width": null
          }
        },
        "03d827d3db7140ca94a9f87ae10392f0": {
          "model_module": "@jupyter-widgets/controls",
          "model_name": "DescriptionStyleModel",
          "model_module_version": "1.5.0",
          "state": {
            "_model_module": "@jupyter-widgets/controls",
            "_model_module_version": "1.5.0",
            "_model_name": "DescriptionStyleModel",
            "_view_count": null,
            "_view_module": "@jupyter-widgets/base",
            "_view_module_version": "1.2.0",
            "_view_name": "StyleView",
            "description_width": ""
          }
        },
        "725e769f14ba4a399d230ef80595628e": {
          "model_module": "@jupyter-widgets/controls",
          "model_name": "HBoxModel",
          "model_module_version": "1.5.0",
          "state": {
            "_dom_classes": [],
            "_model_module": "@jupyter-widgets/controls",
            "_model_module_version": "1.5.0",
            "_model_name": "HBoxModel",
            "_view_count": null,
            "_view_module": "@jupyter-widgets/controls",
            "_view_module_version": "1.5.0",
            "_view_name": "HBoxView",
            "box_style": "",
            "children": [
              "IPY_MODEL_96ed8725d0f044b9b0de7df58cc58eda",
              "IPY_MODEL_459bb61ca5004db69fd30e3e232f2599",
              "IPY_MODEL_afa45ee747ae49159b5dee5eef11d00e"
            ],
            "layout": "IPY_MODEL_3d95c88b77694b15bd482c00ef4c7f78"
          }
        },
        "96ed8725d0f044b9b0de7df58cc58eda": {
          "model_module": "@jupyter-widgets/controls",
          "model_name": "HTMLModel",
          "model_module_version": "1.5.0",
          "state": {
            "_dom_classes": [],
            "_model_module": "@jupyter-widgets/controls",
            "_model_module_version": "1.5.0",
            "_model_name": "HTMLModel",
            "_view_count": null,
            "_view_module": "@jupyter-widgets/controls",
            "_view_module_version": "1.5.0",
            "_view_name": "HTMLView",
            "description": "",
            "description_tooltip": null,
            "layout": "IPY_MODEL_01aca9ebddae4945b83a45ed04dcac41",
            "placeholder": "​",
            "style": "IPY_MODEL_42844436bc2c4bdf9203b4586b853078",
            "value": "Map:   0%"
          }
        },
        "459bb61ca5004db69fd30e3e232f2599": {
          "model_module": "@jupyter-widgets/controls",
          "model_name": "FloatProgressModel",
          "model_module_version": "1.5.0",
          "state": {
            "_dom_classes": [],
            "_model_module": "@jupyter-widgets/controls",
            "_model_module_version": "1.5.0",
            "_model_name": "FloatProgressModel",
            "_view_count": null,
            "_view_module": "@jupyter-widgets/controls",
            "_view_module_version": "1.5.0",
            "_view_name": "ProgressView",
            "bar_style": "",
            "description": "",
            "description_tooltip": null,
            "layout": "IPY_MODEL_16c5d9fdab384c74b8737d4a4696c614",
            "max": 1647,
            "min": 0,
            "orientation": "horizontal",
            "style": "IPY_MODEL_1fc05d14d13544708186c86448d833df",
            "value": 1647
          }
        },
        "afa45ee747ae49159b5dee5eef11d00e": {
          "model_module": "@jupyter-widgets/controls",
          "model_name": "HTMLModel",
          "model_module_version": "1.5.0",
          "state": {
            "_dom_classes": [],
            "_model_module": "@jupyter-widgets/controls",
            "_model_module_version": "1.5.0",
            "_model_name": "HTMLModel",
            "_view_count": null,
            "_view_module": "@jupyter-widgets/controls",
            "_view_module_version": "1.5.0",
            "_view_name": "HTMLView",
            "description": "",
            "description_tooltip": null,
            "layout": "IPY_MODEL_7d101dabb6fb4cb982b1aa51b594160c",
            "placeholder": "​",
            "style": "IPY_MODEL_784b02ac64974269b4f8c6f84b689eff",
            "value": " 0/1647 [00:00&lt;?, ? examples/s]"
          }
        },
        "3d95c88b77694b15bd482c00ef4c7f78": {
          "model_module": "@jupyter-widgets/base",
          "model_name": "LayoutModel",
          "model_module_version": "1.2.0",
          "state": {
            "_model_module": "@jupyter-widgets/base",
            "_model_module_version": "1.2.0",
            "_model_name": "LayoutModel",
            "_view_count": null,
            "_view_module": "@jupyter-widgets/base",
            "_view_module_version": "1.2.0",
            "_view_name": "LayoutView",
            "align_content": null,
            "align_items": null,
            "align_self": null,
            "border": null,
            "bottom": null,
            "display": null,
            "flex": null,
            "flex_flow": null,
            "grid_area": null,
            "grid_auto_columns": null,
            "grid_auto_flow": null,
            "grid_auto_rows": null,
            "grid_column": null,
            "grid_gap": null,
            "grid_row": null,
            "grid_template_areas": null,
            "grid_template_columns": null,
            "grid_template_rows": null,
            "height": null,
            "justify_content": null,
            "justify_items": null,
            "left": null,
            "margin": null,
            "max_height": null,
            "max_width": null,
            "min_height": null,
            "min_width": null,
            "object_fit": null,
            "object_position": null,
            "order": null,
            "overflow": null,
            "overflow_x": null,
            "overflow_y": null,
            "padding": null,
            "right": null,
            "top": null,
            "visibility": "hidden",
            "width": null
          }
        },
        "01aca9ebddae4945b83a45ed04dcac41": {
          "model_module": "@jupyter-widgets/base",
          "model_name": "LayoutModel",
          "model_module_version": "1.2.0",
          "state": {
            "_model_module": "@jupyter-widgets/base",
            "_model_module_version": "1.2.0",
            "_model_name": "LayoutModel",
            "_view_count": null,
            "_view_module": "@jupyter-widgets/base",
            "_view_module_version": "1.2.0",
            "_view_name": "LayoutView",
            "align_content": null,
            "align_items": null,
            "align_self": null,
            "border": null,
            "bottom": null,
            "display": null,
            "flex": null,
            "flex_flow": null,
            "grid_area": null,
            "grid_auto_columns": null,
            "grid_auto_flow": null,
            "grid_auto_rows": null,
            "grid_column": null,
            "grid_gap": null,
            "grid_row": null,
            "grid_template_areas": null,
            "grid_template_columns": null,
            "grid_template_rows": null,
            "height": null,
            "justify_content": null,
            "justify_items": null,
            "left": null,
            "margin": null,
            "max_height": null,
            "max_width": null,
            "min_height": null,
            "min_width": null,
            "object_fit": null,
            "object_position": null,
            "order": null,
            "overflow": null,
            "overflow_x": null,
            "overflow_y": null,
            "padding": null,
            "right": null,
            "top": null,
            "visibility": null,
            "width": null
          }
        },
        "42844436bc2c4bdf9203b4586b853078": {
          "model_module": "@jupyter-widgets/controls",
          "model_name": "DescriptionStyleModel",
          "model_module_version": "1.5.0",
          "state": {
            "_model_module": "@jupyter-widgets/controls",
            "_model_module_version": "1.5.0",
            "_model_name": "DescriptionStyleModel",
            "_view_count": null,
            "_view_module": "@jupyter-widgets/base",
            "_view_module_version": "1.2.0",
            "_view_name": "StyleView",
            "description_width": ""
          }
        },
        "16c5d9fdab384c74b8737d4a4696c614": {
          "model_module": "@jupyter-widgets/base",
          "model_name": "LayoutModel",
          "model_module_version": "1.2.0",
          "state": {
            "_model_module": "@jupyter-widgets/base",
            "_model_module_version": "1.2.0",
            "_model_name": "LayoutModel",
            "_view_count": null,
            "_view_module": "@jupyter-widgets/base",
            "_view_module_version": "1.2.0",
            "_view_name": "LayoutView",
            "align_content": null,
            "align_items": null,
            "align_self": null,
            "border": null,
            "bottom": null,
            "display": null,
            "flex": null,
            "flex_flow": null,
            "grid_area": null,
            "grid_auto_columns": null,
            "grid_auto_flow": null,
            "grid_auto_rows": null,
            "grid_column": null,
            "grid_gap": null,
            "grid_row": null,
            "grid_template_areas": null,
            "grid_template_columns": null,
            "grid_template_rows": null,
            "height": null,
            "justify_content": null,
            "justify_items": null,
            "left": null,
            "margin": null,
            "max_height": null,
            "max_width": null,
            "min_height": null,
            "min_width": null,
            "object_fit": null,
            "object_position": null,
            "order": null,
            "overflow": null,
            "overflow_x": null,
            "overflow_y": null,
            "padding": null,
            "right": null,
            "top": null,
            "visibility": null,
            "width": null
          }
        },
        "1fc05d14d13544708186c86448d833df": {
          "model_module": "@jupyter-widgets/controls",
          "model_name": "ProgressStyleModel",
          "model_module_version": "1.5.0",
          "state": {
            "_model_module": "@jupyter-widgets/controls",
            "_model_module_version": "1.5.0",
            "_model_name": "ProgressStyleModel",
            "_view_count": null,
            "_view_module": "@jupyter-widgets/base",
            "_view_module_version": "1.2.0",
            "_view_name": "StyleView",
            "bar_color": null,
            "description_width": ""
          }
        },
        "7d101dabb6fb4cb982b1aa51b594160c": {
          "model_module": "@jupyter-widgets/base",
          "model_name": "LayoutModel",
          "model_module_version": "1.2.0",
          "state": {
            "_model_module": "@jupyter-widgets/base",
            "_model_module_version": "1.2.0",
            "_model_name": "LayoutModel",
            "_view_count": null,
            "_view_module": "@jupyter-widgets/base",
            "_view_module_version": "1.2.0",
            "_view_name": "LayoutView",
            "align_content": null,
            "align_items": null,
            "align_self": null,
            "border": null,
            "bottom": null,
            "display": null,
            "flex": null,
            "flex_flow": null,
            "grid_area": null,
            "grid_auto_columns": null,
            "grid_auto_flow": null,
            "grid_auto_rows": null,
            "grid_column": null,
            "grid_gap": null,
            "grid_row": null,
            "grid_template_areas": null,
            "grid_template_columns": null,
            "grid_template_rows": null,
            "height": null,
            "justify_content": null,
            "justify_items": null,
            "left": null,
            "margin": null,
            "max_height": null,
            "max_width": null,
            "min_height": null,
            "min_width": null,
            "object_fit": null,
            "object_position": null,
            "order": null,
            "overflow": null,
            "overflow_x": null,
            "overflow_y": null,
            "padding": null,
            "right": null,
            "top": null,
            "visibility": null,
            "width": null
          }
        },
        "784b02ac64974269b4f8c6f84b689eff": {
          "model_module": "@jupyter-widgets/controls",
          "model_name": "DescriptionStyleModel",
          "model_module_version": "1.5.0",
          "state": {
            "_model_module": "@jupyter-widgets/controls",
            "_model_module_version": "1.5.0",
            "_model_name": "DescriptionStyleModel",
            "_view_count": null,
            "_view_module": "@jupyter-widgets/base",
            "_view_module_version": "1.2.0",
            "_view_name": "StyleView",
            "description_width": ""
          }
        },
        "65c958c4c1844281811e0e5d7e8e9fd3": {
          "model_module": "@jupyter-widgets/controls",
          "model_name": "HBoxModel",
          "model_module_version": "1.5.0",
          "state": {
            "_dom_classes": [],
            "_model_module": "@jupyter-widgets/controls",
            "_model_module_version": "1.5.0",
            "_model_name": "HBoxModel",
            "_view_count": null,
            "_view_module": "@jupyter-widgets/controls",
            "_view_module_version": "1.5.0",
            "_view_name": "HBoxView",
            "box_style": "",
            "children": [
              "IPY_MODEL_dce44d11b31d4229b448f65662594982",
              "IPY_MODEL_cd90d6771efc48d79cfc4f594d91208f",
              "IPY_MODEL_6fadd6717fa04055bf605d9d694b73fe"
            ],
            "layout": "IPY_MODEL_48e0fc104e264bf7918d5578a3295bcb"
          }
        },
        "dce44d11b31d4229b448f65662594982": {
          "model_module": "@jupyter-widgets/controls",
          "model_name": "HTMLModel",
          "model_module_version": "1.5.0",
          "state": {
            "_dom_classes": [],
            "_model_module": "@jupyter-widgets/controls",
            "_model_module_version": "1.5.0",
            "_model_name": "HTMLModel",
            "_view_count": null,
            "_view_module": "@jupyter-widgets/controls",
            "_view_module_version": "1.5.0",
            "_view_name": "HTMLView",
            "description": "",
            "description_tooltip": null,
            "layout": "IPY_MODEL_7f0457a3b99d4059b94cf69d91678196",
            "placeholder": "​",
            "style": "IPY_MODEL_bb816b65e82a48739dfe2c1b091f0733",
            "value": "Upload file pytorch_model.bin: 100%"
          }
        },
        "cd90d6771efc48d79cfc4f594d91208f": {
          "model_module": "@jupyter-widgets/controls",
          "model_name": "FloatProgressModel",
          "model_module_version": "1.5.0",
          "state": {
            "_dom_classes": [],
            "_model_module": "@jupyter-widgets/controls",
            "_model_module_version": "1.5.0",
            "_model_name": "FloatProgressModel",
            "_view_count": null,
            "_view_module": "@jupyter-widgets/controls",
            "_view_module_version": "1.5.0",
            "_view_name": "ProgressView",
            "bar_style": "success",
            "description": "",
            "description_tooltip": null,
            "layout": "IPY_MODEL_075168d689814e3c9324799e2e3ac369",
            "max": 3859175565,
            "min": 0,
            "orientation": "horizontal",
            "style": "IPY_MODEL_c67efee8d8aa4135941cdf7968acc10c",
            "value": 3859175565
          }
        },
        "6fadd6717fa04055bf605d9d694b73fe": {
          "model_module": "@jupyter-widgets/controls",
          "model_name": "HTMLModel",
          "model_module_version": "1.5.0",
          "state": {
            "_dom_classes": [],
            "_model_module": "@jupyter-widgets/controls",
            "_model_module_version": "1.5.0",
            "_model_name": "HTMLModel",
            "_view_count": null,
            "_view_module": "@jupyter-widgets/controls",
            "_view_module_version": "1.5.0",
            "_view_name": "HTMLView",
            "description": "",
            "description_tooltip": null,
            "layout": "IPY_MODEL_6d77a288a2de4cdc9a3b4cd7736abb13",
            "placeholder": "​",
            "style": "IPY_MODEL_bb967889e66c463f8b786cebeb6c857a",
            "value": " 3.59G/3.59G [01:18&lt;00:00, 49.3MB/s]"
          }
        },
        "48e0fc104e264bf7918d5578a3295bcb": {
          "model_module": "@jupyter-widgets/base",
          "model_name": "LayoutModel",
          "model_module_version": "1.2.0",
          "state": {
            "_model_module": "@jupyter-widgets/base",
            "_model_module_version": "1.2.0",
            "_model_name": "LayoutModel",
            "_view_count": null,
            "_view_module": "@jupyter-widgets/base",
            "_view_module_version": "1.2.0",
            "_view_name": "LayoutView",
            "align_content": null,
            "align_items": null,
            "align_self": null,
            "border": null,
            "bottom": null,
            "display": null,
            "flex": null,
            "flex_flow": null,
            "grid_area": null,
            "grid_auto_columns": null,
            "grid_auto_flow": null,
            "grid_auto_rows": null,
            "grid_column": null,
            "grid_gap": null,
            "grid_row": null,
            "grid_template_areas": null,
            "grid_template_columns": null,
            "grid_template_rows": null,
            "height": null,
            "justify_content": null,
            "justify_items": null,
            "left": null,
            "margin": null,
            "max_height": null,
            "max_width": null,
            "min_height": null,
            "min_width": null,
            "object_fit": null,
            "object_position": null,
            "order": null,
            "overflow": null,
            "overflow_x": null,
            "overflow_y": null,
            "padding": null,
            "right": null,
            "top": null,
            "visibility": null,
            "width": null
          }
        },
        "7f0457a3b99d4059b94cf69d91678196": {
          "model_module": "@jupyter-widgets/base",
          "model_name": "LayoutModel",
          "model_module_version": "1.2.0",
          "state": {
            "_model_module": "@jupyter-widgets/base",
            "_model_module_version": "1.2.0",
            "_model_name": "LayoutModel",
            "_view_count": null,
            "_view_module": "@jupyter-widgets/base",
            "_view_module_version": "1.2.0",
            "_view_name": "LayoutView",
            "align_content": null,
            "align_items": null,
            "align_self": null,
            "border": null,
            "bottom": null,
            "display": null,
            "flex": null,
            "flex_flow": null,
            "grid_area": null,
            "grid_auto_columns": null,
            "grid_auto_flow": null,
            "grid_auto_rows": null,
            "grid_column": null,
            "grid_gap": null,
            "grid_row": null,
            "grid_template_areas": null,
            "grid_template_columns": null,
            "grid_template_rows": null,
            "height": null,
            "justify_content": null,
            "justify_items": null,
            "left": null,
            "margin": null,
            "max_height": null,
            "max_width": null,
            "min_height": null,
            "min_width": null,
            "object_fit": null,
            "object_position": null,
            "order": null,
            "overflow": null,
            "overflow_x": null,
            "overflow_y": null,
            "padding": null,
            "right": null,
            "top": null,
            "visibility": null,
            "width": null
          }
        },
        "bb816b65e82a48739dfe2c1b091f0733": {
          "model_module": "@jupyter-widgets/controls",
          "model_name": "DescriptionStyleModel",
          "model_module_version": "1.5.0",
          "state": {
            "_model_module": "@jupyter-widgets/controls",
            "_model_module_version": "1.5.0",
            "_model_name": "DescriptionStyleModel",
            "_view_count": null,
            "_view_module": "@jupyter-widgets/base",
            "_view_module_version": "1.2.0",
            "_view_name": "StyleView",
            "description_width": ""
          }
        },
        "075168d689814e3c9324799e2e3ac369": {
          "model_module": "@jupyter-widgets/base",
          "model_name": "LayoutModel",
          "model_module_version": "1.2.0",
          "state": {
            "_model_module": "@jupyter-widgets/base",
            "_model_module_version": "1.2.0",
            "_model_name": "LayoutModel",
            "_view_count": null,
            "_view_module": "@jupyter-widgets/base",
            "_view_module_version": "1.2.0",
            "_view_name": "LayoutView",
            "align_content": null,
            "align_items": null,
            "align_self": null,
            "border": null,
            "bottom": null,
            "display": null,
            "flex": null,
            "flex_flow": null,
            "grid_area": null,
            "grid_auto_columns": null,
            "grid_auto_flow": null,
            "grid_auto_rows": null,
            "grid_column": null,
            "grid_gap": null,
            "grid_row": null,
            "grid_template_areas": null,
            "grid_template_columns": null,
            "grid_template_rows": null,
            "height": null,
            "justify_content": null,
            "justify_items": null,
            "left": null,
            "margin": null,
            "max_height": null,
            "max_width": null,
            "min_height": null,
            "min_width": null,
            "object_fit": null,
            "object_position": null,
            "order": null,
            "overflow": null,
            "overflow_x": null,
            "overflow_y": null,
            "padding": null,
            "right": null,
            "top": null,
            "visibility": null,
            "width": null
          }
        },
        "c67efee8d8aa4135941cdf7968acc10c": {
          "model_module": "@jupyter-widgets/controls",
          "model_name": "ProgressStyleModel",
          "model_module_version": "1.5.0",
          "state": {
            "_model_module": "@jupyter-widgets/controls",
            "_model_module_version": "1.5.0",
            "_model_name": "ProgressStyleModel",
            "_view_count": null,
            "_view_module": "@jupyter-widgets/base",
            "_view_module_version": "1.2.0",
            "_view_name": "StyleView",
            "bar_color": null,
            "description_width": ""
          }
        },
        "6d77a288a2de4cdc9a3b4cd7736abb13": {
          "model_module": "@jupyter-widgets/base",
          "model_name": "LayoutModel",
          "model_module_version": "1.2.0",
          "state": {
            "_model_module": "@jupyter-widgets/base",
            "_model_module_version": "1.2.0",
            "_model_name": "LayoutModel",
            "_view_count": null,
            "_view_module": "@jupyter-widgets/base",
            "_view_module_version": "1.2.0",
            "_view_name": "LayoutView",
            "align_content": null,
            "align_items": null,
            "align_self": null,
            "border": null,
            "bottom": null,
            "display": null,
            "flex": null,
            "flex_flow": null,
            "grid_area": null,
            "grid_auto_columns": null,
            "grid_auto_flow": null,
            "grid_auto_rows": null,
            "grid_column": null,
            "grid_gap": null,
            "grid_row": null,
            "grid_template_areas": null,
            "grid_template_columns": null,
            "grid_template_rows": null,
            "height": null,
            "justify_content": null,
            "justify_items": null,
            "left": null,
            "margin": null,
            "max_height": null,
            "max_width": null,
            "min_height": null,
            "min_width": null,
            "object_fit": null,
            "object_position": null,
            "order": null,
            "overflow": null,
            "overflow_x": null,
            "overflow_y": null,
            "padding": null,
            "right": null,
            "top": null,
            "visibility": null,
            "width": null
          }
        },
        "bb967889e66c463f8b786cebeb6c857a": {
          "model_module": "@jupyter-widgets/controls",
          "model_name": "DescriptionStyleModel",
          "model_module_version": "1.5.0",
          "state": {
            "_model_module": "@jupyter-widgets/controls",
            "_model_module_version": "1.5.0",
            "_model_name": "DescriptionStyleModel",
            "_view_count": null,
            "_view_module": "@jupyter-widgets/base",
            "_view_module_version": "1.2.0",
            "_view_name": "StyleView",
            "description_width": ""
          }
        },
        "5b2de085305c49c390ed809327ed3e66": {
          "model_module": "@jupyter-widgets/controls",
          "model_name": "HBoxModel",
          "model_module_version": "1.5.0",
          "state": {
            "_dom_classes": [],
            "_model_module": "@jupyter-widgets/controls",
            "_model_module_version": "1.5.0",
            "_model_name": "HBoxModel",
            "_view_count": null,
            "_view_module": "@jupyter-widgets/controls",
            "_view_module_version": "1.5.0",
            "_view_name": "HBoxView",
            "box_style": "",
            "children": [
              "IPY_MODEL_535dce35c677461499f51a56917b2ca1",
              "IPY_MODEL_645eefcce91740858e5c7760b53b1956",
              "IPY_MODEL_f535278f5f9744b8b2e1fb0f4badd038"
            ],
            "layout": "IPY_MODEL_1afd33a794d44bec84ae3234ed5eea3c"
          }
        },
        "535dce35c677461499f51a56917b2ca1": {
          "model_module": "@jupyter-widgets/controls",
          "model_name": "HTMLModel",
          "model_module_version": "1.5.0",
          "state": {
            "_dom_classes": [],
            "_model_module": "@jupyter-widgets/controls",
            "_model_module_version": "1.5.0",
            "_model_name": "HTMLModel",
            "_view_count": null,
            "_view_module": "@jupyter-widgets/controls",
            "_view_module_version": "1.5.0",
            "_view_name": "HTMLView",
            "description": "",
            "description_tooltip": null,
            "layout": "IPY_MODEL_d04e6a48d4004f8dbf7eed2f65804068",
            "placeholder": "​",
            "style": "IPY_MODEL_a44672d0b6af4a95ab3b7c968f34e949",
            "value": "Upload file adapter.tur.safetensors: 100%"
          }
        },
        "645eefcce91740858e5c7760b53b1956": {
          "model_module": "@jupyter-widgets/controls",
          "model_name": "FloatProgressModel",
          "model_module_version": "1.5.0",
          "state": {
            "_dom_classes": [],
            "_model_module": "@jupyter-widgets/controls",
            "_model_module_version": "1.5.0",
            "_model_name": "FloatProgressModel",
            "_view_count": null,
            "_view_module": "@jupyter-widgets/controls",
            "_view_module_version": "1.5.0",
            "_view_name": "ProgressView",
            "bar_style": "success",
            "description": "",
            "description_tooltip": null,
            "layout": "IPY_MODEL_2cdac7f427b447bb8bba0da29e7a2975",
            "max": 8839532,
            "min": 0,
            "orientation": "horizontal",
            "style": "IPY_MODEL_203108773a5d4af3bcdb3b006f732a0e",
            "value": 8839532
          }
        },
        "f535278f5f9744b8b2e1fb0f4badd038": {
          "model_module": "@jupyter-widgets/controls",
          "model_name": "HTMLModel",
          "model_module_version": "1.5.0",
          "state": {
            "_dom_classes": [],
            "_model_module": "@jupyter-widgets/controls",
            "_model_module_version": "1.5.0",
            "_model_name": "HTMLModel",
            "_view_count": null,
            "_view_module": "@jupyter-widgets/controls",
            "_view_module_version": "1.5.0",
            "_view_name": "HTMLView",
            "description": "",
            "description_tooltip": null,
            "layout": "IPY_MODEL_3f013282b7ff4602bac9fedf28d1d269",
            "placeholder": "​",
            "style": "IPY_MODEL_18b046abf065480e846fa2b39c3bbd5f",
            "value": " 8.43M/8.43M [01:18&lt;00:00, 15.6MB/s]"
          }
        },
        "1afd33a794d44bec84ae3234ed5eea3c": {
          "model_module": "@jupyter-widgets/base",
          "model_name": "LayoutModel",
          "model_module_version": "1.2.0",
          "state": {
            "_model_module": "@jupyter-widgets/base",
            "_model_module_version": "1.2.0",
            "_model_name": "LayoutModel",
            "_view_count": null,
            "_view_module": "@jupyter-widgets/base",
            "_view_module_version": "1.2.0",
            "_view_name": "LayoutView",
            "align_content": null,
            "align_items": null,
            "align_self": null,
            "border": null,
            "bottom": null,
            "display": null,
            "flex": null,
            "flex_flow": null,
            "grid_area": null,
            "grid_auto_columns": null,
            "grid_auto_flow": null,
            "grid_auto_rows": null,
            "grid_column": null,
            "grid_gap": null,
            "grid_row": null,
            "grid_template_areas": null,
            "grid_template_columns": null,
            "grid_template_rows": null,
            "height": null,
            "justify_content": null,
            "justify_items": null,
            "left": null,
            "margin": null,
            "max_height": null,
            "max_width": null,
            "min_height": null,
            "min_width": null,
            "object_fit": null,
            "object_position": null,
            "order": null,
            "overflow": null,
            "overflow_x": null,
            "overflow_y": null,
            "padding": null,
            "right": null,
            "top": null,
            "visibility": null,
            "width": null
          }
        },
        "d04e6a48d4004f8dbf7eed2f65804068": {
          "model_module": "@jupyter-widgets/base",
          "model_name": "LayoutModel",
          "model_module_version": "1.2.0",
          "state": {
            "_model_module": "@jupyter-widgets/base",
            "_model_module_version": "1.2.0",
            "_model_name": "LayoutModel",
            "_view_count": null,
            "_view_module": "@jupyter-widgets/base",
            "_view_module_version": "1.2.0",
            "_view_name": "LayoutView",
            "align_content": null,
            "align_items": null,
            "align_self": null,
            "border": null,
            "bottom": null,
            "display": null,
            "flex": null,
            "flex_flow": null,
            "grid_area": null,
            "grid_auto_columns": null,
            "grid_auto_flow": null,
            "grid_auto_rows": null,
            "grid_column": null,
            "grid_gap": null,
            "grid_row": null,
            "grid_template_areas": null,
            "grid_template_columns": null,
            "grid_template_rows": null,
            "height": null,
            "justify_content": null,
            "justify_items": null,
            "left": null,
            "margin": null,
            "max_height": null,
            "max_width": null,
            "min_height": null,
            "min_width": null,
            "object_fit": null,
            "object_position": null,
            "order": null,
            "overflow": null,
            "overflow_x": null,
            "overflow_y": null,
            "padding": null,
            "right": null,
            "top": null,
            "visibility": null,
            "width": null
          }
        },
        "a44672d0b6af4a95ab3b7c968f34e949": {
          "model_module": "@jupyter-widgets/controls",
          "model_name": "DescriptionStyleModel",
          "model_module_version": "1.5.0",
          "state": {
            "_model_module": "@jupyter-widgets/controls",
            "_model_module_version": "1.5.0",
            "_model_name": "DescriptionStyleModel",
            "_view_count": null,
            "_view_module": "@jupyter-widgets/base",
            "_view_module_version": "1.2.0",
            "_view_name": "StyleView",
            "description_width": ""
          }
        },
        "2cdac7f427b447bb8bba0da29e7a2975": {
          "model_module": "@jupyter-widgets/base",
          "model_name": "LayoutModel",
          "model_module_version": "1.2.0",
          "state": {
            "_model_module": "@jupyter-widgets/base",
            "_model_module_version": "1.2.0",
            "_model_name": "LayoutModel",
            "_view_count": null,
            "_view_module": "@jupyter-widgets/base",
            "_view_module_version": "1.2.0",
            "_view_name": "LayoutView",
            "align_content": null,
            "align_items": null,
            "align_self": null,
            "border": null,
            "bottom": null,
            "display": null,
            "flex": null,
            "flex_flow": null,
            "grid_area": null,
            "grid_auto_columns": null,
            "grid_auto_flow": null,
            "grid_auto_rows": null,
            "grid_column": null,
            "grid_gap": null,
            "grid_row": null,
            "grid_template_areas": null,
            "grid_template_columns": null,
            "grid_template_rows": null,
            "height": null,
            "justify_content": null,
            "justify_items": null,
            "left": null,
            "margin": null,
            "max_height": null,
            "max_width": null,
            "min_height": null,
            "min_width": null,
            "object_fit": null,
            "object_position": null,
            "order": null,
            "overflow": null,
            "overflow_x": null,
            "overflow_y": null,
            "padding": null,
            "right": null,
            "top": null,
            "visibility": null,
            "width": null
          }
        },
        "203108773a5d4af3bcdb3b006f732a0e": {
          "model_module": "@jupyter-widgets/controls",
          "model_name": "ProgressStyleModel",
          "model_module_version": "1.5.0",
          "state": {
            "_model_module": "@jupyter-widgets/controls",
            "_model_module_version": "1.5.0",
            "_model_name": "ProgressStyleModel",
            "_view_count": null,
            "_view_module": "@jupyter-widgets/base",
            "_view_module_version": "1.2.0",
            "_view_name": "StyleView",
            "bar_color": null,
            "description_width": ""
          }
        },
        "3f013282b7ff4602bac9fedf28d1d269": {
          "model_module": "@jupyter-widgets/base",
          "model_name": "LayoutModel",
          "model_module_version": "1.2.0",
          "state": {
            "_model_module": "@jupyter-widgets/base",
            "_model_module_version": "1.2.0",
            "_model_name": "LayoutModel",
            "_view_count": null,
            "_view_module": "@jupyter-widgets/base",
            "_view_module_version": "1.2.0",
            "_view_name": "LayoutView",
            "align_content": null,
            "align_items": null,
            "align_self": null,
            "border": null,
            "bottom": null,
            "display": null,
            "flex": null,
            "flex_flow": null,
            "grid_area": null,
            "grid_auto_columns": null,
            "grid_auto_flow": null,
            "grid_auto_rows": null,
            "grid_column": null,
            "grid_gap": null,
            "grid_row": null,
            "grid_template_areas": null,
            "grid_template_columns": null,
            "grid_template_rows": null,
            "height": null,
            "justify_content": null,
            "justify_items": null,
            "left": null,
            "margin": null,
            "max_height": null,
            "max_width": null,
            "min_height": null,
            "min_width": null,
            "object_fit": null,
            "object_position": null,
            "order": null,
            "overflow": null,
            "overflow_x": null,
            "overflow_y": null,
            "padding": null,
            "right": null,
            "top": null,
            "visibility": null,
            "width": null
          }
        },
        "18b046abf065480e846fa2b39c3bbd5f": {
          "model_module": "@jupyter-widgets/controls",
          "model_name": "DescriptionStyleModel",
          "model_module_version": "1.5.0",
          "state": {
            "_model_module": "@jupyter-widgets/controls",
            "_model_module_version": "1.5.0",
            "_model_name": "DescriptionStyleModel",
            "_view_count": null,
            "_view_module": "@jupyter-widgets/base",
            "_view_module_version": "1.2.0",
            "_view_name": "StyleView",
            "description_width": ""
          }
        },
        "7ea22e5289494470be642de0540bfdc1": {
          "model_module": "@jupyter-widgets/controls",
          "model_name": "HBoxModel",
          "model_module_version": "1.5.0",
          "state": {
            "_dom_classes": [],
            "_model_module": "@jupyter-widgets/controls",
            "_model_module_version": "1.5.0",
            "_model_name": "HBoxModel",
            "_view_count": null,
            "_view_module": "@jupyter-widgets/controls",
            "_view_module_version": "1.5.0",
            "_view_name": "HBoxView",
            "box_style": "",
            "children": [
              "IPY_MODEL_38b8665eb12c486c88515db3127fc8cc",
              "IPY_MODEL_dc5d3eaea73947ebaa33bd9c723515a6",
              "IPY_MODEL_dda4ca3df5044f428d96676cb3cd4925"
            ],
            "layout": "IPY_MODEL_d1b0c64575e948b7946ffed6b06f669a"
          }
        },
        "38b8665eb12c486c88515db3127fc8cc": {
          "model_module": "@jupyter-widgets/controls",
          "model_name": "HTMLModel",
          "model_module_version": "1.5.0",
          "state": {
            "_dom_classes": [],
            "_model_module": "@jupyter-widgets/controls",
            "_model_module_version": "1.5.0",
            "_model_name": "HTMLModel",
            "_view_count": null,
            "_view_module": "@jupyter-widgets/controls",
            "_view_module_version": "1.5.0",
            "_view_name": "HTMLView",
            "description": "",
            "description_tooltip": null,
            "layout": "IPY_MODEL_203d9f5da3ee4879bae2106f8ad9e22b",
            "placeholder": "​",
            "style": "IPY_MODEL_f16a3d79b46d431db96bda00a809d6c0",
            "value": "Upload file runs/Jun19_11-16-23_f81f905e2ebb/events.out.tfevents.1687173484.f81f905e2ebb.12254.1: 100%"
          }
        },
        "dc5d3eaea73947ebaa33bd9c723515a6": {
          "model_module": "@jupyter-widgets/controls",
          "model_name": "FloatProgressModel",
          "model_module_version": "1.5.0",
          "state": {
            "_dom_classes": [],
            "_model_module": "@jupyter-widgets/controls",
            "_model_module_version": "1.5.0",
            "_model_name": "FloatProgressModel",
            "_view_count": null,
            "_view_module": "@jupyter-widgets/controls",
            "_view_module_version": "1.5.0",
            "_view_name": "ProgressView",
            "bar_style": "success",
            "description": "",
            "description_tooltip": null,
            "layout": "IPY_MODEL_f4582655e54e47ce8970a75e07afe168",
            "max": 7750,
            "min": 0,
            "orientation": "horizontal",
            "style": "IPY_MODEL_9473f86a2a164b5cb00f1f844b239834",
            "value": 7750
          }
        },
        "dda4ca3df5044f428d96676cb3cd4925": {
          "model_module": "@jupyter-widgets/controls",
          "model_name": "HTMLModel",
          "model_module_version": "1.5.0",
          "state": {
            "_dom_classes": [],
            "_model_module": "@jupyter-widgets/controls",
            "_model_module_version": "1.5.0",
            "_model_name": "HTMLModel",
            "_view_count": null,
            "_view_module": "@jupyter-widgets/controls",
            "_view_module_version": "1.5.0",
            "_view_name": "HTMLView",
            "description": "",
            "description_tooltip": null,
            "layout": "IPY_MODEL_f2b861e9f3d248e3a8b32ac76abc77e2",
            "placeholder": "​",
            "style": "IPY_MODEL_f8d7af17d4214109b1364facb035d7ee",
            "value": " 7.57k/7.57k [01:18&lt;00:00, 205kB/s]"
          }
        },
        "d1b0c64575e948b7946ffed6b06f669a": {
          "model_module": "@jupyter-widgets/base",
          "model_name": "LayoutModel",
          "model_module_version": "1.2.0",
          "state": {
            "_model_module": "@jupyter-widgets/base",
            "_model_module_version": "1.2.0",
            "_model_name": "LayoutModel",
            "_view_count": null,
            "_view_module": "@jupyter-widgets/base",
            "_view_module_version": "1.2.0",
            "_view_name": "LayoutView",
            "align_content": null,
            "align_items": null,
            "align_self": null,
            "border": null,
            "bottom": null,
            "display": null,
            "flex": null,
            "flex_flow": null,
            "grid_area": null,
            "grid_auto_columns": null,
            "grid_auto_flow": null,
            "grid_auto_rows": null,
            "grid_column": null,
            "grid_gap": null,
            "grid_row": null,
            "grid_template_areas": null,
            "grid_template_columns": null,
            "grid_template_rows": null,
            "height": null,
            "justify_content": null,
            "justify_items": null,
            "left": null,
            "margin": null,
            "max_height": null,
            "max_width": null,
            "min_height": null,
            "min_width": null,
            "object_fit": null,
            "object_position": null,
            "order": null,
            "overflow": null,
            "overflow_x": null,
            "overflow_y": null,
            "padding": null,
            "right": null,
            "top": null,
            "visibility": null,
            "width": null
          }
        },
        "203d9f5da3ee4879bae2106f8ad9e22b": {
          "model_module": "@jupyter-widgets/base",
          "model_name": "LayoutModel",
          "model_module_version": "1.2.0",
          "state": {
            "_model_module": "@jupyter-widgets/base",
            "_model_module_version": "1.2.0",
            "_model_name": "LayoutModel",
            "_view_count": null,
            "_view_module": "@jupyter-widgets/base",
            "_view_module_version": "1.2.0",
            "_view_name": "LayoutView",
            "align_content": null,
            "align_items": null,
            "align_self": null,
            "border": null,
            "bottom": null,
            "display": null,
            "flex": null,
            "flex_flow": null,
            "grid_area": null,
            "grid_auto_columns": null,
            "grid_auto_flow": null,
            "grid_auto_rows": null,
            "grid_column": null,
            "grid_gap": null,
            "grid_row": null,
            "grid_template_areas": null,
            "grid_template_columns": null,
            "grid_template_rows": null,
            "height": null,
            "justify_content": null,
            "justify_items": null,
            "left": null,
            "margin": null,
            "max_height": null,
            "max_width": null,
            "min_height": null,
            "min_width": null,
            "object_fit": null,
            "object_position": null,
            "order": null,
            "overflow": null,
            "overflow_x": null,
            "overflow_y": null,
            "padding": null,
            "right": null,
            "top": null,
            "visibility": null,
            "width": null
          }
        },
        "f16a3d79b46d431db96bda00a809d6c0": {
          "model_module": "@jupyter-widgets/controls",
          "model_name": "DescriptionStyleModel",
          "model_module_version": "1.5.0",
          "state": {
            "_model_module": "@jupyter-widgets/controls",
            "_model_module_version": "1.5.0",
            "_model_name": "DescriptionStyleModel",
            "_view_count": null,
            "_view_module": "@jupyter-widgets/base",
            "_view_module_version": "1.2.0",
            "_view_name": "StyleView",
            "description_width": ""
          }
        },
        "f4582655e54e47ce8970a75e07afe168": {
          "model_module": "@jupyter-widgets/base",
          "model_name": "LayoutModel",
          "model_module_version": "1.2.0",
          "state": {
            "_model_module": "@jupyter-widgets/base",
            "_model_module_version": "1.2.0",
            "_model_name": "LayoutModel",
            "_view_count": null,
            "_view_module": "@jupyter-widgets/base",
            "_view_module_version": "1.2.0",
            "_view_name": "LayoutView",
            "align_content": null,
            "align_items": null,
            "align_self": null,
            "border": null,
            "bottom": null,
            "display": null,
            "flex": null,
            "flex_flow": null,
            "grid_area": null,
            "grid_auto_columns": null,
            "grid_auto_flow": null,
            "grid_auto_rows": null,
            "grid_column": null,
            "grid_gap": null,
            "grid_row": null,
            "grid_template_areas": null,
            "grid_template_columns": null,
            "grid_template_rows": null,
            "height": null,
            "justify_content": null,
            "justify_items": null,
            "left": null,
            "margin": null,
            "max_height": null,
            "max_width": null,
            "min_height": null,
            "min_width": null,
            "object_fit": null,
            "object_position": null,
            "order": null,
            "overflow": null,
            "overflow_x": null,
            "overflow_y": null,
            "padding": null,
            "right": null,
            "top": null,
            "visibility": null,
            "width": null
          }
        },
        "9473f86a2a164b5cb00f1f844b239834": {
          "model_module": "@jupyter-widgets/controls",
          "model_name": "ProgressStyleModel",
          "model_module_version": "1.5.0",
          "state": {
            "_model_module": "@jupyter-widgets/controls",
            "_model_module_version": "1.5.0",
            "_model_name": "ProgressStyleModel",
            "_view_count": null,
            "_view_module": "@jupyter-widgets/base",
            "_view_module_version": "1.2.0",
            "_view_name": "StyleView",
            "bar_color": null,
            "description_width": ""
          }
        },
        "f2b861e9f3d248e3a8b32ac76abc77e2": {
          "model_module": "@jupyter-widgets/base",
          "model_name": "LayoutModel",
          "model_module_version": "1.2.0",
          "state": {
            "_model_module": "@jupyter-widgets/base",
            "_model_module_version": "1.2.0",
            "_model_name": "LayoutModel",
            "_view_count": null,
            "_view_module": "@jupyter-widgets/base",
            "_view_module_version": "1.2.0",
            "_view_name": "LayoutView",
            "align_content": null,
            "align_items": null,
            "align_self": null,
            "border": null,
            "bottom": null,
            "display": null,
            "flex": null,
            "flex_flow": null,
            "grid_area": null,
            "grid_auto_columns": null,
            "grid_auto_flow": null,
            "grid_auto_rows": null,
            "grid_column": null,
            "grid_gap": null,
            "grid_row": null,
            "grid_template_areas": null,
            "grid_template_columns": null,
            "grid_template_rows": null,
            "height": null,
            "justify_content": null,
            "justify_items": null,
            "left": null,
            "margin": null,
            "max_height": null,
            "max_width": null,
            "min_height": null,
            "min_width": null,
            "object_fit": null,
            "object_position": null,
            "order": null,
            "overflow": null,
            "overflow_x": null,
            "overflow_y": null,
            "padding": null,
            "right": null,
            "top": null,
            "visibility": null,
            "width": null
          }
        },
        "f8d7af17d4214109b1364facb035d7ee": {
          "model_module": "@jupyter-widgets/controls",
          "model_name": "DescriptionStyleModel",
          "model_module_version": "1.5.0",
          "state": {
            "_model_module": "@jupyter-widgets/controls",
            "_model_module_version": "1.5.0",
            "_model_name": "DescriptionStyleModel",
            "_view_count": null,
            "_view_module": "@jupyter-widgets/base",
            "_view_module_version": "1.2.0",
            "_view_name": "StyleView",
            "description_width": ""
          }
        },
        "5ee1a7cd040a4115ba4d5d2b5f8d152a": {
          "model_module": "@jupyter-widgets/controls",
          "model_name": "HBoxModel",
          "model_module_version": "1.5.0",
          "state": {
            "_dom_classes": [],
            "_model_module": "@jupyter-widgets/controls",
            "_model_module_version": "1.5.0",
            "_model_name": "HBoxModel",
            "_view_count": null,
            "_view_module": "@jupyter-widgets/controls",
            "_view_module_version": "1.5.0",
            "_view_name": "HBoxView",
            "box_style": "",
            "children": [
              "IPY_MODEL_7fd8ed94dab0414da03da65f473bc554",
              "IPY_MODEL_abdc75bd8c424e6882ef622ae05a1a93",
              "IPY_MODEL_b399c67a50db4d85bcc1997ff3089af2"
            ],
            "layout": "IPY_MODEL_480a94f66d5c4bf2a5706dc797c5c0f9"
          }
        },
        "7fd8ed94dab0414da03da65f473bc554": {
          "model_module": "@jupyter-widgets/controls",
          "model_name": "HTMLModel",
          "model_module_version": "1.5.0",
          "state": {
            "_dom_classes": [],
            "_model_module": "@jupyter-widgets/controls",
            "_model_module_version": "1.5.0",
            "_model_name": "HTMLModel",
            "_view_count": null,
            "_view_module": "@jupyter-widgets/controls",
            "_view_module_version": "1.5.0",
            "_view_name": "HTMLView",
            "description": "",
            "description_tooltip": null,
            "layout": "IPY_MODEL_48f7ef1a225749019b23676d9aaa2b05",
            "placeholder": "​",
            "style": "IPY_MODEL_08e0803450b84e36a99c1e804f6d7aa6",
            "value": "Downloading (…)olve/main/vocab.json: 100%"
          }
        },
        "abdc75bd8c424e6882ef622ae05a1a93": {
          "model_module": "@jupyter-widgets/controls",
          "model_name": "FloatProgressModel",
          "model_module_version": "1.5.0",
          "state": {
            "_dom_classes": [],
            "_model_module": "@jupyter-widgets/controls",
            "_model_module_version": "1.5.0",
            "_model_name": "FloatProgressModel",
            "_view_count": null,
            "_view_module": "@jupyter-widgets/controls",
            "_view_module_version": "1.5.0",
            "_view_name": "ProgressView",
            "bar_style": "success",
            "description": "",
            "description_tooltip": null,
            "layout": "IPY_MODEL_625712c7757b42f1b7ed4c0b4e01ff2a",
            "max": 1571,
            "min": 0,
            "orientation": "horizontal",
            "style": "IPY_MODEL_3671d992f5664b98bb0e24c7bd7eae01",
            "value": 1571
          }
        },
        "b399c67a50db4d85bcc1997ff3089af2": {
          "model_module": "@jupyter-widgets/controls",
          "model_name": "HTMLModel",
          "model_module_version": "1.5.0",
          "state": {
            "_dom_classes": [],
            "_model_module": "@jupyter-widgets/controls",
            "_model_module_version": "1.5.0",
            "_model_name": "HTMLModel",
            "_view_count": null,
            "_view_module": "@jupyter-widgets/controls",
            "_view_module_version": "1.5.0",
            "_view_name": "HTMLView",
            "description": "",
            "description_tooltip": null,
            "layout": "IPY_MODEL_f08e59cc37d14ffda3d6bd42f16b300a",
            "placeholder": "​",
            "style": "IPY_MODEL_0257eb08cd124fc9bcde7c9bf6873d8c",
            "value": " 1.57k/1.57k [00:00&lt;00:00, 138kB/s]"
          }
        },
        "480a94f66d5c4bf2a5706dc797c5c0f9": {
          "model_module": "@jupyter-widgets/base",
          "model_name": "LayoutModel",
          "model_module_version": "1.2.0",
          "state": {
            "_model_module": "@jupyter-widgets/base",
            "_model_module_version": "1.2.0",
            "_model_name": "LayoutModel",
            "_view_count": null,
            "_view_module": "@jupyter-widgets/base",
            "_view_module_version": "1.2.0",
            "_view_name": "LayoutView",
            "align_content": null,
            "align_items": null,
            "align_self": null,
            "border": null,
            "bottom": null,
            "display": null,
            "flex": null,
            "flex_flow": null,
            "grid_area": null,
            "grid_auto_columns": null,
            "grid_auto_flow": null,
            "grid_auto_rows": null,
            "grid_column": null,
            "grid_gap": null,
            "grid_row": null,
            "grid_template_areas": null,
            "grid_template_columns": null,
            "grid_template_rows": null,
            "height": null,
            "justify_content": null,
            "justify_items": null,
            "left": null,
            "margin": null,
            "max_height": null,
            "max_width": null,
            "min_height": null,
            "min_width": null,
            "object_fit": null,
            "object_position": null,
            "order": null,
            "overflow": null,
            "overflow_x": null,
            "overflow_y": null,
            "padding": null,
            "right": null,
            "top": null,
            "visibility": null,
            "width": null
          }
        },
        "48f7ef1a225749019b23676d9aaa2b05": {
          "model_module": "@jupyter-widgets/base",
          "model_name": "LayoutModel",
          "model_module_version": "1.2.0",
          "state": {
            "_model_module": "@jupyter-widgets/base",
            "_model_module_version": "1.2.0",
            "_model_name": "LayoutModel",
            "_view_count": null,
            "_view_module": "@jupyter-widgets/base",
            "_view_module_version": "1.2.0",
            "_view_name": "LayoutView",
            "align_content": null,
            "align_items": null,
            "align_self": null,
            "border": null,
            "bottom": null,
            "display": null,
            "flex": null,
            "flex_flow": null,
            "grid_area": null,
            "grid_auto_columns": null,
            "grid_auto_flow": null,
            "grid_auto_rows": null,
            "grid_column": null,
            "grid_gap": null,
            "grid_row": null,
            "grid_template_areas": null,
            "grid_template_columns": null,
            "grid_template_rows": null,
            "height": null,
            "justify_content": null,
            "justify_items": null,
            "left": null,
            "margin": null,
            "max_height": null,
            "max_width": null,
            "min_height": null,
            "min_width": null,
            "object_fit": null,
            "object_position": null,
            "order": null,
            "overflow": null,
            "overflow_x": null,
            "overflow_y": null,
            "padding": null,
            "right": null,
            "top": null,
            "visibility": null,
            "width": null
          }
        },
        "08e0803450b84e36a99c1e804f6d7aa6": {
          "model_module": "@jupyter-widgets/controls",
          "model_name": "DescriptionStyleModel",
          "model_module_version": "1.5.0",
          "state": {
            "_model_module": "@jupyter-widgets/controls",
            "_model_module_version": "1.5.0",
            "_model_name": "DescriptionStyleModel",
            "_view_count": null,
            "_view_module": "@jupyter-widgets/base",
            "_view_module_version": "1.2.0",
            "_view_name": "StyleView",
            "description_width": ""
          }
        },
        "625712c7757b42f1b7ed4c0b4e01ff2a": {
          "model_module": "@jupyter-widgets/base",
          "model_name": "LayoutModel",
          "model_module_version": "1.2.0",
          "state": {
            "_model_module": "@jupyter-widgets/base",
            "_model_module_version": "1.2.0",
            "_model_name": "LayoutModel",
            "_view_count": null,
            "_view_module": "@jupyter-widgets/base",
            "_view_module_version": "1.2.0",
            "_view_name": "LayoutView",
            "align_content": null,
            "align_items": null,
            "align_self": null,
            "border": null,
            "bottom": null,
            "display": null,
            "flex": null,
            "flex_flow": null,
            "grid_area": null,
            "grid_auto_columns": null,
            "grid_auto_flow": null,
            "grid_auto_rows": null,
            "grid_column": null,
            "grid_gap": null,
            "grid_row": null,
            "grid_template_areas": null,
            "grid_template_columns": null,
            "grid_template_rows": null,
            "height": null,
            "justify_content": null,
            "justify_items": null,
            "left": null,
            "margin": null,
            "max_height": null,
            "max_width": null,
            "min_height": null,
            "min_width": null,
            "object_fit": null,
            "object_position": null,
            "order": null,
            "overflow": null,
            "overflow_x": null,
            "overflow_y": null,
            "padding": null,
            "right": null,
            "top": null,
            "visibility": null,
            "width": null
          }
        },
        "3671d992f5664b98bb0e24c7bd7eae01": {
          "model_module": "@jupyter-widgets/controls",
          "model_name": "ProgressStyleModel",
          "model_module_version": "1.5.0",
          "state": {
            "_model_module": "@jupyter-widgets/controls",
            "_model_module_version": "1.5.0",
            "_model_name": "ProgressStyleModel",
            "_view_count": null,
            "_view_module": "@jupyter-widgets/base",
            "_view_module_version": "1.2.0",
            "_view_name": "StyleView",
            "bar_color": null,
            "description_width": ""
          }
        },
        "f08e59cc37d14ffda3d6bd42f16b300a": {
          "model_module": "@jupyter-widgets/base",
          "model_name": "LayoutModel",
          "model_module_version": "1.2.0",
          "state": {
            "_model_module": "@jupyter-widgets/base",
            "_model_module_version": "1.2.0",
            "_model_name": "LayoutModel",
            "_view_count": null,
            "_view_module": "@jupyter-widgets/base",
            "_view_module_version": "1.2.0",
            "_view_name": "LayoutView",
            "align_content": null,
            "align_items": null,
            "align_self": null,
            "border": null,
            "bottom": null,
            "display": null,
            "flex": null,
            "flex_flow": null,
            "grid_area": null,
            "grid_auto_columns": null,
            "grid_auto_flow": null,
            "grid_auto_rows": null,
            "grid_column": null,
            "grid_gap": null,
            "grid_row": null,
            "grid_template_areas": null,
            "grid_template_columns": null,
            "grid_template_rows": null,
            "height": null,
            "justify_content": null,
            "justify_items": null,
            "left": null,
            "margin": null,
            "max_height": null,
            "max_width": null,
            "min_height": null,
            "min_width": null,
            "object_fit": null,
            "object_position": null,
            "order": null,
            "overflow": null,
            "overflow_x": null,
            "overflow_y": null,
            "padding": null,
            "right": null,
            "top": null,
            "visibility": null,
            "width": null
          }
        },
        "0257eb08cd124fc9bcde7c9bf6873d8c": {
          "model_module": "@jupyter-widgets/controls",
          "model_name": "DescriptionStyleModel",
          "model_module_version": "1.5.0",
          "state": {
            "_model_module": "@jupyter-widgets/controls",
            "_model_module_version": "1.5.0",
            "_model_name": "DescriptionStyleModel",
            "_view_count": null,
            "_view_module": "@jupyter-widgets/base",
            "_view_module_version": "1.2.0",
            "_view_name": "StyleView",
            "description_width": ""
          }
        },
        "78aedbf5b9844486becd0a873e09daf2": {
          "model_module": "@jupyter-widgets/controls",
          "model_name": "HBoxModel",
          "model_module_version": "1.5.0",
          "state": {
            "_dom_classes": [],
            "_model_module": "@jupyter-widgets/controls",
            "_model_module_version": "1.5.0",
            "_model_name": "HBoxModel",
            "_view_count": null,
            "_view_module": "@jupyter-widgets/controls",
            "_view_module_version": "1.5.0",
            "_view_name": "HBoxView",
            "box_style": "",
            "children": [
              "IPY_MODEL_411e507c944b444aa0ea7feece662869",
              "IPY_MODEL_6ce91d9bdcbc43f88bcf5e6ebc809653",
              "IPY_MODEL_5cc777f117fc4ecf8a1c2c35784b505c"
            ],
            "layout": "IPY_MODEL_756eeb3b2249408db62ba9ca19c1087f"
          }
        },
        "411e507c944b444aa0ea7feece662869": {
          "model_module": "@jupyter-widgets/controls",
          "model_name": "HTMLModel",
          "model_module_version": "1.5.0",
          "state": {
            "_dom_classes": [],
            "_model_module": "@jupyter-widgets/controls",
            "_model_module_version": "1.5.0",
            "_model_name": "HTMLModel",
            "_view_count": null,
            "_view_module": "@jupyter-widgets/controls",
            "_view_module_version": "1.5.0",
            "_view_name": "HTMLView",
            "description": "",
            "description_tooltip": null,
            "layout": "IPY_MODEL_6dd6da2af5b440ab86ff29fdd3cfc3c5",
            "placeholder": "​",
            "style": "IPY_MODEL_5d5a61d1c78f4118b1e587656b7415b0",
            "value": "Downloading (…)pter.swe.safetensors: 100%"
          }
        },
        "6ce91d9bdcbc43f88bcf5e6ebc809653": {
          "model_module": "@jupyter-widgets/controls",
          "model_name": "FloatProgressModel",
          "model_module_version": "1.5.0",
          "state": {
            "_dom_classes": [],
            "_model_module": "@jupyter-widgets/controls",
            "_model_module_version": "1.5.0",
            "_model_name": "FloatProgressModel",
            "_view_count": null,
            "_view_module": "@jupyter-widgets/controls",
            "_view_module_version": "1.5.0",
            "_view_name": "ProgressView",
            "bar_style": "success",
            "description": "",
            "description_tooltip": null,
            "layout": "IPY_MODEL_41d5b4a351794489b678f9ac494f3722",
            "max": 9018880,
            "min": 0,
            "orientation": "horizontal",
            "style": "IPY_MODEL_e667135b4f764d4582310168f7a34621",
            "value": 9018880
          }
        },
        "5cc777f117fc4ecf8a1c2c35784b505c": {
          "model_module": "@jupyter-widgets/controls",
          "model_name": "HTMLModel",
          "model_module_version": "1.5.0",
          "state": {
            "_dom_classes": [],
            "_model_module": "@jupyter-widgets/controls",
            "_model_module_version": "1.5.0",
            "_model_name": "HTMLModel",
            "_view_count": null,
            "_view_module": "@jupyter-widgets/controls",
            "_view_module_version": "1.5.0",
            "_view_name": "HTMLView",
            "description": "",
            "description_tooltip": null,
            "layout": "IPY_MODEL_d097c910183f4232b540dac9703d035d",
            "placeholder": "​",
            "style": "IPY_MODEL_ad3c232080d441db9f69aa6cf9767ff1",
            "value": " 9.02M/9.02M [00:00&lt;00:00, 40.5MB/s]"
          }
        },
        "756eeb3b2249408db62ba9ca19c1087f": {
          "model_module": "@jupyter-widgets/base",
          "model_name": "LayoutModel",
          "model_module_version": "1.2.0",
          "state": {
            "_model_module": "@jupyter-widgets/base",
            "_model_module_version": "1.2.0",
            "_model_name": "LayoutModel",
            "_view_count": null,
            "_view_module": "@jupyter-widgets/base",
            "_view_module_version": "1.2.0",
            "_view_name": "LayoutView",
            "align_content": null,
            "align_items": null,
            "align_self": null,
            "border": null,
            "bottom": null,
            "display": null,
            "flex": null,
            "flex_flow": null,
            "grid_area": null,
            "grid_auto_columns": null,
            "grid_auto_flow": null,
            "grid_auto_rows": null,
            "grid_column": null,
            "grid_gap": null,
            "grid_row": null,
            "grid_template_areas": null,
            "grid_template_columns": null,
            "grid_template_rows": null,
            "height": null,
            "justify_content": null,
            "justify_items": null,
            "left": null,
            "margin": null,
            "max_height": null,
            "max_width": null,
            "min_height": null,
            "min_width": null,
            "object_fit": null,
            "object_position": null,
            "order": null,
            "overflow": null,
            "overflow_x": null,
            "overflow_y": null,
            "padding": null,
            "right": null,
            "top": null,
            "visibility": null,
            "width": null
          }
        },
        "6dd6da2af5b440ab86ff29fdd3cfc3c5": {
          "model_module": "@jupyter-widgets/base",
          "model_name": "LayoutModel",
          "model_module_version": "1.2.0",
          "state": {
            "_model_module": "@jupyter-widgets/base",
            "_model_module_version": "1.2.0",
            "_model_name": "LayoutModel",
            "_view_count": null,
            "_view_module": "@jupyter-widgets/base",
            "_view_module_version": "1.2.0",
            "_view_name": "LayoutView",
            "align_content": null,
            "align_items": null,
            "align_self": null,
            "border": null,
            "bottom": null,
            "display": null,
            "flex": null,
            "flex_flow": null,
            "grid_area": null,
            "grid_auto_columns": null,
            "grid_auto_flow": null,
            "grid_auto_rows": null,
            "grid_column": null,
            "grid_gap": null,
            "grid_row": null,
            "grid_template_areas": null,
            "grid_template_columns": null,
            "grid_template_rows": null,
            "height": null,
            "justify_content": null,
            "justify_items": null,
            "left": null,
            "margin": null,
            "max_height": null,
            "max_width": null,
            "min_height": null,
            "min_width": null,
            "object_fit": null,
            "object_position": null,
            "order": null,
            "overflow": null,
            "overflow_x": null,
            "overflow_y": null,
            "padding": null,
            "right": null,
            "top": null,
            "visibility": null,
            "width": null
          }
        },
        "5d5a61d1c78f4118b1e587656b7415b0": {
          "model_module": "@jupyter-widgets/controls",
          "model_name": "DescriptionStyleModel",
          "model_module_version": "1.5.0",
          "state": {
            "_model_module": "@jupyter-widgets/controls",
            "_model_module_version": "1.5.0",
            "_model_name": "DescriptionStyleModel",
            "_view_count": null,
            "_view_module": "@jupyter-widgets/base",
            "_view_module_version": "1.2.0",
            "_view_name": "StyleView",
            "description_width": ""
          }
        },
        "41d5b4a351794489b678f9ac494f3722": {
          "model_module": "@jupyter-widgets/base",
          "model_name": "LayoutModel",
          "model_module_version": "1.2.0",
          "state": {
            "_model_module": "@jupyter-widgets/base",
            "_model_module_version": "1.2.0",
            "_model_name": "LayoutModel",
            "_view_count": null,
            "_view_module": "@jupyter-widgets/base",
            "_view_module_version": "1.2.0",
            "_view_name": "LayoutView",
            "align_content": null,
            "align_items": null,
            "align_self": null,
            "border": null,
            "bottom": null,
            "display": null,
            "flex": null,
            "flex_flow": null,
            "grid_area": null,
            "grid_auto_columns": null,
            "grid_auto_flow": null,
            "grid_auto_rows": null,
            "grid_column": null,
            "grid_gap": null,
            "grid_row": null,
            "grid_template_areas": null,
            "grid_template_columns": null,
            "grid_template_rows": null,
            "height": null,
            "justify_content": null,
            "justify_items": null,
            "left": null,
            "margin": null,
            "max_height": null,
            "max_width": null,
            "min_height": null,
            "min_width": null,
            "object_fit": null,
            "object_position": null,
            "order": null,
            "overflow": null,
            "overflow_x": null,
            "overflow_y": null,
            "padding": null,
            "right": null,
            "top": null,
            "visibility": null,
            "width": null
          }
        },
        "e667135b4f764d4582310168f7a34621": {
          "model_module": "@jupyter-widgets/controls",
          "model_name": "ProgressStyleModel",
          "model_module_version": "1.5.0",
          "state": {
            "_model_module": "@jupyter-widgets/controls",
            "_model_module_version": "1.5.0",
            "_model_name": "ProgressStyleModel",
            "_view_count": null,
            "_view_module": "@jupyter-widgets/base",
            "_view_module_version": "1.2.0",
            "_view_name": "StyleView",
            "bar_color": null,
            "description_width": ""
          }
        },
        "d097c910183f4232b540dac9703d035d": {
          "model_module": "@jupyter-widgets/base",
          "model_name": "LayoutModel",
          "model_module_version": "1.2.0",
          "state": {
            "_model_module": "@jupyter-widgets/base",
            "_model_module_version": "1.2.0",
            "_model_name": "LayoutModel",
            "_view_count": null,
            "_view_module": "@jupyter-widgets/base",
            "_view_module_version": "1.2.0",
            "_view_name": "LayoutView",
            "align_content": null,
            "align_items": null,
            "align_self": null,
            "border": null,
            "bottom": null,
            "display": null,
            "flex": null,
            "flex_flow": null,
            "grid_area": null,
            "grid_auto_columns": null,
            "grid_auto_flow": null,
            "grid_auto_rows": null,
            "grid_column": null,
            "grid_gap": null,
            "grid_row": null,
            "grid_template_areas": null,
            "grid_template_columns": null,
            "grid_template_rows": null,
            "height": null,
            "justify_content": null,
            "justify_items": null,
            "left": null,
            "margin": null,
            "max_height": null,
            "max_width": null,
            "min_height": null,
            "min_width": null,
            "object_fit": null,
            "object_position": null,
            "order": null,
            "overflow": null,
            "overflow_x": null,
            "overflow_y": null,
            "padding": null,
            "right": null,
            "top": null,
            "visibility": null,
            "width": null
          }
        },
        "ad3c232080d441db9f69aa6cf9767ff1": {
          "model_module": "@jupyter-widgets/controls",
          "model_name": "DescriptionStyleModel",
          "model_module_version": "1.5.0",
          "state": {
            "_model_module": "@jupyter-widgets/controls",
            "_model_module_version": "1.5.0",
            "_model_name": "DescriptionStyleModel",
            "_view_count": null,
            "_view_module": "@jupyter-widgets/base",
            "_view_module_version": "1.2.0",
            "_view_name": "StyleView",
            "description_width": ""
          }
        }
      }
    }
  },
  "cells": [
    {
      "cell_type": "markdown",
      "metadata": {
        "id": "view-in-github",
        "colab_type": "text"
      },
      "source": [
        "<a href=\"https://colab.research.google.com/github/patrickvonplaten/notebooks/blob/master/Fine_Tune_MMS_on_Common_Voice.ipynb\" target=\"_parent\"><img src=\"https://colab.research.google.com/assets/colab-badge.svg\" alt=\"Open In Colab\"/></a>"
      ]
    },
    {
      "cell_type": "markdown",
      "metadata": {
        "id": "LBSYoWbi-45k"
      },
      "source": [
        "# **Fine-tuning MMS Adapter Models for Multi-Lingual ASR**\n",
        "\n",
        "***New (06/2023)***: *This blog post is strongly inspired by [\"Fine-tuning XLS-R on Multi-Lingual ASR\"](https://huggingface.co/blog/fine-tune-xlsr-wav2vec2)* and can be seen as an improved version of it."
      ]
    },
    {
      "cell_type": "markdown",
      "metadata": {
        "id": "V7YOT2mnUiea"
      },
      "source": [
        "**Wav2Vec2** is a pretrained model for Automatic Speech Recognition (ASR) and was released in [September 2020](https://ai.facebook.com/blog/wav2vec-20-learning-the-structure-of-speech-from-raw-audio/) by *Alexei Baevski, Michael Auli, and Alex Conneau*.  Soon after the superior performance of Wav2Vec2 was demonstrated on one of the most popular English datasets for ASR, called [LibriSpeech](https://huggingface.co/datasets/librispeech_asr), *Facebook AI* presented a multi-lingual version of Wav2Vec2, called [XLSR](https://arxiv.org/abs/2006.13979) and [XLS-R](https://ai.facebook.com/blog/-xlm-r-state-of-the-art-cross-lingual-understanding-through-self-supervision/). XLSR stands for *cross-lingual speech representations* and refers to model's ability to learn speech representations that are useful across multiple languages.\n",
        "\n",
        "MetaAI's most recent release, the [**Massive Multilingual Speech (MMS)**](https://ai.facebook.com/blog/multilingual-model-speech-recognition/) by *Vineel Pratap, Andros Tjandra, Bowen Shi, et al.* takes multi-lingual speech representations to a new level. Over 1000 spoken languages can be identified, transcribed and generated with the [ASR, LID and TTS checkpoints that were released](https://huggingface.co/models?other=mms).\n",
        "\n",
        "![wav2vec2_structure](https://raw.githubusercontent.com/patrickvonplaten/scientific_images/master/mms_map.png)\n",
        "\n",
        "**MMS** unsupervised checkpoints were pre-trained on more than **half a million** hour of audio in over **1400** languages ranging from 300 million to one billion parameters.\n",
        "\n",
        "You can find the pretrained-only checkpoints on the 🤗 Hub:\n",
        "\n",
        "- [**MMS-300M**](https://huggingface.co/facebook/mms-300m)\n",
        "- [**MMS-1B**](https://huggingface.co/facebook/mms-1b)\n",
        "\n",
        "Similar to [BERT's masked language modeling objective](http://jalammar.github.io/illustrated-bert/), XLS-R learns contextualized speech representations by randomly masking feature vectors before passing them to a transformer network during self-supervised pre-training (*i.e.* diagram on the left below).\n",
        "\n",
        "For Automatic Speech Recognitino (ASR), the pretrained `MMS-1B` checkpoint was further fine-tuned in supervised fasion on 1000+ languages with a joint vocabulary output layer. As a final step, the joint vocabulary output layer was then thrown away and **only** ca. 2.5M adapter weights are trained on specific languages. The adapter weights hereby include small linear projection layers for each attention block as well as a language-specific vocabulary output layer.\n",
        "\n",
        "**MMS**'s released three checkpoints fine-tuned for speech recognition (ASR) that have 102, 1107, and 1162 adapter weights respectively (one for each language):\n",
        "\n",
        "- [**MMS-1B-FL102**](https://huggingface.co/facebook/mms-1b-fl102)\n",
        "- [**MMS-1B-L1107**](https://huggingface.co/facebook/mms-1b-1107)\n",
        "- [**MMS-1B-ALL**](https://huggingface.co/facebook/mms-1b-all)\n",
        "\n",
        "You can see that the base models are saved (as usual) as a [`model.safetensors` file](https://huggingface.co/facebook/mms-1b-all/blob/main/model.safetensors), but in addition these repositories have many adapter weights stored in the repository, *e.g.* under the name [`adapter.fra.safetensors`](https://huggingface.co/facebook/mms-1b-all/blob/main/adapter.fra.safetensors) for French.\n",
        "\n",
        "The Hugging Face docs explain very well how such checkpoints can be used for inference [here](https://huggingface.co/docs/transformers/main/en/model_doc/mms#loading), so in this blog post we will instead focus on learning how we can efficiently train highly performant adapter models based on any of the released ASR checkpoints.\n",
        "\n"
      ]
    },
    {
      "cell_type": "markdown",
      "source": [
        "## Training adaptive weights\n",
        "\n",
        "In machine learning, adapters are a method used to fine-tune pre-trained models while keeping the original model parameters unchanged. They do this by inserting small, trainable modules, called adapter layers, between the pre-existing layers of the model, which then adapt the model to a specific task without requiring extensive retraining.\n",
        "\n",
        "Adapters have a long history in speech recognition and especially **speaker recognition**. In speaker recognition, adapters have been effectively used to tweak pre-existing models to recognize individual speaker idiosyncrasies, as highlighted in [Gales and Woodland's (1996)](https://www.isca-speech.org/archive_v0/archive_papers/icslp_1996/i96_1832.pdf) and [Miao et al.'s (2014)](https://www.cs.cmu.edu/~ymiao/pub/tasl_sat.pdf) work. This approach not only greatly reduces computational requirements compared to full model, but also allows for better and more flexible speaker-specific adjustments.\n",
        "\n",
        "The work done in **MMS** leverages this idea of adapters for speech recognition across different languages. Adapter weights a fine-tuned to grasp unique phonetic and grammatical traits of each target language. Thereby, MMS enables a single large base model (*e.g.*, the [**MMS-1B-ALL**](https://huggingface.co/facebook/mms-1b-all) checkpoint) and 1000+ small adapter layers (2.5M weights each for **MMS-1B-ALL**) to comprehend and transcribe multiple languages. This dramatically reduces the computational demand of developing distinct models for each language.\n",
        "\n",
        "Great! Now that we understood the motivation and theory, let's look into fine-tuning a couple adapter weights for **MMS-1B-ALL** 🔥"
      ],
      "metadata": {
        "id": "miNvI1EdCbtf"
      }
    },
    {
      "cell_type": "markdown",
      "metadata": {
        "id": "nT_QrfWtsxIz"
      },
      "source": [
        "## Notebook Setup"
      ]
    },
    {
      "cell_type": "markdown",
      "metadata": {
        "id": "kruqixOYHaIo"
      },
      "source": [
        "As done previously in the [\"Fine-tuning XLS-R on Multi-Lingual ASR\"](https://huggingface.co/blog/fine-tune-xlsr-wav2vec2) blog post, we fine-tune the model on the low resource ASR dataset of [Common Voice](https://huggingface.co/datasets/common_voice) that contains only *ca.* 4h of validated training data."
      ]
    },
    {
      "cell_type": "markdown",
      "metadata": {
        "id": "Gx9OdDYrCtQ1"
      },
      "source": [
        "Just like Wav2Vec2 or XLS-R, MMS is fine-tuned using Connectionist Temporal Classification (CTC), which is an algorithm that is used to train neural networks for sequence-to-sequence problems, such as ASR and handwriting recognition.\n",
        "\n",
        "I highly recommend reading the well-written blog post [*Sequence Modeling with CTC (2017)*](https://distill.pub/2017/ctc/) by Awni Hannun."
      ]
    },
    {
      "cell_type": "markdown",
      "metadata": {
        "id": "wcHuXIaWyHZU"
      },
      "source": [
        "First, let's try to get a good GPU in our colab! With Google Colab's free version it's sadly becoming much harder to get access to a good GPU. With Google Colab Pro, however, one should easily get either a V100 or P100 GPU."
      ]
    },
    {
      "cell_type": "code",
      "metadata": {
        "colab": {
          "base_uri": "https://localhost:8080/"
        },
        "id": "YELVqGxMxnbG",
        "outputId": "f9293c1f-b23c-4ca7-ae21-c1a3f896bc10"
      },
      "source": [
        "gpu_info = !nvidia-smi\n",
        "gpu_info = '\\n'.join(gpu_info)\n",
        "if gpu_info.find('failed') >= 0:\n",
        "  print('Not connected to a GPU')\n",
        "else:\n",
        "  print(gpu_info)"
      ],
      "execution_count": null,
      "outputs": [
        {
          "output_type": "stream",
          "name": "stdout",
          "text": [
            "Mon Jun 19 10:50:45 2023       \n",
            "+-----------------------------------------------------------------------------+\n",
            "| NVIDIA-SMI 525.85.12    Driver Version: 525.85.12    CUDA Version: 12.0     |\n",
            "|-------------------------------+----------------------+----------------------+\n",
            "| GPU  Name        Persistence-M| Bus-Id        Disp.A | Volatile Uncorr. ECC |\n",
            "| Fan  Temp  Perf  Pwr:Usage/Cap|         Memory-Usage | GPU-Util  Compute M. |\n",
            "|                               |                      |               MIG M. |\n",
            "|===============================+======================+======================|\n",
            "|   0  NVIDIA A100-SXM...  Off  | 00000000:00:04.0 Off |                    0 |\n",
            "| N/A   32C    P0    43W / 400W |      0MiB / 40960MiB |      0%      Default |\n",
            "|                               |                      |             Disabled |\n",
            "+-------------------------------+----------------------+----------------------+\n",
            "                                                                               \n",
            "+-----------------------------------------------------------------------------+\n",
            "| Processes:                                                                  |\n",
            "|  GPU   GI   CI        PID   Type   Process name                  GPU Memory |\n",
            "|        ID   ID                                                   Usage      |\n",
            "|=============================================================================|\n",
            "|  No running processes found                                                 |\n",
            "+-----------------------------------------------------------------------------+\n"
          ]
        }
      ]
    },
    {
      "cell_type": "markdown",
      "metadata": {
        "id": "e335hPmdtASZ"
      },
      "source": [
        "Before we start, let's install `datasets` and `transformers`. Also, we need the `torchaudio` to load audio files and `jiwer` to evaluate our fine-tuned model using the [word error rate (WER)](https://huggingface.co/metrics/wer) metric ${}^1$."
      ]
    },
    {
      "cell_type": "code",
      "metadata": {
        "id": "c8eh87Hoee5d"
      },
      "source": [
        "%%capture\n",
        "!pip install datasets[audio]\n",
        "!pip install evaluate\n",
        "!pip install git+https://github.com/huggingface/transformers.git\n",
        "!pip install jiwer\n",
        "!pip install accelerate"
      ],
      "execution_count": null,
      "outputs": []
    },
    {
      "cell_type": "markdown",
      "metadata": {
        "id": "0xxt_LwxDQlO"
      },
      "source": [
        "We strongly suggest to upload your training checkpoints directly to the [🤗 Hub](https://huggingface.co/) while training. The [🤗 Hub](https://huggingface.co/) has integrated version control so you can be sure that no model checkpoint is getting lost during training.\n",
        "\n",
        "To do so you have to store your authentication token from the Hugging Face website (sign up [here](https://huggingface.co/join) if you haven't already!)"
      ]
    },
    {
      "cell_type": "code",
      "metadata": {
        "colab": {
          "base_uri": "https://localhost:8080/",
          "height": 331,
          "referenced_widgets": [
            "5c855868a9e84dcea05a3482b1557301",
            "fc98b737a1694eb6b4ab82570e0f5229",
            "3b1de62d66ca4321aa0de3e950bc7017",
            "d41507a1c7fc42b68844e579707f0a09",
            "198d2ec74b984307bf7e1bd46b355ece",
            "644b6121063c44bbb3c8f1a6570ef35c",
            "99f2b2fc72c14c21a6b10fcba19d4ce9",
            "df30f15167e34cf8a3bf0c0507c32a18",
            "843313007d6640268b96544083b54c37",
            "da853ffae48a4b6b863e5e048d24e556",
            "7ba5540f243c4cf7a993300e50adc5a9",
            "6754c7a648004c3490ba6d63faed7d74",
            "aab3264d74c74fe7b2b6fa177c9d62da",
            "cac9b4e043b843629d045126e66656ff",
            "56044c814dfc450eb6acf436ff9878b0",
            "df11fa910aa0494da7b388edd313258e",
            "f776e241228d4c10a549feb0b49fb48a"
          ]
        },
        "id": "mlMSH3T3EazV",
        "outputId": "5cf93aaa-2381-41b5-eeac-aa94ca5e3c2d"
      },
      "source": [
        "from huggingface_hub import notebook_login\n",
        "\n",
        "notebook_login()"
      ],
      "execution_count": null,
      "outputs": [
        {
          "output_type": "display_data",
          "data": {
            "text/plain": [
              "VBox(children=(HTML(value='<center> <img\\nsrc=https://huggingface.co/front/assets/huggingface_logo-noborder.sv…"
            ],
            "application/vnd.jupyter.widget-view+json": {
              "version_major": 2,
              "version_minor": 0,
              "model_id": "5c855868a9e84dcea05a3482b1557301"
            }
          },
          "metadata": {}
        }
      ]
    },
    {
      "cell_type": "markdown",
      "metadata": {
        "id": "0mW-C1Nt-j7k"
      },
      "source": [
        "## Prepare Data, Tokenizer, Feature Extractor"
      ]
    },
    {
      "cell_type": "markdown",
      "metadata": {
        "id": "BeBosnY9BH3e"
      },
      "source": [
        "ASR models transcribe speech to text, which means that we both need a feature extractor that processes the speech signal to the model's input format, *e.g.* a feature vector, and a tokenizer that processes the model's output format to text.\n",
        "\n",
        "In 🤗 Transformers, the MMS model is thus accompanied by both a tokenizer, called [Wav2Vec2CTCTokenizer](https://huggingface.co/transformers/master/model_doc/wav2vec2.html#wav2vec2ctctokenizer), and a feature extractor, called [Wav2Vec2FeatureExtractor](https://huggingface.co/transformers/master/model_doc/wav2vec2.html#wav2vec2featureextractor).\n",
        "\n",
        "Let's start by creating the tokenizer to decode the predicted output classes to the output transcription."
      ]
    },
    {
      "cell_type": "markdown",
      "metadata": {
        "id": "sEXEWEJGQPqD"
      },
      "source": [
        "### Create `Wav2Vec2CTCTokenizer`"
      ]
    },
    {
      "cell_type": "markdown",
      "metadata": {
        "id": "tWmMikuNEKl_"
      },
      "source": [
        "Fine-tuned MMS models, such as [**MMS-1B-ALL**](https://huggingface.co/facebook/mms-1b-all) already have a [tokenizer](https://huggingface.co/facebook/mms-1b-all/blob/main/tokenizer_config.json) accompanying the model checkpoint. However since we want to fine-tune the model on specific low-resource data of a certain language, it is recommended to fully remove the tokenizer, and vocabulary output layer and simply create a new ones based on the training data itself.\n",
        "\n",
        "Remember that Wav2Vec2-like models fine-tuned on CTC transcribe an audio file with a single forward pass by first processing the audio input into a secquence of processed context representations and then using the final vocabulary output layer to classify each context representation to a character that reperesents the transcription."
      ]
    },
    {
      "cell_type": "markdown",
      "metadata": {
        "id": "v5oRE8XjIUH3"
      },
      "source": [
        "The output size of this layer corresponds to the number of tokens in the vocabulary, and therefore only on the labeled dataset used for fine-tuning. So in the first step, we will take a look at the chosen dataset of Common Voice and define a vocabulary based on the transcriptions."
      ]
    },
    {
      "cell_type": "markdown",
      "metadata": {
        "id": "idBczw8mWzgt"
      },
      "source": [
        "For this notebook, we will use [Common Voice's 6.1 dataset](https://huggingface.co/datasets/mozilla-foundation/common_voice_6_1) for Turkish. Turkish corresponds to the language code `\"tr\"`.\n",
        "\n",
        "Great, now we can use 🤗 Datasets' simple API to download the data. The dataset name is `\"mozilla-foundation/common_voice_6_1\"`, the configuration name corresponds to the language code, which is `\"tr\"` in our case.\n",
        "\n",
        "**Note**: Before being able to download the dataset, you have to access it by logging into your Hugging Face account, going on the [dataset repo page](https://huggingface.co/datasets/mozilla-foundation/common_voice_6_1) and clicking on:"
      ]
    },
    {
      "cell_type": "markdown",
      "source": [
        "![Screenshot from 2023-06-19 12-19-11.png](data:image/png;base64,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)"
      ],
      "metadata": {
        "id": "oR6l4HSVKwMf"
      }
    },
    {
      "cell_type": "markdown",
      "metadata": {
        "id": "bee4g9rpLxll"
      },
      "source": [
        "Common Voice has many different splits including `invalidated`, which refers to data that was not rated as \"clean enough\" to be considered useful. In this notebook, we will only make use of the splits `\"train\"`, `\"validation\"` and `\"test\"`.\n",
        "\n",
        "Because the Turkish dataset is so small, we will merge both the validation and training data into a training dataset and only use the test data for validation."
      ]
    },
    {
      "cell_type": "code",
      "metadata": {
        "colab": {
          "base_uri": "https://localhost:8080/"
        },
        "id": "2MMXcWFFgCXU",
        "outputId": "ffcd8ef5-1e3b-49f0-866e-d9290971d888"
      },
      "source": [
        "from datasets import load_dataset, load_metric, Audio\n",
        "\n",
        "common_voice_train = load_dataset(\"mozilla-foundation/common_voice_6_1\", \"tr\", split=\"train+validation\", use_auth_token=True)\n",
        "common_voice_test = load_dataset(\"mozilla-foundation/common_voice_6_1\", \"tr\", split=\"test\", use_auth_token=True)"
      ],
      "execution_count": null,
      "outputs": [
        {
          "output_type": "stream",
          "name": "stderr",
          "text": [
            "WARNING:datasets.builder:Found cached dataset common_voice_6_1 (/root/.cache/huggingface/datasets/mozilla-foundation___common_voice_6_1/tr/6.1.0/f4d7854c466f5bd4908988dbd39044ec4fc634d89e0515ab0c51715c0127ffe3)\n",
            "WARNING:datasets.builder:Found cached dataset common_voice_6_1 (/root/.cache/huggingface/datasets/mozilla-foundation___common_voice_6_1/tr/6.1.0/f4d7854c466f5bd4908988dbd39044ec4fc634d89e0515ab0c51715c0127ffe3)\n"
          ]
        }
      ]
    },
    {
      "cell_type": "markdown",
      "metadata": {
        "id": "ri5y5N_HMANq"
      },
      "source": [
        "Many ASR datasets only provide the target text, `'sentence'` for each audio array `'audio'` and file `'path'`. Common Voice actually provides much more information about each audio file, such as the `'accent'`, etc. Keeping the notebook as general as possible, we only consider the transcribed text for fine-tuning.\n",
        "\n"
      ]
    },
    {
      "cell_type": "code",
      "metadata": {
        "id": "kbyq6lDgQc2a"
      },
      "source": [
        "common_voice_train = common_voice_train.remove_columns([\"accent\", \"age\", \"client_id\", \"down_votes\", \"gender\", \"locale\", \"segment\", \"up_votes\"])\n",
        "common_voice_test = common_voice_test.remove_columns([\"accent\", \"age\", \"client_id\", \"down_votes\", \"gender\", \"locale\", \"segment\", \"up_votes\"])"
      ],
      "execution_count": null,
      "outputs": []
    },
    {
      "cell_type": "markdown",
      "metadata": {
        "id": "Go9Hq4e4NDT9"
      },
      "source": [
        "Let's write a short function to display some random samples of the dataset and run it a couple of times to get a feeling for the transcriptions."
      ]
    },
    {
      "cell_type": "code",
      "metadata": {
        "id": "72737oog2F6U"
      },
      "source": [
        "from datasets import ClassLabel\n",
        "import random\n",
        "import pandas as pd\n",
        "from IPython.display import display, HTML\n",
        "\n",
        "def show_random_elements(dataset, num_examples=10):\n",
        "    assert num_examples <= len(dataset), \"Can't pick more elements than there are in the dataset.\"\n",
        "    picks = []\n",
        "    for _ in range(num_examples):\n",
        "        pick = random.randint(0, len(dataset)-1)\n",
        "        while pick in picks:\n",
        "            pick = random.randint(0, len(dataset)-1)\n",
        "        picks.append(pick)\n",
        "\n",
        "    df = pd.DataFrame(dataset[picks])\n",
        "    display(HTML(df.to_html()))"
      ],
      "execution_count": null,
      "outputs": []
    },
    {
      "cell_type": "code",
      "metadata": {
        "colab": {
          "base_uri": "https://localhost:8080/",
          "height": 363
        },
        "id": "K_JUmf3G3b9S",
        "outputId": "2af0fdde-fbab-4230-dd5c-fdce60253262"
      },
      "source": [
        "show_random_elements(common_voice_train.remove_columns([\"path\", \"audio\"]), num_examples=10)"
      ],
      "execution_count": null,
      "outputs": [
        {
          "output_type": "display_data",
          "data": {
            "text/plain": [
              "<IPython.core.display.HTML object>"
            ],
            "text/html": [
              "<table border=\"1\" class=\"dataframe\">\n",
              "  <thead>\n",
              "    <tr style=\"text-align: right;\">\n",
              "      <th></th>\n",
              "      <th>sentence</th>\n",
              "    </tr>\n",
              "  </thead>\n",
              "  <tbody>\n",
              "    <tr>\n",
              "      <th>0</th>\n",
              "      <td>Oylar teker teker elle sayılacak.</td>\n",
              "    </tr>\n",
              "    <tr>\n",
              "      <th>1</th>\n",
              "      <td>Son olaylar endişe seviyesini yükseltti.</td>\n",
              "    </tr>\n",
              "    <tr>\n",
              "      <th>2</th>\n",
              "      <td>Tek bir kart hepsinin kapılarını açıyor.</td>\n",
              "    </tr>\n",
              "    <tr>\n",
              "      <th>3</th>\n",
              "      <td>Blogcular da tam bundan bahsetmek istiyor.</td>\n",
              "    </tr>\n",
              "    <tr>\n",
              "      <th>4</th>\n",
              "      <td>Bu Aralık iki bin onda oldu.</td>\n",
              "    </tr>\n",
              "    <tr>\n",
              "      <th>5</th>\n",
              "      <td>Fiyatın altmış altı milyon avro olduğu bildirildi.</td>\n",
              "    </tr>\n",
              "    <tr>\n",
              "      <th>6</th>\n",
              "      <td>Moldova halkı yorgun ve kafası karışmış durumda.</td>\n",
              "    </tr>\n",
              "    <tr>\n",
              "      <th>7</th>\n",
              "      <td>Ardından da silahlı çatışmalar çıktı.</td>\n",
              "    </tr>\n",
              "    <tr>\n",
              "      <th>8</th>\n",
              "      <td>\"Romanya'da kurumlar gelir vergisi oranı yüzde on altı.\"</td>\n",
              "    </tr>\n",
              "    <tr>\n",
              "      <th>9</th>\n",
              "      <td>Bu konuda neden bu kadar az şey söylendiğini açıklayabilir misiniz?</td>\n",
              "    </tr>\n",
              "  </tbody>\n",
              "</table>"
            ]
          },
          "metadata": {}
        }
      ]
    },
    {
      "cell_type": "markdown",
      "metadata": {
        "id": "fowcOllGNNju"
      },
      "source": [
        "Alright! The transcriptions look fairly clean. Having translated the transcribed sentences, it seems that the language corresponds more to written-out text than noisy dialogue. This makes sense considering that [Common Voice](https://huggingface.co/datasets/common_voice) is a crowd-sourced read speech corpus."
      ]
    },
    {
      "cell_type": "markdown",
      "metadata": {
        "id": "vq7OR50LN49m"
      },
      "source": [
        "We can see that the transcriptions contain some special characters, such as `,.?!;:`. Without a language model, it is much harder to classify speech chunks to such special characters because they don't really correspond to a characteristic sound unit. *E.g.*, the letter `\"s\"` has a more or less clear sound, whereas the special character `\".\"` does not.\n",
        "Also in order to understand the meaning of a speech signal, it is usually not necessary to include special characters in the transcription.\n",
        "\n",
        "Let's simply remove all characters that don't contribute to the meaning of a word and cannot really be represented by an acoustic sound and normalize the text."
      ]
    },
    {
      "cell_type": "code",
      "metadata": {
        "id": "svKzVJ_hQGK6"
      },
      "source": [
        "import re\n",
        "chars_to_remove_regex = '[\\,\\?\\.\\!\\-\\;\\:\\\"\\“\\%\\‘\\”\\�\\']'\n",
        "\n",
        "def remove_special_characters(batch):\n",
        "    batch[\"sentence\"] = re.sub(chars_to_remove_regex, '', batch[\"sentence\"]).lower()\n",
        "    return batch"
      ],
      "execution_count": null,
      "outputs": []
    },
    {
      "cell_type": "code",
      "metadata": {
        "colab": {
          "base_uri": "https://localhost:8080/"
        },
        "id": "XIHocAuTQbBR",
        "outputId": "812537c7-3c2c-4f4b-9b93-2bd96a40266a"
      },
      "source": [
        "common_voice_train = common_voice_train.map(remove_special_characters)\n",
        "common_voice_test = common_voice_test.map(remove_special_characters)"
      ],
      "execution_count": null,
      "outputs": [
        {
          "output_type": "stream",
          "name": "stderr",
          "text": [
            "WARNING:datasets.arrow_dataset:Loading cached processed dataset at /root/.cache/huggingface/datasets/mozilla-foundation___common_voice_6_1/tr/6.1.0/f4d7854c466f5bd4908988dbd39044ec4fc634d89e0515ab0c51715c0127ffe3/cache-bfc6c84ab17df069.arrow\n",
            "WARNING:datasets.arrow_dataset:Loading cached processed dataset at /root/.cache/huggingface/datasets/mozilla-foundation___common_voice_6_1/tr/6.1.0/f4d7854c466f5bd4908988dbd39044ec4fc634d89e0515ab0c51715c0127ffe3/cache-1ed99f80bee30e93.arrow\n"
          ]
        }
      ]
    },
    {
      "cell_type": "markdown",
      "metadata": {
        "id": "TxnVS9gIhIma"
      },
      "source": [
        "Let's look at the processed text labels again."
      ]
    },
    {
      "cell_type": "code",
      "metadata": {
        "colab": {
          "base_uri": "https://localhost:8080/",
          "height": 363
        },
        "id": "RBDRAAYxRE6n",
        "outputId": "9d9a16f3-7487-4f8c-bdcd-f2e6d6350ff4"
      },
      "source": [
        "show_random_elements(common_voice_train.remove_columns([\"path\",\"audio\"]))"
      ],
      "execution_count": null,
      "outputs": [
        {
          "output_type": "display_data",
          "data": {
            "text/plain": [
              "<IPython.core.display.HTML object>"
            ],
            "text/html": [
              "<table border=\"1\" class=\"dataframe\">\n",
              "  <thead>\n",
              "    <tr style=\"text-align: right;\">\n",
              "      <th></th>\n",
              "      <th>sentence</th>\n",
              "    </tr>\n",
              "  </thead>\n",
              "  <tbody>\n",
              "    <tr>\n",
              "      <th>0</th>\n",
              "      <td>i̇kinci tur müzakereler eylül ayında başlayacak</td>\n",
              "    </tr>\n",
              "    <tr>\n",
              "      <th>1</th>\n",
              "      <td>jani ve babası bu düşüncelerinde yalnız değil</td>\n",
              "    </tr>\n",
              "    <tr>\n",
              "      <th>2</th>\n",
              "      <td>onurun gözlerindeki büyü</td>\n",
              "    </tr>\n",
              "    <tr>\n",
              "      <th>3</th>\n",
              "      <td>bandiç oyların yüzde kırk sekiz virgül elli dördünü topladı</td>\n",
              "    </tr>\n",
              "    <tr>\n",
              "      <th>4</th>\n",
              "      <td>bu imkansız</td>\n",
              "    </tr>\n",
              "    <tr>\n",
              "      <th>5</th>\n",
              "      <td>bu konu açık değildir</td>\n",
              "    </tr>\n",
              "    <tr>\n",
              "      <th>6</th>\n",
              "      <td>cinayet kamuoyunu şiddetle sarstı</td>\n",
              "    </tr>\n",
              "    <tr>\n",
              "      <th>7</th>\n",
              "      <td>kentin sokakları iki metre su altında kaldı</td>\n",
              "    </tr>\n",
              "    <tr>\n",
              "      <th>8</th>\n",
              "      <td>muhalefet partileri hükümete karşı ciddi bir mücadele ortaya koyabiliyorlar mı</td>\n",
              "    </tr>\n",
              "    <tr>\n",
              "      <th>9</th>\n",
              "      <td>festivale tüm dünyadan elli film katılıyor</td>\n",
              "    </tr>\n",
              "  </tbody>\n",
              "</table>"
            ]
          },
          "metadata": {}
        }
      ]
    },
    {
      "cell_type": "markdown",
      "metadata": {
        "id": "jwfaptH5RJwA"
      },
      "source": [
        "Good! This looks better. We have removed most special characters from transcriptions and normalized them to lower-case only.\n",
        "\n",
        "Before finalizing the pre-processing, it is always advantageous to consult a native speaker of the target language to see whether the text can be further simplified.\n",
        "For this blog post, [Merve](https://twitter.com/mervenoyann) was kind enough to take a quick look and noted that \"hatted\" characters - like `â` - aren't really used anymore in Turkish and can be replaced by their \"un-hatted\" equivalent, *e.g.* `a`.\n",
        "\n",
        "This means that we should replace a sentence like `\"yargı sistemi hâlâ sağlıksız\"` to `\"yargı sistemi hala sağlıksız\"`.\n",
        "\n",
        "Let's write another short mapping function to further simplify the text labels. Remember - the simler the text labels, the easier it is for the model to learn to predict those labels.\n",
        "\n"
      ]
    },
    {
      "cell_type": "code",
      "metadata": {
        "id": "aZcrz6z7lgGm"
      },
      "source": [
        "def replace_hatted_characters(batch):\n",
        "    batch[\"sentence\"] = re.sub('[â]', 'a', batch[\"sentence\"])\n",
        "    batch[\"sentence\"] = re.sub('[î]', 'i', batch[\"sentence\"])\n",
        "    batch[\"sentence\"] = re.sub('[ô]', 'o', batch[\"sentence\"])\n",
        "    batch[\"sentence\"] = re.sub('[û]', 'u', batch[\"sentence\"])\n",
        "    return batch"
      ],
      "execution_count": null,
      "outputs": []
    },
    {
      "cell_type": "code",
      "metadata": {
        "colab": {
          "base_uri": "https://localhost:8080/"
        },
        "id": "ieGhhND5mSwI",
        "outputId": "5d5d90b6-5d3b-471a-8183-605aeac05f16"
      },
      "source": [
        "common_voice_train = common_voice_train.map(replace_hatted_characters)\n",
        "common_voice_test = common_voice_test.map(replace_hatted_characters)"
      ],
      "execution_count": null,
      "outputs": [
        {
          "output_type": "stream",
          "name": "stderr",
          "text": [
            "WARNING:datasets.arrow_dataset:Loading cached processed dataset at /root/.cache/huggingface/datasets/mozilla-foundation___common_voice_6_1/tr/6.1.0/f4d7854c466f5bd4908988dbd39044ec4fc634d89e0515ab0c51715c0127ffe3/cache-b9fea5150b6c7ed4.arrow\n",
            "WARNING:datasets.arrow_dataset:Loading cached processed dataset at /root/.cache/huggingface/datasets/mozilla-foundation___common_voice_6_1/tr/6.1.0/f4d7854c466f5bd4908988dbd39044ec4fc634d89e0515ab0c51715c0127ffe3/cache-99bbff57d42b7c68.arrow\n"
          ]
        }
      ]
    },
    {
      "cell_type": "markdown",
      "metadata": {
        "id": "3ORHDb2Th2TW"
      },
      "source": [
        "In CTC, it is common to classify speech chunks into letters, so we will do the same here.\n",
        "Let's extract all distinct letters of the training and test data and build our vocabulary from this set of letters.\n",
        "\n",
        "We write a mapping function that concatenates all transcriptions into one long transcription and then transforms the string into a set of chars.\n",
        "It is important to pass the argument `batched=True` to the `map(...)` function so that the mapping function has access to all transcriptions at once."
      ]
    },
    {
      "cell_type": "code",
      "metadata": {
        "id": "LwCshNbbeRZR"
      },
      "source": [
        "def extract_all_chars(batch):\n",
        "  all_text = \" \".join(batch[\"sentence\"])\n",
        "  vocab = list(set(all_text))\n",
        "  return {\"vocab\": [vocab], \"all_text\": [all_text]}"
      ],
      "execution_count": null,
      "outputs": []
    },
    {
      "cell_type": "code",
      "metadata": {
        "colab": {
          "base_uri": "https://localhost:8080/",
          "height": 17,
          "referenced_widgets": [
            "92f06390774e4a4e8b8a9876b1124e7c",
            "915bcf23a8aa4c8aad023024da8ebef1",
            "a67519f20b6f4a8aa0c31026094c4361",
            "196fb9fbd0ff444bb5e391482f541de1",
            "4da9fe628f464b1faea6c0a504ebd9eb",
            "c6e51ab52e4f44d0b8afa5e1731c7f84",
            "30d12a46194a4268a6bf9f6f14f25359",
            "f371c3d5244e40d58b734fa0cbb98974",
            "2b80fbb85e9e4c13ac0f9d4f5d5a37e9",
            "0c6c3621ee8f4600ae6a44a6a5da3420",
            "03d827d3db7140ca94a9f87ae10392f0",
            "725e769f14ba4a399d230ef80595628e",
            "96ed8725d0f044b9b0de7df58cc58eda",
            "459bb61ca5004db69fd30e3e232f2599",
            "afa45ee747ae49159b5dee5eef11d00e",
            "3d95c88b77694b15bd482c00ef4c7f78",
            "01aca9ebddae4945b83a45ed04dcac41",
            "42844436bc2c4bdf9203b4586b853078",
            "16c5d9fdab384c74b8737d4a4696c614",
            "1fc05d14d13544708186c86448d833df",
            "7d101dabb6fb4cb982b1aa51b594160c",
            "784b02ac64974269b4f8c6f84b689eff"
          ]
        },
        "id": "_m6uUjjcfbjH",
        "outputId": "f3a36533-4d5e-4fb9-d0f7-d2f22ea6d7e3"
      },
      "source": [
        "vocab_train = common_voice_train.map(extract_all_chars, batched=True, batch_size=-1, keep_in_memory=True, remove_columns=common_voice_train.column_names)\n",
        "vocab_test = common_voice_test.map(extract_all_chars, batched=True, batch_size=-1, keep_in_memory=True, remove_columns=common_voice_test.column_names)"
      ],
      "execution_count": null,
      "outputs": [
        {
          "output_type": "display_data",
          "data": {
            "text/plain": [
              "Map:   0%|          | 0/3478 [00:00<?, ? examples/s]"
            ],
            "application/vnd.jupyter.widget-view+json": {
              "version_major": 2,
              "version_minor": 0,
              "model_id": "92f06390774e4a4e8b8a9876b1124e7c"
            }
          },
          "metadata": {}
        },
        {
          "output_type": "display_data",
          "data": {
            "text/plain": [
              "Map:   0%|          | 0/1647 [00:00<?, ? examples/s]"
            ],
            "application/vnd.jupyter.widget-view+json": {
              "version_major": 2,
              "version_minor": 0,
              "model_id": "725e769f14ba4a399d230ef80595628e"
            }
          },
          "metadata": {}
        }
      ]
    },
    {
      "cell_type": "markdown",
      "metadata": {
        "id": "7oVgE8RZSJNP"
      },
      "source": [
        "Now, we create the union of all distinct letters in the training dataset and test dataset and convert the resulting list into an enumerated dictionary."
      ]
    },
    {
      "cell_type": "code",
      "metadata": {
        "id": "aQfneNsmlJI0"
      },
      "source": [
        "vocab_list = list(set(vocab_train[\"vocab\"][0]) | set(vocab_test[\"vocab\"][0]))"
      ],
      "execution_count": null,
      "outputs": []
    },
    {
      "cell_type": "code",
      "metadata": {
        "colab": {
          "base_uri": "https://localhost:8080/"
        },
        "id": "_0kRndSvqaKk",
        "outputId": "b275fd87-b37c-48ef-b3a4-5e35c6e872ee"
      },
      "source": [
        "vocab_dict = {v: k for k, v in enumerate(sorted(vocab_list))}\n",
        "vocab_dict"
      ],
      "execution_count": null,
      "outputs": [
        {
          "output_type": "execute_result",
          "data": {
            "text/plain": [
              "{' ': 0,\n",
              " 'a': 1,\n",
              " 'b': 2,\n",
              " 'c': 3,\n",
              " 'd': 4,\n",
              " 'e': 5,\n",
              " 'f': 6,\n",
              " 'g': 7,\n",
              " 'h': 8,\n",
              " 'i': 9,\n",
              " 'j': 10,\n",
              " 'k': 11,\n",
              " 'l': 12,\n",
              " 'm': 13,\n",
              " 'n': 14,\n",
              " 'o': 15,\n",
              " 'p': 16,\n",
              " 'q': 17,\n",
              " 'r': 18,\n",
              " 's': 19,\n",
              " 't': 20,\n",
              " 'u': 21,\n",
              " 'v': 22,\n",
              " 'w': 23,\n",
              " 'x': 24,\n",
              " 'y': 25,\n",
              " 'z': 26,\n",
              " 'ç': 27,\n",
              " 'ë': 28,\n",
              " 'ö': 29,\n",
              " 'ü': 30,\n",
              " 'ğ': 31,\n",
              " 'ı': 32,\n",
              " 'ş': 33,\n",
              " '̇': 34}"
            ]
          },
          "metadata": {},
          "execution_count": 16
        }
      ]
    },
    {
      "cell_type": "markdown",
      "metadata": {
        "id": "JOSzbvs9SXT1"
      },
      "source": [
        "Cool, we see that all letters of the alphabet occur in the dataset (which is not really surprising) and we also extracted the special characters `\"\"` and `'`. Note that we did not exclude those special characters because:\n",
        "\n",
        "The model has to learn to predict when a word is finished or else the model prediction would always be a sequence of chars which would make it impossible to separate words from each other.\n",
        "\n",
        "One should always keep in mind that pre-processing is a very important step before training your model. E.g., we don't want our model to differentiate between `a` and `A` just because we forgot to normalize the data. The difference between `a` and `A` does not depend on the \"sound\" of the letter at all, but more on grammatical rules - *e.g.* use a capitalized letter at the beginning of the sentence. So it is sensible to remove the difference between capitalized and non-capitalized letters so that the model has an easier time learning to transcribe speech."
      ]
    },
    {
      "cell_type": "markdown",
      "metadata": {
        "id": "b1fBRCn-TRaO"
      },
      "source": [
        "To make it clearer that `\" \"` has its own token class, we give it a more visible character `|`. In addition, we also add an \"unknown\" token so that the model can later deal with characters not encountered in Common Voice's training set."
      ]
    },
    {
      "cell_type": "code",
      "metadata": {
        "id": "npbIbBoLgaFX"
      },
      "source": [
        "vocab_dict[\"|\"] = vocab_dict[\" \"]\n",
        "del vocab_dict[\" \"]"
      ],
      "execution_count": null,
      "outputs": []
    },
    {
      "cell_type": "markdown",
      "metadata": {
        "id": "_9yCWg4Sd0cb"
      },
      "source": [
        "Finally, we also add a padding token that corresponds to CTC's \"*blank token*\". The \"blank token\" is a core component of the CTC algorithm. For more information, please take a look at the \"Alignment\" section [here](https://distill.pub/2017/ctc/)."
      ]
    },
    {
      "cell_type": "code",
      "metadata": {
        "colab": {
          "base_uri": "https://localhost:8080/"
        },
        "id": "znF0bNunsjbl",
        "outputId": "2fc1da4a-3e71-4751-f580-139c022a752c"
      },
      "source": [
        "vocab_dict[\"[UNK]\"] = len(vocab_dict)\n",
        "vocab_dict[\"[PAD]\"] = len(vocab_dict)\n",
        "len(vocab_dict)"
      ],
      "execution_count": null,
      "outputs": [
        {
          "output_type": "execute_result",
          "data": {
            "text/plain": [
              "37"
            ]
          },
          "metadata": {},
          "execution_count": 18
        }
      ]
    },
    {
      "cell_type": "markdown",
      "metadata": {
        "id": "SFPGfet8U5sL"
      },
      "source": [
        "Cool, now our vocabulary is complete and consists of 37 tokens, which means that the linear layer that we will add on top of the pretrained MMS checkpoint as part of the adapter weights will have an output dimension of 37."
      ]
    },
    {
      "cell_type": "markdown",
      "source": [
        "Since a single MMS checkpoint can provide customized weights for multiple languages, the tokenizer can also consist of multiple vocabularies. Therefore, we need nest our `vocab_dict` to potentially add more languages to the vocabulary in the future. The dictionary should be nested with the name that is used for the adapter weights and that is saved in the tokenizer config under the name [`target_lang`](https://huggingface.co/docs/transformers/model_doc/wav2vec2#transformers.Wav2Vec2CTCTokenizer.target_lang).\n",
        "\n",
        "Let's use the ISO-639-3 language codes as is used for the original [**MMS-1B-ALL**](https://huggingface.co/facebook/mms-1b-all) checkpoint."
      ],
      "metadata": {
        "id": "Z1UUBPixLjqK"
      }
    },
    {
      "cell_type": "code",
      "source": [
        "target_lang = \"tur\""
      ],
      "metadata": {
        "id": "T5Tr81luMPfI"
      },
      "execution_count": null,
      "outputs": []
    },
    {
      "cell_type": "markdown",
      "source": [
        "Let's define an empty dictionary to which we can append the just created vocabulary"
      ],
      "metadata": {
        "id": "pNY3xJF1f74n"
      }
    },
    {
      "cell_type": "code",
      "source": [
        "new_vocab_dict = {target_lang: vocab_dict}"
      ],
      "metadata": {
        "id": "S5XNp1T2gENV"
      },
      "execution_count": null,
      "outputs": []
    },
    {
      "cell_type": "markdown",
      "source": [
        "**Note**: In case you want to use this notebook to add a new adapter layer to *an existing model repo* use make sure to **not** create an empty, new vocab dict, but instead re-use one that already exists. To do so you should uncomment the following cells and replace `mms_adapter_repo` with a model repo id to which you want to add your adapter weights."
      ],
      "metadata": {
        "id": "uwEYeB4dfCKk"
      }
    },
    {
      "cell_type": "code",
      "source": [
        "# from transformers import Wav2Vec2CTCTokenizer\n",
        "\n",
        "# mms_adapter_repo = \"patrickvonplaten/wav2vec2-large-mms-1b-turkish-colab\"  # make sure to replace this path with a repo to which you want to add your new adapter weights\n",
        "\n",
        "# tokenizer = Wav2Vec2CTCTokenizer.from_pretrained(mms_adapter_repo)\n",
        "# new_vocab = tokenizer.vocab\n",
        "\n",
        "# new_vocab[target_lang] = vocab_dict"
      ],
      "metadata": {
        "id": "lGgSQMprfWn6"
      },
      "execution_count": null,
      "outputs": []
    },
    {
      "cell_type": "markdown",
      "metadata": {
        "id": "1CujRgBNVRaD"
      },
      "source": [
        "Let's now save the vocabulary as a json file."
      ]
    },
    {
      "cell_type": "code",
      "metadata": {
        "id": "ehyUoh9vk191"
      },
      "source": [
        "import json\n",
        "with open('vocab.json', 'w') as vocab_file:\n",
        "    json.dump(new_vocab_dict, vocab_file)"
      ],
      "execution_count": null,
      "outputs": []
    },
    {
      "cell_type": "markdown",
      "metadata": {
        "id": "SHJDaKlIVVim"
      },
      "source": [
        "In a final step, we use the json file to load the vocabulary into an instance of the `Wav2Vec2CTCTokenizer` class."
      ]
    },
    {
      "cell_type": "code",
      "metadata": {
        "colab": {
          "base_uri": "https://localhost:8080/"
        },
        "id": "xriFGEWQkO4M",
        "outputId": "45fdd5f8-b554-42b9-9651-536d52371c9f"
      },
      "source": [
        "from transformers import Wav2Vec2CTCTokenizer\n",
        "\n",
        "tokenizer = Wav2Vec2CTCTokenizer.from_pretrained(\"./\", unk_token=\"[UNK]\", pad_token=\"[PAD]\", word_delimiter_token=\"|\", target_lang=target_lang)"
      ],
      "execution_count": null,
      "outputs": [
        {
          "output_type": "stream",
          "name": "stderr",
          "text": [
            "Special tokens have been added in the vocabulary, make sure the associated word embeddings are fine-tuned or trained.\n"
          ]
        }
      ]
    },
    {
      "cell_type": "markdown",
      "metadata": {
        "id": "KvL12DrNV4cx"
      },
      "source": [
        "If one wants to re-use the just created tokenizer with the fine-tuned model of this notebook, it is strongly advised to upload the `tokenizer` to the [🤗 Hub](https://huggingface.co/). Let's call the repo to which we will upload the files\n",
        "`\"wav2vec2-large-xlsr-turkish-demo-colab\"`:"
      ]
    },
    {
      "cell_type": "code",
      "metadata": {
        "id": "A1XApZBAF2zr"
      },
      "source": [
        "repo_name = \"wav2vec2-large-mms-1b-turkish-colab\""
      ],
      "execution_count": null,
      "outputs": []
    },
    {
      "cell_type": "markdown",
      "metadata": {
        "id": "B1BiezWZF16d"
      },
      "source": [
        "and upload the tokenizer to the [🤗 Hub](https://huggingface.co/)."
      ]
    },
    {
      "cell_type": "code",
      "metadata": {
        "colab": {
          "base_uri": "https://localhost:8080/"
        },
        "id": "zytE1175GAKM",
        "outputId": "02e6fd5b-4016-4a95-ea14-417e19421151"
      },
      "source": [
        "tokenizer.push_to_hub(repo_name)"
      ],
      "execution_count": null,
      "outputs": [
        {
          "output_type": "execute_result",
          "data": {
            "text/plain": [
              "CommitInfo(commit_url='https://huggingface.co/patrickvonplaten/wav2vec2-large-mms-1b-turkish-colab/commit/48cccbfd6059aa6ce655e9d94b8358ba39536cb7', commit_message='Upload tokenizer', commit_description='', oid='48cccbfd6059aa6ce655e9d94b8358ba39536cb7', pr_url=None, pr_revision=None, pr_num=None)"
            ]
          },
          "metadata": {},
          "execution_count": 23
        }
      ]
    },
    {
      "cell_type": "markdown",
      "metadata": {
        "id": "SwQM8lH_GGuP"
      },
      "source": [
        "Great, you can see the just created repository under `https://huggingface.co/<your-username>/wav2vec2-large-mms-1b-tr-colab`\n"
      ]
    },
    {
      "cell_type": "markdown",
      "metadata": {
        "id": "mYcIiR2FQ96i"
      },
      "source": [
        "### Create `Wav2Vec2FeatureExtractor`"
      ]
    },
    {
      "cell_type": "markdown",
      "metadata": {
        "id": "Y6mDEyW719rx"
      },
      "source": [
        "Speech is a continuous signal and to be treated by computers, it first has to be discretized, which is usually called **sampling**. The sampling rate hereby plays an important role in that it defines how many data points of the speech signal are measured per second. Therefore, sampling with a higher sampling rate results in a better approximation of the *real* speech signal but also necessitates more values per second.\n",
        "\n",
        "A pretrained checkpoint expects its input data to have been sampled more or less from the same distribution as the data it was trained on. The same speech signals sampled at two different rates have a very different distribution, *e.g.*, doubling the sampling rate results in data points being twice as long. Thus,\n",
        "before fine-tuning a pretrained checkpoint of an ASR model, it is crucial to verify that the sampling rate of the data that was used to pretrain the model matches the sampling rate of the dataset used to fine-tune the model.\n",
        "\n",
        "MMS was pre-trained at a sampling rate of 16kHz. Common Voice, in its original form, has a sampling rate of 48kHz, thus we will have to downsample the fine-tuning data to 16kHz in the following.\n",
        "\n"
      ]
    },
    {
      "cell_type": "markdown",
      "metadata": {
        "id": "KuUbPW7oV-B5"
      },
      "source": [
        "A `Wav2Vec2FeatureExtractor` object requires the following parameters to be instantiated:\n",
        "\n",
        "- `feature_size`: Speech models take a sequence of feature vectors as an input. While the length of this sequence obviously varies, the feature size should not. In the case of Wav2Vec2, the feature size is 1 because the model was trained on the raw speech signal ${}^2$.\n",
        "- `sampling_rate`: The sampling rate at which the model is trained on.\n",
        "- `padding_value`: For batched inference, shorter inputs need to be padded with a specific value\n",
        "- `do_normalize`: Whether the input should be *zero-mean-unit-variance* normalized or not. Usually, speech models perform better when normalizing the input\n",
        "- `return_attention_mask`: Whether the model should make use of an `attention_mask` for batched inference. In general, XLS-R models checkpoints should **always** use the `attention_mask`."
      ]
    },
    {
      "cell_type": "code",
      "metadata": {
        "id": "kAR0-2KLkopp"
      },
      "source": [
        "from transformers import Wav2Vec2FeatureExtractor\n",
        "\n",
        "feature_extractor = Wav2Vec2FeatureExtractor(feature_size=1, sampling_rate=16000, padding_value=0.0, do_normalize=True, return_attention_mask=True)"
      ],
      "execution_count": null,
      "outputs": []
    },
    {
      "cell_type": "markdown",
      "metadata": {
        "id": "qUETetgqYC3W"
      },
      "source": [
        "Great, MMS's feature extraction pipeline is thereby fully defined!\n",
        "\n",
        "For improved user-friendliness, the feature extractor and tokenizer are *wrapped* into a single `Wav2Vec2Processor` class so that one only needs a `model` and `processor` object."
      ]
    },
    {
      "cell_type": "code",
      "metadata": {
        "id": "KYZtoW-tlZgl"
      },
      "source": [
        "from transformers import Wav2Vec2Processor\n",
        "\n",
        "processor = Wav2Vec2Processor(feature_extractor=feature_extractor, tokenizer=tokenizer)"
      ],
      "execution_count": null,
      "outputs": []
    },
    {
      "cell_type": "markdown",
      "metadata": {
        "id": "DrKnYuvDIoOO"
      },
      "source": [
        "Next, we can prepare the dataset."
      ]
    },
    {
      "cell_type": "markdown",
      "metadata": {
        "id": "YFmShnl7RE35"
      },
      "source": [
        "### Preprocess Data\n",
        "\n",
        "So far, we have not looked at the actual values of the speech signal but just the transcription. In addition to `sentence`, our datasets include two more column names `path` and `audio`. `path` states the absolute path of the audio file. Let's take a look.\n"
      ]
    },
    {
      "cell_type": "code",
      "metadata": {
        "colab": {
          "base_uri": "https://localhost:8080/",
          "height": 53
        },
        "id": "TTCS7W6XJ9BG",
        "outputId": "c8bd0a44-8eec-4067-e71e-35b0b684cbb2"
      },
      "source": [
        "common_voice_train[0][\"path\"]"
      ],
      "execution_count": null,
      "outputs": [
        {
          "output_type": "execute_result",
          "data": {
            "text/plain": [
              "'/root/.cache/huggingface/datasets/downloads/extracted/71ba9bd154da9d8c769b736301417178729d2b87b9e00cda59f6450f742ed778/cv-corpus-6.1-2020-12-11/tr/clips/common_voice_tr_17346025.mp3'"
            ],
            "application/vnd.google.colaboratory.intrinsic+json": {
              "type": "string"
            }
          },
          "metadata": {},
          "execution_count": 26
        }
      ]
    },
    {
      "cell_type": "markdown",
      "metadata": {
        "id": "T6ndIjHGFp0W"
      },
      "source": [
        "MMS expects the input in the format of a 1-dimensional array of 16 kHz. This means that the audio file has to be loaded and resampled.\n",
        "\n",
        " Thankfully, `datasets` does this automatically by calling the other column `audio`. Let try it out."
      ]
    },
    {
      "cell_type": "code",
      "metadata": {
        "colab": {
          "base_uri": "https://localhost:8080/"
        },
        "id": "qj_z5Zc3GAs9",
        "outputId": "8cd3fcd0-fc0d-4594-ee23-eff03c81f981"
      },
      "source": [
        "common_voice_train[0][\"audio\"]"
      ],
      "execution_count": null,
      "outputs": [
        {
          "output_type": "execute_result",
          "data": {
            "text/plain": [
              "{'path': '/root/.cache/huggingface/datasets/downloads/extracted/71ba9bd154da9d8c769b736301417178729d2b87b9e00cda59f6450f742ed778/cv-corpus-6.1-2020-12-11/tr/clips/common_voice_tr_17346025.mp3',\n",
              " 'array': array([ 0.00000000e+00, -2.98378618e-13, -1.59835903e-13, ...,\n",
              "        -2.01663317e-12, -1.87991593e-12, -1.17969588e-12]),\n",
              " 'sampling_rate': 48000}"
            ]
          },
          "metadata": {},
          "execution_count": 27
        }
      ]
    },
    {
      "cell_type": "markdown",
      "metadata": {
        "id": "WUUTgI1bGHW-"
      },
      "source": [
        "Great, we can see that the audio file has automatically been loaded. This is thanks to the new [`\"Audio\"` feature](https://huggingface.co/docs/datasets/package_reference/main_classes.html?highlight=audio#datasets.Audio) introduced in `datasets == 4.13.3`, which loads and resamples audio files on-the-fly upon calling.\n",
        "\n",
        "In the example above we can see that the audio data is loaded with a sampling rate of 48kHz whereas 16kHz are expected by the model. We can set the audio feature to the correct sampling rate by making use of [`cast_column`](https://huggingface.co/docs/datasets/package_reference/main_classes.html?highlight=cast_column#datasets.DatasetDict.cast_column):"
      ]
    },
    {
      "cell_type": "code",
      "metadata": {
        "id": "rrv65aj7G95i"
      },
      "source": [
        "common_voice_train = common_voice_train.cast_column(\"audio\", Audio(sampling_rate=16_000))\n",
        "common_voice_test = common_voice_test.cast_column(\"audio\", Audio(sampling_rate=16_000))"
      ],
      "execution_count": null,
      "outputs": []
    },
    {
      "cell_type": "markdown",
      "metadata": {
        "id": "PcnO4x-NGBEi"
      },
      "source": [
        "Let's take a look at `\"audio\"` again."
      ]
    },
    {
      "cell_type": "code",
      "metadata": {
        "colab": {
          "base_uri": "https://localhost:8080/"
        },
        "id": "aKtkc1o_HWHC",
        "outputId": "01f18d5a-e370-435a-8340-1c334f8912bd"
      },
      "source": [
        "common_voice_train[0][\"audio\"]"
      ],
      "execution_count": null,
      "outputs": [
        {
          "output_type": "execute_result",
          "data": {
            "text/plain": [
              "{'path': '/root/.cache/huggingface/datasets/downloads/extracted/71ba9bd154da9d8c769b736301417178729d2b87b9e00cda59f6450f742ed778/cv-corpus-6.1-2020-12-11/tr/clips/common_voice_tr_17346025.mp3',\n",
              " 'array': array([ 9.09494702e-13, -6.13908924e-12, -1.09139364e-11, ...,\n",
              "         1.81898940e-12,  4.54747351e-13,  3.63797881e-12]),\n",
              " 'sampling_rate': 16000}"
            ]
          },
          "metadata": {},
          "execution_count": 29
        }
      ]
    },
    {
      "cell_type": "markdown",
      "metadata": {
        "id": "SOckzFd4Mbzq"
      },
      "source": [
        "This seemed to have worked! Let's listen to a couple of audio files to better understand the dataset and verify that the audio was correctly loaded.\n",
        "\n",
        "**Note**: *You can click the following cell a couple of times to listen to different speech samples.*"
      ]
    },
    {
      "cell_type": "code",
      "metadata": {
        "colab": {
          "base_uri": "https://localhost:8080/",
          "height": 93
        },
        "id": "dueM6U7Ev0OA",
        "outputId": "a0a7c979-14f8-46b9-aa43-2e6cbeeb5006"
      },
      "source": [
        "import IPython.display as ipd\n",
        "import numpy as np\n",
        "import random\n",
        "\n",
        "rand_int = random.randint(0, len(common_voice_train)-1)\n",
        "\n",
        "print(common_voice_train[rand_int][\"sentence\"])\n",
        "ipd.Audio(data=common_voice_train[rand_int][\"audio\"][\"array\"], autoplay=True, rate=16000)"
      ],
      "execution_count": null,
      "outputs": [
        {
          "output_type": "stream",
          "name": "stdout",
          "text": [
            "tüyler ürpertici bir andı\n"
          ]
        },
        {
          "output_type": "execute_result",
          "data": {
            "text/plain": [
              "<IPython.lib.display.Audio object>"
            ],
            "text/html": [
              "\n",
              "                <audio  controls=\"controls\" autoplay=\"autoplay\">\n",
              "                    <source src=\"data:audio/wav;base64,UklGRiTyAQBXQVZFZm10IBAAAAABAAEAgD4AAAB9AAACABAAZGF0YQDyAQAAAAAAAAAAAAAAAAAAAAAAAAAAAAAAAAAAAAAAAAAAAAAAAAAAAAAAAAAAAAAAAAAAAAAAAAAAAAAAAAAAAAAAAAAAAAAAAAAAAAAAAAAAAAAAAAAAAAAAAAAAAAAAAAAAAAAAAAAAAAAAAAAAAAAAAAAAAAAAAAAAAAAAAAAAAAAAAAAAAAAAAAAAAAAAAAAAAAAAAAAAAAAAAAAAAAAAAAAAAAAAAAAAAAAAAAAAAAAAAAAAAAAAAAAAAAAAAAAAAAAAAAAAAAAAAAAAAAAAAAAAAAAAAAAAAAAAAAAAAAAAAAAAAAAAAAAAAAAAAAAAAAAAAAAAAAAAAAAAAAAAAAAAAAAAAAAAAAAAAAAAAAAAAAAAAAAAAAAAAAAAAAAAAAAAAAAAAAAAAAAAAAAAAAAAAAAAAAAAAAAAAAAAAAAAAAAAAAAAAAAAAAAAAAAAAAAAAAAAAAAAAAAAAAAAAAAAAAAAAAAAAAAAAAAAAAAAAAAAAAAAAAAAAAAAAAAAAAAAAAAAAAAAAAAAAAAAAAAAAAAAAAAAAAAAAAAAAAAAAAAAAAAAAAAAAAAAAAAAAAAAAAAAAAAAAAAAAAAAAAAAAAAAAAAAAAAAAAAAAAAAAAAAAAAAAAAAAAAAAAAAAAAAAAAAAAAAAAAAAAAAAAAAAAAAAAAAAAAAAAAAAAAAAAAAAAAAAAAAAAAAAAAAAAAAAAAAAAAAAAAAAAAAAAAAAAAAAAAAAAAAAAAAAAAAAAAAAAAAAAAAAAAAAAAAAAAAAAAAAAAAAAAAAAAAAAAAAAAAAAAAAAAAAAAAAAAAAAAAAAAAAAAAAAAAAAAAAAAAAAAAAAAAAAAAAAAAAAAAAAAAAAAAAAAAAAAAAAAAAAAAAAAAAAAAAAAAAAAAAAAAAAAAAAAAAAAAAAAAAAAAAAAAAAAAAAAAAAAAAAAAAAAAAAAAAAAAAAAAAAAAAAAAAAAAAAAAAAAAAAAAAAAAAAAAAAAAAAAAAAAAAAAAAAAAAAAAAAAAAAAAAAAAAAAAAAAAAAAAAAAAAAAAAAAAAAAAAAAAAAAAAAAAAAAAAAAAAAAAAAAAAAAAAAAAAAAAAAAAAAAAAAAAAAAAAAAAAAAAAAAAAAAAAAAAAAAAAAAAAAAAAAAAAAAAAAAAAAAAAAAAAAAAAAAAAAAAAAAAAAAAAAAAAAAAAAAAAAAAAAAAAAAAAAAAAAAAAAAAAAAAAAAAAAAAAAAAAAAAAAAAAAAAAAAAAAAAAAAAAAAAAAAAAAAAAAAAAAAAAAAAAAAAAAAAAAAAAAAAAAAAAAAAAAAAAAAAAAAAAAAAAAAAAAAAAAAAAAAAAAAAAAAAAAAAAAAAAAAAAAAAAAAAAAAAAAAAAAAAAAAAAAAAAAAAAAAAAAAAAAAAAAAAAAAAAAAAAAAAAAAAAAAAAAAAAAAAAAAAAAAAAAAAAAAAAAAAAAAAAAAAAAAAAAAAAAAAAAAAAAAAAAAAAAAAAAAAAAAAAAAAAAAAAAAAAAAAAAAAAAAAAAAAAAAAAAAAAAAAAAAAAAAAAAAAAAAAAAAAAAAAAAAAAAAAAAAAAAAAAAAAAAAAAAAAAAAAAAAAAAAAAAAAAAAAAAAAAAAAAAAAAAAAAAAAAAAAAAAAAAAAAAAAAAAAAAAAAAAAAAAAAAAAAAAAAAAAAAAAAAAAAAAAAAAAAAAAAAAAAAAAAAAAAAAAAAAAAAAAAAAAAAAAAAAAAAAAAAAAAAAAAAAAAAAAAAAAAAAAAAAAAAAAAAAAAAAAAAAAAAAAAAAAAAAAAAAAAAAAAAAAAAAAAAAAAAAAAAAAAAAAAAAAAAAAAAAAAAAAAAAAAAAAAAAAAAAAAAAAAAAAAAAAAAAAAAAAAAAAAAAAAAAAAAAAAAAAAAAAAAAAAAAAAAAAAAAAAAAAAAAAAAAAAAAAAAAAAAAAAAAAAAAAAAAAAAAAAAAAAAAAAAAAAAAAAAAAAAAAAAAAAAAAAAAAAAAAAAAAAAAAAAAAAAAAAAAAAAAAAAAAAAAAAAAAAAAAAAAAAAAAAAAAAAAAAAAAAAAAAAAAAAAAAAAAAAAAAAAAAAAAAAAAAAAAAAAAAAAAAAAAAAAAAAAAAAAAAAAAAAAAAAAAAAAAAAAAAAAAAAAAAAAAAAAAAAAAAAAAAAAAAAAAAAAAAAAAAAAAAAAAAAAAAAAAAAAAAAAAAAAAAAAAAAAAAAAAAAAAAAAAAAAAAAAAAAAAAAAAAAAAAAAAAAAAAAAAAAAAAAAAAAAAAAAAAAAAAAAAAAAAAAAAAAAAAAAAAAAAAAAAAAAAAAAAAAAAAAAAAAAAAAAAAAAAAAAAAAAAAAAAAAAAAAAAAAAAAAAAAAAAAAAAAAAAAAAAAAAAAAAAAAAAAAAAAAAAAAAAAAAAAAAAAAAAAAAAAAAAAAAAAAAAAAAAAAAAAAAAAAAAAAAAAAAAAAAAAAAAAAAAAAAAAAAAAAAAAAAAAAAAAAAAAAAAAAAAAAAAAAAAAAAAAAAAAAAAAAAAAAAAAAAAAAAAAAAAAAAAAAAAAAAAAAAAAAAAAAAAAAAAAAAAAAAAAAAAAAAAAAAAAAAAAAAAAAAAAAAAAAAAAAAAAAAAAAAAAAAAAAAAAAAAAAAAAAAAAAAAAAAAAAAAAAAAAAAAAAAAAAAAAAAAAAAAAAAAAAAAAAAAAAAAAAAAAAAAAAAAAAAAAAAAAAAAAAAAAAAAAAAAAAAAAAAAAAAAAAAAAAAAAAAAAAAAAAAAAAAAAAAAAAAAAAAAAAAAAAAAAAAAAAAAAAAAAAAAAAAAAAAAAAAAAAAAAAAAAAAAAAAAAAAAAAAAAAAAAAAAAAAAAAAAAAAAAAAAAAAAAAAAAAAAAAAAAAAAAAAAAAAAAAAAAAAAAAAAAAAAAAAAAAAAAAAAAAAAAAAAAAAAAAAAAAAAAAAAAAAAAAAAAAAAAAAAAAAAAAAAAAAAAAAAAAAAAAAAAAAAAAAAAAAAAAAAAAAAAAAAAAAAAAAAAAAAAAAAAAAAAAAAAAAAAAAAAAAAAAAAAAAAAAAAAAAAAAAAAAAAAAAAAAAAAAAAAAAAAAAAAAAAAAAAAAAAAAAAAAAAAAAAAAAAAAAAAAAAAAAAAAAAAAAAAAAAAAAAAAAAAAAAAAAAAAAAAAAAAAAAAAAAAAAAAAAAAAAAAAAAAAAAAAAAAAAAAAAAAAAAAAAAAAAAAAAAAAAAAAAAAAAAAAAAAAAAAAAAAAAAAAAAAAAAAAAAAAAAAAAAAAAAAAAAAAAAAAAAAAAAAAAAAAAAAAAAAAAAAAAAAAAAAAAAAAAAAAAAAAAAAAAAAAAAAAAAAAAAAAAAAAAAAAAAAAAAAAAAAAAAAAAAAAAAAAAAAAAAAAAAAAAAAAAAAAAAAAAAAAAAAAAAAAAAAAAAAAAAAAAAAAAAAAAAAAAAAAAAAAAAAAAAAAAAAAAAAAAAAAAAAAAAAAAAAAAAAAAAAAAAAAAAAAAAAAAAAAAAAAAAAAAAAAAAAAAAAAAAAAAAAAAAAAAAAAAAAAAAAAAAAAAAAAAAAAAAAAAAAAAAAAAAAAAAAAAAAAAAAAAAAAAAAAAAAAAAAAAAAAAAAAAAAAAAAAAAAAAAAAAAAAAAAAAAAAAAAAAAAAAAAAAAAAAAAAAAAAAAAAAAAAAAAAAAAAAAAAAAAAAAAAAAAAAAAAAAAAAAAAAAAAAAAAAAAAAAAAAAAAAAAAAAAAAAAAAAAAAAAAAAAAAAAAAAAAAAAAAAAAAAAAAAAAAAAAAAAAAAAAAAAAAAAAAAAAAAAAAAAAAAAAAAAAAAAAAAAAAAAAAAAAAAAAAAAAAAAAAAAAAAAAAAAAAAAAAAAAAAAAAAAAAAAAAAAAAAAAAAAAAAAAAAAAAAAAAAAAAAAAAAAAAAAAAAAAAAAAAAAAAAAAAAAAAAAAAAAAAAAAAAAAAAAAAAAAAAAAAAAAAAAAAAAAAAAAAAAAAAAAAAAAAAAAAAAAAAAAAAAAAAAAAAAAAAAAAAAAAAAAAAAAAAAAAAAAAAAAAAAAAAAAAAAAAAAAAAAAAAAAAAAAAAAAAAAAAAAAAAAAAAAAAAAAAAAAAAAAAAAAAAAAAAAAAAAAAAAAAAAAAAAAAAAAAAAAAAAAAAAAAAAAAAAAAAAAAAAAAAAAAAAAAAAAAAAAAAAAAAAAAAAAAAAAAAAAAAAAAAAAAAAAAAAAAAAAAAAAAAAAAAAAAAAAAAAAAAAAAAAAAAAAAAAAAAAAAAAAAAAAAAAAAAAAAAAAAAAAAAAAAAAAAAAAAAAAAAAAAAAAAAAAAAAAAAAAAAAAAAAAAAAAAAAAAAAAAAAAAAAAAAAAAAAAAAAAAAAAAAAAAAAAAAAAAAAAAAAAAAAAAAAAAAAAAAAAAAAAAAAAAAAAAAAAAAAAAAAAAAAAAAAAAAAAAAAAAAAAAAAAAAAAAAAAAAAAAAAAAAAAAAAAAAAAAAAAAAAAAAAAAAAAAAAAAAAAAAAAAAAAAAAAAAAAAAAAAAAAAAAAAAAAAAAAAAAAAAAAAAAAAAAAAAAAAAAAAAAAAAAAAAAAAAAAAAAAAAAAAAAAAAAAAAAAAAAAAAAAAAAAAAAAAAAAAAAAAAAAAAAAAAAAAAAAAAAAAAAAAAAAAAAAAAAAAAAAAAAAAAAAAAAAAAAAAAAAAAAAAAAAAAAAAAAAAAAAAAAAAAAAAAAAAAAAAAAAAAAAAAAAAAAAAAAAAAAAAAAAAAAAAAAAAAAAAAAAAAAAAAAAAAAAAAAAAAAAAAAAAAAAAAAAAAAAAAAAAAAAAAAAAAAAAAAAAAAAAAAAAAAAAAAAAAAAAAAAAAAAAAAAAAAAAAAAAAAAAAAAAAAAAAAAAAAAAAAAAAAAAAAAAAAAAAAAAAAAAAAAAAAAAAAAAAAAAAAAAAAAAAAAAAAAAAAAAAAAAAAAAAAAAAAAAAAAAAAAAAAAAAAAAAAAAAAAAAAAAAAAAAAAAAAAAAAAAAAAAAAAAAAAAAAAAAAAAAAAAAAAAAAAAAAAAAAAAAAAAAAAAAAAAAAAAAAAAAAAAAAAAAAAAAAAAAAAAAAAAAAAAAAAAAAAAAAAAAAAAAAAAAAAAAAAAAAAAAAAAAAAAAAAAAAAAAAAAAAAAAAAAAAAAAAAAAAAAAAAAAAAAAAAAAAAAAAAAAAAAAAAAAAAAAAAAAAAAAAAAAAAAAAAAAAAAAAAAAAAAAAAAAAAAAAAAAAAAAAAAAAAAAAAAAAAAAAAAAAAAAAAAAAAAAAAAAAAAAAAAAAAAAAAAAAAAAAAAAAAAAAAAAAAAAAAAAAAAAAAAAAAAAAAAAAAAAAAAAAAAAAAAAAAAAAAAAAAAAAAAAAAAAAAAAAAAAAAAAAAAAAAAAAAAAAAAAAAAAAAAAAAAAAAAAAAAAAAAAAAAAAAAAAAAAAAAAAAAAAAAAAAAAAAAAAAAAAAAAAAAAAAAAAAAAAAAAAAAAAAAAAAAAAAAAAAAAAAAAAAAAAAAAAAAAAAAAAAAAAAAAAAAAAAAAAAAAAAAAAAAAAAAAAAAAAAAAAAAAAAAAAAAAAAAAAAAAAAAAAAAAAAAAAAAAAAAAAAAAAAAAAAAAAAAAAAAAAAAAAAAAAAAAAAAAAAAAAAAAAAAAAAAAAAAAAAAAAAAAAAAAAAAAAAAAAAAAAAAAAAAAAAAAAAAAAAAAAAAAAAAAAAAAAAAAAAAAAAAAAAAAAAAAAAAAAAAAAAAAAAAAAAAAAAAAAAAAAAAAAAAAAAAAAAAAAAAAAAAAAAAAAAAAAAAAAAAAAAAAAAAAAAAAAAAAAAAAAAAAAAAAAAAAAAAAAAAAAAAAAAAAAAAAAAAAAAAAAAAAAAAAAAAAAAAAAAAAAAAAAAAAAAAAAAAAAAAAAAAAAAAAAAAAAAAAAAAAAAAAAAAAAAAAAAAAAAAAAAAAAAAAAAAAAAAAAAAAAAAAAAAAAAAAAAAAAAAAAAAAAAAAAAAAAAAAAAAAAAAAAAAAAAAAAAAAAAAAAAAAAAAAAAAAAAAAAAAAAAAAAAAAAAAAAAAAAAAAAAAAAAAAAAAAAAAAAAAAAAAAAAAAAAAAAAAAAAAAAAAAAAAAAAAAAAAAAAAAAAAAAAAAAAAAAAAAAAAAAAAAAAAAAAAAAAAAAAAAAAAAAAAAAAAAAAAAAAAAAAAAAAAAAAAAAAAAAAAAAAAAAAAAAAAAAAAAAAAAAAAAAAAAAAAAAAAAAAAAAAAAAAAAAAAAAAAAAAAAAAAAAAAAAAAAAAAAAAAAAAAAAAAAAAAAAAAAAAAAAAAAAAAAAAAAAAAAAAAAAAAAAAAAAAAAAAAAAAAAAAAAAAAAAAAAAAAAAAAAAAAAAAAAAAAAAAAAAAAAAAAAAAAAAAAAAAAAAAAAAAAAAAAAAAAAAAAAAAAAAAAAAAAAAAAAAAAAAAAAAAAAAAAAAAAAAAAAAAAAAAAAAAAAAAAAAAAAAAAAAAAAAAAAAAAAAAAAAAAAAAAAAAAAAAAAAAAAAAAAAAAAAAAAAAAAAAAAAAAAAAAAAAAAAAAAAAAAAAAAAAAAAAAAAAAAAAAAAAAAAAAAAAAAAAAAAAAAAAAAAAAAAAAAAAAAAAAAAAAAAAAAAAAAAAAAAAAAAAAAAAAAAAAAAAAAAAAAAAAAAAAAAAAAAAAAAAAAAAAAAAAAAAAAAAAAAAAAAAAAAAAAAAAAAAAAAAAAAAAAAAAAAAAAAAAAAAAAAAAAAAAAAAAAAAAAAAAAAAAAAAAAAAAAAAAAAAAAAAAAAAAAAAAAAAAAAAAAAAAAAAAAAAAAAAAAAAAAAAAAAAAAAAAAAAAAAAAAAAAAAAAAAAAAAAAAAAAAAAAAAAAAAAAAAAAAAAAAAAAAAAAAAAAAAAAAAAAAAAAAAAAAAAAAAAAAAAAAAAAAAAAAAAAAAAAAAAAAAAAAAAAAAAAAAAAAAAAAAAAAAAAAAAAAAAAAAAAAAAAAAAAAAAAAAAAAAAAAAAAAAAAAAAAAAAAAAAAAAAAAAAAAAAAAAAAAAAAAAAAAAAAAAAAAAAAAAAAAAAAAAAAAAAAAAAAAAAAAAAAAAAAAAAAAAAAAAAAAAAAAAAAAAAAAAAAAAAAAAAAAAAAAAAAAAAAAAAAAAAAAAAAAAAAAAAAAAAAAAAAAAAAAAAAAAAAAAAAAAAAAAAAAAAAAAAAAAAAAAAAAAAAAAAAAAAAAAAAAAAAAAAAAAAAAAAAAAAAAAAAAAAAAAAAAAAAAAAAAAAAAAAAAAAAAAAAAAAAAAAAAAAAAAAAAAAAAAAAAAAAAAAAAAAAAAAAAAAAAAAAAAAAAAAAAAAAAAAAAAAAAAAAAAAAAAAAAAAAAAAAAAAAAAAAAAAAAAAAAAAAAAAAAAAAAAAAAAAAAAAAAAAAAAAAAAAAAAAAAAAAAAAAAAAAAAAAAAAAAAAAAAAAAAAAAAAAAAAAAAAAAAAAAAAAAAAAAAAAAAAAAAAAAAAAAAAAAAAAAAAAAAAAAAAAAAAAAAAAAAAAAAAAAAAAAAAAAAAAAAAAAAAAAAAAAAAAAAAAAAAAAAAAAAAAAAAAAAAAAAAAAAAAAAAAAAAAAAAAAAAAAAAAAAAAAAAAAAAAAAAAAAAAAAAAAAAAAAAAAAAAAAAAAAAAAAAAAAAAAAAAAAAAAAAAAAAAAAAAAAAAAAAAAAAAAAAAAAAAAAAAAAAAAAAAAAAAAAAAAAAAAAAAAAAAAAAAAAAAAAAAAAAAAAAAAAAAAAAAAAAAAAAAAAAAAAAAAAAAAAAAAAAAAAAAAAAAAAAAAAAAAAAAAAAAAAAAAAAAAAAAAAAAAAAAAAAAAAAAAAAAAAAAAAAAAAAAAAAAAAAAAAAAAAAAAAAAAAAAAAAAAAAAAAAAAAAAAAAAAAAAAAAAAAAAAAAAAAAAAAAAAAAAAAAAAAAAAAAAAAAAAAAAAAAAAAAAAAAAAAAAAAAAAAAAAAAAAAAAAAAAAAAAAAAAAAAAAAAAAAAAAAAAAAAAAAAAAAAAAAAAAAAAAAAAAAAAAAAAAAAAAAAAAAAAAAAAAAAAAAAAAAAAAAAAAAAAAAAAAAAAAAAAAAAAAAAAAAAAAAAAAAAAAAAAAAAAAAAAAAAAAAAAAAAAAAAAAAAAAAAAAAAAAAAAAAAAAAAAAAAAAAAAAAAAAAAAAAAAAAAAAAAAAAAAAAAAAAAAAAAAAAAAAAAAAAAAAAAAAAAAAAAAAAAAAAAAAAAAAAAAAAAAAAAAAAAAAAAAAAAAAAAAAAAAAAAAAAAAAAAAAAAAAAAAAAAAAAAAAAAAAAAAAAAAAAAAAAAAAAAAAAAAAAAAAAAAAAAAAAAAAAAAAAAAAAAAAAAAAAAAAAAAAAAAAAAAAAAAAAAAAAAAAAAAAAAAAAAAAAAAAAAAAAAAAAAAAAAAAAAAAAAAAAAAAAAAAAAAAAAAAAAAAAAAAAAAAAAAAAAAAAAAAAAAAAAAAAAAAAAAAAAAAAAAAAAAAAAAAAAAAAAAAAAAAAAAAAAAAAAAAAAAAAAAAAAAAAAAAAAAAAAAAAAAAAAAAAAAAAAAAAAAAAAAAAAAAAAAAAAAAAAAAAAAAAAAAAAAAAAAAAAAAAAAAAAAAAAAAAAAAAAAAAAAAAAAAAAAAAAAAAAAAAAAAAAAAAAAAAAAAAAAAAAAAAAAAAAAAAAAAAAAAAAAAAAAAAAAAAAAAAAAAAAAAAAAAAAAAAAAAAAAAAAAAAAAAAAAAAAAAAAAAAAAAAAAAAAAAAAAAAAAAAAAAAAAAAAAAAAAAAAAAAAAAAAAAAAAAAAAAAAAAAAAAAAAAAAAAAAAAAAAAAAAAAAAAAAAAAAAAAAAAAAAAAAAAAAAAAAAAAAAAAAAAAAAAAAAAAAAAAAAAAAAAAAAAAAAAAAAAAAAAAAAAAAAAAAAAAAAAAAAAAAAAAAAAAAAAAAAAAAAAAAAAAAAAAAAAAAAAAAAAAAAAAAAAAAAAAAAAAAAAAAAAAAAAAAAAAAAAAAAAAAAAAAAAAAAAAAAAAAAAAAAAAAAAAAAAAAAAAAAAAAAAAAAAAAAAAAAAAAAAAAAAAAAAAAAAAAAAAAAAAAAAAAAAAAAAAAAAAAAAAAAAAAAAAAAAAAAAAAAAAAAAAAAAAAAAAAAAAAAAAAAAAAAAAAAAAAAAAAAAAAAAAAAAAAAAAAAAAAAAAAAAAAAAAAAAAAAAAAAAAAAAAAAAAAAAAAAAAAAAAAAAAAAAAAAAAAAAAAAAAAAAAAAAAAAAAAAAAAAAAAAAAAAAAAAAAAAAAAAAAAAAAAAAAAAAAAAAAAAAAAAAAAAAAAAAAAAAAAAAAAAAAAAAAAAAAAAAAAAAAAAAAAAAAAAAAAAAAAAAAAAAAAAAAAAAAAAAAAAAAAAAAAAAAAAAAAAAAAAAAAAAAAAAAAAAAAAAAAAAAAAAAAAAAAAAAAAAAAAAAAAAAAAAAAAAAAAAAAAAAAAAAAAAAAAAAAAAAAAAAAAAAAAAAAAAAAAAAAAAAAAAAAAAAAAAAAAAAAAAAAAAAAAAAAAAAAAAAAAAAAAAAAAAAAAAAAAAAAAAAAAAAAAAAAAAAAAAAAAAAAAAAAAAAAAAAAAAAAAAAAAAAAAAAAAAAAAAAAAAAAAAAAAAAAAAAAAAAAAAAAAAAAAAAAAAAAAAAAAAAAAAAAAAAAAAAAAAAAAAAAAAAAAAAAAAAAAAAAAAAAAAAAAAAAAAAAAAAAAAAAAAAAAAAAAAAAAAAAAAAAAAAAAAAAAAAAAAAAAAAAAAAAAAAAAAAAAAAAAAAAAAAAAAAAAAAAAAAAAAAAAAAAAAAAAAAAAAAAAAAAAAAAAAAAAAAAAAAAAAAAAAAAAAAAAAAAAAAAAAAAAAAAAAAAAAAAAAAAAAAAAAAAAAAAAAAAAAAAAAAAAAAAAAAAAAAAAAAAAAAAAAAAAAAAAAAAAAAAAAAAAAAAAAAAAAAAAAAAAAAAAAAAAAAAAAAAAAAAAAAAAAAAAAAAAAAAAAAAAAAAAAAAAAAAAAAAAAAAAAAAAAAAAAAAAAAAAAAAAAAAAAAAAAAAAAAAAAAAAAAAAAAAAAAAAAAAAAAAAAAAAAAAAAAAAAAAAAAAAAAAAAAAAAAAAAAAAAAAAAAAAAAAAAAAAAAAAAAAAAAAAAAAAAAAAAAAAAAAAAAAAAAAAAAAAAAAAAAAAAAAAAAAAAAAAAAAAAAAAAAAAAAAAAAAAAAAAAAAAAAAAAAAAAAAAAAAAAAAAAAAAAAAAAAAAAAAAAAAAAAAAAAAAAAAAAAAAAAAAAAAAAAAAAAAAAAAAAAAAAAAAAAAAAAAAAAAAAAAAAAAAAAAAAAAAAAAAAAAAAAAAAAAAAAAAAAAAAAAAAAAAAAAAAAAAAAAAAAAAAAAAAAAAAAAAAAAAAAAAAAAAAAAAAAAAAAAAAAAAAAAAAAAAAAAAAAAAAAAAAAAAAAAAAAAAAAAAAAAAAAAAAAAAAAAAAAAAAAAAAAAAAAAAAAAAAAAAAAAAAAAAAAAAAAAAAAAAAAAAAAAAAAAAAAAAAAAAAAAAAAAAAAAAAAAAAAAAAAAAAAAAAAAAAAAAAAAAAAAAAAAAAAAAAAAAAAAAAAAAAAAAAAAAAAAAAAAAAAAAAAAAAAAAAAAAAAAAAAAAAAAAAAAAAAAAAAAAAAAAAAAAAAAAAAAAAAAAAAAAAAAAAAAAAAAAAAAAAAAAAAAAAAAAAAAAAAAAAAAAAAAAAAAAAAAAAAAAAAAAAAAAAAAAAAAAAAAAAAAAAAAAAAAAAAAAAAAAAAAAAAAAAAAAAAAAAAAAAAAAAAAAAAAAAAAAAAAAAAAAAAAAAAAAAAAAAAAAAAAAAAAAAAAAAAAAAAAAAAAAAAAAAAAAAAAAAAAAAAAAAAAAAAAAAAAAAAAAAAAAAAAAAAAAAAAAAAAAAAAAAAAAAAAAAAAAAAAAAAAAAAAAAAAAAAAAAAAAAAAAAAAAAAAAAAAAAAAAAAAAAAAAAAAAAAAAAAAAAAAAAAAAAAAAAAAAAAAAAAAAAAAAAAAAAAAAAAAAAAAAAAAAAAAAAAAAAAAAAAAAAAAAAAAAAAAAAAAAAAAAAAAAAAAAAAAAAAAAAAAAAAAAAAAAAAAAAAAAAAAAAAAAAAAAAAAAAAAAAAAAAAAAAAAAAAAAAAAAAAAAAAAAAAAAAAAAAAAAAAAAAAAAAAAAAAAAAAAAAAAAAAAAAAAAAAAAAAAAAAAAAAAAAAAAAAAAAAAAAAAAAAAAAAAAAAAAAAAAAAAAAAAAAAAAAAAAAAAAAAAAAAAAAAAAAAAAAAAAAAAAAAAAAAAAAAAAAAAAAAAAAAAAAAAAAAAAAAAAAAAAAAAAAAAAAAAAAAAAAAAAAAAAAAAAAAAAAAAAAAAAAAAAAAAAAAAAAAAAAAAAAAAAAAAAAAAAAAAAAAAAAAAAAAAAAAAAAAAAAAAAAAAAAAAAAAAAAAAAAAAAAAAAAAAAAAAAAAAAAAAAAAAAAAAAAAAAAAAAAAAAAAAAAAAAAAAAAAAAAAAAAAAAAAAAAAAAAAAAAAAAAAAAAAAAAAAAAAAAAAAAAAAAAAAAAAAAAAAAAAAAAAAAAAAAAAAAAAAAAAAAAAAAAAAAAAAAAAAAAAAAAAAAAAAAAAAAAAAAAAAAAAAAAAAAAAAAAAAAAAAAAAAAAAAAAAAAAAAAAAAAAAAAAAAAAAAAAAAAAAAAAAAAAAAAAAAAAAAAAAAAAAAAAAAAAAAAAAAAAAAAAAAAAAAAAAAAAAAAAAAAAAAAAAAAAAAAAAAAAAAAAAAAAAAAAAAAAAAAAAAAAAAAAAAAAAAAAAAAAAAAAAAAAAAAAAAAAAAAAAAAAAAAAAAAAAAAAAAAAAAAAAAAAAAAAAAAAAAAAAAAAAAAAAAAAAAAAAAAAAAAAAAAAAAAAAAAAAAAAAAAAAAAAAAAAAAAAAAAAAAAAAAAAAAAAAAAAAAAAAAAAAAAAAAAAAAAAAAAAAAAAAAAAAAAAAAAAAAAAAAAAAAAAAAAAAAAAAAAAAAAAAAAAAAAAAAAAAAAAAAAAAAAAAAAAAAAAAAAAAAAAAAAAAAAAAAAAAAAAAAAAAAAAAAAAAAAAAAAAAAAAAAAAAAAAAAAAAAAAAAAAAAAAAAAAAAAAAAAAAAAAAAAAAAAAAAAAAAAAAAAAAAAAAAAAAAAAAAAAAAAAAAAAAAAAAAAAAAAAAAAAAAAAAAAAAAAAAAAAAAAAAAAAAAAAAAAAAAAAAAAAAAAAAAAAAAAAAAAAAAAAAAAAAAAAAAAAAAAAAAAAAAAAAAAAAAAAAAAAAAAAAAAAAAAAAAAAAAAAAAAAAAAAAAAAAAAAAAAAAAAAAAAAAAAAAAAAAAAAAAAAAAAAAAAAAAAAAAAAAAAAAAAAAAAAAAAAAAAAAAAAAAAAAAAAAAAAAAAAAAAAAAAAAAAAAAAAAAAAAAAAAAAAAAAAAAAAAAAAAAAAAAAAAAAAAAAAAAAAAAAAAAAAAAAAAAAAAAAAAAAAAAAAAAAAAAAAAAAAAAAAAAAAAAAAAAAAAAAAAAAAAAAAAAAAAAAAAAAAAAAAAAAAAAAAAAAAAAAAAAAAAAAAAAAAAAAAAAAAAAAAAAAAAAAAAAAAAAAAAAAAAAAAAAAAAAAAAAAAAAAAAAAAAAAAAAAAAAAAAAAAAAAAAAAAAAAAAAAAAAAAAAAAAAAAAAAAAAAAAAAAAAAAAAAAAAAAAAAAAAAAAAAAAAAAAAAAAAAAAAAAAAAAAAAAAAAAAAAAAAAAAAAAAAAAAAAAAAAAAAAAAAAAAAAAAAAAAAAAAAAAAAAAAAAAAAAAAAAAAAAAAAAAAAAAAAAAAAAAAAAAAAAAAAAAAAAAAAAAAAAAAAAAAAAAAAAAAAAAAAAAAAAAAAAAAAAAAAAAAAAAAAAAAAAAAAAAAAAAAAAAAAAAAAAAAAAAAAAAAAAAAAAAAAAAAAAAAAAAAAAAAAAAAAAAAAAAAAAAAAAAAAAAAAAAAAAAAAAAAAAAAAAAAAAAAAAAAAAAAAAAAAAAAAAAAAAAAAAAAAAAAAAAAAAAAAAAAAAAAAAAAAAAAAAAAAAAAAAAAAAAAAAAAAAAAAAAAAAAAAAAAAAAAAAAAAAAAAAAAAAAAAAAAAAAAAAAAAAAAAAAAAAAAAAAAAAAAAAAAAAAAAAAAAAAAAAAAAAAAAAAAAAAAAAAAAAAAAAAAAAAAAAAAAAAAAAAAAAAAAAAAAAAAAAAAAAAAAAAAAAAAAAAAAAAAAAAAAAAAAAAAAAAAAAAAAAAAAAAAAAAAAAAAAAAAAAAAAAAAAAAAAAAAAAAAAAAAAAAAAAAAAAAAAAAAAAAAAAAAAAAAAAAAAAAAAAAAAAAAAAAAAAAAAAAAAAAAAAAAAAAAAAAAAAAAAAAAAAAAAAAAAAAAAAAAAAAAAAAAAAAAAAAAAAAAAAAAAAAAAAAAAAAAAAAAAAAAAAAAAAAAAAAAAAAAAAAAAAAAAAAAAAAAAAAAAAAAAAAAAAAAAAAAAAAAAAAAAAAAAAAAAAAAAAAAAAAAAAAAAAAAAAAAAAAAAAAAAAAAAAAAAAAAAAAAAAAAAAAAAAAAAAAAAAAAAAAAAAAAAAAAAAAAAAAAAAAAAAAAAAAAAAAAAAAAAAAAAAAAAAAAAAAAAAAAAAAAAAAAAAAAAAAAAAAAAAAAAAAAAAAAAAAAAAAAAAAAAAAAAAAAAAAAAAAAAAAAAAAAAAAAAAAAAAAAAAAAAAAAAAAAAAAAAAAAAAAAAAAAAAAAAAAAAAAAAAAAAAAAAAAAAAAAAAAAAAAAAAAAAAAAAAAAAAAAAAAAAAAAAAAAAAAAAAAAAAAAAAAAAAAAAAAAAAAAAAAAAAAAAAAAAAAAAAAAAAAAAAAAAAAAAAAAAAAAAAAAAAAAAAAAAAAAAAAAAAAAAAAAAAAAAAAAAAAAAAAAAAAAAAAAAAAAAAAAAAAAAAAAAAAAAAAAAAAAAAAAAAAAAAAAAAAAAAAAAAAAAAAAAAAAAAAAAAAAAAAAAAAAAAAAAAAAAAAAAAAAAAAAAAAAAAAAAAAAAAAAAAAAAAAAAAAAAAAAAAAAAAAAAAAAAAAAAAAAAAAAAAAAAAAAAAAAAAAAAAAAAAAAAAAAAAAAAAAAAAAAAAAAAAAAAAAAAAAAAAAAAAAAAAAAAAAAAAAAAAAAAAAAAAAAAAAAAAAAAAAAAAAAAAAAAAAAAAAAAAAAAAAAAAAAAAAAAAAAAAAAAAAAAAAAAAAAAAAAAAAAAAAAAAAAAAAAAAAAAAAAAAAAAAAAAAAAAAAAAAAAAAAAAAAAAAAAAAAAAAAAAAAAAAAAAAAAAAAAAAAAAAAAAAAAAAAAAAAAAAAAAAAAAAAAAAAAAAAAAAAAAAAAAAAAAAAAAAAAAAAAAAAAAAAAAAAAAAAAAAAAAAAAAAAAAAAAAAAAAAAAAAAAAAAAAAAAAAAAAAAAAAAAAAAAAAAAAAAAAAAAAAAAAAAAAAAAAAAAAAAAAAAAAAAAAAAAAAAAAAAAAAAAAAAAAAAAAAAAAAAAAAAAAAAAAAAAAAAAAAAAAAAAAAAAAAAAAAAAAAAAAAAAAAAAAAAAAAAAAAAAAAAAAAAAAAAAAAAAAAAAAAAAAAAAAAAAAAAAAAAAAAAAAAAAAAAAAAAAAAAAAAAAAAAAAAAAAAAAAAAAAAAAAAAAAAAAAAAAAAAAAAAAAAAAAAAAAAAAAAAAAAAAAAAAAAAAAAAAAAAAAAAAAAAAAAAAAAAAAAAAAAAAAAAAAAAAAAAAAAAAAAAAAAAAAAAAAAAAAAAAAAAAAAAAAAAAAAAAAAAAAAAAAAAAAAAAAAAAAAAAAAAAAAAAAAAAAAAAAAAAAAAAAAAAAAAAAAAAAAAAAAAAAAAAAAAAAAAAAAAAAAAAAAAAAAAAAAAAAAAAAAAAAAAAAAAAAAAAAAAAAAAAAAAAAAAAAAAAAAAAAAAAAAAAAAAAAAAAAAAAAAAAAAAAAAAAAAAAAAAAAAAAAAAAAAAAAAAAAAAAAAAAAAAAAAAAAAAAAAAAAAAAAAAAAAAAAAAAAAAAAAAAAAAAAAAAAAAAAAAAAAAAAAAAAAAAAAAAAAAAAAAAAAAAAAAAAAAAAAAAAAAAAAAAAAAAAAAAAAAAAAAAAAAAAAAAAAAAAAAAAAAAAAAAAAAAAAAAAAAAAAAAAAAAAAAAAAAAAAAAAAAAAAAAAAAAAAAAAAAAAAAAAAAAAAAAAAAAAAAAAAAAAAAAAAAAAAAAAAAAAAAAAAAAAAAAAAAAAAAAAAAAAAAAAAAAAAAAAAAAAAAAAAAAAAAAAAAAAAAAAAAAAAAAAAAAAAAAAAAAAAAAAAAAAAAAAAAAAAAAAAAAAAAAAAAAAAAAAAAAAAAAAAAAAAAAAAAAAAAAAAAAAAAAAAAAAAAAAAAAAAAAAAAAAAAAAAAAAAAAAAAAAAAAAAAAAAAAAAAAAAAAAAAAAAAAAAAAAAAAAAAAAAAAAAAAAAAAAAAAAAAAAAAAAAAAAAAAAAAAAAAAAAAAAAAAAAAAAAAAAAAAAAAAAAAAAAAAAAAAAAAAAAAAAAAAAAAAAAAAAAAAAAAAAAAAAAAAAAAAAAAAAAAAAAAAAAAAAAAAAAAAAAAAAAAAAAAAAAAAAAAAAAAAAAAAAAAAAAAAAAAAAAAAAAAAAAAAAAAAAAAAAAAAAAAAAAAAAAAAAAAAAAAAAAAAAAAAAAAAAAAAAAAAAAAAAAAAAAAAAAAAAAAAAAAAAAAAAAAAAAAAAAAAAAAAAAAAAAAAAAAAAAAAAAAAAAAAAAAAAAAAAAAAAAAAAAAAAAAAAAAAAAAAAAAAAAAAAAAAAAAAAAAAAAAAAAAAAAAAAAAAAAAAAAAAAAAAAAAAAAAAAAAAAAAAAAAAAAAAAAAAAAAAAAAAAAAAAAAAAAAAAAAAAAAAAAAAAAAAAAAAAAAAAAAAAAAAAAAAAAAAAAAAAAAAAAAAAAAAAAAAAAAAAAAAAAAAAAAAAAAAAAAAAAAAAAAAAAAAAAAAAAAAAAAAAAAAAAAAAAAAAAAAAAAAAAAAAAAAAAAAAAAAAAAAAAAAAAAAAAAAAAAAAAAAAAAAAAAAAAAAAAAAAAAAAAAAAAAAAAAAAAAAAAAAAAAAAAAAAAAAAAAAAAAAAAAAAAAAAAAAAAAAAAAAAAAAAAAAAAAAAAAAAAAAAAAAAAAAAAAAAAAAAAAAAAAAAAAAAAAAAAAAAAAAAAAAAAAAAAAAAAAAAAAAAAAAAAAAAAAAAAAAAAAAAAAAAAAAAAAAAAAAAAAAAAAAAAAAAAAAAAAAAAAAAAAAAAAAAAAAAAAAAAAAAAAAAAAAAAAAAAAAAAAAAAAAAAAAAAAAAAAAAAAAAAAAAAAAAAAAAAAAAAAAAAAAAAAAAAAAAAAAAAAAAAAAAAAAAAAAAAAAAAAAAAAAAAAAAAAAAAAAAAAAAAAAAAAAAAAAAAAAAAAAAAAAAAAAAAAAAAAAAAAAAAAAAAAAAAAAAAAAAAAAAAAAAAAAAAAAAAAAAAAAAAAAAAAAAAAAAAAAAAAAAAAAAAAAAAAAAAAAAAAAAAAAAAAAAAAAAAAAAAAAAAAAAAAAAAAAAAAAAAAAAAAAAAAAAAAAAAAAAAAAAAAAAAAAAAAAAAAAAAAAAAAAAAAAAAAAAAAAAAAAAAAAAAAAAAAAAAAAAAAAAAAAAAAAAAAAAAAAAAAAAAAAAAAAAAAAAAAAAAAAAAAAAAAAAAAAAAAAAAAAAAAAAAAAAAAAAAAAAAAAAAAAAAAAAAAAAAAAAAAAAAAAAAAAAAAAAAAAAAAAAAAAAAAAAAAAAAAAAAAAAAAAAAAAAAAAAAAAAAAAAAAAAAAAAAAAAAAAAAAAAAAAAAAAAAAAAAAAAAAAAAAAAAAAAAAAAAAAAAAAAAAAAAAAAAAAAAAAAAAAAAAAAAAAAAAAAAAAAAAAAAAAAAAAAAAAAAAAAAAAAAAAAAAAAAAAAAAAAAAAAAAAAAAAAAAAAAAAAAAAAAAAAAAAAAAAAAAAAAAAAAAAAAAAAAAAAAAAAAAAAAAAAAAAAAAAAAAAAAAAAAAAAAAAAAAAAAAAAAAAAAAAAAAAAAAAAAAAAAAAAAAAAAAAAAAAAAAAAAAAAAAAAAAAAAAAAAAAAAAAAAAAAAAAAAAAAAAAAAAAAAAAAAAAAAAAAAAAAAAAAAAAAAAAAAAAAAAAAAAAAAAAAAAAAAAAAAAAAAAAAAAAAAAAAAAAAAAAAAAAAAAAAAAAAAAAAAAAAAAAAAAAAAAAAAAAAAAAAAAAAAAAAAAAAAAAAAAAAAAAAAAAAAAAAAAAAAAAAAAAAAAAAAAAAAAAAAAAAAAAAAAAAAAAAAAAAAAAAAAAAAAAAAAAAAAAAAAAAAAAAAAAAAAAAAAAAAAAAAAAAAAAAAAAAAAAAAAAAAAAAAAAAAAAAAAAAAAAAAAAAAAAAAAAAAAAAAAAAAAAAAAAAAAAAAAAAAAAAAAAAAAAAAAAAAAAAAAAAAAAAAAAAAAAAAAAAAAAAAAAAAAAAAAAAAAAAAAAAAAAAAAAAAAAAAAAAAAAAAAAAAAAAAAAAAAAAAAAAAAAAAAAAAAAAAAAAAAAAAAAAAAAAAAAAAAAAAAAAAAAAAAAAAAAAAAAAAAAAAAAAAAAAAAAAAAAAAAAAAAAAAAAAAAAAAAAAAAAAAAAAAAAAAAAAAAAAAAAAAAAAAAAAAAAAAAAAAAAAAAAAAAAAAAAAAAAAAAAAAAAAAAAAAAAAAAAAAAAAAAAAAAAAAAAAAAAAAAAAAAAAAAAAAAAAAAAAAAAAAAAAAAAAAAAAAAAAAAAAAAAAAAAAAAAAAAAAAAAAAAAAAAAAAAAAAAAAAAAAAAAAAAAAAAAAAAAAAAAAAAAAAAAAAAAAAAAAAAAAAAAAAAAAAAAAAAAAAAAAAAAAAAAAAAAAAAAAAAAAAAAAAAAAAAAAAAAAAAAAAAAAAAAAAAAAAAAAAAAAAAAAAAAAAAAAAAAAAAAAAAAAAAAAAAAAAAAAAAAAAAAAAAAAAAAAAAAAAAAAAAAAAAAAAAAAAAAAAAAAAAAAAAAAAAAAAAAAAAAAAAAAAAAAAAAAAAAAAAAAAAAAAAAAAAAAAAAAAAAAAAAAAAAAAAAAAAAAAAAAAAAAAAAAAAAAAAAAAAAAAAAAAAAAAAAAAAAAAAAAAAAAAAAAAAAAAAAAAAAAAAAAAAAAAAAAAAAAAAAAAAAAAAAAAAAAAAAAAAAAAAAAAAAAAAAAAAAAAAAAAAAAAAAAAAAAAAAAAAAAAAAAAAAAAAAAAAAAAAAAAAAAAAAAAAAAAAAAAAAAAAAAAAAAAAAAAAAAAAAAAAAAAAAAAAAAAAAAAAAAAAAAAAAAAAAAAAAAAAAAAAAAAAAAAAAAAAAAAAAAAAAAAAAAAAAAAAAAAAAAAAAAAAAAAAAAAAAAAAAAAAAAAAAAAAAAAAAAAAAAAAAAAAAAAAAAAAAAAAAAAAAAAAAAAAAAAAAAAAAAAAAAAAAAAAAAAAAAAAAAAAAAAAAAAAAAAAAAAAAAAAAAAAAAAAAAAAAAAAAAAAAAAAAAAAAAAAAAAAAAAAAAAAAAAAAAAAAAAAAAAAAAAAAAAAAAAAAAAAAAAAAAAAAAAAAAAAAAAAAAAAAAAAAAAAAAAAAAAAAAAAAAAAAAAAAAAAAAAAAAAAAAAAAAAAAAAAAAAAAAAAAAAAAAAAAAAAAAAAAAAAAAAAAAAAAAAAAAAAAAAAAAAAAAAAAAAAAAAAAAAAAAAAAAAAAAAAAAAAAAAAAAAAAAAAAAAAAAAAAAAAAAAAAAAAAAAAAAAAAAAAAAAAAAAAAAAAAAAAAAAAAAAAAAAAAAAAAAAAAAAAAAAAAAAAAAAAAAAAAAAAAAAAAAAAAAAAAAAAAAAAAAAAAAAAAAAAAAAAAAAAAAAAAAAAAAAAAAAAAAAAAAAAAAAAAAAAAAAAAAAAAAAAAAAAAAAAAAAAAAAAAAAAAAAAAAAAAAAAAAAAAAAAAAAAAAAAAAAAAAAAAAAAAAAAAAAAAAAAAAAAAAAAAAAAAAAAAAAAAAAAAAAAAAAAAAAAAAAAAAAAAAAAAAAAAAAAAAAAAAAAAAAAAAAAAAAAAAAAAAAAAAAAAAAAAAAAAAAAAAAAAAAAAAAAAAAAAAAAAAAAAAAAAAAAAAAAAAAAAAAAAAAAAAAAAAAAAAAAAAAAAAAAAAAAAAAAAAAAAAAAAAAAAAAAAAAAAAAAAAAAAAAAAAAAAAAAAAAAAAAAAAAAAAAAAAAAAAAAAAAAAAAAAAAAAAAAAAAAAAAAAAAAAAAAAAAAAAAAAAAAAAAAAAAAAAAAAAAAAAAAAAAAAAAAAAAAAAAAAAAAAAAAAAAAAAAAAAAAAAAAAAAAAAAAAAAAAAAAAAAAAAAAAAAAAAAAAAAAAAAAAAAAAAAAAAAAAAAAAAAAAAAAAAAAAAAAAAAAAAAAAAAAAAAAAAAAAAAAAAAAAAAAAAAAAAAAAAAAAAAAAAAAAAAAAAAAAAAAAAAAAAAAAAAAAAAAAAAAAAAAAAAAAAAAAAAAAAAAAAAAAAAAAAAAAAAAAAAAAAAAAAAAAAAAAAAAAAAAAAAAAAAAAAAAAAAAAAAAAAAAAAAAAAAAAAAAAAAAAAAAAAAAAAAAAAAAAAAAAAAAAAAAAAAAAAAAAAAAAAAAAAAAAAAAAAAAAAAAAAAAAAAAAAAAAAAAAAAAAAAAAAAAAAAAAAAAAAAAAAAAAAAAAAAAAAAAAAAAAAAAAAAAAAAAAAAAAAAAAAAAAAAAAAAAAAAAAAAAAAAAAAAAAAAAAAAAAAAAAAAAAAAAAAAAAAAAAAAAAAAAAAAAAAAAAAAAAAAAAAAAAAAAAAAAAAAAAAAAAAAAAAAAAAAAAAAAAAAAAAAAAAAAAAAAAAAAAAAAAAAAAAAAAAAAAAAAAAAAAAAAAAAAAAAAAAAAAAAAAAAAAAAAAAAAAAAAAAAAAAAAAAAAAAAAAAAAAAAAAAAAAAAAAAAAAAAAAAAAAAAAAAAAAAAAAAAAAAAAAAAAAAAAAAAAAAAAAAAAAAAAAAAAAAAAAAAAAAAAAAAAAAAAAAAAAAAAAAAAAAAAAAAAAAAAAAAAAAAAAAAAAAAAAAAAAAAAAAAAAAAAAAAAAAAAAAAAAAAAAAAAAAAAAAAAAAAAAAAAAAAAAAAAAAAAAAAAAAAAAAAAAAAAAAAAAAAAAAAAAAAAAAAAAAAAAAAAAAAAAAAAAAAAAAAAAAAAAAAAAAAAAAAAAAAAAAAAAAAAAAAAAAAAAAAAAAAAAAAAAAAAAAAAAAAAAAAAAAAAAAAAAAAAAAAAAAAAAAAAAAAAAAAAAAAAAAAAAAAAAAAAAAAAAAAAAAAAAAAAAAAAAAAAAAAAAAAAAAAAAAAAAAAAAAAAAAAAAAAAAAAAAAAAAAAAAAAAAAAAAAAAAAAAAAAAAAAAAAAAAAAAAAAAAAAAAAAAAAAAAAAAAAAAAAAAAAAAAAAAAAAAAAAAAAAAAAAAAAAAAAAAAAAAAAAAAAAAAAAAAAAAAAAAAAAAAAAAAAAAAAAAAAAAAAAAAAAAAAAAAAAAAAAAAAAAAAAAAAAAAAAAAAAAAAAAAAAAAAAAAAAAAAAAAAAAAAAAAAAAAAAAAAAAAAAAAAAAAAAAAAAAAAAAAAAAAAAAAAAAAAAAAAAAAAAAAAAAAAAAAAAAAAAAAAAAAAAAAAAAAAAAAAAAAAAAAAAAAAAAAAAAAAAAAAAAAAAAAAAAAAAAAAAAAAAAAAAAAAAAAAAAAAAAAAAAAAAAAAAAAAAAAAAAAAAAAAAAAAAAAAAAAAAAAAAAAAAAAAAAAAAAAAAAAAAAAAAAAAAAAAAAAAAAAAAAAAAAAAAAAAAAAAAAAAAAAAAAAAAAAAAAAAAAAAAAAAAAAAAAAAAAAAAAAAAAAAAAAAAAAAAAAAAAAAAAAAAAAAAAAAAAAAAAAAAAAAAAAAAAAAAAAAAAAAAAAAAAAAAAAAAAAAAAAAAAAAAAAAAAAAAAAAAAAAAAAAAAAAAAAAAAAAAAAAAAAAAAAAAAAAAAAAAAAAAAAAAAAAAAAAAAAAAAAAAAAAAAAAAAAAAAAAAAAAAAAAAAAAAAAAAAAAAAAAAAAAAAAAAAAAAAAAAAAAAAAAAAAAAAAAAAAAAAAAAAAAAAAAAAAAAAAAAAAAAAAAAAAAAAAAAAAAAAAAAAAAAAAAAAAAAAAAAAAAAAAAAAAAAAAAAAAAAAAAAAAAAAAAAAAAAAAAAAAAAAAAAAAAAAAAAAAAAAAAAAAAAAAAAAAAAAAAAAAAAAAAAAAAAAAAAAAAAAAAAAAAAAAAAAAAAAAAAAAAAAAAAAAAAAAAAAAAAAAAAAAAAAAAAAAAAAAAAAAAAAAAAAAAAAAAAAAAAAAAAAAAAAAAAAAAAAAAAAAAAAAAAAAAAAAAAAAAAAAAAAAAAAAAAAAAAAAAAAAAAAAAAAAAAAAAAAAAAAAAAAAAAAAAAAAAAAAAAAAAAAAAAAAAAAAAAAAAAAAAAAAAAAAAAAAAAAAAAAAAAAAAAAAAAAAAAAAAAAAAAAAAAAAAAAAAAAAAAAAAAAAAAAAAAAAAAAAAAAAAAAAAAAAAAAAAAAAAAAAAAAAAAAAAAAAAAAAAAAAAAAAAAAAAAAAAAAAAAAAAAAAAAAAAAAAAAAAAAAAAAAAAAAAAAAAAAAAAAAAAAAAAAAAAAAAAAAAAAAAAAAAAAAAAAAAAAAAAAAAAAAAAAAAAAAAAAAAAAAAAAAAAAAAAAAAAAAAAAAAAAAAAAAAAAAAAAAAAAAAAAAAAAAAAAAAAAAAAAAAAAAAAAAAAAAAAAAAAAAAAAAAAAAAAAAAAAAAAAAAAAAAAAAAAAAAAAAAAAAAAAAAAAAAAAAAAAAAAAAAAAAAAAAAAAAAAAAAAAAAAAAAAAAAAAAAAAAAAAAAAAAAAAAAAAAAAAAAAAAAAAAAAAAAAAAAAAAAAAAAAAAAAAAAAAAAAAAAAAAAAAAAAAAAAAAAAAAAAAAAAAAAAAAAAAAAAAAAAAAAAAAAAAAAAAAAAAAAAAAAAAAAAAAAAAAAAAAAAAAAAAAAAAAAAAAAAAAAAAAAAAAAAAAAAAAAAAAAAAAAAAAAAAAAAAAAAAAAAAAAAAAAAAAAAAAAAAAAAAAAAAAAAAAAAAAAAAAAAAAAAAAAAAAAAAAAAAAAAAAAAAAAAAAAAAAAAAAAAAAAAAAAAAAAAAAAAAAAAAAAAAAAAAAAAAAAAAAAAAAAAAAAAAAAAAAAAAAAAAAAAAAAAAAAAAAAAAAAAAAAAAAAAAAAAAAAAAAAAAAAAAAAAAAAAAAAAAAAAAAAAAAAAAAAAAAAAAAAAAAAAAAAAAAAAAAAAAAAAAAAAAAAAAAAAAAAAAAAAAAAAAAAAAAAAAAAAAAAAAAAAAAAAAAAAAAAAAAAAAAAAAAAAAAAAAAAAAAAAAAAAAAAAAAAAAAAAAAAAAAAAAAAAAAAAAAAAAAAAAAAAAAAAAAAAAAAAAAAAAAAAAAAAAAAAAAAAAAAAAAAAAAAAAAAAAAAAAAAAAAAAAAAAAAAAAAAAAAAAAAAAAAAAAAAAAAAAAAAAAAAAAAAAAAAAAAAAAAAAAAAAAAAAAAAAAAAAAAAAAAAAAAAAAAAAAAAAAAAAAAAAAAAAAAAAAAAAAAAAAAAAAAAAAAAAAAAAAAAAAAAAAAAAAAAAAAAAAAAAAAAAAAAAAAAAAAAAAAAAAAAAAAAAAAAAAAAAAAAAAAAAAAAAAAAAAAAAAAAAAAAAAAAAAAAAAAAAAAAAAAAAAAAAAAAAAAAAAAAAAAAAAAAAAAAAAAAAAAAAAAAAAAAAAAAAAAAAAAAAAAAAAAAAAAAAAAAAAAAAAAAAAAAAAAAAAAAAAAAAAAAAAAAAAAAAAAAAAAAAAAAAAAAAAAAAAAAAAAAAAAAAAAAAAAAAAAAAAAAAAAAAAAAAAAAAAAAAAAAAAAAAAAAAAAAAAAAAAAAAAAAAAAAAAAAAAAAAAAAAAAAAAAAAAAAAAAAAAAAAAAAAAAAAAAAAAAAAAAAAAAAAAAAAAAAAAAAAAAAAAAAAAAAAAAAAAAAAAAAAAAAAAAAAAAAAAAAAAAAAAAAAAAAAAAAAAAAAAAAAAAAAAAAAAAAAAAAAAAAAAAAAAAAAAAAAAAAAAAAAAAAAAAAAAAAAAAAAAAAAAAAAAAAAAAAAAAAAAAAAAAAAAAAAAAAAAAAAAAAAAAAAAAAAAAAAAAAAAAAAAAAAAAAAAAAAAAAAAAAAAAAAAAAAAAAAAAAAAAAAAAAAAAAAAAAAAAAAAAAAAAAAAAAAAAAAAAAAAAAAAAAAAAAAAAAAAAAAAAAAAAAAAAAAAAAAAAAAAAAAAAAAAAAAAAAAAAAAAAAAAAAAAAAAAAAAAAAAAAAAAAAAAAAAAAAAAAAAAAAAAAAAAAAAAAAAAAAAAAAAAAAAAAAAAAAAAAAAAAAAAAAAAAAAAAAAAAAAAAAAAAAAAAAAAAAAAAAAAAAAAAAAAAAAAAAAAAAAAAAAAAAAAAAAAAAAAAAAAAAAAAAAAAAAAAAAAAAAAAAAAAAAAAAAAAAAAAAAAAAAAAAAAAAAAAAAAAAAAAAAAAAAAAAAAAAAAAAAAAAAAAAAAAAAAAAAAAAAAAAAAAAAAAAAAAAAAAAAAAAAAAAAAAAAAAAAAAAAAAAAAAAAAAAAAAAAAAAAAAAAAAAAAAAAAAAAAAAAAAAAAAAAAAAAAAAAAAAAAAAAAAAAAAAAAAAAAAAAAAAAAAAAAAAAAAAAAAAAAAAAAAAAAAAAAAAAAAAAAAAAAAAAAAAAAAAAAAAAAAAAAAAAAAAAAAAAAAAAAAAAAAAAAAAAAAAAAAAAAAAAAAAAAAAAAAAAAAAAAAAAAAAAAAAAAAAAAAAAAAAAAAAAAAAAAAAAAAAAAAAAAAAAAAAAAAAAAAAAAAAAAAAAAAAAAAAAAAAAAAAAAAAAAAAAAAAAAAAAAAAAAAAAAAAAAAAAAAAAAAAAAAAAAAAAAAAAAAAAAAAAAAAAAAAAAAAAAAAAAAAAAAAAAAAAAAAAAAAAAAAAAAAAAAAAAAAAAAAAAAAAAAAAAAAAAAAAAAAAAAAAAAAAAAAAAAAAAAAAAAAAAAAAAAAAAAAAAAAAAAAAAAAAAAAAAAAAAAAAAAAAAAAAAAAAAAAAAAAAAAAAAAAAAAAAAAAAAAAAAAAAAAAAAAAAAAAAAAAAAAAAAAAAAAAAAAAAAAAAAAAAAAAAAAAAAAAAAAAAAAAAAAAAAAAAAAAAAAAAAAAAAAAAAAAAAAAAAAAAAAAAAAAAAAAAAAAAAAAAAAAAAAAAAAAAAAAAAAAAAAAAAAAAAAAAAAAAAAAAAAAAAAAAAAAAAAAAAAAAAAAAAAAAAAAAAAAAAAAAAAAAAAAAAAAAAAAAAAAAAAAAAAAAAAAAAAAAAAAAAAAAAAAAAAAAAAAAAAAAAAAAAAAAAAAAAAAAAAAAAAAAAAAAAAAAAAAAAAAAAAAAAAAAAAAAAAAAAAAAAAAAAAAAAAAAAAAAAAAAAAAAAAAAAAAAAAAAAAAAAAAAAAAAAAAAAAAAAAAAAAAAAAAAAAAAAAAAAAAAAAAAAAAAAAAAAAAAAAAAAAAAAAAAAAAAAAAAAAAAAAAAAAAAAAAAAAAAAAAAAAAAAAAAAAAAAAAAAAAAAAAAAAAAAAAAAAAAAAAAAAAAAAAAAAAAAAAAAAAAAAAAAAAAAAAAAAAAAAAAAAAAAAAAAAAAAAAAAAAAAAAAAAAAAAAAAAAAAAAAAAAAAAAAAAAAAAAAAAAAAAAAAAAAAAAAAAAAAAAAAAAAAAAAAAAAAAAAAAAAAAAAAAAAAAAAAAAAAAAAAAAAAAAAAAAAAAAAAAAAAAAAAAAAAAAAAAAAAAAAAAAAAAAAAAAAAAAAAAAAAAAAAAAAAAAAAAAAAAAAAAAAAAAAAAAAAAAAAAAAAAAAAAAAAAAAAAAAAAAAAAAAAAAAAAAAAAAAAAAAAAAAAAAAAAAAAAAAAAAAAAAAAAAAAAAAAAAAAAAAAAAAAAAAAAAAAAAAAAAAAAAAAAAAAAAAAAAAAAAAAAAAAAAAAAAAAAAAAAAAAAAAAAAAAAAAAAAAAAAAAAAAAAAAAAAAAAAAAAAAAAAAAAAAAAAAAAAAAAAAAAAAAAAAAAAAAAAAAAAAAAAAAAAAAAAAAAAAAAAAAAAAAAAAAAAAAAAAAAAAAAAAAAAAAAAAAAAAAAAAAAAAAAAAAAAAAAAAAAAAAAAAAAAAAAAAAAAAAAAAAAAAAAAAAAAAAAAAAAAAAAAAAAAAAAAAAAAAAAAAAAAAAAAAAAAAAAAAAAAAAAAAAAAAAAAAAAAAAAAAAAAAAAAAAAAAAAAAAAAAAAAAAAAAAAAAAAAAAAAAAAAAAAAAAAAAAAAAAAAAAAAAAAAAAAAAAAAAAAAAAAAAAAAAAAAAAAAAAAAAAAAAAAAAAAAAAAAAAAAAAAAAAAAAAAAAAAAAAAAAAAAAAAAAAAAAAAAAAAAAAAAAAAAAAAAAAAAAAAAAAAAAAAAAAAAAAAAAAAAAAAAAAAAAAAAAAAAAAAAAAAAAAAAAAAAAAAAAAAAAAAAAAAAAAAAAAAAAAAAAAAAAAAAAAAAAAAAAAAAAAAAAAAAAAAAAAAAAAAAAAAAAAAAAAAAAAAAAAAAAAAAAAAAAAAAAAAAAAAAAAAAAAAAAAAAAAAAAAAAAAAAAAAAAAAAAAAAAAAAAAAAAAAAAAAAAAAAAAAAAAAAAAAAAAAAAAAAAAAAAAAAAAAAAAAAAAAAAAAAAAAAAAAAAAAAAAAAAAAAAAAAAAAAAAAAAAAAAAAAAAAAAAAAAAAAAAAAAAAAAAAAAAAAAAAAAAAAAAAAAAAAAAAAAAAAAAAAAAAAAAAAAAAAAAAAAAAAAAAAAAAAAAAAAAAAAAAAAAAAAAAAAAAAAAAAAAAAAAAAAAAAAAAAAAAAAAAAAAAAAAAAAAAAAAAAAAAAAAAAAAAAAAAAAAAAAAAAAAAAAAAAAAAAAAAAAAAAAAAAAAAAAAAAAAAAAAAAAAAAAAAAAAAAAAAAAAAAAAAAAAAAAAAAAAAAAAAAAAAAAAAAAAAAAAAAAAAAAAAAAAAAAAAAAAAAAAAAAAAAAAAAAAAAAAAAAAAAAAAAAAAAAAAAAAAAAAAAAAAAAAAAAAAAAAAAAAAAAAAAAAAAAAAAAAAAAAAAAAAAAAAAAAAAAAAAAAAAAAAAAAAAAAAAAAAAAAAAAAAAAAAAAAAAAAAAAAAAAAAAAAAAAAAAAAAAAAAAAAAAAAAAAAAAAAAAAAAAAAAAAAAAAAAAAAAAAAAAAAAAAAAAAAAAAAAAAAAAAAAAAAAAAAAAAAAAAAAAAAAAAAAAAAAAAAAAAAAAAAAAAAAAAAAAAAAAAAAAAAAAAAAAAAAAAAAAAAAAAAAAAAAAAAAAAAAAAAAAAAAAAAAAAAAAAAAAAAAAAAAAAAAAAAAAAAAAAAAAAAAAAAAAAAAAAAAAAAAAAAAAAAAAAAAAAAAAAAAAAAAAAAAAAAAAAAAAAAAAAAAAAAAAAAAAAAAAAAAAAAAAAAAAAAAAAAAAAAAAAAAAAAAAAAAAAAAAAAAAAAAAAAAAAAAAAAAAAAAAAAAAAAAAAAAAAAAAAAAAAAAAAAAAAAAAAAAAAAAAAAAAAAAAAAAAAAAAAAAAAAAAAAAAAAAAAAAAAAAAAAAAAAAAAAAAAAAAAAAAAAAAAAAAAAAAAAAAAAAAAAAAAAAAAAAAAAAAAAAAAAAAAAAAAAAAAAAAAAAAAAAAAAAAAAAAAAAAAAAAAAAAAAAAAAAAAAAAAAAAAAAAAAAAAAAAAAAAAAAAAAAAAAAAAAAAAAAAAAAAAAAAAAAAAAAAAAAAAAAAAAAAAAAAAAAAAAAAAAAAAAAAAAAAAAAAAAAAAAAAAAAAAAAAAAAAAAAAAAAAAAAAAAAAAAAAAAAAAAAAAAAAAAAAAAAAAAAAAAAAAAAAAAAAAAAAAAAAAAAAAAAAAAAAAAAAAAAAAAAAAAAAAAAAAAAAAAAAAAAAAAAAAAAAAAAAAAAAAAAAAAAAAAAAAAAAAAAAAAAAAAAAAAAAAAAAAAAAAAAAAAAAAAAAAAAAAAAAAAAAAAAAAAAAAAAAAAAAAAAAAAAAAAAAAAAAAAAAAAAAAAAAAAAAAAAAAAAAAAAAAAAAAAAAAAAAAAAAAAAAAAAAAAAAAAAAAAAAAAAAAAAAAAAAAAAAAAAAAAAAAAAAAAAAAAAAAAAAAAAAAAAAAAAAAAAAAAAAAAAAAAAAAAAAAAAAAAAAAAAAAAAAAAAAAAAAAAAAAAAAAAAAAAAAAAAAAAAAAAAAAAAAAAAAAAAAAAAAAAAAAAAAAAAAAAAAAAAAAAAAAAAAAAAAAAAAAAAAAAAAAAAAAAAAAAAAAAAAAAAAAAAAAAAAAAAAAAAAAAAAAAAAAAAAAAAAAAAAAAAAAAAAAAAAAAAAAAAAAAAAAAAAAAAAAAAAAAAAAAAAAAAAAAAAAAAAAAAAAAAAAAAAAAAAAAAAAAAAAAAAAAAAAAAAAAAAAAAAAAAAAAAAAAAAAAAAAAAAAAAAAAAAAAAAAAAAAAAAAAAAAAAAAAAAAAAAAAAAAAAAAAAAAAAAAAAAAAAAAAAAAAAAAAAAAAAAAAAAAAAAAAAAAAAAAAAAAAAAAAAAAAAAAAAAAAAAAAAAAAAAAAAAAAAAAAAAAAAAAAAAAAAAAAAAAAAAAAAAAAAAAAAAAAAAAAAAAAAAAAAAAAAAAAAAAAAAAAAAAAAAAAAAAAAAAAAAAAAAAAAAAAAAAAAAAAAAAAAAAAAAAAAAAAAAAAAAAAAAAAAAAAAAAAAAAAAAAAAAAAAAAAAAAAAAAAAAAAAAAAAAAAAAAAAAAAAAAAAAAAAAAAAAAAAAAAAAAAAAAAAAAAAAAAAAAAAAAAAAAAAAAAAAAAAAAAAAAAAAAAAAAAAAAAAAAAAAAAAAAAAAAAAAAAAAAAAAAAAAAAAAAAAAAAAAAAAAAAAAAAAAAAAAAAAAAAAAAAAAAAAAAAAAAAAAAAAAAAAAAAAAAAAAAAAAAAAAAAAAAAAAAAAAAAAAAAAAAAAAAAAAAAAAAAAAAAAAAAAAAAAAAAAAAAAAAAAAAAAAAAAAAAAAAAAAAAAAAAAAAAAAAAAAAAAAAAAAAAAAAAAAAAAAAAAAAAAAAAAAAAAAAAAAAAAAAAAAAAAAAAAAAAAAAAAAAAAAAAAAAAAAAAAAAAAAAAAAAAAAAAAAAAAAAAAAAAAAAAAAAAAAAAAAAAAAAAAAAAAAAAAAAAAAAAAAAAAAAAAAAAAAAAAAAAAAAAAAAAAAAAAAAAAAAAAAAAAAAAAAAAAAAAAAAAAAAAAAAAAAAAAAAAAAAAAAAAAAAAAAAAAAAAAAAAAAAAAAAAAAAAAAAAAAAAAAAAAAAAAAAAAAAAAAAAAAAAAAAAAAAAAAAAAAAAAAAAAAAAAAAAAAAAAAAAAAAAAAAAAAAAAAAAAAAAAAAAAAAAAAAAAAAAAAAAAAAAAAAAAAAAAAAAAAAAAAAAAAAAAAAAAAAAAAAAAAAAAAAAAAAAAAAAAAAAAAAAAAAAAAAAAAAAAAAAAAAAAAAAAAAAAAAAAAAAAAAAAAAAAAAAAAAAAAAAAAAAAAAAAAAAAAAAAAAAAAAAAAAAAAAAAAAAAAAAAAAAAAAAAAAAAAAAAAAAAAAAAAAAAAAAAAAAAAAAAAAAAAAAAAAAAAAAAAAAAAAAAAAAAAAAAAAAAAAAAAAAAAAAAAAAAAAAAAAAAAAAAAAAAAAAAAAAAAAAAAAAAAAAAAAAAAAAAAAAAAAAAAAAAAAAAAAAAAAAAAAAAAAAAAAAAAAAAAAAAAAAAAAAAAAAAAAAAAAAAAAAAAAAAAAAAAAAAAAAAAAAAAAAAAAAAAAAAAAAAAAAAAAAAAAAAAAAAAAAAAAAAAAAAAAAAAAAAAAAAAAAAAAAAAAAAAAAAAAAAAAAAAAAAAAAAAAAAAAAAAAAAAAAAAAAAAAAAAAAAAAAAAAAAAAAAAAAAAAAAAAAAAAAAAAAAAAAAAAAAAAAAAAAAAAAAAAAAAAAAAAAAAAAAAAAAAAAAAAAAAAAAAAAAAAAAAAAAAAAAAAAAAAAAAAAAAAAAAAAAAAAAAAAAAAAAAAAAAAAAAAAAAAAAAAAAAAAAAAAAAAAAAAAAAAAAAAAAAAAAAAAAAAAAAAAAAAAAAAAAAAAAAAAAAAAAAAAAAAAAAAAAAAAAAAAAAAAAAAAAAAAAAAAAAAAAAAAAAAAAAAAAAAAAAAAAAAAAAAAAAAAAAAAAAAAAAAAAAAAAAAAAAAAAAAAAAAAAAAAAAAAAAAAAAAAAAAAAAAAAAAAAAAAAAAAAAAAAAAAAAAAAAAAAAAAAAAAAAAAAAAAAAAAAAAAAAAAAAAAAAAAAAAAAAAAAAAAAAAAAAAAAAAAAAAAAAAAAAAAAAAAAAAAAAAAAAAAAAAAAAAAAAAAAAAAAAAAAAAAAAAAAAAAAAAAAAAAAAAAAAAAAAAAAAAAAAAAAAAAAAAAAAAAAAAAAAAAAAAAAAAAAAAAAAAAAAAAAAAAAAAAAAAAAAAAAAAAAAAAAAAAAAAAAAAAAAAAAAAAAAAAAAAAAAAAAAAAAAAAAAAAAAAAAAAAAAAAAAAAAAAAAAAAAAAAAAAAAAAAAAAAAAAAAAAAAAAAAAAAAAAAAAAAAAAAAAAAAAAAAAAAAAAAAAAAAAAAAAAAAAAAAAAAAAAAAAAAAAAAAAAAAAAAAAAAAAAAAAAAAAAAAAAAAAAAAAAAAAAAAAAAAAAAAAAAAAAAAAAAAAAAAAAAAAAAAAAAAAAAAAAAAAAAAAAAAAAAAAAAAAAAAAAAAAAAAAAAAAAAAAAAAAAAAAAAAAAAAAAAAAAAAAAAAAAAAAAAAAAAAAAAAAAAAAAAAAAAAAAAAAAAAAAAAAAAAAAAAAAAAAAAAAAAAAAAAAAAAAAAAAAAAAAAAAAAAAAAAAAAAAAAAAAAAAAAAAAAAAAAAAAAAAAAAAAAAAAAAAAAAAAAAAAAAAAAAAAAAAAAAAAAAAAAAAAAAAAAAAAAAAAAAAAAAAAAAAAAAAAAAAAAAAAAAAAAAAAAAAAAAAAAAAAAAAAAAAAAAAAAAAAAAAAAAAAAAAAAAAAAAAAAAAAAAAAAAAAAAAAAAAAAAAAAAAAAAAAAAAAAAAAAAAAAAAAAAAAAAAAAAAAAAAAAAAAAAAAAAAAAAAAAAAAAAAAAAAAAAAAAAAAAAAAAAAAAAAAAAAAAAAAAAAAAAAAAAAAAAAAAAAAAAAAAAAAAAAAAAAAAAAAAAAAAAAAAAAAAAAAAAAAAAAAAAAAAAAAAAAAAAAAAAAAAAAAAAAAAAAAAAAAAAAAAAAAAAAAAAAAAAAAAAAAAAAAAAAAAAAAAAAAAAAAAAAAAAAAAAAAAAAAAAAAAAAAAAAAAAAAAAAAAAAAAAAAAAAAAAAAAAAAAAAAAAAAAAAAAAAAAAAAAAAAAAAAAAAAAAAAAAAAAAAAAAAAAAAAAAAAAAAAAAAAAAAAAAAAAAAAAAAAAAAAAAAAAAAAAAAAAAAAAAAAAAAAAAAAAAAAAAAAAAAAAAAAAAAAAAAAAAAAAAAAAAAAAAAAAAAAAAAAAAAAAAAAAAAAAAAAAAAAAAAAAAAAAAAAAAAAAAAAAAAAAAAAAAAAAAAAAAAAAAAAAAAAAAAAAAAAAAAAAAAAAAAAAAAAAAAAAAAAAAAAAAAAAAAAAAAAAAAAAAAAAAAAAAAAAAAAAAAAAAAAAAAAAAAAAAAAAAAAAAAAAAAAAAAAAAAAAAAAAAAAAAAAAAAAAAAAAAAAAAAAAAAAAAAAAAAAAAAAAAAAAAAAAAAAAAAAAAAAAAAAAAAAAAAAAAAAAAAAAAAAAAAAAAAAAAAAAAAAAAAAAAAAAAAAAAAAAAAAAAAAAAAAAAAAAAAAAAAAAAAAAAAAAAAAAAAAAAAAAAAAAAAAAAAAAAAAAAAAAAAAAAAAAAAAAAAAAAAAAAAAAAAAAAAAAAAAAAAAAAAAAAAAAAAAAAAAAAAAAAAAAAAAAAAAAAAAAAAAAAAAAAAAAAAAAAAAAAAAAAAAAAAAAAAAAAAAAAAAAAAAAAAAAAAAAAAAAAAAAAAAAAAAAAAAAAAAAAAAAAAAAAAAAAAAAAAAAAAAAAAAAAAAAAAAAAAAAAAAAAAAAAAAAAAAAAAAAAAAAAAAAAAAAAAAAAAAAAAAAAAAAAAAAAAAAAAAAAAAAAAAAAAAAAAAAAAAAAAAAAAAAAAAAAAAAAAAAAAAAAAAAAAAAAAAAAAAAAAAAAAAAAAAAAAAAAAAAAAAAAAAAAAAAAAAAAAAAAAAAAAAAAAAAAAAAAAAAAAAAAAAAAAAAAAAAAAAAAAAAAAAAAAAAAAAAAAAAAAAAAAAAAAAAAAAAAAAAAAAAAAAAAAAAAAAAAAAAAAAAAAAAAAAAAAAAAAAAAAAAAAAAAAAAAAAAAAAAAAAAAAAAAAAAAAAAAAAAAAAAAAAAAAAAAAAAAAAAAAAAAAAAAAAAAAAAAAAAAAAAAAAAAAAAAAAAAAAAAAAAAAAAAAAAAAAAAAAAAAAAAAAAAAAAAAAAAAAAAAAAAAAAAAAAAAAAAAAAAAAAAAAAAAAAAAAAAAAAAAAAAAAAAAAAAAAAAAAAAAAAAAAAAAAAAAAAAAAAAAAAAAAAAAAAAAAAAAAAAAAAAAAAAAAAAAAAAAAAAAAAAAAAAAAAAAAAAAAAAAAAAAAAAAAAAAAAAAAAAAAAAAAAAAAAAAAAAAAAAAAAAAAAAAAAAAAAAAAAAAAAAAAAAAAAAAAAAAAAAAAAAAAAAAAAAAAAAAAAAAAAAAAAAAAAAAAAAAAAAAAAAAAAAAAAAAAAAAAAAAAAAAAAAAAAAAAAAAAAAAAAAAAAAAAAAAAAAAAAAAAAAAAAAAAAAAAAAAAAAAAAAAAAAAAAAAAAAAAAAAAAAAAAAAAAAAAAAAAAAAAAAAAAAAAAAAAAAAAAAAAAAAAAAAAAAAAAAAAAAAAAAAAAAAAAAAAAAAAAAAAAAAAAAAAAAAAAAAAAAAAAAAAAAAAAAAAAAAAAAAAAAAAAAAAAAAAAAAAAAAAAAAAAAAAAAAAAAAAAAAAAAAAAAAAAAAAAAAAAAAAAAAAAAAAAAAAAAAAAAAAAAAAAAAAAAAAAAAAAAAAAAAAAAAAAAAAAAAAAAAAAAAAAAAAAAAAAAAAAAAAAAAAAAAAAAAAAAAAAAAAAAAAAAAAAAAAAAAAAAAAAAAAAAAAAAAAAAAAAAAAAAAAAAAAAAAAAAAAAAAAAAAAAAAAAAAAAAAAAAAAAAAAAAAAAAAAAAAAAAAAAAAAAAAAAAAAAAAAAAAAAAAAAAAAAAAAAAAAAAAAAAAAAAAAAAAAAAAAAAAAAAAAAAAAAAAAAAAAAAAAAAAAAAAAAAAAAAAAAAAAAAAAAAAAAAAAAAAAAAAAAAAAAAAAAAAAAAAAAAAAAAAAAAAAAAAAAAAAAAAAAAAAAAAAAAAAAAAAAAAAAAAAAAAAAAAAAAAAAAAAAAAAAAAAAAAAAAAAAAAAAAAAAAAAAAAAAAAAAAAAAAAAAAAAAAAAAAAAAAAAAAAAAAAAAAAAAAAAAAAAAAAAAAAAAAAAAAAAAAAAAAAAAAAAAAAAAAAAAAAAAAAAAAAAAAAAAAAAAAAAAAAAAAAAAAAAAAAAAAAAAAAAAAAAAAAAAAAAAAAAAAAAAAAAAAAAAAAAAAAAAAAAAAAAAAAAAAAAAAAAAAAAAAAAAAAAAAAAAAAAAAAAAAAAAAAAAAAAAAAAAAAAAAAAAAAAAAAAAAAAAAAAAAAAAAAAAAAAAAAAAAAAAAAAAAAAAAAAAAAAAAAAAAAAAAAAAAAAAAAAAAAAAAAAAAAAAAAAAAAAAAAAAAAAAAAAAAAAAAAAAAAAAAAAAAAAAAAAAAAAAAAAAAAAAAAAAAAAAAAAAAAAAAAAAAAAAAAAAAAAAAAAAAAAAAAAAAAAAAAAAAAAAAAAAAAAAAAAAAAAAAAAAAAAAAAAAAAAAAAAAAAAAAAAAAAAAAAAAAAAAAAAAAAAAAAAAAAAAAAAAAAAAAAAAAAAAAAAAAAAAAAAAAAAAAAAAAAAAAAAAAAAAAAAAAAAAAAAAAAAAAAAAAAAAAAAAAAAAAAAAAAAAAAAAAAAAAAAAAAAAAAAAAAAAAAAAAAAAAAAAAAAAAAAAAAAAAAAAAAAAAAAAAAAAAAAAAAAAAAAAAAAAAAAAAAAAAAAAAAAAAAAAAAAAAAAAAAAAAAAAAAAAAAAAAAAAAAAAAAAAAAAAAAAAAAAAAAAAAAAAAAAAAAAAAAAAAAAAAAAAAAAAAAAAAAAAAAAAAAAAAAAAAAAAAAAAAAAAAAAAAAAAAAAAAAAAAAAAAAAAAAAAAAAAAAAAAAAAAAAAAAAAAAAAAAAAAAAAAAAAAAAAAAAAAAAAAAAAAAAAAAAAAAAAAAAAAAAAAAAAAAAAAAAAAAAAAAAAAAAAAAAAAAAAAAAAAAAAAAAAAAAAAAAAAAAAAAAAAAAAAAAAAAAAAAAAAAAAAAAAAAAAAAAAAAAAAAAAAAAAAAAAAAAAAAAAAAAAAAAAAAAAAAAAAAAAAAAAAAAAAAAAAAAAAAAAAAAAAAAAAAAAAAAAAAAAAAAAAAAAAAAAAAAAAAAAAAAAAAAAAAAAAAAAAAAAAAAAAAAAAAAAAAAAAAAAAAAAAAAAAAAAAAAAAAAAAAAAAAAAAAAAAAAAAAAAAAAAAAAAAAAAAAAAAAAAAAAAAAAAAAAAAAAAAAAAAAAAAAAAAAAAAAAAAAAAAAAAAAAAAAAAAAAAAAAAAAAAAAAAAAAAAAAAAAAAAAAAAAAAAAAAAAAAAAAAAAAAAAAAAAAAAAAAAAAAAAAAAAAAAAAAAAAAAAAAAAAAAAAAAAAAAAAAAAAAAAAAAAAAAAAAAAAAAAAAAAAAAAAAAAAAAAAAAAAAAAAAAAAAAAAAAAAAAAAAAAAAAAAAAAAAAAAAAAAAAAAAAAAAAAAAAAAAAAAAAAAAAAAAAAAAAAAAAAAAAAAAAAAAAAAAAAAAAAAAAAAAAAAAAAAAAAAAAAAAAAAAAAAAAAAAAAAAAAAAAAAAAAAAAAAAAAAAAAAAAAAAAAAAAAAAAAAAAAAAAAAAAAAAAAAAAAAAAAAAAAAAAAAAAAAAAAAAAAAAAAAAAAAAAAAAAAAAAAAAAAAAAAAAAAAAAAAAAAAAAAAAAAAAAAAAAAAAAAAAAAAAAAAAAAAAAAAAAAAAAAAAAAAAAAAAAAAAAAAAAAAAAAAAAAAAAAAAAAAAAAAAAAAAAAAAAAAAAAAAAAAAAAAAAAAAAAAAAAAAAAAAAAAAAAAAAAAAAAAAAAAAAAAAAAAAAAAAAAAAAAAAAAAAAAAAAAAAAAAAAAAAAAAAAAAAAAAAAAAAAAAAAAAAAAAAAAAAAAAAAAAAAAAAAAAAAAAAAAAAAAAAAAAAAAAAAAAAAAAAAAAAAAAAAAAAAAAAAAAAAAAAAAAAAAAAAAAAAAAAAAAAAAAAAAAAAAAAAAAAAAAAAAAAAAAAAAAAAAAAAAAAAAAAAAAAAAAAAAAAAAAAAAAAAAAAAAAAAAAAAAAAAAAAAAAAAAAAAAAAAAAAAAAAAAAAAAAAAAAAAAAAAAAAAAAAAAAAAAAAAAAAAAAAAAAAAAAAAAAAAAAAAAAAAAAAAAAAAAAAAAAAAAAAAAAAAAAAAAAAAAAAAAAAAAAAAAAAAAAAAAAAAAAAAAAAAAAAAAAAAAAAAAAAAAAAAAAAAAAAAAAAAAAAAAAAAAAAAAAAAAAAAAAAAAAAAAAAAAAAAAAAAAAAAAAAAAAAAAAAAAAAAAAAAAAAAAAAAAAAAAAAAAAAAAAAAAAAAAAAAAAAAAAAAAAAAAAAAAAAAAAAAAAAAAAAAAAAAAAAAAAAAAAAAAAAAAAAAAAAAAAAAAAAAAAAAAAAAAAAAAAAAAAAAAAAAAAAAAAAAAAAAAAAAAAAAAAAAAAAAAAAAAAAAAAAAAAAAAAAAAAAAAAAAAAAAAAAAAAAAAAAAAAAAAAAAAAAAAAAAAAAAAAAAAAAAAAAAAAAAAAAAAAAAAAAAAAAAAAAAAAAAAAAAAAAAAAAAAAAAAAAAAAAAAAAAAAAAAAAAAAAAAAAAAAAAAAAAAAAAAAAAAAAAAAAAAAAAAAAAAAAAAAAAAAAAAAAAAAAAAAAAAAAAAAAAAAAAAAAAAAAAAAAAAAAAAAAAAAAAAAAAAAAAAAAAAAAAAAAAAAAAAAAAAAAAAAAAAAAAAAAAAAAAAAAAAAAAAAAAAAAAAAAAAAAAAAAAAAAAAAAAAAAAAAAAAAAAAAAAAAAAAAAAAAAAAAAAAAAAAAAAAAAAAAAAAAAAAAAAAAAAAAAAAAAAAAAAAAAAAAAAAAAAAAAAAAAAAAAAAAAAAAAAAAAAAAAAAAAAAAAAAAAAAAAAAAAAAAAAAAAAAAAAAAAAAAAAAAAAAAAAAAAAAAAAAAAAAAAAAAAAAAAAAAAAAAAAAAAAAAAAAAAAAAAAAAAAAAAAAAAAAAAAAAAAAAAAAAAAAAAAAAAAAAAAAAAAAAAAAAAAAAAAAAAAAAAAAAAAAAAAAAAAAAAAAAAAAAAAAAAAAAAAAAAAAAAAAAAAAAAAAAAAAAAAAAAAAAAAAAAAAAAAAAAAAAAAAAAAAAAAAAAAAAAAAAAAAAAAAAAAAAAAAAAAAAAAAAAAAAAAAAAAAAAAAAAAAAAAAAAAAAAAAAAAAAAAAAAAAAAAAAAAAAAAAAAAAAAAAAAAAAAAAAAAAAAAAAAAAAAAAAAAAAAAAAAAAAAAAAAAAAAAAAAAAAAAAAAAAAAAAAAAAAAAAAAAAAAAAAAAAAAAAAAAAAAAAAAAAAAAAAAAAAAAAAAAAAAAAAAAAAAAAAAAAAAAAAAAAAAAAAAAAAAAAAAAAAAAAAAAAAAAAAAAAAAAAAAAAAAAAAAAAAAAAAAAAAAAAAAAAAAAAAAAAAAAAAAAAAAAAAAAAAAAAAAAAAAAAAAAAAAAAAAAAAAAAAAAAAAAAAAAAAAAAAAAAAAAAAAAAAAAAAAAAAAAAAAAAAAAAAAAAAAAAAAAAAAAAAAAAAAAAAAAAAAAAAAAAAAAAAAAAAAAAAAAAAAAAAAAAAAAAAAAAAAAAAAAAAAAAAAAAAAAAAAAAAAAAAAAAAAAAAAAAAAAAAAAAAAAAAAAAAAAAAAAAAAAAAAAAAAAAAAAAAAAAAAAAAAAAAAAAAAAAAAAAAAAAAAAAAAAAAAAAAAAAAAAAAAAAAAAAAAAAAAAAAAAAAAAAAAAAAAAAAAAAAAAAAAAAAAAAAAAAAAAAAAAAAAAAAAAAAAAAAAAAAAAAAAAAAAAAAAAAAAAAAAAAAAAAAAAAAAAAAAAAAAAAAAAAAAAAAAAAAAAAAAAAAAAAAAAAAAAAAAAAAAAAAAAAAAAAAAAAAAAAAAAAAAAAAAAAAAAAAAAAAAAAAAAAAAAAAAAAAAAAAAAAAAAAAAAAAAAAAAAAAAAAAAAAAAAAAAAAAAAAAAAAAAAAAAAAAAAAAAAAAAAAAAAAAAAAAAAAAAAAAAAAAAAAAAAAAAAAAAAAAAAAAAAAAAAAAAAAAAAAAAAAAAAAAAAAAAAAAAAAAAAAAAAAAAAAAAAAAAAAAAAAAAAAAAAAAAAAAAAAAAAAAAAAAAAAAAAAAAAAAAAAAAAAAAAAAAAAAAAAAAAAAAAAAAAAAAAAAAAAAAAAAAAAAAAAAAAAAAAAAAAAAAAAAAAAAAAAAAAAAAAAAAAAAAAAAAAAAAAAAAAAAAAAAAAAAAAAAAAAAAAAAAAAAAAAAAAAAAAAAAAAAAAAAAAAAAAAAAAAAAAAAAAAAAAAAAAAAAAAAAAAAAAAAAAAAAAAAAAAAAAAAAAAAAAAAAAAAAAAAAAAAAAAAAAAAAAAAAAAAAAAAAAAAAAAAAAAAAAAAAAAAAAAAAAAAAAAAAAAAAAAAAAAAAAAAAAAAAAAAAAAAAAAAAAAAAAAAAAAAAAAAAAAAAAAAAAAAAAAAAAAAAAAAAAAAAAAAAAAAAAAAAAAAAAAAAAAAAAAAAAAAAAAAAAAAAAAAAAAAAAAAAAAAAAAAAAAAAAAAAAAAAAAAAAAAAAAAAAAAAAAAAAAAAAAAAAAAAAAAAAAAAAAAAAAAAAAAAAAAAAAAAAAAAAAAAAAAAAAAAAAAAAAAAAAAAAAAAAAAAAAAAAAAAAAAAAAAAAAAAAAAAAAAAAAAAAAAAAAAAAAAAAAAAAAAAAAAAAAAAAAAAAAAAAAAAAAAAAAAAAAAAAAAAAAAAAAAAAAAAAAAAAAAAAAAAAAAAAAAAAAAAAAAAAAAAAAAAAAAAAAAAAAAAAAAAAAAAAAAAAAAAAAAAAAAAAAAAAAAAAAAAAAAAAAAAAAAAAAAAAAAAAAAAAAAAAAAAAAAAAAAAAAAAAAAAAAAAAAAAAAAAAAAAAAAAAAAAAAAAAAAAAAAAAAAAAAAAAAAAAAAAAAAAAAAAAAAAAAAAAAAAAAAAAAAAAAAAAAAAAAAAAAAAAAAAAAAAAAAAAAAAAAAAAAAAAAAAAAAAAAAAAAAAAAAAAAAAAAAAAAAAAAAAAAAAAAAAAAAAAAAAAAAAAAAAAAAAAAAAAAAAAAAAAAAAAAAAAAAAAAAAAAAAAAAAAAAAAAAAAAAAAAAAAAAAAAAAAAAAAAAAAAAAAAAAAAAAAAAAAAAAAAAAAAAAAAAAAAAAAAAAAAAAAAAAAAAAAAAAAAAAAAAAAAAAAAAAAAAAAAAAAAAAAAAAAAAAAAAAAAAAAAAAAAAAAAAAAAAAAAAAAAAAAAAAAAAAAAAAAAAAAAAAAAAAAAAAAAAAAAAAAAAAAAAAAAAAAAAAAAAAAAAAAAAAAAAAAAAAAAAAAAAAAAAAAAAAAAAAAAAAAAAAAAAAAAAAAAAAAAAAAAAAAAAAAAAAAAAAAAAAAAAAAAAAAAAAAAAAAAAAAAAAAAAAAAAAAAAAAAAAAAAAAAAAAAAAAAAAAAAAAAAAAAAAAAAAAAAAAAAAAAAAAAAAAAAAAAAAAAAAAAAAAAAAAAAAAAAAAAAAAAAAAAAAAAAAAAAAAAAAAAAAAAAAAAAAAAAAAAAAAAAAAAAAAAAAAAAAAAAAAAAAAAAAAAAAAAAAAAAAAAAAAAAAAAAAAAAAAAAAAAAAAAAAAAAAAAAAAAAAAAAAAAAAAAAAAAAAAAAAAAAAAAAAAAAAAAAAAAAAAAAAAAAAAAAAAAAAAAAAAAAAAAAAAAAAAAAAAAAAAAAAAAAAAAAAAAAAAAAAAAAAAAAAAAAAAAAAAAAAAAAAAAAAAAAAAAAAAAAAAAAAAAAAAAAAAAAAAAAAAAAAAAAAAAAAAAAAAAAAAAAAAAAAAAAAAAAAAAAAAAAAAAAAAAAAAAAAAAAAAAAAAAAAAAAAAAAAAAAAAAAAAAAAAAAAAAAAAAAAAAAAAAAAAAAAAAAAAAAAAAAAAAAAAAAAAAAAAAAAAAAAAAAAAAAAAAAAAAAAAAAAAAAAAAAAAAAAAAAAAAAAAAAAAAAAAAAAAAAAAAAAAAAAAAAAAAAAAAAAAAAAAAAAAAAAAAAAAAAAAAAAAAAAAAAAAAAAAAAAAAAAAAAAAAAAAAAAAAAAAAAAAAAAAAAAAAAAAAAAAAAAAAAAAAAAAAAAAAAAAAAAAAAAAAAAAAAAAAAAAAAAAAAAAAAAAAAAAAAAAAAAAAAAAAAAAAAAAAAAAAAAAAAAAAAAAAAAAAAAAAAAAAAAAAAAAAAAAAAAAAAAAAAAAAAAAAAAAAAAAAAAAAAAAAAAAAAAAAAAAAAAAAAAAAAAAAAAAAAAAAAAAAAAAAAAAAAAAAAAAAAAAAAAAAAAAAAAAAAAAAAAAAAAAAAAAAAAAAAAAAAAAAAAAAAAAAAAAAAAAAAAAAAAAAAAAAAAAAAAAAAAAAAAAAAAAAAAAAAAAAAAAAAAAAAAAAAAAAAAAAAAAAAAAAAAAAAAAAAAAAAAAAAAAAAAAAAAAAAAAAAAAAAAAAAAAAAAAAAAAAAAAAAAAAAAAAAAAAAAAAAAAAAAAAAAAAAAAAAAAAAAAAAAAAAAAAAAAAAAAAAAAAAAAAAAAAAAAAAAAAAAAAAAAAAAAAAAAAAAAAAAAAAAAAAAAAAAAAAAAAAAAAAAAAAAAAAAAAAAAAAAAAAAAAAAAAAAAAAAAAAAAAAAAAAAAAAAAAAAAAAAAAAAAAAAAAAAAAAAAAAAAAAAAAAAAAAAAAAAAAAAAAAAAAAAAAAAAAAAAAAAAAAAAAAAAAAAAAAAAAAAAAAAAAAAAAAAAAAAAAAAAAAAAAAAAAAAAAAAAAAAAAAAAAAAAAAAAAAAAAAAAAAAAAAAAAAAAAAAAAAAAAAAAAAAAAAAAAAAAAAAAAAAAAAAAAAAAAAAAAAAAAAAAAAAAAAAAAAAAAAAAAAAAAAAAAAAAAAAAAAAAAAAAAAAAAAAAAAAAAAAAAAAAAAAAAAAAAAAAAAAAAAAAAAAAAAAAAAAAAAAAAAAAAAAAAAAAAAAAAAAAAAAAAAAAAAAAAAAAAAAAAAAAAAAAAAAAAAAAAAAAAAAAAAAAAAAAAAAAAAAAAAAAAAAAAAAAAAAAAAAAAAAAAAAAAAAAAAAAAAAAAAAAAAAAAAAAAAAAAAAAAAAAAAAAAAAAAAAAAAAAAAAAAAAAAAAAAAAAAAAAAAAAAAAAAAAAAAAAAAAAAAAAAAAAAAAAAAAAAAAAAAAAAAAAAAAAAAAAAAAAAAAAAAAAAAAAAAAAAAAAAAAAAAAAAAAAAAAAAAAAAAAAAAAAAAAAAAAAAAAAAAAAAAAAAAAAAAAAAAAAAAAAAAAAAAAAAAAAAAAAAAAAAAAAAAAAAAAAAAAAAAAAAAAAAAAAAAAAAAAAAAAAAAAAAAAAAAAAAAAAAAAAAAAAAAAAAAAAAAAAAAAAAAAAAAAAAAAAAAAAAAAAAAAAAAAAAAAAAAAAAAAAAAAAAAAAAAAAAAAAAAAAAAAAAAAAAAAAAAAAAAAAAAAAAAAAAAAAAAAAAAAAAAAAAAAAAAAAAAAAAAAAAAAAAAAAAAAAAAAAAAAAAAAAAAAAAAAAAAAAAAAAAAAAAAAAAAAAAAAAAAAAAAAAAAAAAAAAAAAAAAAAAAAAAAAAAAAAAAAAAAAAAAAAAAAAAAAAAAAAAAAAAAAAAAAAAAAAAAAAAAAAAAAAAAAAAAAAAAAAAAAAAAAAAAAAAAAAAAAAAAAAAAAAAAAAAAAAAAAAAAAAAAAAAAAAAAAAAAAAAAAAAAAAAAAAAAAAAAAAAAAAAAAAAAAAAAAAAAAAAAAAAAAAAAAAAAAAAAAAAAAAAAAAAAAAAAAAAAAAAAAAAAAAAAAAAAAAAAAAAAAAAAAAAAAAAAAAAAAAAAAAAAAAAAAAAAAAAAAAAAAAAAAAAAAAAAAAAAAAAAAAAAAAAAAAAAAAAAAAAAAAAAAAAAAAAAAAAAAAAAAAAAAAAAAAAAAAAAAAAAAAAAAAAAAAAAAAAAAAAAAAAAAAAAAAAAAAAAAAAAAAAAAAAAAAAAAAAAAAAAAAAAAAAAAAAAAAAAAAAAAAAAAAAAAAAAAAAAAAAAAAAAAAAAAAAAAAAAAAAAAAAAAAAAAAAAAAAAAAAAAAAAAAAAAAAAAAAAAAAAAAAAAAAAAAAAAAAAAAAAAAAAAAAAAAAAAAAAAAAAAAAAAAAAAAAAAAAAAAAAAAAAAAAAAAAAAAAAAAAAAAAAAAAAAAAAAAAAAAAAAAAAAAAAAAAAAAAAAAAAAAAAAAAAAAAAAAAAAAAAAAAAAAAAAAAAAAAAAAAAAAAAAAAAAAAAAAAAAAAAAAAAAAAAAAAAAAAAAAAAAAAAAAAAAAAAAAAAAAAAAAAAAAAAAAAAAAAAAAAAAAAAAAAAAAAAAAAAAAAAAAAAAAAAAAAAAAAAAAAAAAAAAAAAAAAAAAAAAAAAAAAAAAAAAAAAAAAAAAAAAAAAAAAAAAAAAAAAAAAAAAAAAAAAAAAAAAAAAAAAAAAAAAAAAAAAAAAAAAAAAAAAAAAAAAAAAAAAAAAAAAAAAAAAAAAAAAAAAAAAAAAAAAAAAAAAAAAAAAAAAAAAAAAAAAAAAAAAAAAAAAAAAAAAAAAAAAAAAAAAAAAAAAAAAAAAAAAAAAAAAAAAAAAAAAAAAAAAAAAAAAAAAAAAAAAAAAAAAAAAAAAAAAAAAAAAAAAAAAAAAAAAAAAAAAAAAAAAAAAAAAAAAAAAAAAAAAAAAAAAAAAAAAAAAAAAAAAAAAAAAAAAAAAAAAAAAAAAAAAAAAAAAAAAAAAAAAAAAAAAAAAAAAAAAAAAAAAAAAAAAAAAAAAAAAAAAAAAAAAAAAAAAAAAAAAAAAAAAAAAAAAAAAAAAAAAAAAAAAAAAAAAAAAAAAAAAAAAAAAAAAAAAAAAAAAAAAAAAAAAAAAAAAAAAAAAAAAAAAAAAAAAAAAAAAAAAAAAAAAAAAAAAAAAAAAAAAAAAAAAAAAAAAAAAAAAAAAAAAAAAAAAAAAAAAAAAAAAAAAAAAAAAAAAAAAAAAAAAAAAAAAAAAAAAAAAAAAAAAAAAAAAAAAAAAAAAAAAAAAAAAAAAAAAAAAAAAAAAAAAAAAAAAAAAAAAAAAAAAAAAAAAAAAAAAAAAAAAAAAAAAAAAAAAAAAAAAAAAAAAAAAAAAAAAAAAAAAAAAAAAAAAAAAAAAAAAAAAAAAAAAAAAAAAAAAAAAAAAAAAAAAAAAAAAAAAAAAAAAAAAAAAAAAAAAAAAAAAAAAAAAAAAAAAAAAAAAAAAAAAAAAAAAAAAAAAAAAAAAAAAAAAAAAAAAAAAAAAAAAAAAAAAAAAAAAAAAAAAAAAAAAAAAAAAAAAAAAAAAAAAAAAAAAAAAAAAAAAAAAAAAAAAAAAAAAAAAAAAAAAAAAAAAAAAAAAAAAAAAAAAAAAAAAAAAAAAAAAAAAAAAAAAAAAAAAAAAAAAAAAAAAAAAAAAAAAAAAAAAAAAAAAAAAAAAAAAAAAAAAAAAAAAAAAAAAAAAAAAAAAAAAAAAAAAAAAAAAAAAAAAAAAAAAAAAAAAAAAAAAAAAAAAAAAAAAAAAAAAAAAAAAAAAAAAAAAAAAAAAAAAAAAAAAAAAAAAAAAAAAAAAAAAAAAAAAAAAAAAAAAAAAAAAAAAAAAAAAAAAAAAAAAAAAAAAAAAAAAAAAAAAAAAAAAAAAAAAAAAAAAAAAAAAAAAAAAAAAAAAAAAAAAAAAAAAAAAAAAAAAAAAAAAAAAAAAAAAAAAAAAAAAAAAAAAAAAAAAAAAAAAAAAAAAAAAAAAAAAAAAAAAAAAAAAAAAAAAAAAAAAAAAAAAAAAAAAAAAAAAAAAAAAAAAAAAAAAAAAAAAAAAAAAAAAAAAAAAAAAAAAAAAAAAAAAAAAAAAAAAAAAAAAAAAAAAAAAAAAAAAAAAAAAAAAAAAAAAAAAAAAAAAAAAAAAAAAAAAAAAAAAAAAAAAAAAAAAAAAAAAAAAAAAAAAAAAAAAAAAAAAAAAAAAAAAAAAAAAAAAAAAAAAAAAAAAAAAAAAAAAAAAAAAAAAAAAAAAAAAAAAAAAAAAAAAAAAAAAAAAAAAAAAAAAAAAAAAAAAAAAAAAAAAAAAAAAAAAAAAAAAAAAAAAAAAAAAAAAAAAAAAAAAAAAAAAAAAAAAAAAAAAAAAAAAAAAAAAAAAAAAAAAAAAAAAAAAAAAAAAAAAAAAAAAAAAAAAAAAAAAAAAAAAAAAAAAAAAAAAAAAAAAAAAAAAAAAAAAAAAAAAAAAAAAAAAAAAAAAAAAAAAAAAAAAAAAAAAAAAAAAAAAAAAAAAAAAAAAAAAAAAAAAAAAAAAAAAAAAAAAAAAAAAAAAAAAAAAAAAAAAAAAAAAAAAAAAAAAAAAAAAAAAAAAAAAAAAAAAAAAAAAAAAAAAAAAAAAAAAAAAAAAAAAAAAAAAAAAAAAAAAAAAAAAAAAAAAAAAAAAAAAAAAAAAAAAAAAAAAAAAAAAAAAAAAAAAAAAAAAAAAAAAAAAAAAAAAAAAAAAAAAAAAAAAAAAAAAAAAAAAAAAAAAAAAAAAAAAAAAAAAAAAAAAAAAAAAAAAAAAAAAAAAAAAAAAAAAAAAAAAAAAAAAAAAAAAAAAAAAAAAAAAAAAAAAAAAAAAAAAAAAAAAAAAAAAAAAAAAAAAAAAAAAAAAAAAAAAAAAAAAAAAAAAAAAAAAAAAAAAAAAAAAAAAAAAAAAAAAAAAAAAAAAAAAAAAAAAAAAAAAAAAAAAAAAAAAAAAAAAAAAAAAAAAAAAAAAAAAAAAAAAAAAAAAAAAAAAAAAAAAAAAAAAAAAAAAAAAAAAAAAAAAAAAAAAAAAAAAAAAAAAAAAAAAAAAAAAAAAAAAAAAAAAAAAAAAAAAAAAAAAAAAAAAAAAAAAAAAAAAAAAAAAAAAAAAAAAAAAAAAAAAAAAAAAAAAAAAAAAAAAAAAAAAAAAAAAAAAAAAAAAAAAAAAAAAAAAAAAAAAAAAAAAAAAAAAAAAAAAAAAAAAAAAAAAAAAAAAAAAAAAAAAAAAAAAAAAAAAAAAAAAAAAAAAAAAAAAAAAAAAAAAAAAAAAAAAAAAAAAAAAAAAAAAAAAAAAAAAAAAAAAAAAAAAAAAAAAAAAAAAAAAAAAAAAAAAAAAAAAAAAAAAAAAAAAAAAAAAAAAAAAAAAAAAAAAAAAAAAAAAAAAAAAAAAAAAAAAAAAAAAAAAAAAAAAAAAAAAAAAAAAAAAAAAAAAAAAAAAAAAAAAAAAAAAAAAAAAAAAAAAAAAAAAAAAAAAAAAAAAAAAAAAAAAAAAAAAAAAAAAAAAAAAAAAAAAAAAAAAAAAAAAAAAAAAAAAAAAAAAAAAAAAAAAAAAAAAAAAAAAAAAAAAAAAAAAAAAAAAAAAAAAAAAAAAAAAAAAAAAAAAAAAAAAAAAAAAAAAAAAAAAAAAAAAAAAAAAAAAAAAAAAAAAAAAAAAAAAAAAAAAAAAAAAAAAAAAAAAAAAAAAAAAAAAAAAAAAAAAAAAAAAAAAAAAAAAAAAAAAAAAAAAAAAAAAAAAAAAAAAAAAAAAAAAAAAAAAAAAAAAAAAAAAAAAAAAAAAAAAAAAAAAAAAAAAAAAAAAAAAAAAAAAAAAAAAAAAAAAAAAAAAAAAAAAAAAAAAAAAAAAAAAAAAAAAAAAAAAAAAAAAAAAAAAAAAAAAAAAAAAAAAAAAAAAAAAAAAAAAAAAAAAAAAAAAAAAAAAAAAAAAAAAEA///+/wAA+////////f/9//7////9/wEAAAAAAAAA/P/9//z//v8AAAAAAAD///3//P/9//z//v8AAAAAAAAAAP///P/8//z//v8AAAAA///8//z//f/8//v/////////AAD8//3/+/////7//f/9//3//f/+////+P/9/wMABwAAAPn/+v/5//3/AAAHAAEA+v/5//r/AgACAP//AwD+//3/AAD+//7//f8AAP7/AAAAAAIA/v8DAAAA+/8EAP7/AgD+//7//P/9/wEA//8AAAIABAD8/wIAAAD9/wIA+v/9//7/BgAIAP///v/t//n/BwAGAA4ACgDv//P/AADz/wIAFwACAO3/+f/f//b/FwAfACYA9P/X/8P/6v8gABgAAAAiAAAA7f8SALf/5P/t/97/bwBYABQA8v9d/6H/NwAqAEcAOwAGAN7/r/+v//r/QQBQABQA8f/r/8j/zf/y/z4ARAATAND/zf/w/+X/BwAjACoAHADl/6f/+v/9/wIAIAACAE4Awv/c//z/u/8AAC4AIQAqACkAef/u//f/DwAiAOP/PgAFAAkAr/8OAO7/1f9GAPL/TwDn/7H//v8gAEUA2f/S//D/OgATANb/HwDs//f/+f/p/yQAGgDV//D/LgAAAO//7//4/wsACwD9//n/AgDk/wgAFQALAPr/z/8TAAkA/v8AAPP/DQD6//D/FAAUAOb/BADl/wMAEwD3/xUA+v8AAAAADgACACMA7//d/xQAx/8TAA8AAAAnAAUACgDk/+f/7P8mACIA8P/7/9b/DgACAPL/DgDn/xYAFAD0////8//g/wIAHgAWABUA4f/t/+7//v8aAAIA//8GABQA5//4/wAAAwAjAAMAAADn/+T/CAD2/wcAAADv/wYA/P8SAOz/+/8XAPT/GQD1/+H/5P/5/yQAEAANAPb////9/+f/FAD4//7/FwDn//v/+f/o/wwADQD4//3/7v/m/wsADQADAAkAAADq//v/BgDl/wsAHAABAAMA0v/u/xAADwBJACsA/P/h/7r/1f8PACAAKgBAABYA4f+r/5L/5/8dAD8AOAAcABQA5f+4/7H//f/8/xkAIQD9/ysA4f/l/wAA9/8hAAgA7v8EAAYA7f/8/wAAEQAXAOz/AwATAAUAAADi//j/CgD+//X/DgATAAAAGAD2//H/9f/U//P/BQAdACcA9v8AAP3/4v///wAAAAADAPr/+/8DAAMA/f8DAP7/+/8FAP3/AAACAAAABAAAAAIAAAD9/wAA///5/wAA/P8AAAcA9v/7//7//P8EAAAA+f/6////AAD8//3//P///wAA+//+//z/AAABAAMAAwD9/wAAAwD8//r/+v/8/wAAAAD+//z///8AAP//+//9//7//P///wAAAAAAAAAAAQABAAEAAAAAAAIAAgAAAP//AAD///7//v/9///////9/wAA///9/////v/9//3//f/+//3//v/9//7////+////AAAAAAAAAAAAAAAAAAABAAAAAAABAAAAAAAAAAEAAgACAAIAAAD//wAAAAAAAP7//v/+//z//f/9//7//v///wAA///+//7//f/8/////f/9//7//v///wAA/////wAAAAAAAAEAAAABAAAAAgACAAAAAAAAAAIAAQACAAEAAQAAAAAAAgAAAAEAAQAAAAEAAAABAAAAAQABAAAAAAAAAAAA/////////v/+//3////9//z/AAD///z///8AAPz//v////3//f////3//P/9//3//v///wAAAAD//wAAAAAAAAAAAgAAAAAAAwABAAAAAQABAAAAAQAAAAAAAQAAAAEAAAAAAAAAAAAAAAEAAQABAAEAAAABAAEAAAAAAAEAAQABAAEAAQABAAEAAQABAAEAAQABAAEAAQABAAEAAQABAAEAAQABAAEAAQABAAEAAQABAAEAAQABAAEAAQABAAEAAQABAAEAAQABAAEAAQABAAEAAQABAAEAAQABAAEAAQABAAEAAQABAAEAAQABAAEAAQABAAEAAQABAAEAAQABAAEAAQABAAEAAgACAAEAAgACAAIAAgACAAIAAgACAAEAAgACAAEAAQABAAEAAQABAAAAAQAAAAEAAAAAAAAAAQABAAAAAAAAAAAAAAD/////AQAAAP///v8AAAAA/v8AAP7/AAD//wEAAAD9/wAAAAAAAP3/AAAAAP3/AAD///3//v/+/////f/9/wAA/v/9////AAD+//7/AAD///7/AAD+/wAA///+/////////////v/+//////////7//////wAAAAD+/wAAAAAAAAAAAAAAAAEAAQD//wEAAAD//wAAAAD8////AAD+//3//v8AAP3//////wAAAAD///7/AQAAAP//AAD//wAA/v////7/AAD+//7///8AAAAA//8AAAAA//8AAP////8AAAAAAAD//wAAAAD/////AAAAAP7/AAAAAAAAAAABAAEAAAAAAAEAAAD9/wAA/v///wAA/f/+//z//v/+//z//v/9//3//f/7////AAAAAP/////6//r//P/8/wAAAAAAAPr///8AAP//CwAHAAAA/f/2//P/+v/+/wIACAAJAAAA9//5//j/+//9//v/+P/2//L/+P8GAAgACAAAAPb/9P/3//v/+f/9/wIAAAAAAP//+/8CAAMAAQACAAQABQAEAA4AGwAgABwADwAAAP7/AAD/////+//0//H/+v/8////9P/n/+j/6v/+/w4AHwAuABkA1P9z/xr/Jf+Q/x8A0AAAAb4AYwD4/7z/mv+a/+n/XwC0AMgAegAbAMz/kP+f/7r/DQBeAGMAVgAlANr/lf9k/27/vP/+/ygAHADu/8j/oP+m/8P//P9HAGkAYgA5APf/wf+w/8X/BwBTAH4AewBPAA8A1P+v/7X/4P8KACkAMgAKAOL/wP+n/8T/5v8KACYAHgALAOj/yv/L/8v/4f8NABgAMgA3ABYABgD1//n/CAAPAAsA+v/6/wkAEgANAAAA7P/v/wEADgAHAP3/+f/u//r//f/8/wcAEwAuACYADAD7/+H/3f/z/+3/5v/r/+X//f8FAA4AHwAMAAAA8f/f/+f/BwAcACAAKQAyADMAGQAFAOn/6P8VACwAQAA5ABUA+f/c/83/6v/4//r/FgD5/9H/vv+2/+r/CgD9/+3/6//w//X/6//h//X/AAAZAD8APwAWAPP/AAAoADwAJAANAAoAFgAJAOr/6P/t//v/IAAqAB4A+//C/8H/xP+//+j/IQBcAGsALwDX/6H/p//g/xwAUwBsAEcAHwD1/7f/qf+l/8f/DQA1AEYAKgAyAB4ADAD//9L/5v/W/+3/JgBCAD4A/v/M/8b/0v++/67/uP/o/zMAhgCiAFcA/f+Z/2T/yP81AJkAygAUALz/av89/w4ADADp/z0AUgB6AB0Ab/+K/+P/GwBuACEA+P8UAM//tf+2/xMAXgAVACwAUAATAM//iv+G/8z/DwAlADIADADA/4r/dv/A//r/HQBRAG8ARADe/5j/f/+9/xsAjQDeAKEAIgCu/4T/oP/p/zQAYgBuABgAnf8+/yH/W//B/zAAhQCGACgA2/+z/7H/4f///yoAaQB9AFkAFwDi/+X/BwA2AHcAbwA+AAQAz//L/8f/5f/8//H/4P/S/+X/x/+7/9n/1f/6//L/0f/n/+f/HQA5AAwAJAAlAB8AOgBAAFoASwASAOD/yv8FAEwARgATAPH/5v/q/+r/0P/b//v/BQAMAPn/+f8NAAYABgABAOn/yv/S/+7/9v8cABgA7//l/9z/z//X//T/BQAaAA8ABwAGAPX/HQAoAAwAFQASAA8AHwAjAC0ALQAFAPP/8P/0/xEAFQACAOD/zf/R/9X/AAAgADMAGgD0/+j/u/+4/8X/3f8AABQAKwAIAPP/9P/i/+X/6v8PAEIASwA+AAoA3//o/wUAIQA5AEkAJQDf/7b/xP/l/xEAMwA9ACcA0/+0/7X/w/8JACgARwBFAA8A+//c/8X/7v8UABQAKwAbAAEAFgDy//D/+v/b//D//P/r//L/CgAQAAwA+f/y//n/7//t//f/CQAXABsADQAAAPb/8//s//L/AgAAAPX/3P/i/+b/9v/w/8z/7f8RADsAVAAuABcAIQAfACUAGAACABYADAD5//D/5f/6/wUA9//z/xAAIgAXAAcA8v/d/9L/5/8FAAwACQD3//X/AAADAPv/8P/9/wQADgADAPr/AwAAAAEA/f/5//7/+P8AAAUAAAACAPr/+//9//z/AAD7//3////+//7//f/6//3//f/9/////v8AAPz//f/9//7///8AAAAAAAAAAP7/AAAAAAAAAAAAAAEAAQAAAAAAAAABAAAAAAAAAAAAAQAAAAEAAAAAAP//AAAAAAAAAAAAAAAAAAAAAAAAAAAAAAAAAAAAAP//AAD//wAA//8AAAAAAAAAAP//AAD//wAAAAD//wAAAAD///7/AAAAAAAAAwABAAAAAAAAAAAAAgABAP7/AQACAAAABAABAAAABAADAAMAAgADAAIA//8BAAQAAgADAAAAAAABAAAAAgAAAAAAAAAAAP//AQACAP7/AAACAAMAAQD/////AAAEAAAAAAABAP//AgACAAIAAgACAAEA/v8AAAAAAAACAP7/AAABAP7/AgABAP///v/+//7//////////v8AAAEAAgAAAP////8AAAEA/v8AAAEA/v8AAP3/AQABAAAAAgD+/wAAAgACAAIAAgACAAEAAgACAAIAAgACAAEAAgACAAIAAQABAAIAAgACAAIAAgACAAIAAgACAAIAAgACAAIAAgACAAIAAgACAAIAAgADAAMAAwADAAIAAwADAAMAAwADAAMAAwADAAMAAwADAAMAAwADAAMAAgADAAMAAwADAAMAAwADAAMAAwADAAMAAwADAAMAAwADAAMAAwADAAMAAwADAAMAAwADAAMAAwADAAMAAwADAAMAAwACAAMAAgACAAMAAgADAAMAAwADAAMAAwADAAMAAwADAAMAAwADAAMAAwADAAMAAwACAAMAAwADAAMAAwADAAMAAwADAAMAAwADAAMAAwADAAMAAwADAAMAAwADAAIAAgACAAIAAgACAAIAAgACAAIAAgACAAIAAQABAAIAAQABAAEAAQABAAEAAQABAAEAAQABAAEAAQABAAEAAQABAAEAAQABAAEAAQABAAEAAQABAAEAAQABAAEAAQABAAEAAQABAAEAAQABAAEAAQABAAEAAQABAAEAAQABAAEAAQABAAEAAQABAAEAAQABAAEAAQABAAEAAQABAAEAAQABAAEAAQABAAEAAQABAAIAAgACAAIAAgACAAIAAgACAAIAAgACAAIAAgACAAIAAgACAAIAAgACAAIAAgACAAIAAgACAAIAAgACAAIAAgACAAIAAQABAAEAAQABAAEAAQABAAEAAQABAAEAAQABAAEAAQABAAEAAQABAAEAAQABAAEAAQABAAEAAQABAAEAAQABAAEAAQABAAEAAQABAAEAAQABAAEAAQABAAEAAQABAAEAAQABAAEAAQABAAEAAQABAAEAAQABAAEAAQABAAEAAQABAAEAAQABAAEAAQABAAEAAQABAAEAAQABAAEAAQABAAEAAQABAAEAAQABAAEAAQABAAEAAQABAAEAAQABAAEAAQABAAEAAQABAAEAAQABAAEAAQABAAEAAQABAAEAAQABAAEAAQABAAEAAQABAAEAAQABAAEAAQABAAEAAQABAAEAAQABAAEAAQABAAEAAQABAAEAAQABAAEAAQABAAEAAQABAAEAAQABAAEAAQAAAAAAAAAAAAAAAAAAAAAAAAAAAAAAAAAAAAAAAAAAAAAAAAAAAAAAAAAAAAAAAAAAAAAAAAAAAAAAAAAAAAAAAAAAAAAAAAAAAAAAAAAAAAAAAAAAAAAAAAAAAAAAAAAAAAAAAAAAAAAAAAAAAAAAAAAAAAAAAAAAAAAAAAAAAAAAAAAAAAAAAAAAAAAAAAAAAAAAAAAAAAAAAAAAAAAAAAAAAAAAAAAAAAAAAAAAAAAAAAAAAAAAAAAAAAAAAAAAAAAAAAAAAAAAAAAAAAAAAAAAAAAAAAAAAAAAAAAAAAAAAAAAAAAAAAAAAAAAAAAAAAAAAQAAAAAAAAAAAAAAAQABAAAAAAAAAAAAAAAAAAAAAAAAAAAAAAAAAAAAAAAAAAAAAAAAAAAAAAAAAAAAAAAAAAAAAAAAAAAAAAAAAAAAAAAAAAAAAAAAAAAAAAAAAAAAAAAAAAAAAAAAAAAAAAAAAAAAAAAAAAAAAAAAAAAAAAAAAAAAAAAAAAAAAAAAAAAAAAAAAAAAAAAAAAAAAAAAAAAAAAAAAAAAAAAAAAAAAAAAAAAAAAAAAAAAAAAAAAAAAAAAAAAAAAAAAAAAAAAAAAAAAAAAAAAAAAAAAAAAAAAAAAAAAAAAAAAAAAAAAAAAAAAAAAAAAAAAAAAAAAAAAAAAAAAAAAAAAAAAAAAAAAAAAAAAAAAAAAAAAAAAAAAAAAAAAAAAAAAAAAAAAAAAAAAAAAAAAAAAAAAAAAAAAAAAAAAAAAAAAAAAAAAAAAAAAAABAAEAAQABAAEAAQABAAEAAQABAAEAAQABAAEAAQABAAEAAQABAAEAAQABAAEAAQABAAEAAQABAAEAAQABAAEAAQABAAEAAQABAAEAAQABAAEAAQABAAEAAQABAAEAAQABAAEAAQABAAEAAQACAAEAAQABAAEAAQABAAEAAQABAAIAAgACAAIAAgACAAIAAgACAAIAAgACAAIAAgACAAEAAQABAAIAAgACAAIAAgACAAIAAgACAAIAAgACAAIAAgACAAEAAQABAAIAAgACAAIAAgACAAIAAgACAAIAAgACAAIAAgACAAIAAgACAAIAAgACAAIAAgACAAIAAgACAAIAAgACAAIAAQABAAEAAQABAAEAAQABAAEAAQABAAEAAQABAAEAAQABAAEAAQABAAEAAQABAAEAAQABAAAAAAABAAEAAQABAAEAAQABAAEAAQABAAEAAQABAAEAAQABAAAAAAAAAAEAAQABAAEAAQABAAEAAQABAAEAAQABAAEAAQABAAEAAAAAAAAAAQAAAAEAAAAAAAEAAQABAAEAAQABAAEAAQABAAEAAQABAAEAAQABAAEAAQABAAEAAQABAAEAAQABAAEAAQABAAEAAQABAAEAAQABAAEAAQABAAEAAQABAAEAAQABAAEAAQABAAEAAQABAAEAAQABAAEAAQABAAEAAQABAAEAAQABAAEAAQABAAEAAQABAAEAAQABAAEAAQABAAEAAQABAAEAAQABAAEAAQABAAEAAQABAAEAAQABAAEAAQABAAEAAQABAAEAAQABAAEAAQABAAEAAQABAAEAAQABAAEAAQABAAEAAQABAAEAAQABAAEAAQABAAEAAQAAAAAAAAAAAAAAAAAAAAAAAAAAAAAAAAAAAAAAAAAAAAAAAAAAAAAAAAAAAAAAAAAAAAAAAAAAAAAAAAAAAAAAAAAAAAAAAAAAAAAAAAAAAAAAAAAAAAAAAAAAAAAAAAAAAAAAAAAAAAAAAAAAAAAAAAAAAAAAAAAAAAAAAAAAAAAAAAAAAAAAAAAAAAAAAAAAAAAAAAAAAAAAAAAAAAAAAAAAAAAAAAAAAAAAAAAAAAAAAAAAAAAAAAAAAAAAAAAAAAAAAAAAAAAAAAAAAAAAAAAAAAAAAAAAAAAAAAAAAAAAAAAAAAAAAAAAAAAAAAAAAAAAAAAAAAAAAAAAAAAAAAAAAAAAAAAAAAAAAAAAAAAAAAAAAAAAAAAAAAAAAAAAAAAAAAAAAAAAAAAAAAAAAAAAAAAAAAAAAAAAAAAAAAAAAAAAAAAAAAAAAAAAAAAAAAAAAAAAAAAAAAAAAAAAAAAAAAAAAAAAAAAAAAAAAAAAAAAAAAAAAAAAAAAAAAAAAAAAAAAAAAAAAAAAAAAAAAAAAAAAAAAAAAAAAAAAAAAAAAAAAAAAAAAAAAAAAAAAAAAAAAAAAAAAAAAAAAAAAAAAAAAAAAAAAAAAAAAAAAAAAAAAAAAAAAAAAAAAAAAAAAAAAAAAAAAAAAAAAAAAAAAAAAAAAAAAAAAAAAAAAAAAAAAAAAAAAAAAAAAAAAAAAAAAAAAAAAAAAAAAAAAAAAAAAAAAAAAAAAAAAAAAAAAAAAAAAAAAAAAAAAAAAAAAAAAAAAAAAAAAAAAAAAAAAAAAAAAAAAAAAAAAAAAAAAAAAAAAAAAAAAAAAAAAAAAAAAAAAAAAAAAAAAAAAAAAAAAAAAAAAAAAAAAAAAAAAAAAAAAAAAAAAAAAAAAAAAAAAAAAAAAAAAAAAAAAAAAAAAAAAAAAAAAAAAAAAAAAAAAAAAAAAAAAAAAAAAAAAAAAAAAAAAAAAAAAAAAAAAAAAAAAAAAAAAAAAAAAAAAAAAAAAAAAAAAAAAAAAAAAAAAAAAAAAAAAAAAAAAAAAAAAAAAAAAAAAAAAAAAAAAAAAAAAAAAAAAAAAAAAAAAAAAAAAAAAAAAAAAAAAAAAAAAAAAAAAAAAAAAAAAAAAAAAAAAAAAAAAAAAAAAAAAAAAAAAAAAAAAAAAAAAAAAAAAAAAAAAAAAAAAAAAAAAAAAAAAAAAAAAAAAAAAAAAAAAAAAAAAAAAAAAAAAAAAAAAAAAAAAAAAAAAAAAAAAAAAAAAAAAAAAAAAAAAAAAAAAAAAAAAAAAAAAAAAAAAAAAAAAAAAAAAAAAAAAAAAAAAAAAAAAAAAAAAAAAAAAAAAAAAAAAAAAAAAAAAAAAAAAAAAAAAAAAAAAAAAAAAAAAAAAAAAAAAAAAAAAAAAAAAAAAAAAAAAAAAAAAAAAAAAAAAAAAAAAAAAAAAAAAAAAAAAAAAAAAAAAAAAAAAAAAAAAAAAAAAAAAAAAAAAAAAAAAAAAAAAAAAAAAAAAAAAAAAAAAAAAAAAAAAAAAAAAAAAAAAAAAAAAAAAAAAAAAAAAAAAAAAAAAAAAAAAAAAAAAAAAAAAAAAAAAAAAAAAAAAAAAAAAAAAAAAAAAAAAAAAAAAAAAAAAAAAAAAAAAAAAAAAAAAAAAAAAAAAAAAAAAAAAAAAAAAAAAAAAAAAAAAAAAAAAAAAAAAAAAAAAAAAAAAAAAAAAAAAAAAAAAAAAAAAAAAAAAAAAAAAAAAAAAAAAAAAAAAAAAAAAAAAAAAAAAAAAAAAAAAAAAAAAAAAAAAAAAAAAAAAAAAAAAAAAAAAAAAAAAAAAAAAAAAAAAAAAAAAAAAAAAAAAAAAAAAAAAAAAAAAAAAAAAAAAAAAAAAAAAAAAAAAAAAAAAAAD///z//f/9//3//P/+/wAAAAAAAAAAAAAAAAAAAAAAAAAA///8//z/+//+/////P/8//3//P/+/wAA/P/9//7/AAAAAAAAAAAAAP///P/8//3//P/9//3//P/9//3//f/9//3//P/9//z//v8AAPz///////7/AAD8//7/AAD9//3//f/9//3//f/8//z//P/8//v//P/7//7////9/wAAAAAAAAAAAAAAAAAA///9//7//f/9//z/+//+//7///8AAP3//P/9/wAAAAAAAAAAAAAAAAAAAQD+//7/AAAAAAAAAAAAAAAAAAD+////AAD9/wAA///8//3//P/8//z//P/8//z//f/9//z//P/8//z//f8AAPv///8AAP7/AAD8////AAAAAAAAAAABAP//+//9/wAAAAAAAAAAAAAAAAAAAAAAAAAAAAAAAAAAAAAAAP///P/8//z//f/8//r/+v/6//r/+//6//v/+v/6//n/+v/6//v/+//8//z//P/+//7//v/+//3//v/+//7//v/9/wAAAAAAAAAAAAACAAEAAQABAAIAAQABAAIAAgABAAEAAQABAAAAAQAAAAAAAAD+//7//v/9/wAAAAD+//7//f/+//7//v/+//7/AAABAAEAAQABAAIAAQABAAEAAQACAAAA/v/+//7//v/+//7//v/9//7//v///////v8AAAIAAQABAAEAAQABAAEAAQABAAEAAAD9//3//f/+//3//f/+//3//f/9//7//v8AAAEAAQACAAIAAQACAAIAAQAAAP7//v/+//7//v/9//3//f/9//7//v8AAAIAAgABAAEAAQABAAEAAQABAAEAAAD+//3//f/+//7//v/+//3//f/+//3//v/+////AAAAAAAAAAABAAAAAQABAAEAAQAAAP/////+//7//v///wAAAQABAAAAAAAAAAEAAAAAAAAAAAAAAAAAAQABAAEAAQABAAAAAAABAAAAAQAAAAAAAQAAAAAAAAAAAAEAAQABAAEAAQAAAAAAAAAAAAAAAAAAAAEAAAAAAAEAAAABAAAAAAABAAEAAQAAAAEAAAAAAAEAAQABAAEAAQABAAEAAQABAAEAAQABAAEAAQABAAEAAQABAAAAAQABAAEAAQABAAEAAAABAAEAAQABAAEAAQABAAEAAQABAAEAAQABAAEAAQABAAEAAQABAAEAAQABAAEAAQABAAEAAQAAAAAAAQABAAEAAQABAAEAAQABAAEAAQABAAEAAQABAAEAAQABAAEAAAAAAAAAAAAAAAAAAAAAAAEAAQABAAEAAQABAAEAAQABAAEAAQABAAEAAQABAAEAAQABAAEAAQABAAEAAQABAAEAAQABAAEAAQABAAEAAQABAAEAAQABAAEAAQABAAEAAQABAAEAAQABAAEAAQABAAEAAQABAAEAAQABAAEAAQABAAEAAQABAAEAAQAAAAEAAQABAAEAAQABAAEAAQABAAEAAQABAAEAAQABAAEAAAAAAAEAAAAAAAAAAQABAAAAAAABAAEAAAAAAAEAAQABAAEAAQABAAEAAQAAAAEAAQAAAAAAAAAAAAAAAAABAAAAAAAAAAAAAQABAAEAAQABAAAAAAAAAAAAAAABAAEAAQABAAAAAQABAAEAAQABAAEAAQABAAEAAQABAAEAAQABAAEAAAAAAAAAAAAAAAAAAAAAAAAAAAAAAAAAAAAAAAAAAAAAAAAAAAAAAAAAAAAAAAAAAAAAAAAAAAAAAAAAAAAAAAAAAAAAAAAAAAAAAAAAAAAAAAAAAAAAAAAAAAAAAAAAAAAAAAAAAAAAAAAAAAAAAAAAAAAAAAAAAAAAAAAAAAAAAAAAAAAAAAAAAAAAAAAAAAAAAAAAAAAAAAAAAAAAAAAAAAAAAAAAAAAAAAAAAAAAAAAAAAAAAAAAAAAAAAAAAAAAAAAAAAAAAAAAAAAAAAAAAAAAAAAAAAAAAAAAAAAAAAAAAAAAAAAAAAAAAAAAAAAAAAAAAAAAAAAAAAAAAAAAAAAAAAAAAAAAAAAAAAAAAAAAAAAAAAAAAAAAAAAAAAAAAAAAAAAAAAAAAAAAAAAAAAAAAAAAAAAAAAAAAAAAAAAAAAAAAAAAAAAAAAAAAAAAAAAAAAAAAAAAAAAAAAAAAAAAAAAAAAAAAAAAAAAAAAAAAAAAAAAAAAAAAAAAAAAAAAAAAAAAAAAAAAAAAAAAAAAAAAAAAAAAAAAAAAAAAAAAAAAAAAAAAAAAAAAAAAAAAAAAAAAAAAAAAAAAAAAAAAAAAAAAAAAAAAAAAAAAAAAAAAAAAAAAAAAAAAAAAAAAAAAAAAAAAAAAAAAAAAAAAAAAAAAAAAAAAAAAAAAAAAAAAAAAAAAAAAAAAAAAAAAAAAAAAAAAAAAAAAAAAAAAAAAAAAAAAAAAAAAAAAAAAAAAAAAAAAAAAAAAAAAAAAAAAAAAAAAAAAAAAAAAAAAAAAAAAAAAAAAAAAAAAAAAAAAAAAAAAAAAAAAAAAAAAAAAAAAAAAAAAAAAAAAAAAAAAAAAAAAAAAAAAAAAAAAAAAAAAAAAAAAAAAAAAAAAAAAAAAAAAAAAAAAAAAAAAAAAAAAAAAAAAAAAAAAAAAAAAAAAAAAAAAAAAAAAAAAAAAAAAAAAAAAAAAAAAAAAAAAAAAAAAAAAAAAAAAAAAAAAAAAAAAAAAAAAAAAAAAAAAAAAAAAAAAAAAAAAAAAAAAAAAAAAAAAAAAAAAAAAAAAAAAAAAAAAAAAAAAAAAAAAAAAAAAAAAAAAAAAAAAAAAAAAAAAAAAAAAAAAAAAAAAAAAAAAAAAAAAAAAAAAAAAAAAAAAAAAAAAAAAAAAAAAAAAAAAAAAAAAAAAAAAAAAAAAAAAAAAAAAAAAAAAAAAAAAAAAAAAAAAAAAAAAAAAAAAAAAAAAAAAAAAAAAAAAAAAAAAAAAAAAAAAAAAAAAAAAAAAAAAAAAAAAAAAAAAAAAAAAAAAAAAAAAAAAAAAAAAAAAAAAAAAAAAAAAAAAAAAAAAAAAAAAAAAAAAAAAAAAAAAAAAAAAAAAAAAAAAAAAAAAAAAAAAAAAAAAAAAAAAAAAAAAAAAAAAAAAAAAAAAAAAAAAAAAAAAAAAAAAAAAAAAAAAAAAAAAAAAAAAAAAAAAAAAAAAAAAAAAAAAAAAAAAAAAAAAAAAAAAAAAAAAAAAAAAAAAAAAAAAAAAAAAAAAAAAAAAAAAAAAAAAAAAAAAAAAAAAAAAAAAAAAAAAAAAAAAAAAAAAAAAAAAAAAAAAAAAAAAAAAAAAAAAAAAAAAAAAAAAAAAAAAAAAAAAAAAAAAAAAAAAAAAAAAAAAAAAAAAAAAAAAAAAAAAAAAAAAAAAAAAAAAAAAAAAAAAAAAAAAAAAAAAAAAAAAAAAAAAAAAAAAAAAAAAAAAAAAAAAAAAAAAAAAAAAAAAAAAAAAAAAAAAAAAAAAAAAAAAAAAAAAAAAAAAAAAAAAAAAAAAAAAAAAAAAAAAAAAAAAAAAAAAAAAAAAAAAAAAAAAAAAAAAAAAAAAAAAAAAAAAAAAAAAAAAAAAAAAAAAAAAAAAAAAAAAAAAAAAAAAAAAAAAAAAAAAAAAAAAAAAAAAAAAAAAAAAAAAAAAAAAAAAAAAAAAAAAAAAAAAAAAAAAAAAAAAAAAAAAAAAAAAAAAAAAAAAAAAAAAAAAAAAAAAAAAAAAAAAAAAAAAAAAAAAAAAAAAAAAAAAAAAAAAAAAAAAAAAAAAAAAAAAAAAAAAAAAAAAAAAAAAAAAAAAAAAAAAAAAAAAAAAAAAAAAAAAAAAAAAAAAAAAAAAAAAAAAAAAAAAAAAAAAAAAAAAAAAAAAAAAAAAAAAAAAAAAAAAAAAAAAAAAAAAAAAAAAAAAAAAAAAAAAAAAAAAAAAAAAAAAAAAAAAAAAAAAAAAAAAAAAAAAAAAAAAAAAAAAAAAAAAAAAAAAAAAAAAAAAAAAAAAAAAAAAAAAAAAAAAAAAAAAAAAAAAAAAAAAAAAAAAAAAAAAAAAAAAAAAAAAAAAAAAAAAAAAAAAAAAAAAAAAAAAAAAAAAAAAAAAAAAAAAAAAAAAAAAAAAAAAAAAAAAAAAAAAAAAAAAAAAAAAAAAAAAAAAAAAAAAAAAAAAAAAAAAAAAAAAAAAAAAAAAAAAAAAAAAAAAAAAAAAAAAAAAAAAAAAAAAAAAAAAAAAAAAAAAAAAAAAAAAAAAAAAAAAAAAAAAAAAAAAAAAAAAAAAAAAAAAAAAAAAAAAAAAAAAAAAAAAAAAAAAAAAAAAAAAAAAAAAAAAAAAAAAAAAAAAAAAAAAAAAAAAAAAAAAAAAAAAAAAAAAAAAAAAAAAAAAAAAAAAAAAAAAAAAAAAAAAAAAAAAAAAAAAAAAAAAAAAAAAAAAAAAAAAAAAAAAAAAAAAAAAAAAAAAAAAAAAAAAAAAAAAAAAAAAAAAAAAAAAAAAAAAAAAAAAAAAAAAAAAAAAAAAAAAAAAAAAAAAAAAAAAAAAAAAAAAAAAAAAAAAAAAAAAAAAAAAAAAAAAAAAAAAAAAAAAAAAAAAAAAAAAAAAAAAAAAAAAAAAAAAAAAAAAAAAAAAAAAAAAAAAAAAAAAAAAAAAAAAAAAAAAAAAAAAAAAAAAAAAAAAAAAAAAAAAAAAAAAAAAAAAAAAAAAAAAAAAAAAAAAAAAAAAAAAAAAAAAAAAAAAAAAAAAAAAAAAAAAAAAAAAAAAAAAAAAAAAAAAAAAAAAAAAAAAAAAAAAAAAAAAAAAAAAAAAAAAAAAAAAAAAAAAAAAAAAAAAAAAAAAAAAAAAAAAAAAAAAAAAAAAAAAAAAAAAAAAAAAAAAAAAAAAAAAAAAAAAAAAAAAAAAAAAAAAAAAAAAAAAAAAAAAAAAAAAAAAAAAAAAAAAAAAAAAAAAAAAAAAAAAAAAAAAAAAAAAAAAAAAAAAAAAAAAAAAAAAAAAAAAAAAAAAAAAAAAAAAAAAAAAAAAAAAAAAAAAAAAAAAAAAAAAAAAAAAAAAAAAAAAAAAAAAAAAAAAAAAAAAAAAAAAAAAAAAAAAAAAAAAAAAAAAAAAAAAAAAAAAAAAAAAAAAAAAAAAAAAAAAAAAAAAAAAAAAAAAAAAAAAAAAAAAAAAAAAAAAAAAAAAAAAAAAAAAAAAAAAAAAAAAAAAAAAAAAAAAAAAAAAAAAAAAAAAAAAAAAAAAAAAAAAAAAAAAAAAAAAAAAAAAAAAAAAAAAAAAAAAAAAAAAAAAAAAAAAAAAAAAAAAAAAAAAAAAAAAAAAAAAAAAAAAAAAAAAAAAAAAAAAAAAAAAAAAAAAAAAAAAAAAAAAAAAAAAAAAAAAAAAAAAAAAAAAAAAAAAAAAAAAAAAAAAAAAAAAAAAAAAAAAAAAAAAAAAAAAAAAAAAAAAAAAAAAAAAAAAAAAAAAAAAAAAAAAAAAAAAAAAAAAAAAAAAAAAAAAAAAAAAAAAAAAAAAAAAAAAAAAAAAAAAAAAAAAAAAAAAAAAAAAAAAAAAAAAAAAAAAAAAAAAAAAAAAAAAAAAAAAAAAAAAAAAAAAAAAAAAAAAAAAAAAAAAAAAAAAAAAAAAAAAAAAAAAAAAAAAAAAAAAAAAAAAAAAAAAAAAAAAAAAAAAAAAAAAAAAAAAAAAAAAAAAAAAAAAAAAAAAAAAAAAAAAAAAAAAAAAAAAAAAAAAAAAAAAAAAAAAAAAAAAAAAAAAAAAAAAAAAAAAAAAAAAAAAAAAAAAAAAAAAAAAAAAAAAAAAAAAAAAAAAAAAAAAAAAAAAAAAAAAAAAAAAAAAAAAAAAAAAAAAAAAAAAAAAAAAAAAAAAAAAAAAAAAAAAAAAAAAAAAAAAAAAAAAAAAAAAAAAAAAAAAAAAAAAAAAAAAAAAAAAAAAAAAAAAAAAAAAAAAAAAAAAAAAAAAAAAAAAAAAAAAAAAAAAAAAAAAAAAAAAAAAAAAAAAAAAAAAAAAAAAAAAAAAAAAAAAAAAAAAAAAAAAAAAAAAAAAAAAAAAAAAAAAAAAAAAAAAAAAAAAAAAAAAAAAAAAAAAAAAAAAAAAAAAAAAAAAAAAAAAAAAAAAAAAAAAAAAAAAAAAAAAAAAAAAAAAAAAAAAAAAAAAAAAAAAAAAAAAAAAAAAAAAAAAAAAAAAAAAAAAAAAAAAAAAAAAAAAAAAAAAAAAAAAAAAAAAAAAAAAAAAAAAAAAAAAAAAAAAAAAAAAAAAAAAAAAAAAAAAAAAAAAAAAAAAAAAAAAAAAAAAAAAAAAAAAAAAAAAAAAAAAAAAAAAAAAAAAAAAAAAAAAAAAAAAAAAAAAAAAAAAAAAAAAAAAAAAAAAAAAAAAAAAAAAAAAAAAAAAAAAAAAAAAAAAAAAAAAAAAAAAAAAAAAAAAAAAAAAAAAAAAAAAAAAAAAAAAAAAAAAAAAAAAAAAAAAAAAAAAAAAAAAAAAAAAAAAAAAAAAAAAAAAAAAAAAAAAAAAAAAAAAAAAAAAAAAAAAAAAAAAAAAAAAAAAAAAAAAAAAAAAAAAAAAAAAAAAAAAAAAAAAAAAAAAAAAAAAAAAAAAAAAAAAAAAAAAAAAAAAAAAAAAAAAAAAAAAAAAAAAAAAAAAAAAAAAAAAAAAAAAAAAAAAAAAAAAAAAAAAAAAAAAAAAAAAAAAAAAAAAAAAAAAAAAAAAAAAAAAAAAAAAAAAAAAAAAAAAAAAAAAAAAAAAAAAAAAAAAAAAAAAAAAAAAAAAAAAAAAAAAAAAAAAAAAAAAAAAAAAAAAAAAAAAAAAAAAAAAAAAAAAAAAAAAAAAAAAAAAAAAAAAAAAAAAAAAAAAAAAAAAAAAAAAAAAAAAAAAAAAAAAAAAAAAAAAAAAAAAAAAAAAAAAAAAAAAAAAAAAAAAAAAAAAAAAAAAAAAAAAAAAAAAAAAAAAAAAAAAAAAAAAAAAAAAAAAAAAAAAAAAAAAAAAAAAAAAAAAAAAAAAAAAAAAAAAAAAAAAAAAAAAAAAAAAAAAAAAAAAAAAAAAAAAAAAAAAAAAAAAAAAAAAAAAAAAAAAAAAAAAAAAAAAAAAAAAAAAAAAAAAAAAAAAAAAAAAAAAAAAAAAAAAAAAAAAAAAAAAAAAAAAAAAAAAAAAAAAAAAAAAAAAAAAAAAAAAAAAAAAAAAAAAAAAAAAAAAAAAAAAAAAAAAAAAAAAAAAAAAAAAAAAAAAAAAAAAAAAAAAAAAAAAAAAAAAAAAAAAAAAAAAAAAAAAAAAAAAAAAAAAAAAAAAAAAAAAAAAAAAAAAAAAAAAAAAAAAAAAAAAAAAAAAAAAAAAAAAAAAAAAAAAAAAAAAAAAAAAAAAAAAAAAAAAAAAAAAAAAAAAAAAAAAAAAAAAAAAAAAAAAAAAAAAAAAAAAAAAAAAAAAAAAAAAAAAAAAAAAAAAAAAAAAAAAAAAAAAAAAAAAAAAAAAAAAAAAAAAAAAAAAAAAAAAAAAAAAAAAAAAAAAAAAAAAAAAAAAAAAAAAAAAAAAAAAAAAAAAAAAAAAAAAAAAAAAAAAAAAAAAAAAAAAAAAAAAAAAAAAAAAAAAAAAAAAAAAAAAAAAAAAAAAAAAAAAAAAAAAAAAAAAAAAAAAAAAAAAAAAAAAAAAAAAAAAAAAAAAAAAAAAAAAAAAAAAAAAAAAAAAAAAAAAAAAAAAAAAAAAAAAAAAAAAAAAAAAAAAAAAAAAAAAAAAAAAAAAAAAAAAAAAAAAAAAAAAAAAAAAAAAAAAAAAAAAAAAAAAAAAAAAAAAAAAAAAAAAAAAAAAAAAAAAAAAAAAAAAAAAAAAAAAAAAAAAAAAAAAAAAAAAAAAAAAAAAAAAAAAAAAAAAAAAAAAAAAAAAAAAAAAAAAAAAAAAAAAAAAAAAAAAAAAAAAAAAAAAAAAAAAAAAAAAAAAAAAAAAAAAAAAAAAAAAAAAAAAAAAAAAAAAAAAAAAAAAAAAAAAAAAAAAAAAAAAAAAAAAAAAAAAAAAAAAAAAAAAAAAAAAAAAAAAAAAAAAAAAAAAAAAAAAAAAAAAAAAAAAAAAAAAAAAAAAAAAAAAAAAAAAAAAAAAAAAAAAAAAAAAAAAAAAAAAAAAAAAAAAAAAAAAAAAAAAAAAAAAAAAAAAAAAAAAAAAAAAAAAAAAAAAAAAAAAAAAAAAAP//AAAAAAAA//////7//P/8//z//P/8//z//P/8//3//v8AAAAAAAAAAAAAAAAAAAAA/P///wAA/P/9//3//f/9//z//f/9/wAA///9/wAAAAAAAAAAAAAAAAAAAAAAAAAA///9//3//P/8//3//f/9//3//P/+/wAAAAAAAAAAAAAAAAAAAAAAAAAAAAD///v//v8AAPz//P/8//z//f/8//z//v8AAAAAAAAAAAAAAAAAAAAAAAD+//z//P/9//3//v/9//3//v/9//7//f/+/wAAAAAAAAAAAAAAAAAAAAAAAAAAAQAAAAAA///+/wIAAAD+//3///8BAAEAAQAAAAAAAgD///7//v/8//3//f/8//z//P/9//3//f/9//v///8CAP//AAD//wAAAgD///3/+v8AAAAA+v/6//v/AQD+//n/+v/+/wEA///9//3/AQAAAPz//f/+/wAA+//6//n/+/8AAP7/+f/4//7/+//6//v//P8AAPz//f/4//z/AAAAAP///P/9//7/AwAAAAAA/v/9/wEAAQAAAP3//f8AAAAA/v/7//3/AQAEAAAAAAD+//7////8/wEAAQD///3///8AAAUAAwD1/wIACQADAAUA8v/t/wQA///9//3/5//5/wYA+P8EAAIA8f8CAPP/4f/y/97/4v/9/+7/9v/8/97/8/////L/EgAPAAsAJAD5//T/JgA7AEkAIgDu/ykAZwAVALT/Yf+u/3gAfQD0/0r/Tv8AAHkAHwBH/0r/9v+rAEcANf8F/7j/zwCXALX/Sf/O/6AAZwDs/57/WwDIAIEADwDK/3cAjwB8AFEAcwDUAFIA0v+B/8T/8v/p/4H/Lf+C/2f/EgDY/3n/s/+9/2UADACD/13/o/9EAIwAxv+M/wIABADf/7z/IABrAIoA3P+l/9D/vAACAeL/JADe//QAGAHf/7P/pf/nADUBlADl/yIAJgCGAB4AWf+5AHoArv+i/9//p/9FALT/J/7R//oAgQDl/9D+nP7p/3z/n/4X/1b/Nf9o/zP/U/9VAI3/9P+9ACICEAGP/vn/4P8jAsQAxv5gAWQA4wGz/uj9TQKYASsBO/6S/6EBUwHk/1T8+f9ZAS8A3/9C/dL/5wAR/6z/tv65ABYBt/+gAEz+7/91AY3/OAAlAA//rv+YAM3/dv9k/8T/mACYAJ7/ov8eADsAQAFm/57/dADM/6gB9//3/wIAUv+KAef/2f+cANUA1wBP//L+Qf98AbwAT/9o/2j/NgAE/9/+fABsAOn/XQDg/p//jABT/28ADv84AOEA0v4CAND+l/8iAaEA6QAkAJ3/NgCPANr/rQC8/wYA8wCr/2cAZP/t/9P/WwD1AMr/SAE/AG7/Xv4//xgA8wBPAu/+pP99/mL+VQAc/nUBVgG0/2wAGP7u/hL/AwCEALkBYwEG/80AHv5b/y4AQwBHArr/nv9G/z4BIwHJAN7/5f11AHoAu/8P/zgAbwDFADQAFP4Z/5v+kQGlAf/+6ADc/7D/f/82/lUAwAF7AZ0AuP6Q/lYAKwCb/yIAgALvAYD+F/7q/WQAiwHnAGwAWgDiABf+lf22/qgCZAJ6/sn/9f/zAND/Yv1W/isBgAOcAIb9qP6j/5z/kP6h/xUDCgLyALf+gv21AD0ATP/e/4gBbwIrAFD9dP3t/zEAtwDW/wMAoQLx/6b/J/9M/h0BvP4nAV0CBwHXANn71PyC/0EC+gEyAIn/X/5yAJv/GwFuAAX/5gBm/78AHgFk/tb/ZQCT/7cCnwCp/h0Aj/w+/ocDNgI3AEP/hP3W/3oAAv4LAKoBtwH5/8b9vQBtAWIAFP24/tkDiQI7AxX8Rv6wAWf9yAGI/4EEmwT4/Mr87f2AACsBm/9F/8gCQAAQAOL7pPlEAb7/uQD1AdUAZQFL/Rj8of85/oICVAQ4/4ABfAAeAJf9Dv6vAHMBqQNtAJcCO/9D/skBK/2g/2EB3wCD/wf/3AI2/qX9cf/+/YkB9QCPADv96P4kAyH/mwE5ASb/1P5//RgAGQFQAqYC3f5E/SH/wP+r/5IBaAHV/+QAN//TAFMAyv0xAQ3+WwDtApwATADp/FL/oP4mABkEfQHb/zn9+PtW/CcE4QM+ATACOPrr/0f9jP3BA/P+3AQYAL//DgLD/Hj8cfn6/2gHaAjjBdX8Tvln+SX5GQOTBAUGtQaM+779nvvg/V3/Cv1lBjIFKQTH/x76o/ll+8UB5QHLBM0FKQCG/UL5ffujAAoC3QSQAZH/rf/H/lf92PyGAGoDiAP4/6j+IPzCAI8DS/7kAe0BFwGoAW/9r/t+/1wCeAPBASgALP4Z/AwAmf1eA4YCvfvJAAf83QDbACX/fwM//YUC4P/B/dMCYP/YANL/ZwHuAFP/c/3w+yUD6wBIAkEDov0d/tj+tQAzANoC4QHF/Q8As/////7+M//cAMv+LAEIAMb/WQDR/AsBef12AcgD2vuiA4D+JP+HAYL9igJe/woDbv/0/c3+Dv1nA/v+kgLNABr70P+D/QUAsAHh/50CZgAZ/wMB/P1Z/TYArgE8AOcAeAFO/GP/ZAAl/7oDWP5e/nj+Pf9EBev+3QCi/eX9wgH//G0FWgFQApMA3/o1/479DgQm/4MB2QGN+wEAv/tUAa4CpgFaApv+E//N/P3/qQJjAjMDlwGJ/Wf/ov28+5sCRgCNBYsCqv0z//D3IQAS/8cDfgb9/iQCnvuo/tP7yf1pA9ACUwdi/yX/0PwS/Ij90f7BBJsDAwUY/4b8p/uF/I4BCQEZBXQC5QCT/q/7Bf5j/DwEQgRDAVUBCfuQ/vb8F/7vAckBAgWNADz+Zfsy/MAAtP+BBCoF9gBIABT6/fpo/xv/8QT4A5QC/gC2/K37gvxpAHv//gX8Bc8BYALd+iP9d/yg/aEEXwIKBXUCUf44/rL55vwkAIMB6gTeAYD/vP6g/Cr91P3J/+gCvwIlAb39O/4AAI3+MwBD/y0AzQLZ/1v/LQHrACcBNwHp/mz9GQCPAVYCqQNuAFMBUAC8/Yv9sfwiAmIDbQQyAUb9O//L+5T9Pv5pAboEpQERAnn8FfuA/u/89f/yAt4CYAKg/2j87Pqq/JX/vwJqBckD7v65/OH7JPtl/zYBwQI6BOD/GQCF/ZT6O/0o/qwCugNzAsUB9ftN+8n8gPsSACoDagHuAOv93/tY/Ln88/zf/5EDdQJmAoP+Vfx6/on8v/6nAnIF4wWFBIABVv5I/wMAVARpCO4IbgisBm8EywNABzAI/QpdDEcKpwusCU4IHQdGB18Iogj7CO0FKgaIAh4B3gFv/qMAEP9Z/ab7sve196f2pfU99d/zmfKp8ZPvm+9k8MXwwvJH8o7zrvVA9KP0zPUj9V74GPzn+6n8Zv1k/az9sf85ARkBvQMWBOMC5AVLBkYF4gWfAwMFowXQBZEJfQhBCcYGKgMxBAUDyQS4BZcG6QbMAxQEfAMDBfQK5Qv3D1YPZQhGB9gCBwkjDBEM7BKsDg8OwQQtAuwFHQZQD6AIgAkXB4UBrwDO94j/4v6a/aT6zfPI9/DxOfEc71nune+Z7L7uPOsi7fztE+0G7hzq5e3h7wLx7fQ29qP40fbK9uf4aPq+/74B6gIVAx0CQgRiBB8FaQcwCqsLdgsUDAIKKQi1BtYEjgUrBt4HJQhMBZADsAC//tf9Nv6l/3sA9QHG/nb8BPn0+G/7I/lT/3b/s/5c/wX7Kvzh+Jr6IP4WADgCPgJ8A0cAZP87/8wBJgP2AVcCcgRpCREMnA6kDvwQVQrKBckHrwpSFWIQnxTDFDEPSA/mA4gJNwrBEEYVyAwWDVwFCQUO/Av4hP1e/b7+afR09bbz5O1z6/fk9ujS597oTOo456zpLOhT5hjjf+NQ60Tu8e/f8GbyBPVi8iX0hffN/BUETgX5BwcJsgrKCucHzgq0D+QUTRYeFp0VBBMkEDcNsQ1yD/kQ8g/pC0gJfwZeApX9N/sC/Tr96/vB+DT1hfOT71TuCO2J7hryY/Gi8QLvuvBE8lrx2vJS8033X/j0+Uj7zfwo/0D/egGmAbQENwamBh8HCwYnCToLQQ/+FPwZeRwzGewRoQ64DwEU/BnUHHMilx/bGTESrQoKD4AR3BnKGbATzRBnCFwDCPky+OL9zf1d+Qnyt++P6WPkQuAX4Njghd9B4svftN613l7fud9Q3IDeVeOt567r7e5b83n03PEG85n3kv8tBnsKVw+iECQRyA4IEKoTehdkHOccMB7mGlEaYhj5EnYSUhHfFGYSXQ4pCxoGdgTj/R78A/sc+lj6I/Tr8AHuNOz26i7oEerR64DreuoQ6UXrme2P7oXwyfFG9Bj2svh5/Mn9ewA4AhMDtASTBDgHlwpSC7oMEQ3/DTUPRRNFHGUg1h84GsEUQBPsEjYYLR2zIkskex9BGXoPIAyBD8UVuhhUFeoSfg7SBs77GfYP+sb7cvf58JLtJOtJ5WjfXd0c3bHccttG2b7YY9rf3ZndiNl22PjbEuEG5N7pmvFU9UP0aPFe8/b46f61BakN6BK5E18S9xGDFEEYZB3sIUUkPSOqIEQe3BryGU8ZOBn9FwcUJhKdDr4KeAa1AcT+iPrl+P/1GfLR73zsOuv25WDj9+SU5N7kQOJg5Ojmkube5izn0evj7YLxOfVJ9877cv3LAAMBrACmBGwHFgvjC3IO1RBMD8IQQBKtGbQgQSSNJjQeoBiCFkEaDCErInIoBymTJMEZaw9gEaYTkxlQGMQUxxMzC3QCqvZs9LD3L/VI8fjph+ia5K3eDtu01tzXMtWv0zfTZNQT2xLbA9jR1HvX4Ns03hDlouy49Lf1zPNg9dT4mf+QBZMM1hLoFW0WOBaSGEgblx7xIsYlwSZYJWYj8iEvHk8bPBroGUYYART6ECEOTwn8AuH+//uP+Mb1RPL97m/reOd54/HgduAw4UvhON/l3g3gZeAA4UrjIech6ybuyPCp89P1x/gh/E//lQJVBYgIVQpAC7UMzg26D1EQWRIOFvwZhSD6I9km3yN/HHEaExtkIZMkMCeEKSwnWiLIFvMSURSDGOAbGBf5FBMQKQkx/kD1uPbg9pnzNOyn6Dbna+E+3OHWl9Wa1GzSv9EE0jzXFNp32JTVm9Xm2fTc8OEI6ObvKfUk9TT2X/jE/RMDOwgbDvMSthbpFy8Z0Br0HLUfJyObJRomeSWJJJYi8h06G5Ea/hnSFgcTVBHjDKsGxQBb/rX7evZ486bw9uyT5zLkV+Pm4V3hQ+BN33vdN93E34Pg9eI050frb+1A7W/xxfWS9077GAA1BaQF/gUOCqMLOQ3jDZMQWBN6Ep4VkhcpHJgijCW7KFsiDx2lHEEeAyPwIUAmEygfJO8ddhWTFRQUrhXhFZcR0A8LCr0Fnvth9H/0ifGn7HDkU+P24ifeXdkk1RPVc9GJzgfPf9Ew1hLXNdib2MvYgdva3oHkQOpX8CD2gfnU+zb+pQIpB34K6Q5EFD8ZFxykHREfih+4IN8jfibNJtwmdybIIscc2RkvGncYWhQyEUYPSQp+A/j+KP2q+hf2KvLy7Xnq/OaV5Vfk7OE74nDgot4v3Gvcz9/S4K7jyuXv6PDqn+xO8cnzCfen+tX+uwELAzcGVglxCycLFwxfDr0QXRLVE88X+hrNHiMiCSayJb0fJB7BHf4fUiBlIfAmQSYPI1wc2xZFFLsSKxWjEwMSPQ9NCqYCdvfS89fxfO6m6hPn+eUn4D3ao9bG06HRnc990ALRitIb1bnWz9ff1pTYndxd4XznKe2D81b4xfpo/JL/BAXbCTgOuhLEF1QbDR0fHn4fCSIrJBom6SX1JXAmsCP4H4ccnxvuGLATmxCUDZAKAgazAqz/avoy9kDx/e226sboXOjd5JHiPODt3kbdW9sG3SbeZd8h4MjhmuXK6Ibs2u8H86P1Zfj//N8A8gTGB7MJtwu0CzYNZA+sEnUUzBTwFzMZnhxRIXEngStRJs8hWh6RHu8fiSC3JV4nnCbPILkZ0RWyEz8XMhbJEigPuArxBdX7yPZV9dPx8+vh5ATiA94U2VPWX9Tl0TLOLc1tzZzNC8+p0S/UINSQ1ffaiOEq5qXpZu9r9V757PuvALYHwwz0D5cS0RZZG90d8B9bIc0jVCYGJ9EmWCaqJ2km3yFsHkkcpBpWFiQSOg+zC/0HYQM9/9H6dfdi9E7vpOoR6NfnFeWT4OfeB9593BrZndjj2zvdON6Q36fiXubg6CrtaPGu9Mb45PzaAC8E2AYvCtALWAy8DcUPhRLIE2kVGhjgGascMiFDJ5ErdyhpIjcfeR+XIS4irCRiJ4wmDSOdHPwXdxaVGPoZFRXDDx0M7AgsAdn4j/eQ9bburuSm36jep9kL1WTSedFCzunJT8mqybPL6M280FPSi9PS2Dve7OL75cfrm/PG9y/7lf9oBwsNOQ8JEzkXmxzuHncgACMgJPMn/ymtKl4qhylfKRwkMx9cHeEd+xseFVgQvQySCUAES/+x/Ar58/SG7lLq3eeP5pLkt9/X3fzby9oS2SvYQ9qq24ncaN2D4Erk1eh67JPwAvR79jz7Ff/RBOoHxQkqDVINvQ1MDnMQMBQMFVMXaxt0HrYjISf0KqgpWSHZHzohQyZkJ4ImMSn1JUwjDx3PGUAaCBvtHm8XQg4CCUEHOwS0+Zr3t/Zh7z/jJdp927/YrNSz0czP4M3Ox0PGycVeyPrMBNDx0sbScNaV21vgNOXK6gj00Pk2/V3/aARzDOgQzBV6GdQdzSB3IdojSCV6Ka4sQS49LQUqkSllJU4hGh+GH3UeShVXDg8LRQlnBN39h/u99xfyw+uu5/zkDuIe4B/dj9qb2HnYvdcF1STVu9ct2mnb390r4xLowepP7n3zBPiw++T/SQXcB6wJFAy7DWcQ+RDCFE4X4BY6GsEcVCQsKW0sMi8iJxEi0SDQKH4veCpxKEAlPiX0IAMc/x7iH0kgQhdBDVEIcgbVB7MAAfpB9t7wDee52hTYndgu1o7RNM44ztHKRsZ7w2LErcl3zjnSGtO91B/ZPdws4eTnDPHO+GH7cf06ALUGMQ4pFbwarB3QIFwggSBpIlYnpC5rMI8vVCrBJnUleyJfIkkhBiE6GrcPQAsICtQJhwNf/o76h/QF70rpC+dP5AHiI+DP3F/ZB9dX1zvWtdTH1a7ZX9x63JjeS+NF6G/rMfAa9mv5Pvy9/08Exgb4CLYOrRFfER8QXxJ9FxEaKiHzKfUvmTBZKdMi+R+EJ98zfTbbMP8nJyVzJGAhWiLHJOEm1yBREyAK/wfsC2cIdP1T98z0uO+R4ajWKtYx1tfSvswOy4zKcsZkwXK9RsGZyRvQ6M8hzNjO3tQ721fhD+p49LD3xPao+P8ASwwRFPsZfh2CIHsi/SINJngpJjD9M6sz5DFxLSMsLSlgJ1olNiMLIS0Z5hCWCdcJwwmiBJH92fRE8ODpEubB4tDeMt2H24HbzNV30R7RtNO91Q/UcNcD2iPcRN5R4onoGuzN8Kf1Jvnv+l3/KgS9BsgJNg/qFBAUshBGEREYBCMuL0I1uzGnJ0oeGyH7LEo6QTwrMsYoqCVsKasokyUBJQsnkybMGXcOHAuGDIcHpPvx+h79//X/4s3TxNTe11DXTNIOzXDHHsBbvf+9acO1yqnOk8tQxArHxdIw3KreG+Ez6wH0f/VC9jb82QYdDzIUWhrPIMoj0CHzIKUnrTPgOjA4gjB3K8wrxC1xLnIsPyiaIdQaVxUCEaQPCg2rB3X/afhL9rrxQuks4h/hJeIp35zafNd71fnSotKU1GTXz9n+2QLac9wn4vbnCOtj7QbzB/iz+mP9BADLBBwJ0g1aEv0SDRNpE6QXvSTMMSI2+i1vH6UdQyjcNTI52S42Kboq4C/sLN0g5xw8IrYr9yX4E/0K+QrkCu/+jPqIBCADSu7d1srX9OJt4MDVxc/l0jbQTccqwt/CNcjHy8fOt8/pzg7QwNGW1m/cd+W07yzyAPDP7zH6WwdcC/sLQBG7G4MeXxmnGS0kdS8cMMgspSvPKlsm6SJLJ3Yr4iejHVQWIxWMFEYS1AxdBy8CqP0t+/b11e666Xnn+OVA4kjgHOCw3LzXytXB2U3dMdzo2hndluOh6Frrk+y27sD0n/ouAC8C1QKSBTEJfw+lEhYUYBXXFHgXNR+TKOsp7yCqGI4cHSYKKewg4RhZHu4lsCUeGfoNmRGGGZgd1hOpCZIIegcKAsz5Pf/FBmn9ROvD5Dnx9vO65CzaF+Hp6+bjedVT1FjcU96T1+vYn+Ib5YXdwtlT48vux/Dv7UTvgPXy+ab6TvwtAIQELwhKC90N7A5CD/YQrxOtFYsXqhjEFmYT1hIQFTMW/RJCDlwMhAz9DfMMHwm/BTIEDAVCAyT/hPzR/Br9M/ge9NH0bfbH9Mzwh/EB9IXyxO6E7XrxcPXO9hb2E/QI9Ob28PrQ/Fb9jf7cACUDAgOEA7IGtAlICgML+Q2sD58NngohDKkP1A9HDUENiBETE/gP2wtqC2YNUwweC4ELWgzBCuUG8wT3A/cD4gPpAWH/+v36/rn+dPrk9k/3D/n39wn1sfO38trxBfFz8TryEfAu74TwnvIj80fxo/GF8uHyOPS891T7NPru9135Ff4wAfP/rf5KARcFVAWyA6AE4wd/CGYG+QWjBzIIdgWnA0sFbgbmA+IA2gAVAcH/wf76/08BHgGk/yf8RPY88PXvTvU6+QP46fbR9032dvMs8vz0GvlR+2X7nfnQ+d760PwZAEAE8gntC68JqQfyCdAOCREiEy8WjxjGGE4WqBTeFVsZzhyWHnQe+hxaG20YkRSqEl4T8BPpEAsMwgibBYAAcvtz+Zf5afn89lPzne8S62/orugl6tPpeOfD5djjcOJd4fvhduOw4pTipuNN5l7oceic6MLnYOmM7WrxNvQ49h36CfyA/Iv+2wFIBrQIuwtYDiEPiQ+MDzYSjhR/FtwXrBfPFy8WDhT/EZER0hIHEmkO1wm8CMIIWgV+AbMBPwQQAmv8pfk3+lv7aPmT9hX3g/gD97D0WvQ89Mr1z/dg+NL5nPoZ+j778fxO/Lf9qQCsAT8DFAW+B2kLlww2Cj4JDQzyD5wToxReFDQV6hPtECgQWRITFFgR5w3DDa0NsQj8AYgAVgFd/0D6yvea+JD1LvCe7YDu1O0g67PqOOzH7K3q7uhu6FToNelm6hzsAO2U7dDuF+7n7l7yfvRa9pr44Poc/Pz8u/6oAU0E3ARqB+IJ8wn6CoIMaQ4oDwcOMQ7XD1oQqw+MD6gOfAxqC38KlAngCGIHBQa1A7YA9P5o/sf9svzh+oL5i/mC97T1mfYR9sX2EPqH+d/38veG90X6Yf6H/4AAVgL7AO3+HwHrA4gEgQbzCccKBgvCCu4KXw2oD3UScBRqFdITGhITEs0QyhBvEFcPcw1cDBMMhAh5BK0BTAA4/pb7EfoL+Nv07fDW7iLtmOqP6LLoOeo66Yjn5+bP5m7mk+bs6HTsh+8V8EDwKfHq8tr1Yvfb+On7nP8HAgEDoAPNBIUGWgchCfEK8wvyDKgMIwx5DMMNaw2KC/YLJg1xDJcK2AjKB34G/QTUBMoE7AL5/kr9av7+/Pb76Ptz+XT3Rvf/9pb2Wvbg9SH2ZPYZ9q72s/gy+67/EgQeBLECWwHfAjEGtwhzCjsLoAwpDUAOcw21DV8P+g4IEbAS7BMLE6ARyw9WDv0PXQ7eDM4K/gm8CfEFpgFw/g3/CPyi+Mj4aPfI8xvv4e537m/r2OiJ6Fjquemc5+bmy+Yq5iPmPOeR6srtOe9P73DvK/Pn9jD5NPrC/OsBVQOfBIEGuQdvCaoJggyODhQOQw6iDmwQtQ8cD3IO1AuIC+gKhQvOC6cJMwYOA6EDPAORAXn/Sf0h/+T+ifqC+d74bvYK9dT1MfkS+Ij0uvST9Sj1b/Xi9y37bQD2AR8C6QTQApACUQY3CeMK9gzqDz4RKBPUEWQRqBNtExUVAxaGF8UYbhYEE3UQdBDcDoMLcQhNCakJ/ASUAEL92vs997nzoPSn9BnzGO4A7HXq1eds5k7kjeR15a7no+gw58blXORJ5nbojOoo7x7z+vQI9kP4tfrR+9z9lgE1BYgItQtGDmEPOA9wD9oQhxFCEecS+RNvEwESGQ8ZDi8MzwhICCMIdge1BZYCTACm/gf9F/zG+836MvlY+Or41vc+8/nvlPGe9Yj4b/ga9uz1xPbW9t/7pwE/AuEBrQKvBLIGxwe1CNYKLA2HDs8RrxMvEnESPRMYE0wT1BPVFQoX2BSVEYERGBEWDTgLPgrACRoIYgNBAdf/sfs69MjuzO7o7l/rL+mg68npMuPS3hrgsOPT5CfmneqV7ynwH+4o7i7yGPWz94P8KAARA9ADEAUnBnwGega5B2kNYRAiEXsPSQ7DD88OsxEmE+0RCRByCQAGkAJo/en4YfaH9QvytO+87BXpTOiI74D1I/SC803wBvJ09ML1CPhh+IH8Iv5m/u7+sgJ3BYQNhB+UJyAoVB7fFAoZkxwgHNgcSCOXKZEqnyELE8kIowMhAyQHfA2HEYUPV/6A8Lbud+rj5TrgVuhv81bwnumL47fif9hK0ibg0u919/v07/Xz90n2ivTx9KH9pwj1EHsWZBjRE9wMPgfWBokMvBFtEtYQAA0ICEkChffS9ib1wvAy9Tj3WPiX8GjoeePl4RDn8OZf64jymPKZ80rysu9V8NzsC/NF+6P7+ACYAB8BAABP/h8Csf3lAikFwwIJBi4AC/8a+tIAcg/aIB07bz2LPFAoQxRbHbIoxy6qKAQ3ZD79N8MoCAgm93bv/fhTAs4Hmwcj+2Dkl8bvwDbEG8mWwzXPj+2k8f3dgcy42FrZJtrS7R0N0CVnHvYVWBhGIu8TXwc+FsMrETUVK9ckOhnJCdL1aO1V8i/5tvqX8jXvA+gJ4OnSs8wm1U7mLvGI9sj8VvW+7Cvn+vEB/yUE9QtxGKkd0g4tA/z60/vZ/Nz9uwI6Adj9Iu3Y5t/pleYX4qjhmOnc5/Pnjelv74rz9PSlCKUoBlUqY0tjWVduNvUx1EDtUK1FgEUGTgVNYj2JC6fo+NRm2lnfE+Gl5eDZIMi1qXOc1aQotjK0Abzb4FT77vou7s74ZAOgByAMLCf1R4ZHrTaiMAs4QSOdCskFLxAnFdsEAPla753gz8mkvZXAvMl902XbWORv6Lbpzean5dLv2AQMGZMqjC4PLQItSB80FRcUqhtRHrIZMhYJDSkA4ewB3pnXqdV/08jT8djc2djX49Ya1HjRR9uT5KDqOPPk/owMfhRxIjcz8lb6dnN3XG5xUVg5IDtvRfI5qSWPIn4fTBdN+NHMZLNrtMi7wMELyPrO7tATwGe0srx83EroDeZ2Ad0lBzRwJQckBi+eNjcteCRkNihArCkDC8UHpgM+6mbQZclry4/I8cEcwBrH+cJsu67A1dNE5kP2lQjZFigiDSuHLXUtsjX6PI9Cd0NCPkY2fiTnDJT8+/cX8LTorOa64FfYstC9ylzE/sE1wuzFF9Ex3CzoIvCN9UH36viNAhUOExnfHN8mHjGONs0/zVkzdbluNV1qN4oNYwitFmEPWPzt+dz12vMY4EW4CqDtqZW8xc0750713gBm+9fkMOXjDb8ithP5IJZAR06fPe4tZSrGJV4Qyfn2CXgSFvcW2hXXZ9byxHW497a1v3zFZcZs00ro4ewY5kPrBPo9DTkhLStYMi08izmiL0MreCX4Gq4Y7xhVEk8NEgBP67jdPtbpzQLN1Nah3IXgUeDd2bzYodkF1pzX1+Y++R8F8Q3OEFAOwA5xDkoMIhCeGM0fKjC9P7RTb3LDcBpSjCBq75XvQAoMB5X5uP9MA+oHJvSNvCqaMaD8s+3OBPdFFBUeNRF47sTlxwTfD9wHpxsNPi5O5ULwL1ogdQyM6wbdhPY6BzH0Md0I3+Hc+8azvdHDhcXIyeDXWO6xBU0HVv+0AjsL2xQmIxMvki6rLeguLCbjGQ0WJhH4A/X+bv+z+wLzOeQf3J/XbNOJ05Pai+QN513luOKx4brZD9rE5+Ty/QDcCwIPFhInFwkPvQZACeUJ8gpcGEwrZz/kZmR4/mjJRpEJQ+sv/y0EDvUI/XgDjQLa+8XUqLIwsUSxrbGQ0pX/Vh6sKgwPL/PfB4MZhQX5Ae0jSj1aPqs2mzLWKosEgNYP0d7qiO5b4UXk5N8ezkfIS8yryrzK09Fa5sUEzBHzF7wj1yGOGHQc7iXVJFAc/xl0HFcWbggNA6//0fL06QPqFe1f66rpq+sM547fVeIM6wbuaOqH4wTjw+ZM6ffyMv5+/XAAvQxfFGsRFwdMBUoKlQtnCukWYCkIS+9xaXHaXzAyE/H/5aYABf7I8+X0/vSoAi70HMa7tWK7JLIetzTaJgiqLs0n6AB2AQQn2yG4AwgFjiKZO7Q2RCbQJv0qIwNo2C3co+Vg3C3QfM0a0zDgnONq2R/WSdYh3VX1uAr8EVYdESpDKf4loyNkHQgRlAVtBj0P5hM6BxD9uP919O/nv+/i75zlSuo5+Hn8L/Id6H7lLueP5AjfQOIE6yvvs/Ev9oD5jf2FAmUILwkBDA0QhQ2lFukhrzWaaP9/nHE8WPcVpOnj/dgAPu37773vYfRA+QXWQbhZuze5uLCoxQ7poA+XM0MkOQpbHlYqahLxB/8VdSldMyAtCynMLU4bROk+0SjdOdrhy8vNVtff5B3sDOTK44DlI94O5i8Afw9vDWgVXCe2Kykm4RtGDKT8r/Fe8gAA4QeiBVIKvAh19dznZO/o9InvZu9e8zL3j/de8CTqZOot4NjXHuGo6zv0afm3+L/5bwQyC0QFtgLwA6MFWBH3HeY0xWLwcihiDU26F+Ly4gDX9sHmgfOV8Pf0nfuU15++rMdbwwbAk9K26cwOxy+bIm8SACeuJlsJ4AFkD+8fKSWbHK4dbSgKFKDnUdkq5CzeOdBd1CXi+vG88NjkEOxm8pnwGvRp+ygKhhZVFWAZBSNzH18RDv7n74jwH/TE8xD5UgNECFkH7AGa/Kv+L/zv8tDvRPDG9bL9PPzS+0T/avmT7LbgDeAX6d7vVPRg/0AMZQ37CFwFTP35+fkEcRpIRzhyIHV6Yn0yJfjH7f/xnOXn6sHw5PELAkj4gNmXzEfFIrmeunXSsft1KdgzgiKWL6ZCZiPR+yH6DQ3tGW8SkhHQLCs0Vwe+3I/ZHdvfzLHJedzb8e/7/fWq9H/67/K/7tn0Qvp0CnMeqR4fGpcdoBamBq72Xevo7UL0SPPY+DULrBKJB6/7S/Ti8HPx9/JZ8ify2Pn9AQoFTwJi9mDsOue+4hbn/vCf9zL/lASsBAcE+AL//lABGQ6eIudRT3hJdSZfUCsT++f1f+2A3lToL+7S9KIENvT40+XKl8KVs1q5jcyW9gIrhis1HCo3EEPuIFkDIAB8C8gSxg+fF2ot2CVY/znqTuOM1FnIccsC4K306PaT948AaQWJ/v/zRvXL/GAFJxDnFHgV4hpGGrUGMfF16ZPpH+vu7dT8mBA1FlMNqQIfAdb5Au0H7LvwM/Mw9i/6IwBP/gjzU+015uvk9+9t9j/3t/rB/+n/1P+D/1EEnhMIHZU0iWF4c+FnOECXChkCbwVo6Qjgd+9E+/YEqfoh5LbYYMz/ute6o8wp4/YKBiSdHKYo6TvnJ6sHRPzlAuoN3Ae1BE8g8TB9EYfsjeeK4pHMWMI3zRXoj/sb+2AJMBU0BWf5AfWx8TX5yAQBD1oZBh2BFLgFovoB86buxeiW31TxBxIuGUwTNg8nDugGYvLN55fx2/iD8gPyPPyp/27y4+Mo5TPrgupD6TztKfQF/Mj/LQNwA4j+pQi3HWI/LWZkcsBswkYsDD8AhP9g55Hjiusd+/AITO4J0hfUd9Zyxku6DMsL74AVrhvgERIwr0MzICIBTgl7IOkfZgQfAsklli9UBXboV+7n5KHJwLcyx23s2/Tw7Vf72AoXC+cChvp99W/3pvxdBHQPmBShFDEPmQLu+Mnx1+mz4k/kN/YyCHEP8g7nDUQNJgFB9vn2zvU18U/vE/Nq+Pb2JvZP+BX4YvXF7RHrFO6W7zD4JABX/vMJqhqsLbpYG3ElcRdeZiGgAnMJyPRw5UvpvvMQCOj93t3rz7jP0sirum2/gNbR+kEXFg/7FkU/RjzSEOf9fQzFHQ4XfAkQHhQ9Uyhi+fbqHO7U3iDCI73+1TDu/fhHAI0HOAYs/K30vPK69dv7zQBwCb0QEhYkF7YJiPvS8qzo2eLZ67z7CgZADyAQ/wcYCNsBwPEb71vu2e6u9tL1uvlo/gLyUewm83/1avCs5p3hNeiK9Jz7oPxfDa8k5zObWY92UXWUYtUjrPzgCvb8YuhF8eH9rQv4AT/nbd7R1BXCdrKwtbzKMO8NFCcU5Rc/OCk5mRgJBrkLRRhfEBIFkR5+O2UpEwUu9iDrRtauxHrE7NXq6YDuP/TdB0sG+vyxAQz88/Zz/K37rQHqDc0QhBHNCTH8Avd+9uDsh+cY9bcBfwsjDcH+6vrM/yH2SvBm8zXzsPS/9ef5jfxX9UTw1PUk+Yrzse788B7z+vBz8dTzvgU2JNpI8GzCd7ZugUSkCrL46Pm579vtjPoFDgEWz/2z4K3S2MXltWaz1sVX5ukHywx2CLUgmzM1H0EGIAdCFHUVNgysG3E9zjzAGF4BPvrK5mTHzLoMzg/pp/UY97IBEwZ6+rvy+O7X8Mz4ZQALBVMKARA3EkcOMQMm+cTzFu9463fske/z+i0KbQib/yf64PO+8EjuqO/g813zu/YN/xH/lPgM+JD78v0l9zvumfTi/Vj7ZfkeBxQjw00bbDZx1WZqOiIMMfyo9EbxqPUM90z+GAl5/cXnTdkAzAa8YLT/vynhDQHgAiUF4Rj2HKQRLRKjGewZfBK9DIAboS5ML3gocB7jB7TqEtYo0wndvuSf6bDxf/da9R7zpfQt9KLwTe5N9hYGLxKFGDQWfg1mCeQE9fvW9JvwO/FE87j3SgB+Ahz85/Fi7HXup+1P7qryhO7E61Hzevn9+EPyoO9T9gn0xO2q+vAHygPwA7wRATPWVp9iLGJARTIdUhN+EiIVORYZDkwNqgcH9g3og9u20hXL8L/wwfPUyujs5qfkP/mSA4L9jP8kD8wfQiK+HHMk1C6hKNIllClaHscJXvi76mnoqeqp5Gfj9uYM5kfjnt7m36jr5fPE8nr20QIVCoYLYw3CDHoMtAs0C0gOJwqn/9v3hPYE9njyQfPv8bru5O117H/yvvdn86/wXO9M7qfwce8M7p/wa+2O7lj4zf/QCqEQASBoQnxV5F7FUdMtExq6DFkUwyr8KW4j0xmlDEQCOOt01HrJFMRyxUvIONHL1lvSktqD5RfpHuvR7Db9tRKQHEEkdC2QMXMwGS55KoYkrxqADg8GegFc/6r9C/f47cjlptvn0aXP1NOc2zPnq+6I8//7yQALAi0Bqf5ZAxwKXQ/OF/oXPxBqB5X6L/Pb8J3u4fCw9Xf9VwL6AMz/yvzk+uT3I/MJ+Jv+kAHwAt/9RvyIAHn/g/tm+w4EFha1I7Ml8yHqGLwPgww7DkcWFx1vHkccjRSHD7wJSftV7dXkqOTX5nfhp9/y5jDtOvLh9zj9KACC+5/2m/3mCFoLow3+FP0XDxfcFLURUw2qBZD9IPmc9UzwAfDu8yDzhfCI7abphOoG7/PzGvYf+Y//bgIxBccIwAsrDfYHswXuB4cEgQBc/mH7ffq3+zf/UQSpCBoJjgZ6BIb/Pf7gA6MFlwMOBNcG/QVkAGn8tf2m/sP2Ue+f87X6A/4hACYFrg3iDyQJNwJ1AQkDEQIhBHoKERCrDeUCSfpX8qbna+Ha4qTpje4Q8v/7oAbMCkgItQPdA4wGPgpkEFYZoiGDIaYcZxmEFJgNUwgyBhUE5f44+xD9cgB3/yL8dPku9yr48/h6+cn+9ANeBf0EDwTHAyoCffwE9oLyxfLJ9ez3OfVE8uD0Xfag9V73+fm7/NP86vnC+74A0ADl/ysCXQRtBBECcv6E+0f4/PMz8y/28/fa+CP6Iv1GAxwIiAiYBXUD5QN1A5EDMAa5CzgPRQp2BKQCRv/Z+M/z9/Ty90b4ePuwASUG6AcXCFcInAdvCBkMoQ5IETAU/xWYFbIRIw5pCxEHxAE2/gr+U/6m/Rf9dvsq+h/6pPjE9yL4e/lp/J37ivlS/XMA4vte9yP3dPRT7krtivV++7r3Q/Se9xT5t/NX9Ez92//k/N38QwAkBaMFAAUNCWELjwmwBlsEdwNpA3ABO/wX+rT7yfr6+SD84QBRBbcDKACuAL4Bw/5Y/KH/ggJXAp8C0QHT/4H8bvnW+Wr5c/c2+X79c/6I/p4CZQYuB/YF+ASrBzYKzQrEDX4QGRFSD9ALjQnWBBb/+Pyy/uYAYf+d/nsAuwEdAu8AFv99/1ABsgH5AEACEQVXBekBa/41/ob7OvXo85D2bfbl80Lz8fNT9PbzyfKm83v05vIZ9Cj5DP63AcQDQQUjB7UHhgZmBcgFtwVpBYUEuwB4/70BhgIjAmIBJABU/iT9Gf2Q/Xj+pf7A/fD6Mfnc+wr+0fsy+J/35/g1+TH61/yq/64AVP9N/pH+rf/eAd0DegXrB/YLkg4ADs8M+AvECxwJRAQ4BFwHqAcLBjIEDgPyAf7/Gf9y/pr9w/0QAYUGSgn6CNkGjANxATgBcwDFAPwAHP52/Nn8bP36/DX6ZPce9zP3qPUf9Dr0ofYa+e76Q/0FAK4BjADw/2wBegGbAIEASv88/e77UPwp/m7+kf1E/cn8/Pwy/WX9H/2r+1/7Nvo5+Wj7VP6mANr/1/ur+YP5ZPln+C/1EvWc+WD+xgNoCekNOQ1yBhEAa/97BTMMGRAaFIoYqBpQF3UQnguQCcgGyQPKBe8KrAwECZkDdQAe/ZX3sfKB8lz2NvsxANQC+QHX/vz6Afbc8bvxG/S496f7CAFvBmUGywAh+j71xPFA8rr36v25AXYCFgNeBDYEJQJ3/qP7yfn++Vn9PQFgBLMEuQMTAuv9OfqC+XL8cACZAh4EyQQnA/0ATP8U/rf+JADdAeACpQM6BaIDr/+Z+zf5Wflx98v1ZvaU9of3qvhx+Zb5wPdW9nz2i/llAIoDCwEr/rr7cPz2AEsI7BODHmgg0xdQC0YDVwIvB1oOlRbvGzcbGxdCEmwMJQI++Mv1hfrbAvAHswa6Afr70fUi8KfrJei45xLrGfIl+ln+j/0f+Xz0K/P99Xf6Tf2XAPIEzwafBhUFLAJn/yb+CABaBFgHUQgaBykETAJ6AAH/Rv00/E3+nAAfAowBbQCOAE3/Tfw7+ff3ivcA+IP5aPrK+ZT2HPNU8nf0+ffc+ID2gvSd9bP4gPuz/pUACwA3/7b/6gFPAz4CeQG1ARsBDQW5Dj8bUiTVIQIaNBAUCDEGqQnLEMkVExjMFhoS2QlDAbz8H/mn+Ur/0AMYAtj9yfrl9cTwb+zy6YjrMO/L8436Jv7q+xf5v/bx9Nv0NvaG+mMDDAsLDiIPOA0aBxwAYfyG+9X+HgXdCBcK0QgdBf3/efkP9LLyGfRX9mj52Poq+RH3F/a+9D/0Q/U39XL1+fhn/ysFyAfjB80GaAZfBwcKVg6FESISjxABDtsM4AsVCWIGBgShAY0AswDe/wz99/nY9SbxCu0E623sGuwo643tivCp8U/xPfLZ9HT3s/rt/6IEqgUOBKUE0gZiB9EIYgzhEqsauSIdJ68hwxdxECkOCg/UECESPRIwEm0RfQ61Bc/5sPE37rXtjO/X8Rn0gvaQ9NvupeiT5Anl4+j97p/0l/hc+9L9V/6y+wH7dP2gANgEDQmVCm0K9ArbC3EKPwf0BrsILQlECH8GkwODAJb+ffyw+Wf4K/kc+bT4TPk7+Dn1uPNV9Rr3BPeJ9lT3IPkM+y39VP6f/i0A5gPiB6kK7gxRDqEO1QzDCvQLZQ1xDCAMGQ5LDg0LGQfLBBkDbf7o+R354fgo+N/4Cvni9yn3lvah9k71gfO881T0bPTL8+HzrfTi9en3x/qd/F78uv0lAIcCZwWnCC0LwwoUCUcIdgjtB5IGLQZLBpYG3QmUDUANsAthB6ICFgPbBNMFYAZJBukGcgd4BfYC1gCD/o7+2v5Z/u0AEAMKAM387/oF+Oj1v/TU81P0aff1+ln8Mvzd/Hf+gf18/OD+zQBHAmkF1QUABAUEGgMAAa//2P70/9ABYAI6AlkAs/3Y/HH8c/w2/gf/vf0+/rb/KP8O/gj8U/o8+3P8oPsj+yz95v4W/0n/tf+4/x0ATwGfAgEENwXvBjcHtwX1BWkFfgKyAGAAwQDeAKT/+f1E/Rj9v/vq+q77GPzr+wT7HPux/TQA4gLBBeYGvgf/B70HiQjCCSYKignSCL8HXAe3BakBA//8/fv8ufuW+6P7/vof+hT5zPhg+JH4Xvh19/735fhA+m373/pl+g77T/yB/uT/ngAkAWUAKgCLACwCqAPHA7oD9AJhAsX/r/zj/Cf9TvyA+1r8rf3K/Ev8XPyT+3b70fx+/zIC6wbgC0gNjBBcEvQOyg71DqgLTAtjDKUL3wp6CQcHXwNU/xr+6vtp97n4P/t590/1EfYu9C/zyfTS9XT2zvd++f763Pwv/wYA//5s//MBBQOuA10F+ASgA3YDawJfAVoB0QAvAasBzP9s/rn+ev1w+5H6f/mE+MP4Zfqp/Or9C/7N/af9PP7E/wQBoQIvBcAGOQdyB5cG+wN8AU0Aov+H/wAAR//2/b39F/wz+kX6Avvr+778+f4bAfwBWgNHBNkEwAUxBkAFugS3BTAFPQOXAggCeADj//f/Rf/R/Zn8vvuO+7n88/ye/Mb8s/0k/2//hwCDAfcAoQALAccBagIpAxUDvAJLAmMBxgAoAJj/2v7X/V79wv34/dL9u/1o/Xj8L/t0+qH6sfva+9f7y/yy/Qb/Y/9l/00AZwHqAjsExAVDB40HOAdkBi4Glgb8Bb4FggV+BEADGQEg/+H9//yN/Fj8HPzg+8r7GPwj/fL9yf1h/c/9Pv9TAU0D0gTlBXAFGwQTA54CsQL3AgEDxQI6AxkDLwFj/1f+cf1A/Sj9gP13/mD+5f42/139KfxQ+0r6EPuY/IL9Sv2S/Gz8lfsb+uz5bftH/M37B/wv/Cr8Tv1j/WL8r/yN/Kr82/1v/wwCrQLSAj4ExQN8A2gFCQe+CK4Ljg1RDqoO4Q08DLwK9AlaChMLQwq8CXcIQwVkAjH/X/y9+gr5fviJ+fD3TfXa9MDyHvFl8n3z3/Qw9+/4tPqG/O38E/0K/j3/dgAOAiwEvAbhB9gGPgbWBE4CzAGDAisDyQNrA9sBqQBY/yv9Ffw8+1n6DPua+6j7rvzR/GX7avpw+vz6uPsm/YP/QQFiAa0BDgIKAbsAfAGNATUCWwM3AzkDmAPQApQCnAJ4AbUBQwKiAWACtwLzAdkBFQFgAKAApQDIAG0BrgFkAV0BuQCy/xsAFAB5/93/5P8GABoAhP/I/8v/Tf/g/44AlQB5AHIAGQB0AKkBCwJsAgYDgwKHAf4A6QBbAYwBCwHPACoA6/4X/nD9+/zI/D/80ftR/IL8Kvxz/Mf82fwR/Rr9Uv1s/g7/Wf9iAAABGQHJAZoCtQILA7UCSQK1AjQCCgImAokBAgFAACX/xv4w/1H/Xv/h/9v/I//X/sj+//46/5z/YwDLALwAhQATAC//nP6d/vT+Mv+s//f/BwCYAKYA0gD7AAQBTgG2AYoC8gK/A20EQAN+AgMCYAAZAFQAW//l/jb/nv8Q/8v9Vf1S/MT6oPo7+wX7u/pA+0D6BPmI+T75c/h8+Br5Kfrv+pL73/wh/vL9df7O/23/cgFhA3EDKQZnBwkIGgnLCDsJPwlVCWoLLgzJC2MMZgpxCFwIuwZ6BJAEQAUUBBEEsAONAeH/Tf7x/Kv8Rv09/tj9tvzy/GL7v/jQ+GT5APm9+bL6fvu5/MX8afzl+2/7j/sp/OP9OACJAaABsQHAAWkBoQAJAIIAeAFhAf0AYQGHARABqAArAKD/R//X/sj+7v6H/7X/4P6N/lv+cv0H/RD9d/x6/WD+zP0N/u79hf1j/aP9jP6J/x4A+AAeAlsCvwJzA40DHQTuBP4EJQU7BY4EFQSyAxADngJdAmECYgIzAoMB/QBQAH3/uP9h/3L/GABIAFsA3/+K/yP/yP4v/rP9Ev6L/of+pv7Y/nr+mv57/mb+yv7F/nf+7v6D/+7/dwA8AKwAeQDg/7L/IwCiAJQALQLrAl8DUgRhBIYDDAK2ALMA1gF/AVkCrwKlAAUAwv8k/tn8f/zM+8n7v/ua+zz8pvr4+Fb5Avhh9+b4kPlf+mb8+vyD/MP9xf2c/rYAvgETBBUGNAbCBv8GbASEBLwF1wTDBX0HnwcYCKYIJgbwBOEErAZzCQUKfQxPDagJ7QakB3oFGgOFBcsFpAOQA8sD9P9+/Oz8YvsP+AX5FPxU+sv3iPk1+Sj15fQm9+n14vV3+UL6gvmA++z8//qS+rn9sv6t/mcBsQMXBDsEaAQ/BNcDLQTjBDUF2AWABXoD3wEzAVj/5/2I/Wb8k/yZ/Kz77Pos+2L7sPns+S37jfsW/Df9BP4U/jL/pP8PAOEABwKqArkCMwSCBYkGRgYFBwgIMAcyBzYH8wZ3BnUG6AVZBdEEaANoAh0ATf8U/9T8lvt4+3767/fq9vb10/MV8zHzSvP78hL0zfPy8on0zfUw9674BfpK+1D88/2PAD8CQAPBBN4FAwb1B9oIrAezCcgJYgtSDbIN5A3dDLsNZA0/D6MOSA4XDuQKcAkiCAgInwUcBUYEnQIXAqEAx/+J/aj7ifqO+dj3IflF+gL4A/eD96T2wPST9a324fW+9br3EfjG92H52foG+s35yfyf/Qb9Tf/fAfAA5gB4AjIC6gEDA9cDnwLqAVgCkgHOAHEBhAGEAKf/OwChAEAAjwBXAW8BowBwAL//vv/e/z3/tf7E/iP/0f7u/kf+J/5L/Vb7//rk+hr7Ffti+nn5Fvkh+GX24/ay98L3oPgN+tv6Dfu7+4D7n/uH/Lb9tP/uARMEyAXUBisHWQgGCZoJSwvlDOQPPhKEEigUUhYLFuETAROeEdsOTw/sD6EO3AwqDIoJ1QP2AKz/yfx9+Of3F/gZ9VvzwPIe77fq0+om6jzodukV7XHtD+xj7tPvCO9j8J70ifdR+ZX84/8OAT0DFgaCBoUGyQjSC7cLwgwCDykPkQ20DDcMhgoaCiQJCghMB9cHAQe5BI0DxwHL/wr9MvyL+636NPrp+K/38fb89cbzwfNa9A/0gfOC9L319PTE9Pn0QfT58nr0nPV89Zj2vPgU+Yn5Y/zj/WH+BP4AAZMA2ADvBHAEMgWUBvoI0AjjCcwM3QyCDmURvxRaFHIVPxjYFyMZdx2aHSYZshfIF3UUURANEWYQOwzGCTkJrwNa/cP86Pf/8LPuZfGJ7groUej151Dj3d614YrjD+JS5Bznvef66D3thu4Z77XzCfmw+n/8YgEUBQYHmgggC00M0A15D3EPKRCPEVYRfw8TD5IOBg0TC7EKEws/CQQILweOA10ARv+M/WD7p/l2+rX5gPhg+eT3bvU/8wj0wvMI88v0KfYC96L1BvZe9e/zoPNx80X1h/Vn9y35n/kL+vX5cfr4+bn7/fxI/uIAYwL3AnABoQDm/7AACQNGBlkJTQt5DrUOChB7EmwVDhpUHTkifCVXJZQhZB9UH4wdPhw3G84c9hsNGJUTBQ68BwoBy/vg9gf0KfI+72XoY+Ei3yjbodS/0cbUB9bk0xLWNtvn3Ozcs9+V4/rmmet88ur4eP6sBOoIXgotDPwPoROFFfYXohq5G+Ia7BnJGSgYkBXQEd4OgA1YDC8LAwpLCAED5f14+uX2mvRg9GT10PMA8n3yAvE17gDtPu0B7Xvt/vCb8wT0kfQU9hj2HvWL9gP5evrE+iv9ef4U/mT/TwBw/43+qgCZASMCiAMdBnwFDwPoAn4BRwEXAJICkwGsATUDtwLMBSEF+AkfCtsPrhfkHTkmRSPDJAAdmR3tHiwcWSH1IPonJCCTHb0bQxJkC1IBeAOR+5H5Uvm29Avt9d9g3vXVhdAuzq/RvNSu0DbT0tNf1Y7UsdZ53ZbhOecA70P2P/0BAr4FJwlYCjIPIBPZGMwbphwbIMgdCh0VGscYxxZCEMIQjA8DD4cO0gwfDVoG4wCD/Er3bPXM9D/3ofV49Cb0ZfEu7v/qiOye7AbuBPFF9b/36Pe7+Lf2E/cp9y75//q4/ScAbQA9AI/+vv6A/AT8YPqB/FP/LwAMArEBxQOwAO7+qf1Y/Zj8YfvV/r/+JAHOABEB7gDF//kBaQJAB4kK8RTfHtAmoixpKaQohh0yHBseESLaJ/gmsy7mJa8eBxUeDGMFvfq5/SL4dPhl9lbxrOcc2ODUG808yd7IXc/506rRxdW11vvXFtc62g3gseTP7dn14/6eBTEMJQ7TDOsOxxEAFjoZyh1JH1If4x75G8gXNxNDEVoMxAiTCJkHLQbWAhwDPgCq+c71Ye7M6/zrNO4/7/XuIPN98W7wmu4a7+jxHvQJ+bf7owEyBrQEqwHkAfID1gEGAKkDnwVTBLcDZQOeAlT/4/yi+oH6af4dAZMAjQCjAt0AWvw8+pP76vhO9uv3BfkV/Dn91v/g/8H+4f5A/fr9sP7MBvcNFRecIrUqyi19JSsh8RzuHfshbyduLzUwti9gJ1wemBMTCjcDivxk/C36Qfk681bp5N+h1VvOgsepxqHJK82fzwDRU9Sj1nLWCdeD28ngDOjk8Vv8yQXoC+AOqg4YDu8PMhQCGVMcfB9VItQhLR0qF0kTmQ8VDDAJVAh4CNAF3QPt/478yPk79u3zcPCV8PLx+/KO8arwn/Ib8mDyR/TA9rr2JPlS/Ub+2P9tAoIEBgPIASkDZwNIAtEDTAblBdYESARIAuL+Gf+S/2/9B/16/3YAzf3S/CX9FPwn+sT5A/uO+j77cvul+hP81vlX+SL6L/wIAC0ATAVuA7QCsAZ2C98WOBxaKOMsqSu8KI8hJCRnIIsj7yOzJa8qESVcINQT5g3DBM/6K/jl9JL2NfH86m3iUtsT1mTNlcgOyW/PaNEE01LYjd2n3t3ckt9O4+ToIfEK+wIE9AiQDBoOoQwTDUQQ3hI0FC8XgRpnGmAY7xQLEr8NjQjpA3MB4wH0AU4D1gLqAhEB7Pzw90LyyvK382j0v/Oa9b74Ivfx9gr2hPYH95b4JvwS/4QDwQVxBNMBLAKJAjgBMQGOA20F+AM8A6YBMwBa/nH88Puj+2f+YgB2ARYCtAFSAKj9M/xg+9r7zvue/HD+NP/h/Qb7CPox+T749Pbf+Ab9KACwAc4CmwbmC38U8hurI4gn8iV7JEgi4yN3IZYhoSW3J8MmwCAKH5cWGQsQA7X9L/vc9/j4o/Jm6Hni0t1t1CzL/8+g1KrR/M/21mfcU9rK2sXdK+Kt5aDsZvSD+xgElgf3CD8KOA1gDmkOFBNVFsgYfhpvGsMXEBEzDYAJ1AQdA4kD3ASAAQL/i/9d/ob8X/ke+bH24/I79LL15vbO9jz5Bvtk+TX7qvz//P77tf2QAC0AFQMTBqcG+gP9AmcCE/8EALcBlgK//+T/oQKMADgAZwCBAm8BSwEhBcYESQToAcsAmf1K+Qr7OfxY/Df6kPpH+6D4D/cO9EfymO+U8VP1o/ek/csA0AX3Bq4RvyJJKywvEiZtJTojtyNvKE0l4iodKWctUiq4IY0djBAMCiP+4vxI/qf9svsD7mXl6tlL0yHLAcqc0TjSc9KA0rLaOd1226La0tto4ifpAvPw+SQD3ghNCQwISQeADF8PwxPNFQoXmBmgFxwVsA9VDDAIzgG3/on9fAC4AG7+BPyj+sH6tfcz9xP3pvYj9Zf07ve/+dX7FvuO+3b87fyp/xQCiASrAaMANgIOAysEAAbnCHoFvwHRASoCdAFSAS0Blv4v/Uz/nAK9Aq0C7QAP/9H/WQAtAZL/Jv+A/eD6BPye/VT8m/cZ9hr2Zveg9qP05vTU87/1EPLg9Bb9LwElCIIOpiOdMEgxPyssHXQfiCJJKs0oridvMzAzLS9RIEUaexLnBMH+g/eO/nIC7AC6783ew+BI2HnJNcE/z8TZytF10fHbbeSs3BTVZth94InoTfAx+lEEygyZDeIJGgg0CoANeBB5E5kVbxf/GcYYzQ+tCIMGSAN9+6z4Z//aAtX+a/nf+VH5afO58NDzXvfx99z51Pui+yT8mvzi+v76C/9jBOAGsAc3CpEGjwFOArcHqQtXCaAKWgonCCgHUAVrBMr/mv2V/B/8K/4MAZID9v+q/fT8B/1u/OL6z/oe90v2GviC+zv9bvvD+Cn0IPPx9e73Pfc596r2pPfP9NL2efxQ/w0I3BCeJ4QvmDEvMPIfqx9PHBsqzyWJIlAyCDHyMmYeaxwpFHgFoQIi+FACmgATA9Xz/+T45b/ZvdBmxdvSGdXYzVvTWN2j5Q7Zk9il3FLfMeNP6hf3H/2TBNkInwltBpIHOAzNDPoLrwxVElgUeRS/EIUM4AoCBokAVP3h/+EByP5X/zICif8++0n6xv4n+sf1kfss/Bv81fohAeYA6Put/5YCcwbgADIBDAGq/kIBowRLC2kGqgR3AyoBjgC+/yUDMP7W+d378gAoAuD/jgCQAYEABv3a/qIB9/+Y++L53/xu/Ab+tv87/hz72fXz9gH5TfkU9pj0rPgU+Gb3ivoy/58A3AJiEqgolTBBL2sioRSkFHcc6CcfHBgdvCpmL3MofhNPFqAPkwRz+c/2sgbwCQEGE+4j5yPsVeNw017OteJV4tPVj9fo6Vzw7uJh34XhxOIU5GHuNPaO+eL+KwXIBjEAIQKbB8wI8QH8/14JaRDiEJ8JoggvCoMGdf/K+0gBNwMzAMr+sgGaBP4BKf9t/gj6OPoD/cv7RftF/eADcgAB+/X7Pf9NAFP7wPum+tn7PwERB5MHeAMlBWYDw/5r/QwE4Qd8AfL8WQLCCNsGUAOuALgCQwJI/y4ArwGPAqX7cvnc/Rb+cP6a+wn8UvhW8yT4pvip9bbu8e/09H/ywvOB9Vv3JvhQ/7UTeSQ0KyoufSRRGqEVGxx1I9EamCH3Kn01uTAeIugf9RI9DNT/4P8KBXgGVwly/B/36+oH5F3aRNNH1ljP9dIv2YvkhOJK3LThSt8X2tXWO+GY6jnwB/i8/lkDEQOcBMICCgHW/9IApQRACgEQTxHBE4ERcQsdBH0CzQXhBTIJNg0MDqwJEAa+B6YEyPyp+z/+1f/u/o7/ywJr/sL78Pk++tP6ofgU+tT2Y/jf/GIDuwa/AeYAx/97/x39LgDNBykHHQMlA1QJBwkfBIkB2wLbAqkBFQXVBKUCRP3d+mX6rvif+RD3d/c/96L4BvoQ9yvzMu0a7yzzgvXh9534wfj49cT0Vvgv+88FcBnPKckxNCcuHGkRqwyNFH8XRR6IHNokli+XLQUmvxQaEcwI6ATlAtUBNwjVBA0HTADQ+m/v2N+N3EjanN2l2ardwOd47DbrzuEO3frZiNn72yDiwOml70X1Av10AL77ivXO8jz3CfspAEMEVwisDJ4NhA71Cs8JJAqMC/sLggs3DosQFRHzDdMMtQi/BU0FQgTUA6X/nv7C/e//KAJDAZT/qftx+4r5zPqQ/U/+QAAfAUYCmQApAqIFiwWXAVf+IP9D/jn+of63/2v+E/+hATD+svus+wAARP6k+XX7ffzu/Or63P2K/3L8dfo/+jb7rvjX+gP9kv7i/jH/AAMbAOb9L/0B/u3+ZP3C/kD/f//9AMUFUQ2lEh4TPw9oBwUAp/3B/x0GqQ10FUUZahgfFGMO1winAyIF7wnGD6kR2g6xC08HAgSh/nr8+foL98v0b/Ka85DyXfEw8zDzPPFS7Rzs4+qB6UPp/elT7pXyafYJ95H0Z/K68PvwFvML9i33Avnt/G8A4ABZAGwCTwKmAKYAVAIXA4QCNARVB/EIBAgpCOMJBgrMCPYGAAaKB04INQkwCzIM0QzYCUkGtgRVBOMDjQMQBcAD7AIeBDEEvQJN/yn92/ql9u/3wPwz/v7/pACfAT8Acf1i/oD7fPhD9sb2aflK+gv9aP3P++75zvqt+sr3xfUc9UD4M/jv+uoApQJNAfv8Bf2Q/HP6gvtF/rMBRgHwAdADZgSRBCgEugajCEcKKA1wDrENdwoDCekIZAikCt0NFhCJENUP5g/cDZYJTwbwBU0HUAaVBJYD+gG+/qP6UviH9tz1W/Xh8wvzTPHB8JDwBvAG8lX0UPYi9oP0nvS49Ur3nvfR+Pr6Kv24/g7+Iv+j/zD+IPx2+2f+iwCgAbEBJQEnAMH+/P2p/pEBjwIYA2sDAAMFAwcBWP/a/rz+Lv8MAZADrQOfA4cFXwQAAi4DUwQbBLYCugODBtgGbAV8BHsFGQS6AiACqwALAKr/cwCc/10AcgKDAQb/1vu2+wH8dPpN+Ur68vs9+7z7Z/vY+l378PpH/Bj8W/tu+238Vv5H/iQA4QFXAngClQFOAREAqABKAsEC+gK9AqAEdQZsBX0EoAVhB90GsQWgBr4G2gUnBKUCrgKWAVkCmwOrAyMESgP/AaH/4P4t/6r+If7i+077zPov+mT7F/zv/JD8Kvy/+if5FvpB+jb7A/2s/gr/Av/lAEcCKwIyAEkAnQEbAisC8QCBAY4BxABv/57+lf8r/oD7wvpa/K787/sQ/Lz7A/tP+jP66vlX+a/5sfvW+3L6V/wX/wAAHwDkAGQCWgN5A4oElgVfBXIF5wSxBLwFDAf6BuEE1ANPA0ICSQGcAUgDoAOHA48COwGy/0L+ov57/hn/M/9A/7D/tv5u/qj9Zv0a/C77V/zW/R4AfQDtAO8ADgCr/3r/aQC9/47/xQBcAacB8wD7AAYBeAB+APwA1wHDAQAC0AGzAFAAAABJAEIAdgB3ARcCugFxAaMBJgCv/p/+L/+k/lr+9v4A/xH/c/66/nD+3f3u/av9u/0W/kP/N/90/yn/cf81ADD/pABAAZIBxgGjAUYD3AMKBNkCvgLHAhQCwgF8AYQCdQFgAFX/RP6Y/b78SP1s/Lb7hftr+5f6tvms+h77T/vS+kD7Wvx8/M78nv19/mP+qf4c/wgA4gDnANEBPwJGAtICgwM7BN4D8AKzApIC/gKEA6QD6QOjA2UDIAMCAjcBVwHVAFYAnP9p/6wA7ADOAH8AaQBOAF0Az//y/kn/H/+j/0H//f8vAccAeQBr/+v/qv+c/wUAoP8/AG0AwQDg/zH/M//u/kn/Bf/P/6kAigBuAD0ATgDQ/5r/cf92/1IA2gApAQEBxgBoAGb/nv6X/qP+lP4k/rn96v2w/Vv9A/0C/ej8qPzp/Kj9pP6Q/tz+Lv8J/3r/5f/lAKEBkAFUAoYDHAT3A9YDwgOwAlMCkwKXArwCmQKYAuIB2AB9AK0AxgDLAKwA6f/r/9j/bf+h/5L/iv/3/iT+uf16/aP9yv0s/jr+vf3F/Sj+pv0j/Yn9a/65/hv+q/79/jT/p/+K/9f/AAC5AO4A8wARAa8AlQBkADQAGgCdAGAB4gHeAWYBuwBZAAUAAgDjANMAmwBcABMAeADfAH8BrQG4AdoA5P8GAPr/oQDwAAgBMQGVAFgAKwBvAFAA1f/A/4L/kP/E/0EApAC5ALcAxAAMARkBGgFpAfkA6f9t/0H/jv+a/5j/of8B/5P+jP3t/Ab92PxU/XP9ff13/VH9j/1t/QP+WP5t/hb/pf8hAAUAgAATASwBfAHuAW0CHQKnAXMBZQHPATYC2gJ2A2QDFQNdAtoB4QG9AcQBGQKGAlIClQHrABIAVP/p/rX+9v66/gT+zP0B/Xj86/wz/e/8pvy3/Ff8Dfzw+278YP3n/W7+a/7B/ir/ff/l/+//lADVADkBDQK5AooDmQNZA98CKgI4Al4CEQL0AdMBxAE9AaIAxwB9AD4A8f+W/0T/C/9j/1r/gf+H/1z/NP+//qb+lP7c/m7/wP/W/7P/hP+w/xsAmABOAWwB9gCQAJEAvgDeAHoBGAJSAiwCxAEKAToAKwA9ACUALQBlAK4AbQAdALL/3P5w/k7+Kf5P/pP+lv6F/pX+k/6A/jf+6/0I/hr+Gv5I/rP+U//r/3oAXABDANsAKgFXAacBRAKrAp0ChwKeAhQD5gJYAvcBkQFvAU8B9wCIABMAjv8R/4r+Qf42/jr+E/6P/TL9+PzK/Kv86vwq/WL9Z/0g/ZP96v1W/p7+qf4H/0b/1v9NAOkAdQG7Ac0BuQGLAToBqAHjAR8CmALDAqcC+wGIATsB0QB6AFoAYQBcAFYAUwAqAOD/qv+d/6L/I/8u/4P/m/+5/3D/mv96/4L/vP/j/34ASQAhADkAOAA4AFYApwC6AB4BHgH2AAoB4QD0ANQAZQDj/7H/BgArAA0AHgA/AA4AwP+A/1z/Pf8P/xv/O/+Q/9D/u//I/4//Qf9B/wX//f5n/8f/7P+b/6P/CwAMABAAWADgAAoBDgEyARMBigHaARgBxADgAIAAZwBaAEwAcQBGABMAg/8T/9L+mv6t/mn+Xv6a/lv+0/3r/RD+Ef4p/kT+3f6z/rD+T/+O/9v/+v/t/wcAdAC1AAkBWAF0AWUB8ACsAE8AbACpAL0AEgEFAfMA0ACGAEMATgATAMz/DQAZAF4AWgAfAAMAsP+Q/1r/g/+r/7//JwAPAAoA/v/a/yYALQAUAMr/yf8GAO7/RgBrAH8ApwCbAKUAogDFAIMAcgBNAC4AkgCnAPEAlACeAOwAcwCIACYABQAOAND/5f/H/+H/4f/K/6z/s/+w/6f/2P+d/3//R/8L/0v/wf8GACUAWgBQAE8APgApACAATACoANcA1QCVANsA1QB4AD8ABQAQAMP/9/8FAIb/V//0/qP+kP7T/t/+rP7F/sv+6/7m/t/+Ev/g/r/+zv4L/2n/mf8kADwAXwB4AC0AkgCbAMcA8AD4AOgAlgDiALIAugCOABMAGADB/7n/nP+a/+H/AQAXAMr/vf/a/6j/o/+l/5n/nP+M/8//WACGAG8AgQA5AAYAPQAeAEcAjQCSAJAAggCNALUA8wDPALIAugBwAHQAgwB6ALQAlgBxAHwAVQAoAEMAgAB4AHkAWAAzAAkArP+7/6X/kv+e/3L/i/90/2r/O/8Z/2H/Lf9D/3r/i//S/9f/7f8OAAoACwBXAI0AigDPAP4A3gDRAJ8AnADxANkA3ADfAJgAcAA1AAgAEgDy/8f/m/9z/3z/Hv8m/wr/tP7L/ov+0P7Q/sv+/v7V/vj+7v4p/zD/BP9O/1r/v/8HANL/KQBxAJkAigCEAKQAjADJALEA8AD3AOMA7ABfAHoAbgB0AG4AXwCFAGUAewBFADIAIQDs/8v/nv/k/xYAEAAaAPT/9P+l/4P/kv9F/8j/3f+6/9T/w/+t/2D/jv+M/+H/MAD7/x4AKQDz/+P/1v+4/zkAfQBrAKQA0wC6AKoAjQAsAD4ARwA2ADwAUgCPAJ0AOQAIAN//m//O/9r/TwBDAAwALgDZ/+r/yf/k//z/HABqAAAAYACoAGoAhQAnAAoA3P+x//3/HgDp/3//of+l/7//vf+Q/5H/Qv89/17/if+f/9v/2//K/9r/w//c/9v/5P/u/+v/sP/r/+z/3v9DAMX/y/8OAMb/1//E/8b/xv+y/9n/wf/g/+3/+/8DAOz/LwBCAIsAhQB5AGUATQBoAFAAewBOAHQAlwCoAF4AFABNACsAewA+ABkADgC1//T/+v/L/8D/5P/9/+b/pP+d/+3/WwBNANn/5/87ABwA2f+Y/6H/WQCXAGgAp/+R/xAA/f8VACQAbAApACgAHwDn//X/rv8JAMz/yP8UAM7/ZABTAN//+f+k/8L/BgAUAAwADgBlAFsAdADGAJwASQDV/8n/IQD4/xMA+P8CACIAyf/P/4T/gP+s//D/DgD8/57/V/+Q/4z/9f+H/4H/9v/9/zIAs/8vAGcA1P/n/73/yv9UAEwAaP8c/x7//v6E/+L/4f/8/8//JP/f/qv+s/78/ov/FQCn/9L/gP9//5r/2v5y/7H/n/8OAIkA4QBBARQBQgAWAEgAyQATATwBvgHkAYwBSgGVAHcAOwHsAO8A6QB5AJIA1/8AAGoAFwAsAUQBmQBSAGv/Gf8g/yH/6/+dAFMAogBMAFv/FP+c/gL/R/+m/x0ANABAAOz/6v91/zD/SP9P/wD/yv6W/+T/GwCHAH0AYgBwAEAADADk/xkAfgBHAAABRwENARMBpACIAFAASwB7/2z/3P+4/3MAFgC1/3v/J//5/uX+Wf90/wAAFADH/97/ff8//0P/Qf+d/zYAZAA2AFgAOAA1ACMAsv+d/1n/kP94/6//SABqAG0AlP9n/0X/S/9y/1z/1v/y/yQAQgArAMP/lf9j/9f+1P7d/uP+xP5C/xsADgAEABQAp/9z/yr/1/7X/iz/6v9SAM4AqgHNAqUDTASzBAEFwAU/BrkG7AYyB2AHIAfMBjAGOgV9BO8DcAJRAWwAef+S/jP9PPyh+0z7+fqh+ib65/nu+Rv6m/oo+5H7xvvk+5/7mPsi/Aj9uv0Q/nP+gv5+/mL+Iv7A/Un99Px6/Gr8dfxp/DD8j/sU+wv7Afxv/cn+Of+d/rT98fzo/NL9df/BAGwBLwGGABsA5/9LABMBrQHEAZYBHwHNAAIBKwHRAXoC2wLGApYBGQBQ/zYAlAPaCr8UmB+KKMErvirVJhofwBXkD5EMmQpdC1wMxgtnCZcF+f5+9TnsPeaJ4jbguOGE5cToG+vR7NXsbetO6jXqF+sq7gH1qPyNA4EJcgxnDIQKFwckA3YBFwH/APcBnwJCA9oCwP+g+ln1QPD866jpG+k/6xzv+PIG9ob45vl++bn4Nvl4+x7/SgPgBtQJZAs4C5QKewnXB4wGBQaTBXwFwgX6BFoDuwA9/nL8QPvd+mz7C/2Y/Sn+Yv6p/kz+Cf2R/KD8OP4YALACKQO1AzgDqwAvAGID8A/qIoA8dVGXV0dOIjuYKUwZLQ/RBgkEAgczCosKggQL/lL0jeiv1znLHMmNzS3VmduI40zpNe1n66joJOf55kfpN+x98x/+9ApUE3AXqRYHEqcK0gBJ+Sj1JPWz9T73/fdJ+mL9A/vF8wfrneNS3rneX+QN7tX4JQHDBrUJvApQC3AM4gyRDsMRIBQQF7MZJxnKFU4QRwkHA6L/0v1+/bz9zP3K/WL7ovfA8yDyH/J78oLzdPUo+Z79DQLDA5oEwAOKAJ79r/xV/xcEtAncDE8OjQ0ZC9IH4gLC/jj7c/lQ9xb1dPNE9Cz2UPSO8i/yh/LF7hHrvuzy97gSjjYVWKJpm2d8UPUz7yFwFqAO+gkCDuMUaRg9EVQDPfW348nQ5rojrzK2kcbfz7TXauVX7f3s0uda5mjoLuzC8Cz63wnLG50sbzM7MYQo3xw3EKcFnv5u/NH/IgHy/r77Vvoo9DLlB9SAy/fMcdIn3Y3qIPmSBDAJvwfiBpsIDgmHDMUR5RhxH50gsx4uHFIWwgsBBP7+OPw1/Hr7jfut+hX24/CM7a/qpOs58qv33/iW+Nf6/wAhB2wJjwipB2MJ/wvZDG4OeBAZD6sK9wbsA7r/Yf2Y/TL8vfXU7qzruuoV67vrVO2C7zX1m/uG/P/6APwu/jn9Ov0G/iABIAc8EmcsC1Hyb8J4s2ayQD0f9AtZ+xTw7+5W9+j+jPt07SDhUtcUx2KzM6SXqR7CU9js4vDv9AAhCC0E7P4PBKEM0Q+YERAbnSq9NrM8qTtLNMoikgoF86rhhtrh2kPeZ94l3qnhR+Ue4FbT1Mm7x7nNQtjg6k8EqBq/JiwpECiMJasjux7fHLYenh+FIHgcKhWoDsIJ5v3O7ffgUtxe4AjhnOHm6OTzv/hL9P3s8exd9KL3YPqgAykQ3RivHAweOx4lG48TFgtRBeIFfAl/C88KRQlqBZH+yPb07Cvj2tza27rdMeKm6ZfzCP08ABL/av7g/P34gvbJ9wv+jwQcCFULGw2PCJQEBQtzH8tCn2Lcb9NjDUKgHNkFNPpI7bXlq+S27DzxJOqL4QHaadPMyjPATrmoy5Dr1v1XBbkNeRquHMYRSAuJFb0fBB+2HDofeyj7LQgnRhQz/Trnl9YKzJLHtcuj03jY/taZ14ThSu0r7b7jOuHW6vP4xgMcErMklzB6LwMo2iImHtcZxBOWEToSmRD9DWcGwfsN8EHnkt55157Wr+Bd8/j9sALPBRsFF/9n91/0BPxtCbEP8hInF4kdMyJeHQMQFwaBAd/60vgS/cYEugpWCNgAXfk28Drln99f3EnarODk6lbzCfh2+eL7hvwR+Hv1+PvDBIoKjBCFFfwWIBLvCi8IfgS4+6jzIfLD8276WgopJJlIp2UNa3NSOyL29PHhKeB+36rnWvXEBbELYfyX6F/bH9L0x9S+db0c2ycIRh/OIZwhrCYYIKsKnv0qCIIRcwo8BNkKLhjFGjYTwANi7lDWscPDu+u9b8rj2hHssvKO9KH9KAXB/pHvgeyw+gAO3hnaJ/M6Kz86L38a9QuOAe33vvAx88T4kflm+Nj1DPAY6BbiX+An6Oj1xAeKGusisyAwGQARVwqfCCIK8w5HE40SYhMWE6kMAASg/x36DfNX7YXryfKB9673Y/kK+xn4zPM58tHyYPZm9Ufzbfdz/E/7IfPd7HPvlfOO9JL32/45BNUCOP9h/CP9hADJ/8P6cfOx7Frv2PikADIGwwteCXcFYAugF5g7tWEHc+lnyjoZDbn4C/ko7q/nJexg/ooOVvnJ6CnoT+ks2kXDZruE1VoAJQyqDyIXsiFgHTkHo/pzBKoRmQqeBF4HZBTNF40JSPQj39nRHcuDzqTSkN0U7Ez1dPQj79/02P7u/nnySvJiBz4cUiCTH4IleCYaGHkDNvo6+in55fEL7knwMvLI8jXveOoW6ZrwffhO+q//kg/gJA8tXSuBLVsysCyYF84GngW8Cl4Fqv1Y/VX5wuzQ3XnY/9qZ4I/ldu1/+BUCPwn0CvIMmQzQBi//Ev0t+6T1+vRP+Bn7t/Sy7ifz/foF/Cf6vv32/AX4t/PM8wP33PeP9wT3UfqE/Hz9EwAI/7D97vxP/ZT+vwRVEy0vRVhmcvRyMFFvGg34FfIh9e7wffIV/lQQywjp6I7aI9XBz8XCB7v7y5v0ExRTGcYXghUTGM0IZfDz8bkJSxhLFkwYCiK5JwMWYfvo5wPaIs+5zB3V6eFK8Jz6MwIq/H/trucD777vMOYN8HYMQSMzIw4g5iPqHH4Gt/NR8xf2B/cB/AUFugWk/AX1GPHE7rHsSvHn+34GLwxfFl0nMyxUIzEWfhBrC+v85faiAVkJqfyp78jsoOpV52rl+vCt/Y3+Zf1zA7oKrw2PDAIGjATcBN4C5wGG/vD3ivEu6wvnROZO4yTmbfDj9wr7agACAsv+evuz9rX3wvhM+6AEWAvLCnQIbAiQBKX+b/qH+TMBsgzhKKBUa3C8cahMnxKK6B/iiu4b8+ryYPfmDv8QxPMC2EbN79J5y66+bcvuAAYr5CmkFaYO5Bc5BO3omezZCEIYcBZ8GTsi6SN5EKn5i+BByAfBVtCd41TrO/P7/4kIjvps5z/olfU790vvlPxGGFcjjhmNF3UgKhZ5+7bsAfHf95v5wf/8Bg4CCvbW8LLu7ega6dj11AWTC+cL8hXUJs0q9B/FGFYbkRoCDKIB1gaLCCT9xvCb7h/t/eTg4jvu1/za/A320/m/AhkGVwGDAA8InQ8SDWgGNAOP+T/tGOTH4mblKudR7aP4WwJxA7gERgOb/FT1VfJx+BQB4QilDWcPLQnPASkBKAF1/KnyBe608bL+2RETNdxfHXXWads3Nf934abnY/rXAAQBkwtRIUYURuzkzyfK/MqDuTaxm9RDEdkpxBrvBrAFsgmd9mzrowEEHzkiSx0uIfUp7yOXBxPt3dN6xGDK0+HF8TPzL/MZ9CrxvN+T1m7imvKF8mTvcQQpI8cp4xa3DzEVzw2Z+/r1VwMaDxYOsAnABR39GvNP6azh6uLZ7wj+1Qa0DNUPQhbHHCQbdBbbFRgbvB5VGJwTfBVODNH0ouN64aHj9+VH6WPyePvL+rX3Tfcg+jT8Tvs6/1kJ5RCNDE4EHv3k8K7mpuLE6K3to+3Q85L9swcYC28JVwBh9ibvxOwq9KX+MwvTEh4SGgW8+Vj16vYf9x7w0fIBAtgWwy5xVE9vVHRDU9EWmOzq5XwD4BISEFwIqxV8F9ftgsV5sSjAP8FNtha+B+3pHtIcVwGh6o73Jvnt8Z8C6yR/PsU38TInLPoeYAh/+IHuBdzG1n3l/Pfd8njivdlJ26LSYsL4yKviKvbE8xz3WA7MISMZ0go0FFoe6hgIEJAW2iKSIQIWhw36BDX1iuiW4MLiRO0x+bT9J/rd9+n5ZAFxAeIFoRIfJJUtNyMAGz8ZbRPY+Vbl1uiF+BT+UfUu9+r9sgAn9pvtKO+b9k/9Bf51BNwJrgnr/8n58fAL54LlHOp98ODpg+zO9yADoARYBfANHQrMAsT50vrn/0kDrAYPBTUD9/qD9s70W/h89ufwrfDV9QQGsRieQv1ohXnOZFUuFACR7a8I1RnuGK4PyBgyJPH+d9A9rAOxgrcYuDDAG9u5CTwS5ADb33PiIvWv/GEHkhlDPNpE3z9VLrQeohDHAZn5Xewi6s/so/Wk8Svic9PayjzG177KwsXUW+rC7lXuXfjZCWIQ2hAiGJUgMyRPItUr4TCYLcAhcBhFEtz/rPF55uLqKu/B6nznneTI5wznMfBx/bcK4hRBG0QhTBcVDu0Snx6vGu8MRAcaCy4L7P2Y94H0g/IJ7v/tRfSR+JH80fyR/435LPHM7nnz1PQT6xXm6Om48Unu8OvX8uH/OgonCxYJKAI5ApIFVgq2Ca0HAg5QDxMLn/qF7ivpL+fD6Yzo8vK1+EYDQQ4rINdHLWTzcS5Qjx4VAIID2CLCKyYwdiWoIDQQ1+ufzOytea+wuqbLu9K53Q/0fvmG6ynMAsgo2IPzCg/QJvY3Njh5N30tLR82CTj+iAZLEJsR8gvWCgEFAfOF1uDELcNmy/nWkeKS54jg1dkR2crgteZl89oGYBWOGMkY+SIvKhYoHxuIF7cZFRpjF7gQZBBZCjID5fcR8Lfs9u5B+sj8BPra9Sz9qwNc+6ruUu8w/vsFBAh8BVAGlgXtAqcBovvv91L4/ARtD5MS8RDDC5AKNwIV+873uvn29+TsdOZ05SznXeCN20zjVvB/+ZH4H/b59fH4uf7kBiQQMhelFwkSCQ3YCPUFzf8Q/IT7hfy+ALP+mgLaBg0YmzNHSUlUKDu5Gpb8if36EpAlPjF1H0oWEweV/qrldsRZvhzJFOmb7sfyp+/V67fiBc5Hze/Rpus2ArYX8B4PGNETbgzPCRH///vIAa0RzSH1JSwdUArv+cDvkexI6WPoAOxg8gnx5OQV18TTEdrS4VTog+xq8dj0e/pg/r0ADwE+BAkPLxYOGREVBBOiFYkY4xx7HLQa4BTDEaEUuhUOFiQROA3rA0/12Or86C3wLfHi7sLrYew27qLqc+UB4YzlpvIHBCQOBA6GDLkN8w/PDOcHQAiUC34KMwQu/8v9jPvj9BbwEfFF8/PzZfNI9FrzvvSD+h0BgQS+AIb+Uf+MAj4DvwEsATIDxwfOB2EF//65+3oAWQl0FNMeMSmUL6QpZxZp/YbwjfmxDkweZBrBD8oGVwKI/HHzRPFl89j6BALsDLISuArT+T/s9ev47lz0O/qsAocEqP93+UnzDO1G5Gnjd+hD8Qj1Dvb59Qb1+fSk8fPvrOxb77D1/vw7AH/+swBDA90F9AFLABUCVgICAigCOwlzDewKtwIC/7YCSAZwBk8BAgF/A+MGDQgjBtEFeAVaCJsJyQhgBbEAWf5t+zv8Vv9QAvwA4vtr+x39VP6c/IX9JwXTCusMDArXCJ0JcAYUAzMB+gUpCg8J/QPt/Wv6hPao9cH0lvTV8oDyBPeG+iP9/Pmt9n303vUk+2f+uv9A/k//T//N/aP6xPky/igCUgblCNIMFg8UDCEHCgOtAc8BHAMeBHUCaP7R/J//hQHp/L70rfAp81z4Ev29AVkFWARQAIj+PgECBnoK5Q/qEz8WNRdYGh0b9BSdDJMGjQc1CBsKcgzwDZgLpgJy+0r3R/me+dP2U/Oh8sz0nvPq8Hnt8u0u7t3tVu2L7lfy+/Ol8rbuVu9D8sL0ffSB8/f17Pgo/EP+8AD6AwMFewR9A/cF9wqADGQKhAVyAz0EiwT2A44AMP85/qf8pfnr+Nj8mv8AAC7/bgNUCBIKgwkzCCMIHwecBugGZAnGChsJdwVeA/kExgSkAmwAngBzAeYATwHXAqgErQPFAY3/qP0D/k3+dP70/Nv8H/4L/u/8KfpK+eD4n/jb+Mv6ff+XAnwDgAJMAuIBEAA4/nf8UvwG/e/+QgGFARH/+fvT+QH5B/tZ/hoBfAGgAH4AEQAu/4n+swFNBWsGkgbvBgoJuwheB8QFdgShAi0B0QTqCZYMIAiDALj6afom/vT/MQDz/TL9G/yB+/D7S/xH/F35i/j2+roApQNaAAf7+vih+tn6fvmp9wn5DvuH/OH8V/w5/Hb7PftI+lL8QgFdBZsECAA+/f/8E/5q/4ABpAKoAYf/Tv78/UD+5f00/uv/0gK/BgUIdQYTAuv+uvzq+4n9uf/jAsoDwQNiA6YD/AKfACUAegIiBgYICQk2Ch0KgAjWBogElAAA/Mn7Pv8hApICpgEHACv8M/p6+SP7hPz//fABQQSOBZoEigO9ANT9Uf01/zwB1gDT/0D9Tvyr/AD+RPyQ+IT2T/eO+2X9x/0f+6f5vvk/+cT5S/q//RQA2gHhAzMFtQSjAuIB1wGTAzEGMwpTDuoPzwtuAw39wPs2/pf/0ACl/0b9UfwR+1/6x/fD9yD6avwv//sAOQPbAdIAyAAPADYATf4f/+oAPANoBJICmgAn/Tz8FPxI/Cv9Xv7F/4X/eP6x+2z57ffk+N/64fuX+9D7Rf7+/zoBrP+C/8MAUwMGB3wJ6AuqCfgF6gF3AL4APwH+A4YDygLAAU8AwP48/fP+sQIKB9EFGAJJAGf9wgESBYkCOwQmBJAD8ALvAaUBSQI1BcwF3AJB/eT7qfvL+wUA3QEHAi7/0vyW+0r5Ufiz9gf6I/4cAgQHFgNnAF37rfOa9yX6X/s8AGUDdwMCA58ALfri+Pf6lv0KATEB6wFlBq0BhP/z/lP2Nfxs/6EA0QjzBgIFOgiLB2AGvgD//JUCd/wkANwDnfp++kT5OP1q/wv+X/wl/kADBgV7Bi4B3QH+/Gb4Gf/w/bADkwHN/usGXvul+4r99vS4/uv/CQU7B4IBjAF1+gIAsv1OAT0Fnfu/ApX8uPmN/3r9IgKKArH7AgGbAY79NggCBdUJLAvP/noClf0X+y8BwgA2AfsBXP88+3H8If4m+GD9/v7O/EUEmwLbBRQEbf9tAMn/XQBYAakEXwL+BSkHKwX/Bsb9Vv0rAA385gRABPT+jQRl/eX7m/3X+938q/jz/1AA2/9UAeD7/QCC/Lf+NwIhAMEEPALEBHwBqP3xABv8wfuN/0P9jv8I/+j9WP4N+pj+qv0o/RL/MQD3A/UA1QK7ADD+1/5T+27/tP89/xsBg/vo/OX7Tfx8/qj8NgD4/zYD9AIwAk8DqP9R/xP/FgCnAJ0BZQEKAt8B4P8qAfn8pftZ/WD82gGjApcCDgPRAOkBZf3l/Fz+N/9SAy8EYwSCA4UEFwPqAHQBuf1W/oH/Q/4/AmX/PP0N/sn5lftP+3L7y/7h/GX/b/8o/tL/zP5xAVsCogIIAzMEuQQfBFoFgwIYA6ECSAEmAu4AvwAgAfv///7c/ZX7zfos+c775/7RAJ4BmwF/AWoAFwKRAOMBKQO2BPkGVAVgBc4CMwHNACH/o//X/+MAeQFFANr/A/22/F/9oPvn+3T8Z/7T/z4BrQI1ApACUQG4/2sB9AE8BCsGawQiA6AA1v2K+wD71fre+xD8hvp2+gv6m/lO+mr7H/3//1UBDQM7A1QDGwQNA2ADXwIIAsMCxgLZA4oDWwImACL9gPwb/Fb83/yM/Zf+5P36/Yr86/v7/Zj9+P5xAGgAwAJJAz4EoQRxAxcEEwPBApUCRwJjA1sCtAHJAF3+i/49/rH9vPwV/LX8GfvW+8v7lvtM/Xj9AP8yAOMA+QIcA6kC5AL/AvkDdAMKA5oCEgI4AdEAXwBN/0H/rP3v/PX72fs5/XP+Uv/K/gr/Vf+W/0MA2v+RAIUCcgLJAsYCmAJdAqgBZgGLAJgAUQF8AW8AiP8T/hn9DP1a/Tj+rf77/28Av/9PAJYACQACAKMAUAJ/AgADTgO7AagAFf/7/Z79O/3b/dT9vvxM/MT6Wv34ANv/RgCHAC4AngCL/83+Ov6H/f/9oP3m/Xz+sv1Q/v7+7f7T/38A4gDgADoBMALtAYAB1gALAT4BnQFuAkkBcgBe/3n+2f4k/xT/M/98/wgA+P/D/3gA1v+D/6z/iv+KAEsBiAFOAfMAvgCh//T/EQCk/1YABQCRAO0ATABiAEgAj//A/9f/cf+9/7T/6f8pAA0AIQBQAL7/eQCqALH/wgCVAOkA4AAAANkA3v+H/13/IP8sAJf/mv91/2r/2v+h/if/Xf9L/4UAzf/W/37/kP9UAP/+8/53/gv+Z/6Y/pX/pP+O/wv/Cv9n//r+CP/T/lr/RACGAPgAogDd/5v/ev/0/ygAqwBcAR8BsQHiAT0BvwBjANz/Zf/6/wABuQGkARYBEAA5/w///v5G/37/nv9r/7j/awBiAHYAgAAoAJ7/uf8AAPn/WgDMAJ0A//8GAAUAiP8q/+v+Zv52/lz/qv/I/zgAQgD3/1gAkAD+/1sAzwDsAGoBlwGoAYoBRwH5AGwAegBrAFwArQBmABAB7ACjAKkAsP/Q/3P/Qf9h/1L/0f+//7n/7f/q/wwAfwCkAJoA3wCzAGkAggA8AGgAygBjAGoAgQCAADcAuP+//2X/5/5z/rT+CP9o/57/+/75/m3/g/9m/1X/Lv9z/4T/5f93AG0AWwA5ACQAFwBFAEYAOQAqAO7/wP9//7P/1P+B/23/I//f/mf/mP9w/9X/+P9MAKMAuwCXAFgAWgBPAHoA0QBDATsBKgHoAFgA/v8YADwA/f8TAD0ANwCVAM0AbgAOAN3/0P/1/z0AQAA3ABoAEQDy/6T/k/9g/4r/pP+M/w8AJwBlAHQA9f/G/4D/6f/W/5v/u/+X/+v/x/+3//7/AQA8AN//jv+L/9//bQBOAH4AeABuAIUAgACxALoA4gDSAHEAXAAhAPr/1//G/wsA7v/r/9//2P/u/+7/DQA5AKoA9wDlAMUAnwCuAIoAdgCcAGoAFAC//5j/lf+d/37/TP8o/yz/BP/x/vf+8v4b/yP/Ev8o/1j/kf8HABcAGwAKAP7/TgBUAIoAVwAbACoA7/9MADwA/v8HAJ3/mv+X/6T/y/+m/wAAAAD7/1AADQAfADwAjgD1ABoBKwGnAGIAFQDi/wAABgBNAKAApwCPAF0AHwD9/6T/nv9p/03/w//R/xcARQBZAEAA+P/X/4T/t//I/wYAjADBABQB7gCFACUABADQ/7X/vf/R/w4AFQBAAOv/iv9p/0P/M/9f/8f/z////z8AWQCjAKcAewB9AGQAbgCTAH0ALQAPABUA8P/X/33/f/98/4z/AAC2/7P/wf/E/+X/w/8fABYAIQBAAC0AggCLAKAAtgAyACIA8f+g/zcA8f/7/+//R/+z/2//hv97/3T/xf+K/20A1f8gAu8B5gLFBEX+Qv8I++b4qQCU/Xr+9gA8/nIAJAA2/6kAkAFbBFcF0gSOA3QGZQSI/8EBwPrX+df89vn2/aX+ogCf/4r9fQDM/8ACpgKr/zH9dvtW/cH8+fkn/gIAC/0AAPn3TvpwAKf7NgRMAx4FIAkkAnIFZgR/AlgDS/4sAY4DNwENAV0ASALV/xEDDATi/fwEqf2B/rsElPl8A5D+Kvu/BGP5cP6FAEz6SQAhAUsAmQIYA3EAFwSmAzcAYALr+8n9OQBb+yIAK/1x+gP/k/7P/IQA7v9w/0gGWPzKAI0F9f0IDicFaQI6CV/3If7a/FD5MgHs+Ej7ZPy6+V//oPus+1ABdPziAAP+XPhTAAP75QArBpv/5gEb/7b8DQQhAikCnApF/+0C8wb8/ncFcAKWALwBxAJaA9QCAwDW/XT+ev5AA8j/gf9//IX+gQJz+28DXv3A+2YCXvolBNcARv1YAgv7/wQ7/9r80Qbp+RADjQCG+SYIlvqZAtQET/bTB33+uPveBL34GQBOAir7mQMDAGj6ZgRLAFj+xgRL/2X9gQOLAEn9wQY/AJX9GQUO/gIALwIRAVz+lv0DApr7IgHYAs39ygC5/EL/Mv8uAs0AVfz+Aaf9mQOIAiP7LwL2+wD//QT+/HkBMP7d/4wDY/5lBWz5tf2KBYH4Ggm4Axr3+wdi/tf8lwqz/y7+UQJn/jf+IwIvAHP7FPyV+xkAXwCMAJD8k/yMAYn/KgfZAjr/UACP/V4AYgH4A+P/lgCiAYj/vQLGAb0AM/8jASsDkwMiA+/+I/4SAEYBrwC8ASj/Av4N/nn+WwSG/7b/XP8h+5sA//79/7gADP9e//H+sQBw/5v91gAaA3z/hgGe/Zb6ov8W/a7/XwNj/+/7K/82/RH/2ABd/Q8ERv0J/hgBGvuKApL/8fxNA5EAU/20/679G/7+/tH/2QFZ/mMAefxh/CcBFf5+/3D+H/9w/zb/hwHz/sv/HP8MAekFNP8YAMUApvvrAqwAFQBVBlUAmwD0AYv+HgE0AOoANQVrAgcCQgKmA/kD8QBMBWEENATPBgkFXgVMBOsElwUIB6UH3QQ7BZ0GYAX3BAcFxQLTBI0DlgBIAxj/ivy9/D36XftS+zH5qvY/9q3zK/ST97rzfvQq9gHzR/Ie9n/yivTr+orz7/uA+5/2H/si9nD9UP70/u8AN/6RAJ3/cgAhAj0GhQJlAkIF6APqBTsE5gWZBJIHnAhJAzQFNwXCBvgEBQPNB8gEOwJBBrcBqQIxBi4CGgXbAeUDdgZLBl8PaAYwCHgI4v5QDNQJvQgaC2YEuQxrDDQH+AW+BEIGEgxODo0FJQSWApn+pv8uAPAC2v1M9jL2gfek95byxPD18nry8PB27zfw6ey86ZLsSfHo81TxBe7G7v3xZ/IG9ln4tfbh9//2Pfuh/Sr8PP7j/SUDawYcBVoF8wNOCHcIbQmpEIEOCwzUCzgMqg6tDvMNigwFC8gLqgzFCsUIpwYWBz8G6gSzAwP+HQAl/wD8sP6W+s34K/ai9AH4dfVJ9XDypO9K9UX1IPPP9ar2nPai+SL5hPr0+p/3z/7EAOP+SwBQ/+//YAB6AS0ACAS3AoP+jwRUAj0EqwTS/i4GagZWBzMMTgwKEyoSEQ/jB30GARLYE1QWYhITDxgS8Q51C8cKmA7ZDgMTXxHBCCoGlABrAK0AggMHB8X6jPEy8oH06vEP7Wbw3vDN7iTpuOd97/PrMucM6EDwC/T67ZLuNe4r8RPz//Rv+qr6gvq8+Fr7Z/14/aAAYALrBFAGkgQhAU8D/gYHCdMLjQoqCbIGLQVtCNcNfQ5bC3YMyAx+DBQLQgvsCqUIEwuACi0IZQMPAWkDAgMbA9IAGf55+tX5gvuN+L/33fe89sz1MvQc8Tr0EvfD8pH1K/Uy8kX4z/gS9bP3Svlv/KH/bveO+6wAx/iF/mH+hv6UAiv6kv7KARH+uv4B/Df/JQLqAckCJANaA2QD1gTZB1sV5hZfDrgOAgQ5Cr0YwBn5GHkLuw+WGM8TRxGwCpMOqRXQGNUQnAYrCKUEmQKrAFcH8QcE9sHvZfQf/ObxAefP74DynO7155Trx+zr4qDkGvD195TsOOUk6qHtCPLk7gr0rPer8jz0TPOQ+Pn74vnX+1j/uwXzAY79SAADBdgKhAhFCmQLOQccCdYJ5gujDOQLhA1MDeIPRw8LDYwMaQr7DUMOCAyNDFoG8QT6B0cHxwcSBDv/Lv8m/hr9o/5P+8337fcp9mD4MPjQ9Hz1vPTn9Fb5I/XO75P3jfPP/F//iugF/5T5kfCoCeTwlf0L/6zqcwwU/TH0eALQ9rb9mf7d/Fn+gv1a+EP7pAgi/UX9mwQuAIwGfQXICnITdg9yDQ0IiwmMD/gSDxyUE40NwRhLFzYUVw/DEKcaaxqyGBcQ3wsmDYYLkAlLBVgM4Qbi9Rf2afuJ+0Txr+y29bryduif6TXuL+4N5YbjPvGQ7Y7mVedx5yXvnukA6QrzwvJu8RfspvEh9jDyf/a6+AID9QBW9fT8t/41AU8HcAYcCSwHyAKCBIoMIAzmCEQRcQsMC5YTkg7SEhkRow6zE34PMRHhD7UOFxHvCfIIhQyBCTQF/wKUAZoBOwI9/hj+Hv7q+2L/iPfz+ID6m/FG/GD2MfYk+4/wlPWs9bj6nu+68KsGgvLP70D8v/ie8tLzF/7w94b4GPoo+tT8DvaK+nz7DPxXACj89wAcABD54/+5A3cB2ADoA1sGMgJfBNkKUQwuCsgMXQvIBPAKvg4xEkQQhQlBEIUPtg/xDWUIPxCqEQQQ+wvOCkkMnQTRBwIIaweRCLv9ovz6/8cAavmL9Xf9L/079+3wQvjr9gLt7/EK9B74+/EO7Db0m/O88NLwHPOq9Wjxqu+Q9D3y+fIo9XzyZPeI98P2tfYT+cX8N/lU/sUCOQGm/bb95QV9BgQGIwkCC8kJhAizDFcNQw2+DQUOKw5YC4QMvQvQC64JygZZDNwJBgfeBN8DkAZ0BcgG8QEwAiUAnv51Aez6JATh/wn1kP0l/tP4ePb4+hb6lfk8+CD4Kvq489v4S/gW9jz61/ad9/T3I/Y89nP4Svke+SX4XPqo/yT8Kfr2/qT/Nv94AA0AFASpA8v/YgJsA0YFHgPCAR8IsQm8BW4GlQdPAeAB8AjYCMsFgAQ5BfsHyAeuBW4EcQevCy4JHApTC0wKMgi1BjALZgpHCxYJ6gKjBpkIPwSF/wMB7AKXAWj9j/g//tn7QvSh+c/87PoZ9Krzzfew87Pzo/OC9lb1UvBm8hvxBfZf82ju0vV59iL5XPWR8Of6sPvk9w375P5I/mb8LAJqAW3/dwLgAq0FMwXPBpMJxgbsBY4IMgujCKsItA1ICpcG7QpyC2oJAQqZCegHLwnqBwMHKAhZBgMGiAEWBYEEyAA/BMT+hQFY/+P8K//4+sH7pv4J+xH3j/we9rX8nvlU8An/yvTn9ln3HvcM/bHxY/uP+N/3Afwu+BsBafkR+dMD0fyl+gT+iP/vAmj90P08Atj/B/44AK0DDwD5AyIFuf6c/yACpAR2BKMD7ASdBR4FLAYQBrkGLwlgCiMKDAwXDQUJ/QnXCtsLLwt1C8EK2QU6B6AGcwbqAUECxgMLAYsAffs8/vb9Gfp19rz70P3J9A71t/ZF+MXw0/Vm+Yny7PN18G738PQy8bnzQPR9+tb1MPNP+VT5BvVz/wP8KvYLBOL6Z/rWBZoAOf+cAjMEGwMDBzsGfQJ3DDwIMwOLC7IJqAuaBSEGVhDXCPkGQgmWCUcIxQbjBpQJBwdvBZAHGQDuBoMFCQEZAMcBVAcR93wA/wNL98794gEP+872kQEu9/X3RwCV92z55/xh+Y/0ef54+Ab58vmh9L//nPXe+g75R/eDAbf0yPkG/In9N/4f913+rP0I/8D8bvmqBRQBfPwvBX4HSQOl/JEDpwlrB80CWgWJC7oEyAb9B+sIhwuxBgwJxAwNDF0JLQoBCUMKHAfiB/kNlQVKBCgD9QQpB3gAX/6v/8QDff149qD9dABu9Fz3J/po+/T7KeqD+8v47u9L/XnuBPmg+Z7y2vOi8778uPSK9jT3zPsO+r702P/3+Vn6HgDr/wT/G/2+/+sEJABQ/xoISQIfBL4HAAMWA+cKKwjyAtgKiAfkBxcE3AdFClYDpgtnBDkFbAkYBNcFkQY/Ag0BAAtVAW7/vwV6/YADPQS0/Mv7xgKpAE/6GgHY+zv7MQCV+RX9dPve+Q//MvS6/v39EPEiA1P1ZvdjAV/zdfzs+Jn1Qf4l/7jwa/0KAYPytwO89eP8kANi+AQAkvmnBR8B0fybBiEEQwD+A98I8/kwB4sNAgGmCSgDBghcDfsABAiaCkcJxQqHCNoLUAf4A1IIPgpSBvgFlARqAgkERQAEAjz/WP5q+wD/WQCc8ir+EvhU9e3+1fOX+U743PEM+ML5h/JE+1T3APFYAfTtiPnqARbuef5P+e76fP8z97D7HP1E/xwCd/1a/CMFXf0j/ucICARc/vkEKQd/AzcGtgKQCHkFhARJCrcHJQMYBKULLAEcBykIagVBBScAAw3bADr+xwoR/+sFQwWN848OKAEX8okLlPsvBov5P/XFCH302wWp/g/vvwno/23rlwRCA9TwVAK8+aP4av/r9Sj/bPx69X37PAHE/eXyvP3lASn3Ov8E9zn7Jgm19Fb3MQf9BAz9gvicCRsQZ/ns/UwNwQWrB9IEmQboDxIEC/8YECcPl/28B8kROguJBRsD/QcdDNMC3f0UDYUGhPyS/MP9TQrR/fPz0fyMA6D9V/ER/CYBSPal9U/5N/zj/YLyDfN6/3n9gPGd+DQCTvKJ+2P7+PiqAK3zzvsrAvv+LfXl+YADMP3O/SH7MgDuA8H8fvoXBwIHWv7yAHAD4QlRApn8bwqoC6n/xQRvC20DcQNjBNgH0w3y/rEECgw4AmgFeP+ECWMEj/6MCOYAhwVd/Qf7xgXvA9r/K/tq+yAHGP/P8NL8owJPAIXyCAPY/7/mpQ+C+AbqpBMg7+H3rwRH8qQJ3/LN+AcJ8fJ5ATwDkfA3/tkM0/TO+VEIzvnM/9EExv2rDiALXPG7COYKrwLNDKwDuAm0BhgGuA25B+ICsQoCEt0HowSqCkwNyQCy/LcNmA0YAH3/EwLs+w/+SP0n+az5L/t8/xH3E/T09jD3W/Xc9UH9Gfjb9CD03/ne/Dz0D/gY+un2Ivq6/Rn6Kfql+D7+a/2f9GQFJ/rv8l4FywF3/wD6XPxTBvv/4Pu6BvQG/QCxAU0DXg6mBCH7HwzXCscEyQr8BgoHCQSFCWcOUf7vBwUJ6AF3Ag4EOQXu/NwBVv1SBA4CIPsg+8338AQDAa38QPYW/IUAqvhM9Z//6v6D8aIGePIo9/cGTu2IBPQEQ+vwAXsCuOzPDtb3A/PSDsDxWAOr9CsCRA3/7HIJFgCo/M8H8fyYBBwNYgxfBI/99QOGDSkK3gsJBT4IUQ5kCo4KZgCODGEOJw5pEfoAWQjmCB4EkQUaB4kL7/t59j4DcwEh+I701/RU/N37le9z7+z37fXr8LzyP/np+93uz/Fz+4L3Yfha8Rv8+ASt83jx6/qsAnj8ovfTBEj/p/iOAGv6HwSEBMv7swfWAbD/0gP5AHr/PwzgCtX7Jgj1CeUE4AOrCT8NrwZiCOoIowa7BtYFMQPlD/EFS/pUBR0B7AIA/Hj7jQQMABv71PQMANH6z/AxA6j+Mfi/+IH3Fv0++Qn43vo//r39aPkd+Lr/Rvlm98sHAPvS+a//c/eU/NH7/frtAJ/8T/bH/jb9B/s6+4L5rwp//lD4qQ4UDb0IsATd/8IHBw95DgoZcgsU/UcVghbhErUJvgSMFa4XxhFMCKwLWQrYA0IH2wZpDr0EK+9P8mwE6gbY7r7nRvbJ/oXxDeNG8Wf44ewB5wn2n/nA7mDslO/t/JX3ofFT95z32/eA9FP40f3d+732pfhlA6kEavyg9uX+dweUBCEFMAOBAz0EawN8B/oJtgtUCncHjwhVDkINqAiqBuYNTxNTCQwGvATRBZUK7Qd3BBsCEQFmAbT/7fzc/QD+5fhA+MD9kP3K9FLutvdNA9v6Z/F89Ln61/xC93n9lPoB+Eb9vvexBbT6WPLgARP9Ev58/GD4rf3hAB/32vogAuX53faJ9qADEQUy96X9+gWdDrUQ+wPtCAsEUAK3FWscvBezBTAIyBagGTwW0AplD2wachm8FKsNwgiqCO4JGwp9B1sMbADj67vv/v4ABK7tUOGT72D5WupP2oLrX/Zh5n7ftu1m93Lqc97/6Jf6PPlz7GDwcvjP9of0IPccAbQC1PgX+EsFwAmk/zT9YAarC9kKpQj/B+gIAQQSCI0UpBDfCGMLfg6LD30QkA8ADdULjwsjD3QPOwW3AXUKnwz7BKMAigD4AOn8n/sxAHj9M/i29N30vPkw9szywvSX84v5Tvsd8pnvxfcG/H341/Vb+5f/zfPb+KP/RPzw+w72TQGn/3X2Ev5y/vP9pPuc+XH+dfs4+swA8QDu/6UAyQV3DMcQcg6WC30JIwgyENMZ3CAPEpwHXRLTHWgfrQtHChwaZiDJHekLDgbADroO5glcA9EIQgsf803k2PV9A6/0KOAl4u70jO4/2FHc2e2V60XdfuDu7n3wLOD+2kztbfix8ynsE+2l9tH0PfT9/pf/JvxX/rsD2AZuAxoDcQrqDLYMIg4LEJgLggXSChsR5RdnD9gK+Q7HCRUS8xFKEKcQUggVClQL6AlqBeED5AYVCU4F1fxRAJn85/jT+1z+bgGe8nDwLPes9Or16fLQ9uf1vO2c9FH5A/ZJ8nHxfvol/V/4R/WK9dj9h/8t+XD2ivwQAZn9df0N/BX8mP0QAMUCO/rj+IACmQZoA8QBZAjDEjoXNRQpDjkAsQQ7G1wnNyATDBkJbBXPH9oZeRIuFfUWCR3vGtoT7Q0hCrAKAAhCCjwPfgYu7y/jr/Hu/pf2tOW/4K7om+XJ25reTeeP5ana191S6HzpcOA23fDm0OwE8jbye/Dm7LnqgPbF/0ICTP5x/TEBRwOlBnMKZRBaDa4LNxHsFIMU4gxWC2sRtBkWHLUTEw3QCxkRRRajFnIWCg9mCdMGYQJECLUN/QnLBBD+BPzXABP9M/dB+f/7Hf029kbzMfOS743x9PII9uX0F/DL7xTw8/Eh80jzUfbo+dz3S/J088b9eP/W+Qr4LPpq/2T8iPvK+6/7TQCi/U7+Lf+m/q4B7QHsBJ4JeRKvHEwbfhCtBIgEyxNtJqItqBySC6MQExxxHvoWDRhKIEAiNRqTDzoPvhC0DqwH4QXwC0QKmPxU6mnpq/PY9C3uu+fa5VXhGNwA3ITfleLT4T7fbt1G3wPiuOIg5DPmFOlz7XLyRfEM60rtSvYK/+oAeP9JBUUG6gCyACAJ5BQWFZkR6hTTESwLOg1jFBUZWRn9GEcUsw6mD/gUXBiRE2QTihToDSUFYAA5B5ALCgpLBMz9WP+l/Gz3iPaR+zn+5PcT9FrzjfGe7WvuhfN79UT02PBG8nXwBu2n8KPzf/po+/z1W/Ww9Qf7v/tF+N36AP6l/Kz7GP0l/OX97Pun++wA4gIvBHIANQFDBuwNcBcGGH0WXA7YBTUJlhVzJV8mwxvoFosV/BPsEQ8XPCIJJWgggxjSETEN0wrrDMIMkQoJCeUFD/0q897sge1p8WXtUOv76Qvl5t5+2evcIuC+4dXisuE541Piwd+T4B/kSOlu79zzKvJc7cvuGfaL+oH6//4ZBxcHTwPfAqUHwA2oDs8QaBNiEj0Qxw0YD7ESGxQLFZMV9hNmEqwRkg+uD6YRGxJFEtgNvAc9BW4EqASAAwcEYgQSAFn8ffpG+bD30vft+Xf4hfaM9gz2/vOY8AHyNPas9SX0Q/RR9If14/W+9Sr3Xffv+RH7ePi7+bv6Svuz/Mf97P6l/gz9t/tE+8D6qP6IApMEmwUtA4ABgACFBnwOaRLaE00QuwxcB5QGCQ2LEmAWdRg3Gm4X4Q8IDAcQ6xZEGQkXTRWdFrkUrgzEBtgGXgmdBqT/kf9NADj8ifUI8HvvGes/6F7squ7E69nmAeZx5mLku+Mo6L7s2+zN6tvqJO1e7vfuJPBH89X06/bi+Yj6Fvxb/P3+DQLEAnUDqAQFCaIJGAjKCF0KdgrHBzYJ/AtTDSIMewlWCzEMOQxbDAcMCg6tDfAKNAk6C6kMAQqYB4sFyQX8BWgGWgeGBKcB7/+fAB0BIP+H/4wBHALM/jr7ufrW+kr6Lvlz+/D8e/h99C7z9vTj9jr2OPcg9pnzZvMu81709fRK9ez2qvYe9mH2nvai9mD3x/qQ/S39fvsU+mT7Vv4NAOACJAj9DP0NfQu1Cd0KgAzJDuES4xWdGNQYSheWFmsU6BU0GP8YSxiYFLwT6hGcDyAN/wlICk8H+gEp/g389foL95Xz+PLx8Z3wie8Y7izt5etE7MXupO+Q75vwZfLV8oTxBPLP9aL2S/SW8wD1OPjk94T2afle+336JPmU+BH6XfxP/cj99v1H/w4Ax/7//t7/6QGPA6QEnQa1BvUGhgjBCpoL5wuEDAwMyQtbCwsNoQ4oDZIK5AhJCYQJ7wcUBrsG8QYnBm8ExgKkAwoCvgAjAVYBJgGo/ov9xvzN+lL6WPs4+675qPg7+GT4KPeu9fz1s/aX9rD1xPX39Rn21/bS9o72DPeq9+j3FPgx+JH5uvuP/Bj8oPv6/Bj+8/66AZ8EkQcxCfwJbgs7Ci4J3Qk5ChAMtA3EDrkOWQ3fDTYOug3dDfkNRw1BC1sJ9AicCE4HxgZeBX4Crv/s/bf85fo6+3z8p/w9+3L6j/t3+s/4O/mF+8T8mftE+uz5ofrS+Q35B/qk+rb52/aT9bz2Evfh9rb2nvY09mf1N/b99iz2vPVg92P5TPna+IP5tvpg+9f7if2c/8MAsAF0AtUDfgZBBw4GQgXbBUUInQkZCVoJygj5B2UIIQiZCGAIvAf1B38HQAcpB0UHoQZJBmgGbgZwBnUFKAWABG0DyAIJAuIBegHA/+v+s/5r/Qf9pfwr/EX6SPj0+Lf4I/fJ9Vz2jvbG9KTzffTp9fv0HPUb92L4Zvh/91H4l/kU+mX7Cf0k/s3+Ff8iALgBDgNBBGAEjwRTBFEDWgMLBCcFhgZpCLcJbAlvCCEISgkPCpIJxQlAC1ALMQp7CY8JSgrzCK0H1AeMB2gHOwZeBWwF5wNHAhwBxAAsAc7/I/5M/AT7tvqP+bH5r/kE+T/4jfaK9SX1oPTV8wr0OPTZ8wjzpvGa8TXywfNZ9PbznfSc9BX2z/fT9834/vlM++H85/0x/7gA2QHmAk4EtwUwB90HzgcJCGwIEwnjCOsIuwmVCmMLUQpkCbkJvQmqCTcJBAntCIkI6gfeBkYGbwXOBBwFDQU2BBQCjABgADUAsf/B/n/+sf3U+0j6x/nb+T35l/i9+Kb4jvdE95j3uvek98r3EflK+cz4UPmD+v76EfpW+dn5nvr5+pD7ovu2+5/7zfux/UX/DAFtAoQBTADN/5QARgIAA50EOwf6B5AHfwfqCIQK4QorC10LKAtfC68MgQ2/DI0LQQt7CqEIbgcYB3QHeQb8BEAE0QI+ASn/vP2r/eH8Sft6+Wv4+/ih+Kb2/fS283vzqvOj88PzOvPc8jnzC/OF8gnzQvSC9T72lPaq96r4U/nD+rv7g/zf/SX/VQDBALEBqgIjA+YDnQRtBuMGsAZUB2IHuwcQBzYHZQhBCJYIsgg+CKUHugbiBhIHAAdAB8AGjQUxBH4DdQN0A7YDvwOPArMAZf8r/4//av8Q/5v+0v3e/Ln7avuN+3v7ZPur+i/6WPos+v35v/l9+Z75O/kW+cX51Pnz+eD5oPk7+j/6avp6+m76H/uJ+7z8I/6o/xsC+AP6A5ACtwGoAkwEiAVcB2QJgQpKCrkJBgrsCRcKMAtLDP8MrgxTDHwLigniCNEIIAiuBsMEWASvAwgCzgCX/7X+Uv2T++T64PkA+WH4+PZS9pD1cPW39eL0wvR99Cb0wPOu8/f0tvXU9Qv2zfYu+L74nvhr+dr6Dfy4/Pf8P/4VAAwBxQELAl4CagNZBIkFHQZSBu0GNAeeB48HsAcqCLEHVgdBB/gG9QbIBnIG/wWuBYgFrwQ+BGYEkwTWAzACfAFnAZUBkQEuAcMACACA/wz/wf6Y/lD+Wf4F/nL9zPxi/Gr8Cvy6+4/7QPt5+t75S/rV+ij78/rU+in7qvrn+QL65Ppf/Af9cvwC/FH7d/vx+7r76fvV/Fn+tf+oAjUFgwaZBqwEfAPOAkAE8QcvC20Nrw5WDp4LeAgLCNYKSA6dD0MPcQ56DNUJ2gZ7Bf8FkgUDBG8BHgD//gf8SPpi+RT5vff49Tz2/fUl9erzPPPz8qvyqfNj9OvzY/NV9IT1fvWE9VX27vfW+Ir43viV+fH6qPzb/S3/9v9DAMIAuAFBA5UEhwUMBi8GkAbnBp8HNgivCOUIxggLCQEJMAkVCS8I2wZjBiEH/gfJB68GmgWwA2ICOgKtAuQCYwIaAgUBUv8d/gP+Af47/jr/qv6a/U38b/tx+2z6Wfnh+Yv66/lU+qb5SflG+TP4RPnv+D74pPnC+tf7bvw8+5j6Gfrk+fr7QP31/V3/UACn/8f95/uQ+3v92v4nAoAG9wjDC8cMkwvCBoACxAQMC6cRRhT/EyMS7w1kCLsGCwvoEEgVPRVtEQQMVQeYBJUC1AI4BsgHSwOZ/Dv5q/fl8y7x7vJQ9RT1U/Pr8ZHws+5e7FTsNu7+70/zVfUj9XLySvGa8lrynPRh+HX8Kf4G/DD6EvrE+wD+tgCaA+IF5AWDBA8FkgauBnsG7Qa4B+wI2wkiC7sKYwkECuYJaAmPCYcKgAvDCjMJVwjxCJQH6QR3A+YCmQIcAXwA6QDz/w7+D/zB+q/6a/pr+lj7h/vx+mH5QvcO98P3m/e/9qz2E/hl+Lv3hPfZ96D3rvdO+Mn4Cfqh+S/6hftN+v75uvqQ+xn8Gf3q/WP92/2J/nv/q/9b/xgBBgKYAn0EkQflDPQQ6BKiEm0MAgeJCTUSpBkSGQkWshTTEQQMqQlYEJwXlhgoFOMNvQkpB40ECAK1AtsFagQ0/BX0qPIv8pXtBuw38BbzEO8e6WTnLudF5l3mzul27Ynu2+417c/qHurp7aL0yvds+G/43/ex94r53f2ZArYF2wT8Aq4DFAYCCaYLYw4wECQPjgzbCukKRw0FEE8Qog7EDecNswxVC0YLYgylDB8MtgsNCWwGNwUuBIUCWgFKAXr/uvzS+mz7xPs++vb5hPlJ+Ej2S/Y0+Zn6GfkF97f2H/aw9PzzdPVN9/D1hfR+9aP2l/XB89707fdF+PH2a/iq+g76z/hw+iH8I/sZ+sr7Rv5H/6//E/8e/yUATwIEA4gCswf7DhwX8ht8GtAU7ginBe8R4SMcKzkhxResE7YQqA1AEVgdPyK4HEUQLQceCCkJGgS2/I8AKwhcACfvz+d87azqk+KD52Twmu2M3r/Xit3E4t3mpuke63zpSOcm50LnWewz9Az5wviv9tf2cPZ29+/8AQR4B3oHMgfxBD0DmgX1CcAOIBKDErQPtQtBCsYJtAo1D2ESaxCTC1wI5QW9BHwIbQyiC3kIvAbwBCIDrwR+B4UGwgFO/yEApv/K/dX91f4M/kT8mvz//iH+0/rK+ef7wP67/uP8cPqT92/0OfM99gP5N/fv8lrxJPF68NHxbfSn9IrxMPF89Dn2a/Vg9wP7dfia9Xn3sfwg/yn9wf4b/oP8Df+/A9gGMAXaB8IMbRRsHkIhrxyFDooHsxPUJ2kyUyeMGmEYyhdnFNMVDCHEJNsc4BFsCwMMmgoNBX38nPxbBHT/nO6T42jnJeff3qDhxOsR6mTYT9CS2J/gG+N04wfnYObg4mfiVOYd8Cb27vZs9dr2rfqU+mj8NQEAB5MJ8ggWChYK/QnUCZ4LTBHRFZ4W0xHRC5oIQwhTC2MPGBJHEK0KcQOi/t0AFgagBxkE1AEhAa7+B/1O/64EdgSEADQAEQHsAOT9Q/zzANwENAMAAFn/aQB6/zb/RgJ+BDsD2gBd/tf6j/oW/A/7R/kF+Av2b/Hy7o/v8fAf8mHwZu6I7sHw4/DC7j/xmva89lnz3vR/+Bv6wvsU/nL+kPsE/CABCwSKBZsIzguvDi4VdyFPJpwfBBSqC9gV6CgLM1grEB7XG7kYqRU/GOgeUR6lFsUUlw1tBtEDwACv+TTz//vf/Y7sJ93S3lHjqNy23oPoQuaI1oPPX9sV5EHj3uFa5XTpgOpY7bnwufS09ob38fsaA8MIUAUbAC8CBAkPDVMNghAPEN4KUAcDCT8OABElEosPTAo3BaoCfwN5BagHyQc8Bv4Bi/65/f78wvr0+ksApwJ5/6L8xACZAuECJgXfBV8H0AHOAU0EGgW8CNoGXgfLAwADNgSSAp4EoQOIA33/5P4w/+z5tvX580n4pvbH8lnv8O197Z7p/Owv8LPvt+sa7avyXfHX8X3zWvSo8vf2Sf/h/lT80/tV/an8tgA2CZYJsAZqB+cLtg6dFDQjViz6Jr8aqhCXEbogMy9GLcEgqRtkG+AUfhEMFUAUcA+UD/YOUgai/ff4F/AC6BrwsvoT8qjgx9sY323a9djQ44rqnOR83AffOeal6LjnBOhE70r5Pf6C/OL7fP3y+oX8NQbXEB0RwQedAqMDNwfPCJMLfg4uCxkGpQFFAyIGvwU9B0MFvACA/Kr6Yfxa/V3/oAFbAOn9mf28/R38YPzoAPcDOwPmAkcFrgj9CWoLng63DnUL4AuWDesKFAhaC9YR1BBBCrsDQ/8AAIUEUgV6/xz///589jzuGu3z8UDwMezs7bvwte4g5t/iI+c+6jvq/O0l9aT1QPH376PzS/ck+rr9LAK7BeMDIwBq/5UBogNsBZMIUQzhDTEKgAgSDyccqSa4JcIekxPoCGQMOx26KeIlvhvGFEkS2w8+C8UKNA4sE4sQZgjYBAv/9PF35KDoW/in/FTzvehT5a7e6NeN3Xrsf/QN62vj/uhW7/DrIedT7NL0Ovvg/o8BEQLZ+yv18PY/AZcJ4gm3BmoDlQCJ/68BugOAA3sDVAW6B1oHcwX6Ag4AXf2j/GMBWwctCUwFHgDE/W3/sgRGBgUFPwOCAu8CiwEFAVYBIwShBlwFDAPYBVwNiA2SCJIHOQq2CJYENQaXCvMLYwZgAfMBLwNYAWb9IPwb+cb1ufdR+gD4/fD57ILuY/C070DvqvEq8O/p/eqP9Nj60vfc8zf1Afjh+DX6fwF/BEMA+ABMAzYDDQFP/kz/twMLBaUE0waLA3b+mv7FBBkOzxI7Fo8WYQ87BWgBHAoaFroblxnFFpUWtxLmC8kGBghbDswTohQGD1sJtARV/GrzK/IM/KUD1P9r+PnzhPBr6fTkp+vd9sr5CfUF8druHeyY6dHrPvG09SL4v/ct9sHycO7L7e3x1PUW+Qr+4v15+Ff1kfiD/okACwHSA1EHaQjeCE0K/AplC+IL/QyiDp4RchTNElAOoAz5DdAMuwiCBjAH0gaaBLgCWAH1//77tvag9Qr50/v2+6L7AvxI+8T37fbl+4sAgwCa/xYCsgRCBP0BCAK6BHEFngWtB18K4gpcBkECYwTpBmIEngEiAgEC9P6T+zP8Qv4U/Nb4cvbk9Bn1vvVb9lv28/Xz833x8/EZ9I302POh9an35PYW9QX1aPbQ9vf3wfqG/Rn/CP7B/FP+vQCVAXQBDQNaBg4J9AoSDKUMLAsvCdYJ7QvjDskQrBDcD5sQ2hJhEngOzwoaC3cMnw0XDzoONQxyCB4EjwC8/eP9UP6t/ST89fiJ9aLz5POZ9G31Z/bQ9hn2I/WL9ov4ivi79wH4Xvms+nb8M/5E/jz9Xf31/v7+cv5F/8j+j/yp+1j9VP71/JD7RvsH+/n5CPrk+g/7DfsQ+xP7hfsq/b79gP3v/Zj+cQDkAZ4DRAX3BPQEWAV7BuIHuAhnCTQJEQn5CEEJAAorCmkJQQijCPsIGgmRCVUIrwYJBfQD2AP/Ag8C2gAG/4v90Pxg/Gf7oPqd+eP33vbZ9qL2p/XJ9BL0/vQ+9jn10PSr9Rf3j/hc+UT6yvqH+lD7EP39/br/qgDK/8//igFYA00CtQDW/5z/pgBTAZMBXwB8/o79zfy4/D/+xf87/yD+sv9PA+QEEQRhAjkAFwA9A34GiwbRBKcFeAgNCk8K6AibBrsFdgfLCpMMBA35DH4K6waNBagGsAe5BxIIkQd5BnAGfgVtAnH/2v7y/88ABQFGAKD9SvtM+qr4rff09i72g/UU9Qr2HvXI8ijxvPAJ8730DvXh9Zj23vez+Zv51/hO/GX/bv9VAC0AlAEgBVMHOwhzBq0EjwYgCC8IYgp6CqoJSAskC/cIxgWWBeUGfgcKCNwFLAVhBUgDOwAz/RX9Wv////QAAgQkAs7+8PvM9GLzofRS9i/8h/oB94X04PJo98X09+9F9az8QwH3AJH7vviM93L2rvnr+nL+EQP0AEkCSgQ1Ae78DPz0AjsLvw07ELQWFxbeCdP8lvtrCFIUixQFDwUM0ww9DFwHJAEv/v//IwNXBf0F9ARcADf4pPEB8AzzyPUg+LP6BfqJ9zD1UPRv9Krz7PEZ9DD7sgETBEQBtP5E/OH4FfnM/doDvAXyBcMGhAQ1/yv7//kI++78Bf5qAvIFFQM3/db5hPvf+4P8KAJ/CFAJhQR0AQgDOwU8A3YB4gNMCCYMLAvSCBoHRQTWAgMC7gHhBAAIpgdmBAEAFv4L/1P/Lv6q+4776P4DAf0AOP90/JP5dPhU+9X+rv8T/7P+vf2o/O78s/z3+037mPtQ/XL+aQB6Abv+uvqn+FH6If7OAiAGwQaHBucD2wDp/88AQQR/BRQEGwTsBLYF9QP7/nv6Cvmt+iH9IP6m/Ob5YfeT9U/1cfWV9V72KPfV+O35x/l7+S/4fPgZ+jn8sP8mAtsDSQP2AC0A+wBJA6wEFAWUBqAH1wZ2BCgBfv8pAOn/FwCaAsYFcQjNBdkATAI5CC4OSRCuDN8H2wbaCFsKGQqsCNEIIQk2CKwGpQQfApv9v/os+hX7xfy7/LP6l/Vc8YTvq/BS887zt/Qp9pD4Vvou+hv58fgY/CMAqwONBdcGpQduBrYEowOyBJQGIgi5CIQH8QSoAWUA2gCRAKT+cvzo+wz83ftA+7r61/kH+BT3BfjS+UD6m/lJ+pX8Z/4A/l/9wf18/hQAbgKpBHwFUgTvAoADBAXHBWwFUQRjBOMEgQR4BDMEWQM2AlEAH/+2/xkBvgGGAaMALP9J/pX9mv0+/jT+4f2N/fz99/1M/df8FfyM/PL9Cf/B/3j/0/60/v3+Kf9Y/zoAHgEjAewAKwE9AUEBqQEXAi4DUQSOBBkEJgMtAhkC9QFRAOf+6v0W/tn+jf7//Uv8zfo9+vr5Mfl8+FL52fqf/Hf8avvR+m760vqm+2z9V//cAHcBRAFoAKj//v/3ACwCvAJFA7ECTAG4AAQB2wG3AZsBmgEYAdwAEgFUAkAEEQcsCysOxQ52DD0IjgURBmUKuw6+D5MNzAk0B+kEyQI1ADT+8v2a/eD8Hvu5+eX3BPT8713uJfDv8gD1jfax9yH4ofh3+dj6aPwr/hMBgQTnB4QJewlzCOcG4AWgBccGXAftBkwGcQUoA3H+X/r4+MT49ffT9qr2kvfX9lb0rPJj8pLzRfW793f66/ue/A/+XgD/AXMCyALEBP0GigjBCf0JtgkHCBgGggWWBfwFWQa0BY4D3ABe/nX9of0J/Zj87/ta+8/7//tB/Mr8uvzr/Oj9lv+CAU4CggIWA/4D6QN+AycE2AQlBZIEdQTIBD4ENgJl/zP+ef4b/03/MP4d/Oj6cfo8+in6P/om+2n7aPvJ+538Wv1o/dL95P0//lP/2gDHAU4BtQDt/8b/HgAAARMC4QFdAf8AvwBOAEEApACFAFcATAB1AKIA7gAeAQ0B2QAMAToC2wK5ArUCvwKfApoCywIdA3kD6wJJAkMCTwJ7AhgCLgE2AMX/yP+E/xX/7f5Y/oj92/xk/Pf9x/38/Jb9hft3/e7+8PyN/rn9oP47AfH/6QBKAaEAZgKzAED/YwFLAqIDLAOdAawBtgBAACsAQgA4AVoBOQOLBB0DNgD6+0b7Cv6yAo4EfwNKAof/Xv73/Of8ev+XAV0C7QA2/0/+Qv7i/G36NPpJ/A/+0v7b/s39rfwj+kf4ofnA+xv80PxH/tr+6P9L/+z9RP1s/T8AfgTEBtgHwQl5CisK9AlVC4cNugsOCPUFfwe/CbgHNwacBIIC+v+8+9r53Pld+aT3l/Zl9634kfjH9kj1Nfb69y35KfsR/i4BCgJYATwBfQImBI4EVwUABoMFVAVGBXEEWwMCAUn/jP75/Ir8RvyO+1v6xvhu+B/5uPha+Yr62vvY/P387f9SARYD+QO2BEQHywb4Bg0HDAj8CCIJHwnqB+YG5QQ/A9kBEAG9ALgABwAB/tf8k/vw+tb6ivr2+o/7z/sp/Gj9S/6j/tP+tf4NALABfwK7AtICIANSAu8BKAIiArwBfACq/9//of8w/4r/r/+G/4v+i/45//z+LP+5//gAEgFtAXwCigJCAhoBXwE6AgcC3wGeAUYB4gCe/+L+pP6F/c38sfuO+578Dv0y/cP8J/yT/Bj9Cv5N/wMAPgFoAfcBGwMzBLkEiQMtAxsDdwPdA+YD6QOpAvAA3v87/2H+Tf1l/K78mPwN/Eb8kvv1+lT6dPr/+1P9Lv/x/8n/2v/2/4MAFwGTAU8CTQNWAxMD0wJ5AlIB9f/F/5r/t/9W/9b+ov4U/o79Sf2q/cv9Bv6Z/ov/ogBUAeUBHQJ6AvMCyQOjBAwFGwXwBKMEAASSAzED+AIrAkgByQAVAAb/wv1s/TP9x/z0+4/77fsl/I788PxJ/Xz9vf07/iD/FwATAQQCWAJ4ArQC9AIsAw0DwwKgAlACQQIuAqMB1AC//77+PP7L/Zn9sf2j/dH9+v0W/nD+4f5R/8j/DQCBACUBxgFuAnECSwJ4Al4C4wF1AT0BAAEsAIH/Sf/J/hH+bP3g/I382vz+/Ez9sP21/fj9O/7i/pz/GQDCAA4BZwEPApACzwKeAr0C8wKvAjcC4AExAXoA3P++/oj+dP7u/Vv9Ff39/Kr83Pzc/M38HP3I/UP+g/4l/w8AxAAJAYIBIgK3AoUCGAI2AocC8gLJAogCTAJ1Ab0AQwCn/4P/Xv/t/oL+Qf49/vX9sP2+/Q3+c/4n/5z/uf8hABoASACxANMAUAFhAVsBVAE/AWsBAwHhANMArAC7AMAA1ACNAG8AOgDw/77/pv/t/zIAPgA1AEsAMwASAO3/6P8AACMARQBuAI8AaQB7ACwAFwAuABQAQgASAG0AiQAyAEsA8v/f/8b/bf+y/7T/lf9j/y3/b/93/3v/Vf8v/1H/EP8U/6f/MwBoADoAJQA0ADkAfACyAOMAIAEIAREB/QDGALIAggBHAAEAv/+s/8r/cv8s/+v+Zf5U/vn93P0D/gz+R/4O/ir+j/6V/rj+4v5L//D/XgCaAMgAEAFGAVUBRgF8AeoB9AECAjQCcwKBAvMBQgHgANIAqAB0AHkAbwA7ANj/RP/b/r/+j/53/nT+mv7//hH/Af/4/u/+0v6h/vf+Wv+//1gATgA/AD0AHQAxABoAaADpADwBMQHjANMAjgBVACgAOwCQAKsAoQB9AF0AMwAYAOL/1v///5MAGgHqAMYAfgBcAC4AAwBdAKsAvwCFAF0APwDz/27/I/9R/3P/df9p/1z/IP/C/qr+x/7b/gb/Mv9U/2r/lf/b/+//BQDa/9X/EABGAJAAoADjAAgBFwEuAQUB+gD4APMAFQElAT4BPgHMAJcAQgDw/w8AGwBJACwADgDH/2n/av89/0z/Rf8s/3D/cv9k/1X/GP8h/xv/FP8n/xr/Mv85/0b/Sf86/xj/+P7x/uX+Pv+T/+D/CwDf/7b/hP+F/7b/6v8kAG4AjACMAIUATAAZAPL/6f/w/wcARwB1AHcARgARABEAFAAKACgASQCRAMIAuQDZAMMAmQCJAIUAwwDuABMBJQENAf4A5QDGAIwASAAkADMAQQBCADYA+v+7/2f/Of9D/2j/hv+Q/6X/j/+o/8D/vv+6/5j/s//V//z/JQA8AEMAIwAJAPj/CgAlADkAVABTAEwANwAGAOD/zf/T/+X/8v/2/+b/v/+L/3j/hP+K/67/w/+9/8L/pv+4/9X/v//U/+P/EQBYAGQAZABGACIAHAA4AHwAtgC0AKsAkgBSAE4AOwApAF0ARwA6AE0AIAAZAB0A9P/4/x4A7v/X/+z/pv+r/7//qP/D/6j/mP+7/8P/n/+Y/4z/cv+D/2b/iP+2/5v/k/+M/5L/hf+I/43/o/+o/5D/j/9r/4H/h/+R/63/rv/L/7n/wv/K/9v/AwAtAFIAagCjAKoAvwDKANgA8wDTAOoAFAEUAfwA4wC0AIgAcwBPAGMAVgAnABUAzf+t/6D/f/95/1H/Uv9d/3P/kf+G/5T/gf+T/6b/uf/Z/9H/AwAFABcAOQAQAPP/wv/J/+D/8f8PAA8ALAAHAPH/CQDY/97/4//n/yQAOABVAFsAPwAeABYAOAB6AL0A2QDpANEAyQCnAIIAlgCGAJUAkABzAGgAOQAFALr/if+A/3v/hP98/2b/Zv9X/0T/Sv8q/yr/Sv9a/57/zf/d/8n/ov+p/67/4v8RACgAUgBHAE0AUwBQAFgAVwByAG8AcgBxAFQARwAuAC0AIwAXAAsA/v8AAOf/+P/4/+v/8f/H/8n/xv/A/9P/vv/H/87/vf/B/8X/v/+z/77/xv+//8T/y//f/+//+/8WACoAKwAhACsAOQA9AEEASQBSAEwAVwBdAGcAdQBhAG4AZABQAFMAPAA8ADkATwBjAE0ASgAtABsADAD2/woAAwD0//P/5P/f/8j/wv/M/6//nv+H/4D/g/9e/2H/Vf9D/0z/Qf9k/4r/ov+5/8X/4//q//z/FgAgADcARwBWAGQAWQBSAG4AcwBvAH8AfgCCAHwAfACIAHsAXAAuABkAGQAQAAkA8P/T/8H/p/+d/6b/uP/I/8j/2v/m//T/AwAGABEAAwAQACEAJAAwAC8AJQADAPj/AwAHAAkADAAgACYAGAAPAOz/wv+x/5D/h/+i/9D/2v+z/8D/9P///+X/5P///ywAMAAXACgANAAQANf/w/++/7f/nv96/4b/o//D/9f/+P8nAC8AJQAhACgAOAA8AD0APQA/AEQAMwA4ADMAEwAGAOD/xv/K/7z/uf/V//b//P/5//3//P8WADUARgBmAGgAagB3AHYAggCHAJIAlAB8AHAAWgA5ABcA4f+u/57/l/+J/3H/dP+M/5n/rf+y/77/wP+3/8//5f8JABgACwAVAB0AGgADAPL/8//q/9j/xf+//7P/o/+t/7b/u/+1/5//qv+9/9L/6P/f//r/EwASADUAXQBuAGUAhwCVAJYAuQCZAJoAnQB1AFUANwA/AAAArP+Z/4n/pP/A/7f/uP/h/zIASwAmAAAADwC+AOABdQNZBTYGYQVLA10AA/77/FD7Jfnf+M359fra/DT+jv5A/9L/of+e/8j/mP9k/3X/iACUAu4D0ARLBpsHAwgkB10E4wBp/vX7cPl3+JL4yPjf+QL80/1H/6EA0QBNAHgApQDo/8r+3v09/Wf9V/4v/+//awA9AKj/ef+o/4T/Pv8r/wUATAHDAf0BXQIRApgBZQGCAND/BwA2AJ0A0QH6AvsDJgVKBiwHIQh+Co0MhAv1COAG5QOXAFP+Uvvi+AH5cPkO+Wz5gvqg+5v8h/yK/Pb9hf5S/cf8sP1T/2MAKQBlAEsCiwOSAoABIgFBADD+3fvb+vf6lvqm+db5W/sn/Sb+gP4M/+H/VwA7AEoAbwBjACYATgB2AbUC1AKGAvACSgPAAqQBowD9/6r/mP+9////LwAFALL/IgDuAOwATQAUAGYAnADOAEYBBALoAswDKgULB2YIhwjJB3IGFAToAJH92/qv+LH2JPb09g/42/kY/J398f5WAKwAdAB4AOD/bP6e/dv9Lf4T/tr9Uf4c/13/G/+U/ur9PP1Q/KD7QfyI/SD+H/4M/p79hP18/kL/VP8WAF4BWwEbAaoBOgFGAKsABAHOAHcCFQRrA0kEVQdbCP0ISwvNC78LlA3oDlcPQxBEDw4L1waOBOUCEP+z+RH2X/RP80bzJ/OE8kn0g/cf+Yb6wP3a/2f/sv80AnsEiAQKBDoEfwRKBKEDHgLy//L9zvuM+bn3PvZ19APzxPLz8/v1rff0+G/6i/yd/ksABgKAA/QDXQTHBY8GLQbeBSoFtwOGApYBMACe/ur97P2J/TX95f2l/gf/ywCsAw0G6whHDAAORg75DUkMdwkRBigBE/wg+ez2jvSc82H0/vWz+CP8l/73/0kBGgI4ATAA1f88/tj7vfpG+s34CfiL+H/4/fe1+Gf6evuL/J/9f/7L//cB7wM7BKUDeAIbAjADJwMAAUz/Hf9o/gb+Mf8AAFwANwJkA/8CbwROBaYB3/2F/rwAmwL/BMQLXhnUJeQquSkpIw8a0hOAC0z6m+oY5TzjX+E94wzoEO7v9ZL7tPzD/nsDTQOA/Jf4rf15BHgDcAC0BhgRrhHiC60LTwyWAwr3D/EQ73zpReIs4dPmD+248Yf3Lv5vA/AGxwfABZ0D/AIlAscA5gH3Bb4IjwgcCTMLVgpNBkIDtQI4A1IDnAIdA/8EXQTTAigEGgTE/zX8v/nZ9nn2Nvah84r0VPnB+gX7Sf+kA/IDLwOfBbEIugeNBMwDTwTrAhMAx/zc+pz6BflU9vX2Rfpb+hv4wfkK/on+Gvz1+xb+2P6c/Wn9if9rAboBGwPIBbsGAwa0Bo4IuwfOBGUDqwIuAWYBBQMzAy8DyASSBRMEsQIWBNwHygyzFtoi/CVwH8oYlhS5DhQFNPQ75EjiAuZr413h5+ZP7vP1pv15AaMDcAZdBUb/sPwsAIgBrPyp+KH+bwl3Cfz/kf5rBEAAHfOC7VXvfeuc427k9O4c9/v3wfvIB3sQkQ+YDpAPVguABJ0Ahv6B/NP6HvoJ/AsAQgJLAqkBwAGTBPgICAu7Cf8JFAz3ChIJ4wnFBlr+qfoq+2P50veO90L2hfhl/28CJgETAugE1AVaBfcEywMSACv7K/qj+8f5jfbP9bX1HvaU+GX6gvvO/j0BzgBzAVgCRP+L+vj4EvnG93j1VPVd+fL86P2RAPsEMAfiCIgLdwzcCycI0AMMBcIEgPwX+W3+Yf/H/n4DzgYjBwsJIArlCBAJSgo4DOgQ2xsVKcoqlCC5GV0awhXPBXHx3OP24HDfyNri2bbfy+fW8D76VADiA1gGtAUKA5ICkANJAaf73PhY/qUEcAD/+P76/v5A+MztXOwB8H3ttOdt65T26PvA++cAjwqqDf0ImgXhBTgDvvyU+FP4M/kr+mr8r/9IAkgE9QaLCucOyhNMFh4UGQ87DBMMqwec/eH17/MF8+3xUfLH9MP5uP/3BEEIDwpZDF0NSwm/BOgDkQDX+hz5IPnW95H45flV+aX6WP3Q/WX9/v1P/oH+PP9J/tX7Z/rG+df3hPWY9EL0u/Q29mf4Gfw+AZUFngc/CDUJQwsWC8QHigW/BO0CLAEGAGT/HgENA8EDxwYICtoJDwoEC4AILAUBBUQHZAtoD9sTiR3YJ34o3SARGAwPCQYM+4nrgd5L28DdWuBt4+rnNfG8/vEGMQYyBkcK1AgzAKr6K/tP+H/w++2W9Y/8/PdH8QT4hwMs/2Pym/L2+p/4/O/b8Qj7i/17+t/8fQS+BgoBSv6FAloC4PoL+Af8iP5B/zcDVQoOEWgWbhrvGooWyhC8CrACYfoL80ntHeuc7DPwq/bl/LUAngZ3DfsNigkyCHoIEgVY/5T8bv2Q/av7Y/uH/ob/I/3++3r8zvtH+qr4IfeZ+OD6RvoK+uH9OgGS/+38AP1a/SH68/Ui9sr57voG+t791gQsB7sEQgTfB50JdAWCAs4FVQcIBAgERwfcB/EGXgdFCcYKEgloBbAE9gVxBisGKwYXCagPzRaAHLIhhyMcH6wWfw5fBv75OupU3wXf6eIs433jEe0M/OMDJQTiBQMJAgZ5/sb4c/Uk8ajsP+vb7TvyGPXP9iH6hf9AAvf/Yfw6+xn7y/hm9Ub1Yvmh/CH9Jf8WA7kEvAPDAncC/gEVAQQBpAMiB1QI5AjiCkwMKwq+BQQCAADE/Uz6qPi5+Z/64Poq/rwCkgMPA2gF2wc+BmQDpAHW/0n+6P3T/bX8IPxP/Qv/Ef8M/df7pvw+/TX81/tG/S7+0v36/XT/nAA1/y39pf7gAMT+tPtD/Pn8mfsB+2X7x/sG/Yj+BABqA4EHcQgtCGUJXAmNB2sFggL4AFMD8QOpAP4A8gTtBYgEYQTzBN4GSwleCbEJSwzdDFkMfxF0GJEZOxe+FRgT1Q0zBh787/Ir7Q7qXOkg6oTqrO329a797v9q/7n/JADH/gn7z/Ys9NHybvFi8aL0CPh1+Ev5Yv2AAO3+r/uC+hT69/cL9cv0e/fR+aP7+v9EBfwG0wcCCqcJswb/BH4DhwBe/rv8WvtU/DP+Zf5A/0IB8QEtAlYDDAPlAHsA0ABO/8v9VP9sATUBqQFIBJ8GDgeTBoEFVATdAjj/pPqH+Ff47/dY+Ff62fwX/68AFgLOA30D1ABc/zz/Tv5R/dH8fvze/Qb/nv0R/an+U/68/Hn93P0G/V3+QAHeA3MGbAcSBwsJ6wqnCTcIRgjfB4oGbAWgAyMBff8LAAwBQQGcA6EIJg1dD3oRlRSnF80YvRYDE6EOLwgXAJz5hvQ679nryusb7azuS/B68sP1s/iA+bf4ZPiM+Kj4Q/jC93v4pvrM/Ez+JwBGAaMAWgCUAdMAdfyq+HT4Mvnt9yj2Ufay+O36Z/tg/FX+Sf9Y/4v/iP/j/qD+t/7R/n7/VQCgAGABrQLKAtcCDgSpA6EBXgFqAfD/YP+lAFkB1AGzA9QEoAQ1BRMGaQWFBI0DNQIxAe//g/7A/QH+5P4BADMAXQBTAYEAWf55/b38pPoR+cH5VvuZ/K79b/8hAhIEZwRvBIEEkAO+AuAB1wDjAL0BPALbA8MGhAd1B9oHxgfiBjgGPgVoAwoCmwEJAsEBnAH0AtUF4QfZCa0Mqw3RDTIPmA+VC1sHgATIABT8/fc39Vvy8fDJ8b3zFvSN9Hn3lfq2+t74JvjZ9yD3nPW89D71Dvc7+RD7evwf/lsAxwC9/6f+vP0V/PX5UPio97P3XfhL+lX8Ov4gAPUBWQK3AXUBvQD4/kD9Cf3m/Nj8rv0o/1ABRAMeBA0E+gNWA+IBmgCC/4X+oP4iAOMBaQNwBWoHzAcRB3wGRAVjArL/a/78/aj9+P2C/2kBOAMQBYEGogXSAyYDAwLu/pH8//v4+iP6p/qK+0b8E/5I/6T/GABTAPX/4/9LAFgAnQHXAsgDnAWsB5YH/gZzB+kGQgVlAx0CCQHgAdcD/gVoCAgLow27D7UQ1A70CwwJegZNBDkCwf+//ZT9VP5X/iP8avnI9073SPVC8YPuM+7o7nnvFPHt8jD17PhK/Pr8Xfy5/LD86ftX+3X6RvnL+dr7Uv2S/TL+FwDCAQICvQBh/1z+mv3N/L77Lftk+0H8iP0O/9n/AgDJACgCiQKJAX8AiACpANT/kP7P/bb9rv35/Tn+Q/7I/mAATQLvA6wE+gQ6BjoHOgZoBK8DvQJuAfsAKAHxACIBcALpA6kErAMYAogBJgHx/nf8Dvx8/BP8cPsL/Jn9EP9s/3z/lwBVAa0AoABtAv0DQAVVB5sIZQheCP4HzwT4ARwCaQLLAbQDtAcmC4IPwhPjFIQUhRVkFA8Rbg4JDA8IhgMEAPX8zfq+9zX14vRX9SP0yfJO8pzwbfC08cLwuu7X8OL0O/aJ9pL4sPv//CP8aPvW+2f7H/pX+q37rPtE+zP9uv/H/4j+xv4JAOD/vv6m/mr/aP84/6sAJAKRAcUAWQLJA6oCPgFbAZQB1ACcAPsARwGYAdQBUQJBA1oDAgJLAc0BIQGN/4f///9Y/5n/qQEaA2gDygOQBP0EVgT7AhsBo//X/mH+d/3M/I/95v2e/QP9qPy+/LL8APxE+4n7KfvO+mP7v/uy+4z90AAsAuoCeQTiBZ8GRgf8BvMFWgZiBrgEFwQoBBACXQHeAzcEVgNOBtgKvAxID80TDhe5GUYcixzNGO8RYgrkBFz/2vZ88DXw4fCq7zPxFfQE9W323PjN+Ef3i/dV9671m/RL9TP20vYR+BL72f2o/OX7fv6d/mz5APcy+bH47fXx9cX4+/q7+/b7hf4rASoA7f6LABUB5/0g/ez/QwHd/4f/MALbBO4EHAPnAssDrAJ9ALQAjwG8/9X+IQGNA9sDPgQQB/gKrg2UD0YS9hO6EsgPbgzICEsFwACB/En8uPyq+iP7s/4G/o/7gf1r/j765PcE+S33VPRr9AD1SPQQ9K70jvWA9z74h/cq+N/4gvfd9q34lvmU+X/7Kv4l/3j/vwCwAV0B9wDOAC8A3P8rAOv/ev8nAUADzAOHBe0I4ApGCsMK1wvdC/ILqAxDDhUQyhJ4Fb8aCCGHI4AiIh+xGpgVvxIGC6f/vfxgALL+P/hb+dP7MPuj+rr4BvMF72rvIOsk5VXkiedo58jmOeyn8pLy5/Co+FL/dPhE8RP4Bv4E94fyn/ryAJ38PvvyAmsH6AAj/TUEMwZr/Ev4QP9PAGP6dvuoAZ4CeAG3A38GlAYMBCID4wRjBAUAgv0a/9j/uv6z/h4B3gMbBRwF9AWJB3wGPwSABBIGZgWdBZwJYg4eEZMSQhSRFccT3QteBZQFaQOq+vD2mPt0+9f20/cg+n329vPC9FXxiO0r7hPuRuzD7Q7vj+1p8AD1TvSz85b3hPoO+cn44/ue/QP9lP27ANsBrgCkAQ4EXgREA9UDZgVyBrEEVgJwAw0EegHh/5cC+AN4AuID5AZNCGUIEAqTDRARJBShFzccoh1bGrQX7RbbE70OngsaCkcIcQaJBdcFFAUlAkQAWQDH/TP5Pvg5+DT00fAR8vLyd+9B7UHxxPN4717trfLV9OLvfe5c8271K/Kz8a31pvff9Vn2zPqh/Ef7mvwRAb4ClQBKAM8CzgOXAtwCuQRLBa4FOgclCFoHdQbOBvUGtAVZBIMDdQKuAYQB+wDA/7L/0AFgA2cDiAPbAxoESARfBGIDzgL7BJoH4wiACh4NjQ5XDssN9QslCYMHyQZqBbQDNgT/BJoDyAOGBBEC6/5s//7+ufkT94f3bvW98kjzf/O+8VryWvPN8kjyJPKo8crxNfPT8nvyaPSN9v72RPe8+Yz70/sK/fn+H/+p/h3/Nv8c/3f/6P88/8z/ywFaAvQBPQOEBf0FDwdMCbkLRw5yEesULhmOG5sYlxmJGrQXzRdiFrMW8BaLFAwXJRd7EkkR3Q5mCpYHqAOd/wD8ePkC9xD0J/Iq8EDvju396iLqJ+li5gPlkuZ25u3l3Odp6kLstu3H74zx2vJC9P70xvVW9z/4ufi2+vr8qv0W/uT/kQK5A0kDIwTBBUwG2gbYB5oI/QgnCskLJgwlDH8Lags5DBYLZgnRCBwJUAgHBwwHEwesBgsGjAa9BjsGOAdCCOYIPQl9CGQIOAg8BtwDEwLoAe8AAgCwAQwCyQEPA+QCWQBz/8/+/fsA+rH4evdu9t31E/bf9R31wfSs9IX01/LG8EzxOfHl8OjxxfKo9Jv2b/dT+UT7e/tG/G79Uv41/mv+fv9S/+n/zwCkAVEC+wJCBNoEtAQPBeYFMQVaBRkHmQhaCsYNlBL/FTsYaRhLF5gWRBXyExYT1RJ/EoATtRWCFHoS1hLzEDkNNwuPB7wB3/5M/Wv5e/Y/9efzDfOu8Q7wxu5u7HTqqOnM6PTmXea16NjpOupA7HXuNvBa8VbybvNY9BP1xfVm9oz3oPgU+rX8DP4//zYCKASYBAgGVweKB1QIowm6CnkLTgxzDSgOgg6qDmkOaw79DI4L4guKCuoIVAirB0UGdwW8BhsGKQXkBiwI2Qf1BmYHnAdlBdQDfgJBAAf/8P6d/yL/GP/B/4P/4f+6/U36APq2+n74w/WW9xv4NvU+9rH4NPaP85P1n/aA81rxqvJV88TykPNw9Y32hPZi9yr5APq7+CL5z/uA/HH8dv0nAFABRQF5AzEFbQUnBTQGWAeNBhgGzwYTB/MG/QfACPYJewxhD0ATjhUNFQIUGxNIEdIPghBwEH0PTBGLE4QSPxF3EvwQawxfC14KmwSy/wL/+fxG+AH35vaq89vwUPCD74vsPulH6Knogeei5hzpfutc68Ds5/C28bDvXvFd9Mz0cPQ79jH52vmf+lr+OAFnAJEAZwS+BX4DHQTdBtYGcgbeCAcLdwuXDB8PYRA1D1cORw++D/AMgwpEC8AK7wgCCTkJjAdNBicHXgegBTQEgAR6BTMEiwIpA3kCLQDE/vL+fP5t/dH9m/54/9T96PwX/9P93vlQ+mH97/nN9qP6N/qF9Vr2b/hA9NTxG/Ty8kzwlfBs8Qvx1vEf867zGvVM9v/2G/hB+UX5nvkK+4z8qf0u/kUAnwF2AWACAQRsBLYDggWpBvQFiAZvB1YI/QiZCQUKYwt/DRkPaxKOFYQVzRRjFaQUuhELERASqRBwDzAR6RGFD+kOmg/zDIQJdAhnBu0APf1b/Ib5vPVF9O3zk/Eh7/Lv3/Dj7cXqCuz47LHpHOlf7NDr1elJ7VLxre/y7kjzDvb19Kn1r/hF+UP53PvC/vj+J//4AdAETgUWBV0GmAfGB9gHBQnpCfEJLgsdDY4NUQyoDL8N9gyMC9kKHAqtCFQIpAjvB/8G/QafB6cHBAeiBn0GfgbMBdoEQwTBAhABwf9+/37++vy0/TP+DP3F+/b8Wv3T+mP6FftA+SH3GvgN+CT1W/SU9dH0xPKz8hLzEPJk8efxAPIx8XfxR/PO9Pn00vX29275svo0/Mr93P5q/60AzwEQAp0BZQL2Ax4EegR0BX8GMQcGCDEJjAnQCfwJxQrrC98LKA0YEKYSNRQEFfMVJRUaFE4U7BOeEtUQLBE2EYEPlg5ADuUMRgrbCcsIegTcADf/7PwL+X/23/Ru8sjv1+7E7p3srulq6V3qduhV5zDpo+lx6E7qNO437tPtPfFP9Hr0PfU/+IH5cPl0+4/+qf9K/zkBGwThBLUE9AXWB7gH5gcuCsULWguxCy8Orw7TDG8MJg16DOwKZgrVCYkILAjJCF8IyQbbBZEFcATsAtcBqgAAAGwAAgGZACwA1ACvAcoBqgCL/4z+gf2i/Tf+Zf14/Ev+Vf++/dP9Av5n+2v6efvi+BX2Svf/9vr0+PXW9gX1E/VZ9gf15PNw9Er03vO79I/14/UB96T4Ovo2+1v8C/4t/2j/z//MAB8BzwGkAgMDzgOsBDMF0wXfBusGGwf/B0kIgwhLCesJewpeDFIORxAPEpYSExI8EiETSRK5ERURng89D28P/w6jDfEMwQu4Cl4KrAe+A/0A3P7w+zz5m/Y98xXxLPDl7i/tqutT6qLp1elL6T7omehs6Uvqbezm7RbueO8z8l70pvUk97H4tfoO/Z7+6P/fAO4BuANMBX0FswUbB9QHZwihCXAKjgoWC/cLqws9C0ALEAumCgMKZgkRCdIIighJCLIH2gYVBoEFiARQAzwClQE/AboAzADxABkB9wDAAPEAtABIAC7/gf48/iD+t/6h/hj+7f2p/rX+yf0t/S38Qfs3+zn79vml+Hn4cvge+Gn3J/YD9bT0tPRl9PTzCPS59Mf18fao9/33hvjW+Vf7E/xU/L38qP3b/jsA8gDLAHoBuQJ7A5cDiwNlA6sD8ASABTwFYAXABv8HpQgpCtgLxA3OD2oR1RHBEYASGRNtE6gTkBOFExgUXhTME+USmRH8D58O4AyWCQgG4QIHAET9gvqt9+v06/LC8Env2O0S6+boPOiE5zfmVeYZ513naehC6sHr2exg7kbwIPJi84b0b/Z8+AL6yvvG/QX/WQAaAjIDwwO8BKIFbQbjBxQJoglqClUL+QtrDK0MdAwdDNMLWgvhCjcKjgkhCdgIZQjkB24HWAZBBb0EGwStAqEBWAGJAOb/4/+u/+3+xP4p/5z+pf1t/b/9bf31/Fz93P2x/cf9m/52/pz9if1U/Vf8xPuq+9z6/vm4+Sz5QPio9wH3KPYN9ij2IPZH9oX2+PaD90n46/iM+X76bvtq/D79yP1J/kj/XQDpADwBdQHYAVICkwLPAgMDVgPUA0IEsgTYBPoEVwWmBS8G9QYhCOoJBgxfDe8N6w7qD24Q0xBmEX0RDhGMEScSjhHCELwQHRCWDqYNNgyECcsGrwRHAg3/Ofzj+V/3lfSb8mzxMu+r7O3rpOvW6ezoyemL6fLoN+qa65XrHuxF7hPwDvGt8p70TvbP9375NftN/E398P6eAJgB1AKRBNoF2wY2CHUJ5wk7ChULpgtZCyMLcAteC94KGwt+C8sKRgp5ChMKEgl1CN0HwwbSBS8FTQSGAygDoQIsAgwCtwH3AIYAQQBm/7L+U/7+/av9WP1a/Yr9kv1M/YP9sf31/Hf8aPzb++P6tvqZ+oj54/i++A/4Xfc99/72gvaQ9uD2/PY395b3H/i7+HP5RPoJ+8z7ffyX/ZP+B/+1/5MABgEpAbMBCwIOAnICFQOXA8sDLASoBNgE0gTCBNEEpwRQBHEEyAT5BIUFiQZ2BysI5QhrCeYJMgpoCt8K/go0C70LNAyCDAsNYA0aDfYMZQwoC7oJPwhEBgEEDgIcABj+MPzJ+nv51PdR9jr17POK8q7xyvCx7yPvBu/l7grvX+/v72Tw6fDT8dfyrPOH9Of1Mfdb+J/5Gvtv/JH9CP+LALcBmQLDA/MEswVIBiIHwwcDCJoISQloCU4JpwngCaYJjAmDCR8JxAicCD0IsAdFB8QGJAawBS0FpAQPBKQDOgOqAkMC6AFgAb0AeAAsAKX/P/8L/8b+Uv4Q/tf9X/3g/If8Hvyt+yf7dvrf+T75oPgJ+GX3xvZR9gv2zvXq9Sj2Zvbo9r73tfhv+V36cfte/Bv9yP1+/g3/s/98ADIBhwH3Aa4CDwNVA7ID0gOqA6ADnQMqA68ChgJFAt8BpQF9ASQB8wDNAJ0ApACWAKkAGQGwAQUCcgIaA6UDQwT7BNYFiAZMB0QIJQnVCUgKtArmCgALDAuyCvEJVQnCCLkHoAaOBUgE9ALmAbMAK/+9/an8vPui+pr5rvjO9+j2Lvae9eD0PPTp88zzuPPX8wr0MvSk9Dz1wPVn9ir32feV+IT5dfpX+1P8U/1c/mv/cABHAQICuQJWA9MDLgSVBNAECgVgBdQFVQaYBvMGVQd4B3kHigduBwMHiQZKBgEGeAUEBbsEfgQIBNUDsQNdAw8D0ALPAoYCNwIaAhcC7wGsAZYBUgHoAGsAAABa/57+EP6H/QH9Yvzh+1378PqV+ib6vfl0+Uz5I/ko+Tj5VPmh+RD6c/rO+jv7pfsU/Gv8wPz9/Aj9KP13/bj9s/28/d/93v3a/Qf+Kv4D/gT+Pf5K/hv+EP4v/if+HP4f/jT+Xv6q/gT/XP/R/0UAyQCBAUYC5wKoA4oERQX1BbEGXwf7B5cIJwmnCRQKjwoDCzoLXQuPC50LZQsiC9kKbArOCRAJQghKB0UGSQUxBP0C0AGrALj/vP7B/eX88PsD+zb6j/m7+Pb3hfcd97f2bPZR9i32EfYL9hH2HPYN9gT2KPZS9nL22vZV97/3WPgP+bP5W/oX+7D7NPza/Hr9Af6h/kf/8/+sAGsBMwLwAo0DEwSmBCAFcAW5BfsFJwZDBmQGlwa5Bs0G/gYrBzEHHQcSBwcH1QaWBmoGMAbiBYoFNAXPBD4EsgMaA4oCCQJ9ARABrgBdABEAuv9f//7+nP46/s/9T/3Y/Gz86/t8+yL7u/pZ+g76y/l1+TP5HPkF+fP45fjk+Pz4DPkX+Rj5Ifkl+Sz5Tvlu+Zz5z/kt+qL6DfuB+wL8lPwj/c79dv4C/6T/awBAAf8BsAJrAyQE3ASOBSAGjAb5BoIHAQhtCLkI7ggyCYYJwgnPCdYJ5An4CRIKRgp1CpgKzgoICy0LKAsCC6kKTgroCU4JjAi3B9gGzwXHBLsDogKBAV0ASP8v/iv9Mvwz+zr6Rflb+In31/Ym9on1EfWr9F/0M/Qc9Pzz5vMD9C30PPRu9M70LvWe9SX2yPZi9/73xviT+Vj6Ffvc+7v8jf1q/kr/KAAQAe0BzgKdA1sEEAXMBXMG8QZ3B/IHQgh/CLUIywjACJoIdAhECOcHhAcpB8QGVwb0BZUFQAXeBHsEIwTGA2cDAQOvAlAC6AGHATYB7wCCABoAwf9l/wH/if4d/qv9Hf2a/Cr8nPv/+n/6DfqS+RX5p/hO+PT3p/eF9173MPcW9xL3Ifc+92X3r/cF+En4x/hd+eT5gfow+/H7xPyM/U3+Hf/H/2MAEgHJAWMC5wKKAyEEswQ2BbEFHgZ5BtgGLQeGB8IH8wcpCF4IkAi8CN8I7QjxCOAI0QiyCHgITwgmCO8HwgedB3EHSwcfB+4GpAZQBvYFagXTBDIEgwPCAu0BKQFOAF7/ev6Q/aT8uvvm+hr6Zvnj+Fj46fed9z33+/bw9uL22vbO9r/23/YB9yL3WfeX9933Kvhz+Nn4RvmK+f/5hPoI+577M/zY/H39Ev6n/lz/7v94ACQBqwE3ArYCGwOOA+cDLwSUBN4EDQVJBXcFjgWdBaMFjAVuBU4FKgX/BM8ErwSOBGoEPAQMBLsDaAM2A+QCowJWAvsBjwEZAbQAGgCM//b+Y/7Q/SP9lvwM/JH7D/uR+hj6k/ka+bz4cfgQ+Nb3y/fC98v36vcq+Hn4tfgP+XH50flP+sf6S/vJ+0n87vyM/R3+rP5G//P/gAAUAaIBBQKAAuQCVQOyA+oDagTGBCoFtwUNBncG0AYUB34HtgfgByIIQghSCIQIwgjVCN4I8QjwCNcIqAhzCCsItAc4B8sGQwaOBdYEEwRDA4ICrgHiAA8APf9q/qP97Pwy/IT7tPop+q/5FPmY+A74sPds9yb3GfcN9w33KvdE93/3pvf290D4hPgI+Y75Mfq9+nT7DPyT/Dj9sv0m/nj+6/6K/yQAmwAdAYAB5AFVAooCzgLyAiUDYwO2AxQEZATDBP8ERAV1BW4FSQUhBRsFIgUrBUUFVwViBVsFQQUjBdUEaQQABJUDYgMfA9ECnQJTAi8C5AHiAZgB/wD+/xP+n/yi+hf50Pfm9hn3O/YI9tX1hfXw9Qj23/aw9x75X/rK+hX8g/xG/YL9Cf10/r3+k/95AKYAXAJTAnYCOAN2AkICPQFjAEIBzwDzAB0BlABOARcBKAFYAZgBIQJXA1QEXQRbBCwCoQF0AaMBWgJcAagCNgJ9Ac0BjAB8AEgAbwDAAEQAyQD9ALAAegCdALwBogEaAhgD1QMyBdUEXAV/BRcFagXFBFoFQQUUBVgFAQXmBP8DXgNtAmYBoQCn/3L/AP9z/g3+nP1V/fn8afyW+yv7LvvL+pX6Xfvv+3H8zPyB/Pn8M/0r/a397P0V/kj+c/5W/mD+fP7b/X39w/0W/hv+3/0x/kj+Rf5w/nT++/6x/nT+Gv+F/xsAHwCc/5z/5f9HAIUAQACBAMcAgwCvALMA+gAsAZAAiQDHAKoAyQDBAOcALwGiAEgAPQBSAI4AiwC+AMYAowCAACkAz//4/4MAsgCoAD0Ay/82/+v9K/1E/Zb94v2Q/R796PxV/Lr7+fol+wf9BAAaBOgH8ArOC+MKGQp1CRgJPwh5CLIJkwt6DZINawyCCYkGgwNcANT96vsb+xX6EfpG+tX4u/Vk8o3wCO/Y7UTuE/Dx8QX0tfYS+Xb56/g++Y/6Fv1p/+kByQTxBzcKxAo3C5kKxgm6CG0I+wmhCukKDAsAC5cKOwglBUcCIAAK/47+Hf9Z/8v+8/2U/FX7xPk3+MH2w/aH+Dn66/t2/KP8KPwc+436YvnV+B75afqb/Mz+GgAKAO7/kf9T/j796/wO/fj9Mv8qAcMCjQKzAX8AXABLAMf/0v+aAI4CkAO7A9UDgwNoAzQDVwPkBCYHCQlPDNERYxWMFeMTYxDbDTUN8wvFCZcJ7Au5DPcL/gmyBUUADfvu9rX0l/MK8ubw8PAj8r7x2u0m6U7nsOhB6fLpx+0h80D2+/d6+//96P2D/PX8aQBCBAsHiAjpCtYNSg5EDFsKLAlHBhMDWgOaBT0FlwKNAc8B0f/d+4X40PY99i72wfcq+r77v/vQ+jf7RfxO/J77Dfw7/yoDsgUICOAJrAkjCDIHPgfVBqQG9QYVCHwKCAzSCp4HNwU1A4QArP67/q7++P2j/on/fP8n/sD7D/lX+MH50/mw+Xr7hP3E/Xr9TP6S/pT9of3A/hUADQLBA/gEEwbGBzEJIQqhCbIHuAVuASz/jwEMAon+sf0S/5L8pfnw9pbzF/KS8QnwzvBo9OT0z/PH85/0jvW79NXyqfSt+nz9rf09AFYF2AcFBgQGwghfCTMH+QeJDLsPJw+aDIMLCAwcCsYFwwQ8BeICTgCYACkC8gA4/XX5u/i8+Tf5Cvnv+bn7Q/wV/Kr8+/uP+ez3yvsrBHwNnBMCFw4YgRTbES4SURE4DK8KnQ+BFHYXTxX2DqYHfgLq/PP1wfIe82LyEe9B8bn1ZPFl5w7jkuTu5HDlCeiC7VPzJfef+aH89f5f/Fn5efxyBEsJSAtVD64TYBR0EREPnws+BrsBNQESBRAI4wXmACP+OPyB+I7z6O+u7xXy4fRY+Cf8UPxd+Vv3Jfil+af6G/xs/5YFcQx/ESYTbBJKEPsNPQ3yDZEOpQ0iDegO9BCADiwIBwOF/0X7r/fs9hL3svaD9dz0UfXX9LnxA+4m7kPxZvPH89L1bvma+bn3hfjh+m77B/uk/IAAMgQgBPQB7wFXAhoB/v8gASQCOAHMAHMCEwRKA/wBDAEkAZECPwNVAsoC6wS7BaMFcwWkBRsFKwXCB4cOhBV8F6cX+RTwD/MM0QxzCZ4GWwpYDBUMIAxzCYsBPfxz+tX1SfNk9Yr3QvT88vD1pfQz7Y/nF+ln6kTr++7b9Kj4e/oQ/BL8ufxg/Kf6rPqe/5QF3AdoCGYJJQrHB7sElwOEAvj/BP9TAUkD/wIPAVj+Jvwd+y/5nfbT9nH57fvd/UT/bQA2ABL+gvxv/vAAWAEIAy0GAgnBCWgJGQg4BhcFhwMwA+4EFAfDBcEDBgWjBWkCJf67/Jz8hPwO/VH+R/+D/yr+SfyG/OT9BP3M+pD8yv9NAMD/jQCUAGr/ogDLApcECgUcA3ABQgIZAwcBfP4t/aT8w/yh++L5H/mL+Mr2pfWO93n4cPbT9C72tPeN9y/43vmu+4D85vwa/tz/DgAF/1r/mgGNA7EDLAPUA6QF7ATyArUCNAPPAWwA3gEvA5wCswA9ANUAbgA6/07+m/68/0oBigJOBF0GgQYZBWAFowbTBd4D9wNhBcoFWgYFCAALhA7bEDAQ8Q2dC2sImgWFBRsH2gbrBVwGigaCA5v+rPqN90n1PvT39M/2CfiR91b2z/XI9HLykfCT8CHzLPaK+Mf6GPxL/Kb7Xvvk+l/7Zfz1/JP/JwPIBCAEnwOpAqgAW/9a//v/0/+6/8kAtQExAQ4ACv6f+8f64vp6+jT7RP34/R3+Zf8GAFL+3/xj/Yj+Tv8eAeADRgUjBtYGtgZsBd4EsgTWA1AEjgXHBkcHbQgBCkoKZgkBBwsEtABw/zsA+f8l/wr/Dv+P/ST8cfph93r1RfXB9eb2yfiY+eb4y/ct97X3w/fx9nT3fPkk+7z8Rf6z/kj+ZP0U/Xr+9v8iABMBYgLVAlMDcwNuAnoBwAB8/9f/lADu/0//fv+l/2v/gf84/33/9/+kAEICKQSXBaMFQwXTBcoGKAauBZAG8AdyCagLJw9HFM8Y4xhqFycUmw9aDckMUwqKCDsLvgrGB3EF/QB1+QD01/Fp7gnuJvA98ATute4B8BDsNuhi6GDqsutE8BD2R/mf+4r9Qf7T/mQBPgLUAbAE/AlxDEoMQQ02DQ0KTQbNBPoDuAJSAV0Aov8S/+79+PoO+Fz29fR888D0/fez+bT6xvyp/vH+rv78/vP/RgH6AhsFFAh4CrYLigugCs8J/QeWBq4GfwizCf8JDQoFCcUGwAJk/6z98/wm/AD8Jf21/Y/8cvoc+Y73/fUB9qj3q/nB+/b8nfyn/D/8HPpi+C/5W/oy+2H9xv8YAMT+9f0w/Qr8Lvt2+7D8ev6r/xT/vP5W/sj8tfu+/KT9if3x/j4ApADZAH8Aff/+/mX/wf8yAQ4DhAQkBUUF1AW6BZkEKwRUBXoFbQVvBiQHiwZLBQoFXwWMB1MMVhLtFCEUSRIqDY8I9AeaB6oEBAUgCAoIYAckBoEBcvvQ+Ar38fTc9j769Pl498n3O/df827wtO9770PxcPaa+qL9CwBP/9r7Dfpc+ov5jfnU+87/1QJZBMMEiALZ/v37B/sX+gL6A/vv+4X9l/7y/aL7Rfl998/27PfR+ln+4gA7A/0EggTDAoEBXwB6AN4CoAUNCGkK0QtjC+wJFgj4BTkEBQOUAtwC5QPUBNoDywEzAKr+ZfyM+kn6vPqU+5X8SP19/dv8YftX+iX7aPwe/Xn+AAB9AK0A0gCz/8D92vyf/AL99P6OABoAIP8B/0r+rf0R/tn9TP2p/ZD+zP4E//v++P2N/FX8oP0w/oP+h////4X/yP8dAFj/VP9KAPYAGAGPAf0B5AGBAbsBdAKZArQCwQIVA+AD9AT3BDwElgTWBOQEjQX8BmYIOQrTDGcOkg6QDGkJ7Qe7BzoGXQTGBKsFjAXGBFcDQwHf/ln8ivrU+vT7SPyk+0b7QPtE+oj4pPYo9hX3R/hI+dr6JP1m/fr7AvsQ+2D7afti/FL+ZQANAaYAjwDD/wf+hvyx/L39ZP6t/gT/3f+Z/xL+8fzb/NL8zPwf/uH/ZwELAr4BdwElAS0A8/4y/4QA4AEiA4UEqgVoBfkDQgIUAX4ASAA7AKQAjgG4AS0BdwC+/9z+zv1h/cP9cv64/qb+yf4s/zH/i/5X/uT+Qv81/9P/9ABEAaQANQB+AA8A//66/jH/Of8t/53/iv85/9r+Xf5S/uP+EP8a/87/ewCwAIAAoACQAFsAagClAMUAeQBYAA8Ayf+E/3T/Tf/v/jD/nP8vAEwAUAB6AJ0A4ACBACYANgDMAIcBVAJQA+oDmgR/BWsG3AZ6BkgFmgSNBeAFRgV0BYYFwgSXBG8EBAPvAUMBcQBhACMBgQG7AMP/f/9q/4f+z/2m/Sr9OP0E/kb+av7t/mX+ov02/sv+L/7Q/Sf+Kf7H/Yz9kP1C/bv8T/yk/CD9Nf3T/F/8ifxp/Dz84Ptb/J/8f/zA/Yb+Gv9G/xT/Gf/h/7AAmgD/AGABsQGFAcoBegJ/AmcCbAK2AkQCvQElAXEAPwDt/2z/5v6Z/iv+zP24/Qj+Wv4R/gj+b/5d/vT9NP5L/pv+4v+MAP8AZQEvAbIAbwCtAOYA/gANAYgBhQHcAKMAYQC0/xn/Xf+w/xQAwQAFAXgBnAEAAV4AMAAKABsAFAEHAioCFwIqArQB1ADN/+3+6f6Z/40AxgBgACQAQ//3/eT9KP7C/WX+l/9XAAQBPgFuAIz/wf/u/3YArQHcAooD3gN5BLoEawStAwADaAJYAoACbgJqAk0CrwJwAroB+AAFAGv/OP/v/1IBeAKWAocCKQKJARMBLQC2/yEA0AAQAZ4B9QFjAU4A7v4+/gL+3v3s/aL+gf+//0r/Yf6z/fP8Uvzx+178J/1r/a397v3P/dT8Evw+/AP90v0U/5z/kv+SAB4Avv+f/0X/iv9Y/8z/bwB2APn/HACs/2b/0v8h//7+w/7s/tP+V/66/ov+uv0//YT9vv1e/vP+jf+9/37/y/9O/0r/IwBAAEEAegE3AiYCbQL+AcMBbwHvABkBpACWAFQBdAESArECqgHn//3+K//T/+QAdwHGAYkBIwEqAUMAzv9A/+D+8/92AQcC6gBwAPT/i//C/yf/pP6B/gn/G/9V/x0AOP85/jj+b/6Q/rr++f57/1QAfwD//5v/yv8kABwAYgCKAccB+AD1AB4BPQEXAYQAfgAhAW0BTgGLAZ8BcQGHANj/yQBOARUBYwE1AiID/gIeAhMBTwBWAKgAEgJUA3MD2gLQAaEBGwH3/2r/8v+8ACwBsQFkAZsAev///ar9Iv5A/kn+of4d/0z/9f7x/Tb98fxS/I38Sf38/X/+Tv4z/k3+TP67/Xz9Cv7G/of/4/9HAFgAff/u/sz+5f5+/5D/ev/q/0oA2f8t/9z+Bv5K/Sz9rv19/hL/I//h/sr+ov6I/nT++/5M/1H/BwAhADQA5QAQAQQBeAEsAaMA0AAfAaYBygE0AkcC6wEZAocBxAB6AHMAbgABAWkBuwB3ABQA1v/p/87/4f/w/wMAFQB9AGQAzP9o/zL/r/9nANMA+AAAAbYAXQBTAGsAtgC7AMMAEwHtAKMAJwB8/4L/qP+e//j/QAD9/5X/Gf+l/nT+iv7c/gv/h//1/9r/yv8RAHcAbgCHAOEACwEwAU4BXwGNAdcB7gHSAc0BvAGAAV8BTQFCASMB+AC8AHoAOAAPAF8AZQAaAOP/jv9L/yr/If8u/5j/BADp/7r/zv+W/y3/IP9l/5//yP8BAM//uv/U/2r/Df8b/xv/9/5D/6r/5P8GAKP/FP/z/gj/Hf9T/3//k/+Y/2b/+/7A/sv+tv64/gj/MP///uX+2v7R/iD/Uv86/yX/LP8M/+b+H/83/yb/NP9l/43/hP+4/8//iv9+/6P/vv8EAHQAfQBAAGoARwDD/4z/hP/w/40AIwFqAVQBHwF5AOT/sP/M//3/OQCzAEkBlgEzAZwAQwAkAB0AOQCFAAABVgEvAecAnwBNAPb/o//F/2sA3QDOAIYASwDt/5b/wP/2/yoAaQA0AMz/zP+S///+C/+H/+3/TwC+AO4AGwH+AJ0AtADIAK0AmQDXAE0BmAG7AX4BNwHyAHcAHwAzAHkAaQBTAMcA8gCaAFIA/P/P/73/pv+1/9n/CwD4/7z/yP8JAOX/pf/9/0AATQBxAI0AggBFAKn/FP/w/s/+5/4u/6n/HwAfAOP/if9t/xn/sf7f/lf/qv/b/x4APQApAOH/bv8f/yH/NP9r/9//JgAeAM7/d/8Q/8/+zP7u/mP/yv/5/xIAAgCy/3z/Xv9f/4//vv/4/wMAEgAbAPn/1//Q/7z/hP+B/6r/0P/m/9//vf+B/0n/H/8P/z//lP/g/xIA8v+5/4X/LP8n/37/4v8wAEsAOQBCAGoAaABGAFIAjADAAOUA/gAaAesAkABFABgALgBaAIgApADKAKoATgAUAOX/0//q/xMAQQBCAB8ACQDA/6j/xP+6//7/WwCIAMMA6QC8AJ0AjwBkAFcANwAuAEkAawDXAAQB/QDxAJQANwAEAN//5v8KAAwAKwBPAEcAGwC//3P/Rf9J/2X/hv/N/yMAQgArACwAAwDF/3v/ZP+0/y8AwQDYANwAzQA0ALv/gf+P/+X/LQCRAO8ABAH+AIwA7/+e/1T/O/+L//T/WwCgAGoACACS/wn/pP6P/ub+Tv+Y//r/JQDz/7H/T//6/sv+6f5T/9H/eQC6AH4AOgDj/5L/Wv9t/8T/IgB7AKAApgCXAEIAs/9n/3X/jv+v/+L/AAACANn/a/8z/yH/Hf8s/z7/pv/6/wYAEgDm/7f/rv9+/3T/3P88AFUAmQDXAM4ApgBPACEAJgBCAHgAjwCgALIAaQAiAFIAdgB1AH4AbABPAAsAzP/R/9//zv/m/woAKABwAFkAQwA9AAoA2P+K/5j/vv8AAGAAtAD5ALcATQDv/7D/xv/4/zUAowD2ANkAmQA0AMP/e/9C/1X/yP9GAIUAlQBtADYAzf8y/xT/IP9O/8b/RACyANkAigD3/4//a/+Y/+7/WwDhABwB8wCbACgAuf9b/zX/lP8kAL8AJgErARkBsQDr/1X/KP8y/4j/GQCdAOkA4gCIAAAAg/8j/8X+t/4l/4n/2/8mAE4AKAC//1b/6/7L/uT+9/5Q/9L/FAAMAPz/4f+x/4L/e/+q//H/PwBjAGwAgABeAB4AAAD9/wMABAAGAPz/8f/c/6//q/+7/8j/3//9/xEAFwACANf/ov96/5//wf8FAF8AbAB3AGcAMQD3/+r/BwAXAEYAlQCtAKsAmQBwAEAACQDz/93/1f///y0AEwAcACoA0/+a/4r/if+O/7X/7f8VACsANgBAAFgAgwBkAE8ASAATAAcAIQBtAK8AtQCaAH8AWQAWAAUA/f8cAFEAWQByAGIAUQAGAJ//hP9p/2f/Y/+L/+H/+f/j/8//qv9f/1b/XP9l/9D/FQAmAE0AcABkADUAAwDz/xIAMgBdAJAAqQCHADYACADw////MwBMAHAAaAAeAOr/yf+z/8j/2//n/w0AAADw/9X/pP+W/33/g/+d/7//x//F/8P/o/+V/3L/fv+y/8f/1//S/9T/zv+r/6b/sv/P/+b/2P/5/wUA7v/q//b/JQAoABwAFQD4/+z/4f/T/93/EQAvACoAMgAsAB4A///j//n/IgAsADgAYABSACkAFQDl/8n/1P8BADEATgBlAD4A+/+2/5X/m/+0/+7/HgAiABQABQDR/8b/wf+3/8//yf/b/wUASABjAFAAUQArAPr/w/+3//3/WgC1AOIACwH0AGsA7/+a/6L/zP/r/0YAmgDQAJYAUgA9AAIA0P+c/8r/CgAeADQANgBXADQA9f/C/5b/lv9//4v/wv/0/wYA+f/7//3/5P+o/4T/nP/F//n/HABSAIcAXQAfAO3/xv++/7v/9/9UAIIAbwBRADIAAQDF/5v/zP8GADIALgAdAC0A6f+m/43/h/+k/7T/0P8cAEcAIAABANX/of+D/1X/Zf+w/+D/8//7/xEADgDn/8//u/+4/6D/nP/A//H/KgA0AFUASAASANv/k/+w/9H/7P8pAF8AjQCAAEgAJgAPAOD/0/8GADYAOwAwAEMAVwBEADsALQAeACMACAD6/wgADwAGAAAAEgAkADcALwAfABQA4/+//7H/yP/2/xMAMAAuACAA/P/A/53/mP+0/8z/9/8lABwACwAFAOv/2//c/8X/0P/4/xEAKwBEAEwAMQAZAAMABwAVAA8AOQBaAFsAVQAuABAA+f/m/+X/BAAuACoALwAjAB4AMAAAAP//CgD4//v//v8GAA8ABADe/+D/1/+//9D/zf/n/wEA//8EABUAFQDx/87/wP+9/8z/6f8GABgAGQAWAP//7P/W/6X/qf/E/+z/IQAwAEMASwAPANf/uf+X/53/tf/e/yMAKwAcAB4A+P/F/5n/hv+u/93/9v8YADEANwAsAAYABQDy/9D/zv/V/w4AKAA7AEQAXgBjACIAEwDj/8r/zP/Q/wQAIwBDADkAMAAmAAUA9v/q/wQAHgAyAEcAOgAuABoA/v8EAAMAAAANABkAGwAQAA8AFgAZABEAFAATAAEA4P/B/7z/rv+1/7b/y//r/97/1v/E/87/5//2/wAACgAXAAAAAAATABcAHAAcACEAMgA+ACsAIgAkACMAKgAsAEMATwA9AC0AIwAXABoAGAAbADwAQABEAEUALgAOAOD/1f/d//X/CgAbACsAGgAKAPP/2//R/9T/1f/m//3//P/9/+3/3f/U/9D/0v/R/9j/zv/L/9z/5P/p/+r/3//M/8T/rP+W/7n/vv/H//j/DgAOAPr/8v/h/+f/5v/w/x8AGQAiAB0AIgAUAPD/5f/F/9r/1v/q/wAACQAlAAoAGQAMAPb/7P/l/+7/+v8gACcANQAoAA4A9v/Z/93/1f/t////GAAxACIAHAD//+D/1f/k//3/BwAbACAAMQA0ACYALQAZABsAHgAXADMAPAA6AEAAQwAwACoAGAAAAAYA+P/8/wMAAgD+//7/AADr/9//zv/I/8P/xv/U/+L/9f/z//z//v/3//f//f/7//z/BQAEAA4ABwARAB8AJQAoACUANgAyACMADgARAAgA+/8KABoAKAAfAB0ACAAEAAEA7//5//j///8BAPv/9v/9//f/7//9//X/9v/4//P//f8HAAQAAgADAPb/8//o/+L/5v/j/+D/5//x/+v/7f/u/+//8f/v//P/8//z//P/9f/z//T/+P/3//j/9v/6//v/+f/9//z//f/8//z/+v/9/wEA/v/9/wAAAAD//wUAAAD8/wQAAwACAAUAAwADAAUAAwAEAAUABAAHAAYABQADAAUAAwACAAYABQAEAAIAAwACAAQAAwABAAAA/v8AAAAAAQAEAAMAAwACAAIAAgAAAAEAAwADAAUABwAFAAQABwAEAAQABQAHAAYAAwAFAAUABQACAAIABAACAAMABAADAAIABQADAAAAAQABAAAAAgADAAIAAAD//wEAAwABAAEAAQABAAMAAgACAAIAAgAEAAAAAAD///3//v///wAA/v///wAAAAD///7////8//7////+/wAAAAAAAAEA/////wAA//8CAP3/+/8AAP///v8AAAAA/v///wAAAAAAAP///v8AAP7/AAACAAEABAAEAAAAAQAEAAQAAgD//wIAAgD//wAAAQAEAAQA///6/wAAAAD5//3//f/6/wAA/f/3//3//v/6//3///////7/AAD///z//v/9//7/AAD//wAAAAD+/wAAAAD+//7////+////AAD//wAAAAAAAAAAAAD///7///8AAAEAAQABAAAA//8AAAAAAAABAAUABAABAAUAAQAAAAEAAAD//wEAAgD//wAAAAAAAAAAAAAAAP///////wEAAwADAAMAAgADAAIAAgACAAIAAgACAAIAAQACAAIAAgACAAMAAwABAAMAAgACAAIAAgADAAIAAQABAAIAAgACAAMAAwADAAMAAwACAAIAAgACAAIAAgACAAIAAwADAAMAAgACAAMAAQAAAAMAAwACAAIAAQAAAP///////////////wAA/v/8//z//P/8//v//P/7//v/+//8//z//P/7//v//P/7//z//P/7//z//P/8//v/+//7//v/+//7//v/+//9//////////////////////////////////////////////////7///////////////////////////////////8AAP//AAACAAIAAgACAAIAAgACAAIAAgACAAIAAgACAAIAAgACAAIAAgACAAIAAQACAAEAAgACAAEAAgACAAIAAgACAAIAAgACAAMAAAAAAAAAAAAAAAAAAQD///7/////////////////////////////////////////////////////////////////////////////////////////////////////////AAAAAP//AAD//wAAAAAAAAAAAAAAAAAAAAAAAAAAAAAAAAAAAAAAAP////8AAAAAAAAAAAAAAAD//wEAAQABAAEAAAABAAAAAwADAAMAAwACAAIAAgADAAMAAwADAAIAAgACAAMAAwACAAMAAgADAAMAAwACAAIAAwADAAMAAwACAAIAAgACAAMAAgACAAIAAgACAAIAAgACAAIAAgACAAIAAgACAAIAAgACAAIAAgACAAIAAgACAAIAAgACAAIAAgACAAIAAgACAAIAAgACAAIAAwACAAIAAgACAAIAAgADAAIAAgACAAIAAgACAAIAAgACAAIAAgACAAIAAgACAAIAAgACAAIAAgACAAIAAgACAAIAAgACAAIAAgACAAIAAgACAAIAAgACAAIAAgACAAIAAgACAAIAAgACAAIAAgACAAIAAgACAAIAAgACAAIAAgACAAIAAgABAAIAAgACAAIAAgACAAIAAgACAAIAAgACAAIAAgACAAIAAgACAAIAAgACAAIAAgACAAIAAgACAAMAAgACAAMAAwADAAIAAwACAAMAAwADAAMAAwADAAMAAwADAAMAAwADAAIAAwADAAMAAwACAAIAAgACAAIAAgACAAIAAgACAAIAAgACAAIAAgACAAIAAgACAAIAAgACAAIAAgACAAIAAgACAAIAAgACAAIAAgACAAIAAgACAAIAAgACAAIAAgACAAIAAgACAAIAAgACAAIAAgACAAIAAgACAAIAAgACAAIAAgACAAIAAgACAAIAAgACAAIAAgACAAIAAgACAAIAAgACAAIAAgACAAIAAgACAAIAAgACAAEAAQAAAAAAAAAAAAAAAAABAAEAAQABAAEAAQABAAEAAQABAAEAAQABAAEAAQABAAEAAQABAAEAAQABAAEAAQABAAEAAQABAAEAAQABAAEAAQABAAEAAQABAAEAAQABAAEAAQABAAEAAQABAAEAAQABAAEAAQABAAEAAQAAAAEAAQABAAEAAQABAAEAAQAAAAEAAQABAAEAAQABAAEAAQABAAEAAQABAAEAAQABAAEAAQABAAEAAQABAAEAAQABAAEAAQABAAEAAQABAAEAAQABAAEAAQABAAEAAQAAAAAAAAABAAEAAAAAAAAAAAAAAAAAAAAAAAAAAAAAAAAAAAAAAAAAAAAAAAAAAAAAAAAAAAAAAAAAAAAAAAAAAAAAAAAAAAAAAAAAAAAAAAAAAAAAAAAAAAAAAAAAAAAAAAAAAAAAAAAAAAAAAAAAAAAAAAAAAAAAAAAAAAAAAAAAAAAAAAAAAAAAAAAAAAAAAAAAAAAAAAAAAAAAAAAAAAAAAAAAAAAAAAAAAAAAAAAAAAAAAAAAAAAAAAAAAAAAAAAAAAAAAAAAAAAAAAAAAAAAAAAAAAAAAAAAAAAAAAAAAQABAAEAAQABAAEAAQABAAEAAQABAAEAAQABAAEAAQABAAEAAQABAAEAAQABAAEAAQABAAEAAQABAAEAAQABAAEAAQABAAEAAQABAAEAAQABAAEAAQABAAEAAQABAAEAAQABAAEAAQABAAEAAQABAAEAAQABAAEAAQABAAEAAQABAAEAAQABAAEAAQABAAEAAQABAAIAAgACAAIAAgABAAIAAgACAAIAAgACAAIAAgACAAIAAgACAAIAAgACAAIAAgACAAIAAgACAAIAAgACAAIAAgACAAIAAgACAAIAAgACAAIAAgACAAIAAgACAAIAAgACAAIAAgACAAIAAgACAAIAAgACAAIAAgACAAIAAgACAAIAAgACAAIAAgACAAIAAgACAAIAAgACAAIAAgACAAIAAgACAAIAAgACAAIAAgACAAIAAgACAAIAAgACAAIAAgACAAEAAQABAAEAAQABAAEAAQABAAEAAAAAAAAAAAAAAAAAAAAAAAAAAAAAAAAAAAAAAAAAAAAAAAAAAAAAAAAAAAAAAAAAAAAAAAAAAAAAAAAAAAAAAAAAAAABAAEAAQAAAAAAAAAAAAAAAQABAAEAAQAAAAEAAQABAAEAAQABAAEAAQABAAEAAQABAAEAAQABAAEAAQABAAEAAQABAAEAAQABAAEAAQABAAEAAQABAAEAAQABAAEAAQABAAEAAQABAAEAAQABAAEAAQABAAEAAQABAAEAAQABAAEAAQABAAEAAQABAAEAAQABAAEAAQABAAEAAQABAAEAAQABAAEAAQABAAEAAQABAAEAAQABAAEAAQABAAEAAQABAAEAAQABAAEAAQABAAEAAQABAAEAAQAAAAAAAAAAAAAAAAAAAAAAAAAAAAAAAAAAAAAAAAAAAAAAAAAAAAAAAAAAAAAAAAAAAAAAAAAAAAAAAAAAAAAAAAAAAAAAAAAAAAAAAAAAAAAAAAAAAAAAAAAAAAAAAAAAAAAAAAAAAAAAAAAAAAAAAAAAAAAAAAAAAAAAAAAAAAAAAAAAAAAAAAAAAAAAAAAAAAAAAAAAAAAAAAAAAAAAAAAAAAAAAAAAAAAAAAAAAAAAAAAAAAAAAAAAAAAAAAAAAAAAAAAAAAAAAAAAAAAAAAAAAAAAAAAAAAAAAAAAAAAAAAAAAAAAAAAAAAAAAAAAAAAAAAAAAAAAAAAAAAAAAAAAAAAAAAAAAAAAAAAAAAAAAAAAAAAAAAAAAAAAAAAAAAAAAAAAAAAAAAAAAAAAAAAAAAAAAAAAAAAAAAAAAAAAAAAAAAAAAAAAAAAAAAAAAAAAAAAAAAAAAAAAAAAAAAAAAAAAAAAAAAAAAAAAAAAAAAAAAAAAAAAAAAAAAAAAAAAAAAAAAAAAAAAAAAAAAAAAAAAAAAAAAAAAAAAAAAAAAAAAAAAAAAAAAAAAAAAAAAAAAAAAAAAAAAAAAAAAAAAAAAAAAAAAAAAAAAAAAAAAAAAAAAAAAAAAAAAAAAAAAAAAAAAAAAAAAAAAAAAAAAAAAAAAAAAAAAAAAAAAAAAAAAAAAAAAAAAAAAAAAAAAAAAAAAAAAAAAAAAAAAAAAAAAAAAAAAAAAAAAAAAAAAAAAAAAAAAAAAAAAAAAAAAAAAAAAAAAAAAAAAAAAAAAAAAAAAAAAAAAAAAAAAAAAAAAAAAAAAAAAAAAAAAAAAAAAAAAAAAAAAAAAAAAAAAAAAAAAAAAAAAAAAAAAAAAAAAAAAAAAAAAAAAAAAAAAAAAAAAAAAAAAAAAAAAAAAAAAAAAAAAAAAAAAAAAAAAAAAAAAAAAAAAAAAAAAAAAAAAAAAAAAAAAAAAAAAAAAAAAAAAAAAAAAAAAAAAAAAAAAAAAAAAAAAAAAAAAAAAAAAAAAAAAAAAAAAAAAAAAAAAAAAAAAAAAAAAAAAAAAAAAAAAAAAAAAAAAAAAAAAAAAAAAAAAAAAAAAAAAAAAAAAAAAAAAAAAAAAAAAAAAAAAAAAAAAAAAAAAAAAAAAAAAAAAAAAAAAAAAAAAAAAAAAAAAAAAAAAAAAAAAAAAAAAAAAAAAAAAAAAAAAAAAAAAAAAAAAAAAAAAAAAAAAAAAAAAAAAAAAAAAAAAAAAAAAAAAAAAAAAAAAAAAAAAAAAAAAAAAAAAAAAAAAAAAAAAAAAAAAAAAAAAAAAAAAAAAAAAAAAAAAAAAAAAAAAAAAAAAAAAAAAAAAAAAAAAAAAAAAAAAAAAAAAAAAAAAAAAAAAAAAAAAAAAAAAAAAAAAAAAAAAAAAAAAAAAAAAAAAAAAAAAAAAAAAAAAAAAAAAAAAAAAAAAAAAAAAAAAAAAAAAAAAAAAAAAAAAAAAAAAAAAAAAAAAAAAAAAAAAAAAAAAAAAAAAAAAAAAAAAAAAAAAAAAAAAAAAAAAAAAAAAAAAAAAAAAAAAAAAAAAAAAAAAAAAAAAAAAAAAAAAAAAAAAAAAAAAAAAAAAAAAAAAAAAAAAAAAAAAAAAAAAAAAAAAAAAAAAAAAAAAAAAAAAAAAAAAAAAAAAAAAAAAAAAAAAAAAAAAAAAAAAAAAAAAAAAAAAAAAAAAAAAAAAAAAAAAAAAAAAAAAAAAAAAAAAAAAAAAAAAAAAAAAAAAAAAAAAAAAAAAAAAAAAAAAAAAAAAAAAAAAAAAAAAAAAAAAAAAAAAAAAAAAAAAAAAAAAAAAAAAAAAAAAAAAAAAAAAAAAAAAAAAAAAAAAAAAAAAAAAAAAAAAAAAAAAAAAAAAAAAAAAAAAAAAAAAAAAAAAAAAAAAAAAAAAAAAAAAAAAAAAAAAAAAAAAAAAAAAAAAAAAAAAAAAAAAAAAAAAAAAAAAAAAAAAAAAAAAAAAAAAAAAAAAAAAAAAAAAAAAAAAAAAAAAAAAAAAAAAAAAAAAAAAAAAAAAAAAAAAAAAAAAAAAAAAAAAAAAAAAAAAAAAAAAAAAAAAAAAAAAAAAAAAAAAAAAAAAAAAAAAAAAAAAAAAAAAAAAAAAAAAAAAAAAAAAAAAAAAAAAAAAAAAAAAAAAAAAAAAAAAAAAAAAAAAAAAAAAAAAAAAAAAAAAAAAAAAAAAAAAAAAAAAAAAAAAAAAAAAAAAAAAAAAAAAAAAAAAAAAAAAAAAAAAAAAAAAAAAAAAAAAAAAAAAAAAAAAAAAAAAAAAAAAAAAAAAAAAAAAAAAAAAAAAAAAAAAAAAAAAAAAAAAAAAAAAAAAAAAAAAAAAAAAAAAAAAAAAAAAAAAAAAAAAAAAAAAAAAAAAAAAAAAAAAAAAAAAAAAAAAAAAAAAAAAAAAAAAAAAAAAAAAAAAAAAAAAAAAAAAAAAAAAAAAAAAAAAAAAAAAAAAAAAAAAAAAAAAAAAAAAAAAAAAAAAAAAAAAAAAAAAAAAAAAAAAAAAAAAAAAAAAAAAAAAAAAAAAAAAAAAAAAAAAAAAAAAAAAAAAAAAAAAAAAAAAAAAAAAAAAAAAAAAAAAAAAAAAAAAAAAAAAAAAAAAAAAAAAAAAAAAAAAAAAAAAAAAAAAAAAAAAAAAAAAAAAAAAAAAAAAAAAAAAAAAAAAAAAAAAAAAAAAAAAAAAAAAAAAAAAAAAAAAAAAAAAAAAAAAAAAAAAAAAAAAAAAAAAAAAAAAAAAAAAAAAAAAAAAAAAAAAAAAAAAAAAAAAAAAAAAAAAAAAAAAAAAAAAAAAAAAAAAAAAAAAAAAAAAAAAAAAAAAAAAAAAAAAAAAAAAAAAAAAAAAAAAAAAAAAAAAAAAAAAAAAAAAAAAAAAAAAAAAAAAAAAAAAAAAAAAAAAAAAAAAAAAAAAAAAAAAAAAAAAAAAAAAAAAAAAAAAAAAAAAAAAAAAAAAAAAAAAAAAAAAAAAAAAAAAAAAAAAAAAAAAAAAAAAAAAAAAAAAAAAAAAAAAAAAAAAAAAAAAAAAAAAAAAAAAAAAAAAAAAAAAAAAAAAAAAAAAAAAAAAAAAAAAAAAAAAAAAAAAAAAAAAAAAAAAAAAAAAAAAAAAAAAAAAAAAAAAAAAAAAAAAAAAAAAAAAAAAAAAAAAAAAAAAAAAAAAAAAAAAAAAAAAAAAAAAAAAAAAAAAAAAAAAAAAAAAAAAAAAAAAAAAAAAAAAAAAAAAAAAAAAAAAAAAAAAAAAAAAAAAAAAAAAAAAAAAAAAAAAAAAAAAAAAAAAAAAAAAAAAAAAAAAAAAAAAAAAAAAAAAAAAAAAAAAAAAAAAAAAAAAAAAAAAAAAAAAAAAAAAAAAAAAAAAAAAAAAAAAAAAAAAAAAAAAAAAAAAAAAAAAAAAAAAAAAAAAAAAAAAAAAAAAAAAAAAAAAAAAAAAAAAAAAAAAAAAAAAAAAAAAAAAAAAAAAAAAAAAAAAAAAAAAAAAAAAAAAAAAAAAAAAAAAAAAAAAAAAAAAAAAAAAAAAAAAAAAAAAAAAAAAAAAAAAAAAAAAAAAAAAAAAAAAAAAAAAAAAAAAAAAAAAAAAAAAAAAAAAAAAAAAAAAAAAAAAAAAAAAAAAAAAAAAAAAAAAAAAAAAAAAAAAAAAAAAAAAAAAAAAAAAAAAAAAAAAAAAAAAAAAAAAAAAAAAAAAAAAAAAAAAAAAAAAAAAAAAAAAAAAAAAAAAAAAAAAAAAAAAAAAAAAAAAAAAAAAAAAAAAAAAAAAAAAAAAAAAAAAAAAAAAAAAAAAAAAAAAAAAAAAAAAAAAAAAAAAAAAAAAAAAAAAAAAAAAAAAAAAAAAAAAAAAAAAAAAAAAAAAAAAAAAAAAAAAAAAAAAAAAAAAAAAAAAAAAAAAAAAAAAAAAAAAAAAAAAAAAAAAAAAAAAAAAAAAAAAAAAAAAAAAAAAAAAAAAAAAAAAAAAAAAAAAAAAAAAAAAAAAAAAAAAAAAAAAAAAAAAAAAAAAAAAAAAAAAAAAAAAAAAAAAAAAAAAAAAAAAAAAAAAAAAAAAAAAAAAAAAAAAAAAAAAAAAAAAAAAAAAAAAAAAAAAAAAAAAAAAAAAAAAAAAAAAAAAAAAAAAAAAAAAAAAAAAAAAAAAAAAAAAAAAAAAAAAAAAAAAAAAAAAAAAAAAAAAAAAAAAAAAAAAAAAAAAAAAAAAAAAAAAAAAAAAAAAAAAAAAAAAAAAAAAAAAAAAAAAAAAAAAAAAAAAAAAAAAAAAAAAAAAAAAAAAAAAAAAAAAAAAAAAAAAAAAAAAAAAAAAAAAAAAAAAAAAAAAAAAAAAAAAAAAAAAAAAAAAAAAAAAAAAAAAAAAAAAAAAAAAAAAAAAAAAAAAAAAAAAAAAAAAAAAAAAAAAAAAAAAAAAAAAAAAAAAAAAAAAAAAAAAAAAAAAAAAAAAAAAAAAAAAAAAAAAAAAAAAAAAAAAAAAAAAAAAAAAAAAAAAAAAAAAAAAAAAAAAAAAAAAAAAAAAAAAAAAAAAAAAAAAAAAAAAAAAAAAAAAAAAAAAAAAAAAAAAAAAAAAAAAAAAAAAAAAAAAAAAAAAAAAAAAAAAAAAAAAAAAAAAAAAAAAAAAAAAAAAAAAAAAAAAAAAAAAAAAAAAAAAAAAAAAAAAAAAAAAAAAAAAAAAAAAAAAAAAAAAAAAAAAAAAAAAAAAAAAAAAAAAAAAAAAAAAAAAAAAAAAAAAAAAAAAAAAAAAAAAAAAAAAAAAAAAAAAAAAAAAAAAAAAAAAAAAAAAAAAAAAAAAAAAAAAAAAAAAAAAAAAAAAAAAAAAAAAAAAAAAAAAAAAAAAAAAAAAAAAAAAAAAAAAAAAAAAAAAAAAAAAAAAAAAAAAAAAAAAAAAAAAAAAAAAAAAAAAAAAAAAAAAAAAAAAAAAAAAAAAAAAAAAAAAAAAAAAAAAAAAAAAAAAAAAAAAAAAAAAAAAAAAAAAAAAAAAAAAAAAAAAAAAAAAAAAAAAAAAAAAAAAAAAAAAAAAAAAAAAAAAAAAAAAAAAAAAAAAAAAAAAAAAAAAAAAAAAAAAAAAAAAAAAAAAAAAAAAAAAAAAAAAAAAAAAAAAAAAAAAAAAAAAAAAAAAAAAAAAAAAAAAAAAAAAAAAAAAAAAAAAAAAAAAAAAAAAAAAAAAAAAAAAAAAAAAAAAAAAAAAAAAAAAAAAAAAAAAAAAAAAAAAAAAAAAAAAAAAAAAAAAAAAAAAAAAAAAAAAAAAAAAAAAAAAAAAAAAAAAAAAAAAAAAAAAAAAAAAAAAAAAAAAAAAAAAAAAAAAAAAAAAAAAAAAAAAAAAAAAAAAAAAAAAAAAAAAAAAAAAAAAAAAAAAAAAAAAAAAAAAAAAAAAAAAAAAAAAAAAAAAAAAAAAAAAAAAAAAAAAAAAAAAAAAAAAAAAAAAAAAAAAAAAAAAAAAAAAAAAAAAAAAAAAAAAAAAAAAAAAAAAAAAAAAAAAAAAAAAAAAAAAAAAAAAAAAAAAAAAAAAAAAAAAAAAAAAAAAAAAAAAAAAAAAAAAAAAAAAAAAAAAAAAAAAAAAAAAAAAAAAAAAAAAAAAAAAAAAAAAAAAAAAAAAAAAAAAAAAAAAAAAAAAAAAAAAAAAAAAAAAAAAAAAAAAAAAAAAAAAAAAAAAAAAAAAAAAAAAAAAAAAAAAAAAAAAAAAAAAAAAAAAAAAAAAAAAAAAAAAAAAAAAAAAAAAAAAAAAAAAAAAAAAAAAAAAAAAAAAAAAAAAAAAAAAAAAAAAAAAAAAAAAAAAAAAAAAAAAAAAAAAAAAAAAAAAAAAAAAAAAAAAAAAAAAAAAAAAAAAAAAAAAAAAAAAAAAAAAAAAAAAAAAAAAAAAAAAAAAAAAAAAAAAAAAAAAAAAAAAAAAAAAAAAAAAAAAAAAAAAAAAAAAAAAAAAAAAAAAAAAAAAAAAAAAAAAAAAAAAAAAAAAAAAAAAAAAAAAAAAAAAAAAAAAAAAAAAAAAAAAAAAAAAAAAAAAAAAAAAAAAAAAAAAAAAAAAAAAAAAAAAAAAAAAAAAAAAAAAAAAAAAAAAAAAAAAAAAAAAAAAAAAAAAAAAAAAAAAAAAAAAAAAAAAAAAAAAAAAAAAAAAAAAAAAAAAAAAAAAAAAAAAAAAAAAAAAAAAAAAAAAAAAAAAAAAAAAAAAAAAAAAAAAAAAAAAAAAAAAAAAAAAAAAAAAAAAAAAAAAAAAAAAAAAAAAAAAAAAAAAAAAAAAAAAAAAAAAAAAAAAAAAAAAAAAAAAAAAAAAAAAAAAAAAAAAAAAAAAAAAAAAAAAAAAAAAAAAAAAAAAAAAAAAAAAAAAAAAAAAAAAAAAAAAAAAAAAAAAAAAAAAAAAAAAAAAAAAAAAAAAAAAAAAAAAAAAAAAAAAAAAAAAAAAAAAAAAAAAAAAAAAAAAAAAAAAAAAAAAAAAAAAAAAAAAAAAAAAAAAAAAAAAAAAAAAAAAAAAAAAAAAAAAAAAAAAAAAAAAAAAAAAAAAAAAAAAAAAAAAAAAAAAAAAAAAAAAAAAAAAAAAAAAAAAAAAAAAAAAAAAAAAAAAAAAAAAAAAAAAAAAAAAAAAAAAAAAAAAAAAAAAAAAAAAAAAAAAAAAAAAAAAAAAAAAAAAAAAAAAAAAAAAAAAAAAAAAAAAAAAAAAAAAAAAAAAAAAAAAAAAAAAAAAAAAAAAAAAAAAAAAAAAAAAAAAAAAAAAAAAAAAAAAAAAAAAAAAAAAAAAAAAAAAAAAAAAAAAAAAAAAAAAAAAAAAAAAAAAAAAAAAAAAAAAAAAAAAAAAAAAAAAAAAAAAAAAAAAAAAAAAAAAAAAAAAAAAAAAAAAAAAAAAAAAAAAAAAAAAAAAAAAAAAAAAAAAAAAAAAAAAAAAAAAAAAAAAAAAAAAAAAAAAAAAAAAAAAAAAAAAAAAAAAAAAAAAAAAAAAAAAAAAAAAAAAAAAAAAAAAAAAAAAAAAAAAAAAAAAAAAAAAAAAAAAAAAAAAAAAAAAAAAAAAAAAAAAAAAAAAAAAAAAAAAAAAAAAAAAAAAAAAAAAAAAAAAAAAAAAAAAAAAAAAAAAAAAAAAAAAAAAAAAAAAAAAAAAAAAAAAAAAAAAAAAAAAAAAAAAAAAAAAAAAAAAAAAAAAAAAAAAAAAAAAAAAAAAAAAAAAAAAAAAAAAAAAAAAAAAAAAAAAAAAAAAAAAAAAAAAAAAAAAAAAAAAAAAAAAAAAAAAAAAAAAAAAAAAAAAAAAAAAAAAAAAAAAAAAAAAAAAAAAAAAAAAAAAAAAAAAAAAAAAAAAAAAAAAAAAAAAAAAAAAAAAAAAAAAAAAAAAAAAAAAAAAAAAAAAAAAAAAAAAAAAAAAAAAAAAAAAAAAAAAAAAAAAAAAAAAAAAAAAAAAAAAAAAAAAAAAAAAAAAAAAAAAAAAAAAAAAAAAAAAAAAAAAAAAAAAAAAAAAAAAAAAAAAAAAAAAAAAAAAAAAAAAAAAAAAAAAAAAAAAAAAAAAAAAAAAAAAAAAAAAAAAAAAAAAAAAAAAAAAAAAAAAAAAAAAAAAAAAAAAAAAAAAAAAAAAAAAAAAAAAAAAAAAAAAAAAAAAAAAAAAAAAAAAAAAAAAAAAAAAAAAAAAAAAAAAAAAAAAAAAAAAAAAAAAAAAAAAAAAAAAAAAAAAAAAAAAAAAAAAAAAAAAAAAAAAAAAAAAAAAAAAAAAAAAAAAAAAAAAAAAAAAAAAAAAAAAAAAAAAAAAAAAAAAAAAAAAAAAAAAAAAAAAAAAAAAAAAAAAAAAAAAAAAAAAAAAAAAAAAAAAAAAAAAAAAAAAAAAAAAAAAAAAAAAAAAAAAAAAAAAAAAAAAAAAAAAAAAAAAAAAAAAAAAAAAAAAAAAAAAAAAAAAAAAAAAAAAAAAAAAAAAAAAAAAAAAAAAAAAAAAAAAAAAAAAAAAAAAAAAAAAAAAAAAAAAAAAAAAAAAAAAAAAAAAAAAAAAAAAAAAAAAAAAAAAAAAAAAAAAAAAAAAAAAAAAAAAAAAAAAAAAAAAAAAAAAAAAAAAAAAAAAAAAAAAAAAAAAAAAAAAAAAAAAAAAAAAAAAAAAAAAAAAAAAAAAAAAAAAAAAAAAAAAAAAAAAAAAAAAAAAAAAAAAAAAAAAAAAAAAAAAAAAAAAAAAAAAAAAAAAAAAAAAAAAAAAAAAAAAAAAAAAAAAAAAAAAAAAAAAAAAAAAAAAAAAAAAAAAAAAAAAAAAAAAAAAAAAAAAAAAAAAAAAAAAAAAAAAAAAAAAAAAAAAAAAAAAAAAAAAAAAAAAAAAAAAAAAAAAAAAAAAAAAAAAAAAAAAAAAAAAAAAAAAAAAAAAAAAAAAAAAAAAAAAAAAAAAAAAAAAAAAAAAAAAAAAAAAAAAAAAAAAAAAAAAAAAAAAAAAAAAAAAAAAAAAAAAAAAAAAAAAAAAAAAAAAAAAAAAAAAAAAAAAAAAAAAAAAAAAAAAAAAAAAAAAAAAAAAAAAAAAAAAAAAAAAAAAAAAAAAAAAAAAAAAAAAAAAAAAAAAAAAAAAAAAAAAAAAAAAAAAAAAAAAAAAAAAAAAAAAAAAAAAAAAAAAAAAAAAAAAAAAAAAAAAAAAAAAAAAAAAAAAAAAAAAAAAAAAAAAAAAAAAAAAAAAAAAAAAAAAAAAAAAAAAAAAAAAAAAAAAAAAAAAAAAAAAAAAAAAAAAAAAAAAAAAAAAAAAAAAAAAAAAAAAAAAAAAAAAAAAAAAAAAAAAAAAAAAAAAAAAAAAAAAAAAAAAAAAAAAAAAAAAAAAAAAAAAAAAAAAAAAAAAAAAAAAAAAAAAAAAAAAAAAAAAAAAAAAAAAAAAAAAAAAAAAAAAAAAAAAAAAAAAAAAAAAAAAAAAAAAAAAAAAAAAAAAAAAAAAAAAAAAAAAAAAAAAAAAAAAAAAAAAAAAAAAAAAAAAAAAAAAAAAAAAAAAAAAAAAAAAAAAAAAAAAAAAAAAAAAAAAAAAAAAAAAAAAAAAAAAAAAAAAAAAAAAAAAAAAAAAAAAAAAAAAAAAAAAAAAAAAAAAAAAAAAAAAAAAAAAAAAAAAAAAAAAAAAAAAAAAAAAAAAAAAAAAAAAAAAAAAAAAAAAAAAAAAAAAAAAAAAAAAAAAAAAAAAAAAAAAAAAAAAAAAAAAAAAAAAAAAAAAAAAAAAAAAAAAAAAAAAAAAAAAAAAAAAAAAAAAAAAAAAAAAAAAAAAAAAAAAAAAAAAAAAAAAAAAAAAAAAAAAAAAAAAAAAAAAAAAAAAAAAAAAAAAAAAAAAAAAAAAAAAAAAAAAAAAAAAAAAAAAAAAAAAAAAAAAAAAAAAAAAAAAAAAAAAAAAAAAAAAAAAAAAAAAAAAAAAAAAAAAAAAAAAAAAAAAAAAAAAAAAAAAAAAAAAAAAAAAAAAAAAAAAAAAAAAAAAAAAAAAAAAAAAAAAAAAAAAAAAAAAAAAAAAAAAAAAAAAAAAAAAAAAAAAAAAAAAAAAAAAAAAAAAAAAAAAAAAAAAAAAAAAAAAAAAAAAAAAAAAAAAAAAAAAAAAAAAAAAAAAAAAAAAAAAAAAAAAAAAAAAAAAAAAAAAAAAAAAAAAAAAAAAAAAAAAAAAAAAAAAAAAAAAAAAAAAAAAAAAAAAAAAAAAAAAAAAAAAAAAAAAAAAAAAAAAAAAAAAAAAAAAAAAAAAAAAAAAAAAAAAAAAAAAAAAAAAAAAAAAAAAAAAAAAAAAAAAAAAAAAAAAAAAAAAAAAAAAAAAAAAAAAAAAAAAAAAAAAAAAAAAAAAAAAAAAAAAAAAAAAAAAAAAAAAAAAAAAAAAAAAAAAAAAAAAAAAAAAAAAAAAAAAAAAAAAAAAAAAAAAAAAAAAAAAAAAAAAAAAAAAAAAAAAAAAAAAAAAAAAAAAAAAAAAAAAAAAAAAAAAAAAAAAAAAAAAAAAAAAAAAAAAAAAAAAAAAAAAAAAAAAAAAAAAAAAAAAAAAAAAAAAAAAAAAAAAAAAAAAAAAAAAAAAAAAAAAAAAAAAAAAAAAAAAAAAAAAAAAAAAAAAAAAAAAAAAAAAAAAAAAAAAAAAAAAAAAAAAAAAAAAAAAAAAAAAAAAAAAAAAAAAAAAAAAAAAAAAAAAAAAAAAAAAAAAAAAAAAAAAAAAAAAAAAAAAAAAAAAAAAAAAAAAAAAAAAAAAAAAAAAAAAAAAAAAAAAAAAAAAAAAAAAAAAAAAAAAAAAAAAAAAAAAAAAAAAAAAAAAAAAAAAAAAAAAAAAAAAAAAAAAAAAAAAAAAAAAAAAAAAAAAAAAAAAAAAAAAAAAAAAAAAAAAAAAAAAAAAAAAAAAAAAAAAAAAAAAAAAAAAAAAAAAAAAAAAAAAAAAAAAAAAAAAAAAAAAAAAAAAAAAAAAAAAAAAAAAAAAAAAAAAAAAAAAAAAAAAAAAAAAAAAAAAAAAAAAAAAAAAAAAAAAAAAAAAAAAAAAAAAAAAAAAAAAAAAAAAAAAAAAAAAAAAAAAAAAAAAAAAAAAAAAAAAAAAAAAAAAAAAAAAAAAAAAAAAAAAAAAAAAAAAAAAAAAAAAAAAAAAAAAAAAAAAAAAAAAAAAAAAAAAAAAAAAAAAAAAAAAAAAAAAAAAAAAAAAAAAAAAAAAAAAAAAAAAAAAAAAAP///P/9//3//f/8//3//P/9//3//f/9//3//f/9//3//f/9//3//f/9//3//f/8//3//P/8//3//f/9//z//f/9//3//f/9//z//P/9//3//f/8//3//f/8//z//f/9//3//f/9//3//P/9//3//f/9//3//P/8//z//P/8//3//P/8//z//P/8//z//P/8//3//P/8//z//P/8//z//P/8//z//P/8//z//P/8//3//f/8//z//P/8//z//f8AAAAAAAAAAAAAAAAAAAAAAAAAAAAAAAAAAAAAAAAAAAAAAAD//wAA/v/8//z//P/8//z//P/8//z//P/9//3//P/9//3//f/9//3//f/9//3//f/9//z//P/9//3//P/9//3//f/9//3//P/8//v/+f/5//j/+f/5//j/+P/5//n/+P/4//n/+P/5//n/+f/6//r/+//7//v/+v/6//r/+v/6//r/+v/6//n//f8BAPz///8AAP3//v/+//7//f/+//3//v/+//3//v///wAA/P8AAAAA/f/+//7//v/+//7//v/+//7//v/+//7///8BAAAAAQABAAEAAQABAAEAAQABAAEAAQABAAEAAQABAAEAAQAAAP3///8AAP3///8AAP3//v/9////AAD8/wAAAAD+/wEAAAABAAAA//8BAAEAAAAAAAAAAQAAAAEAAQABAAEAAQABAAEAAQAAAAEAAQAAAAEAAAABAAAAAAABAAEAAQAAAAAAAQABAAAA/v/+//7//f/9//3//v/9//3//f///wAAAQAAAP//AQAAAAAAAQAAAAEAAQABAAEAAAABAAEAAQABAAEAAQABAAAAAQABAAEAAAD+/////v/+//7//v/+//3//v/+//7//v/+//7//v/+//7//v///wEAAQABAAEAAQAAAAEAAQABAAEAAQABAAAAAAAAAAEAAAAAAAAAAAABAAAAAAAAAAEAAAAAAAEAAQABAAEAAQABAAEAAQABAAEAAQABAAEAAQABAAEAAQABAAEAAQABAAEAAQABAAEAAQABAAEAAQABAAEAAQABAAEAAQABAAEAAQABAAEAAQABAAEAAQABAAEAAQABAAEAAQABAAEAAQABAAEAAQABAAAAAQABAAEAAQABAAEAAQABAAAAAAAAAAAAAAABAAAAAAABAAEAAQAAAAEAAQAAAAAAAAAAAAAAAAAAAAAAAAAAAAAAAAAAAAAAAAAAAAAAAAAAAAAAAAAAAAAAAAAAAAAAAAAAAAAAAAAAAAAAAAAAAAAAAAAAAAAAAAAAAAAAAAABAAEAAAABAAEAAQABAAEAAQABAAEAAQABAAEAAQABAAEAAQABAAEAAQABAAEAAQABAAEAAQABAAEAAQABAAEAAQABAAEAAQABAAEAAQABAAEAAQABAAEAAQABAAEAAQABAAEAAQABAAEAAQABAAEAAQABAAEAAQABAAEAAQABAAEAAQABAAEAAQABAAEAAQABAAEAAQABAAEAAQABAAEAAQABAAEAAQABAAEAAQABAAEAAQABAAEAAQABAAEAAQABAAEAAQABAAEAAQABAAEAAQABAAEAAQABAAEAAQABAAEAAQABAAEAAQABAAEAAQABAAEAAQABAAEAAQABAAEAAQABAAEAAQABAAEAAQABAAEAAQABAAEAAQABAAEAAQABAAEAAQABAAEAAQABAAEAAQABAAEAAQABAAEAAQABAAEAAQABAAEAAQABAAEAAQABAAEAAQABAAEAAQABAAEAAQABAAEAAQABAAEAAQABAAEAAQABAAEAAQABAAEAAQABAAEAAQABAAEAAQABAAEAAQAAAAAAAAAAAAAAAAAAAAAAAAAAAAAAAAAAAAAAAAAAAAAAAAAAAAAAAAAAAAAAAAAAAAAAAAAAAAAAAAAAAAAAAAAAAAAAAAAAAAAAAAAAAAAAAAAAAAAAAAAAAAAAAAAAAAAAAAAAAAAAAAAAAAAAAAAAAAAAAAAAAAAAAAAAAAAAAAAAAAAAAAAAAAAAAAAAAAAAAAAAAAAAAAAAAAAAAAAAAAAAAAAAAAAAAAAAAAAAAAAAAAAAAAAAAAAAAAAAAAAAAAAAAAAAAAAAAAAAAAAAAAAAAAAAAAAAAAAAAAAAAAAAAAAAAAAAAAAAAAAAAAAAAAAAAAAAAAAAAAAAAAAAAAAAAAAAAAAAAAAAAAAAAAAAAAAAAAAAAAAAAAAAAAAAAAAAAAAAAAAAAAAAAAAAAAAAAAAAAAAAAAAAAAAAAAAAAAAAAAAAAAAAAAAAAAAAAAAAAAAAAAAAAAAAAAAAAAAAAAAAAAAAAAAAAAAAAAAAAAAAAAAAAAAAAAAAAAAAAAAAAAAAAAAAAAAAAAAAAAAAAAAAAAAAAAAAAAAAAAAAAAAAAAAAAAAAAAAAAAAAAAAAAAAAAAAAAAAAAAAAAAAAAAAAAAAAAAAAAAAAAAAAAAAAAAAAAAAAAAAAAAAAAAAAAAAAAAAAAAAAAAAAAAAAAAAAAAAAAAAAAAAAAAAAAAAAAAAAAAAAAAAAAAAAAAAAAAAAAAAAAAAAAAAAAAAAAAAAAAAAAAAAAAAAAAAAAAAAAAAAAAAAAAAAAAAAAAAAAAAAAAAAAAAAAAAAAAAAAAAAAAAAAAAAAAAAAAAAAAAAAAAAAAAAAAAAAAAAAAAAAAAAAAAAAAAAAAAAAAAAAAAAAAAAAAAAAAAAAAAAAAAAAAAAAAAAAAAAAAAAAAAAAAAAAAAAAAAAAAAAAAAAAAAAAAAAAAAAAAAAAAAAAAAAAAAAAAAAAAAAAAAAAAAAAAAAAAAAAAAAAAAAAAAAAAAAAAAAAAAAAAAAAAAAAAAAAAAAAAAAAAAAAAAAAAAAAAAAAAAAAAAAAAAAAAAAAAAAAAAAAAAAAAAAAAAAAAAAAAAAAAAAAAAAAAAAAAAAAAAAAAAAAAAAAAAAAAAAAAAAAAAAAAAAAAAAAAAAAAAAAAAAAAAAAAAAAAAAAAAAAAAAAAAAAAAAAAAAAAAAAAAAAAAAAAAAAAAAAAAAAAAAAAAAAAAAAAAAAAAAAAAAAAAAAAAAAAAAAAAAAAAAAAAAAAAAAAAAAAAAAAAAAAAAAAAAAAAAAAAAAAAAAAAAAAAAAAAAAAAAAAAAAAAAAAAAAAAAAAAAAAAAAAAAAAAAAAAAAAAAAAAAAAAAAAAAAAAAAAAAAAAAAAAAAAAAAAAAAAAAAAAAAAAAAAAAAAAAAAAAAAAAAAAAAAAAAAAAAAAAAAAAAAAAAAAAAAAAAAAAAAAAAAAAAAAAAAAAAAAAAAAAAAAAAAAAAAAAAAAAAAAAAAAAAAAAAAAAAAAAAAAAAAAAAAAAAAAAAAAAAAAAAAAAAAAAAAAAAAAAAAAAAAAAAAAAAAAAAAAAAAAAAAAAAAAAAAAAAAAAAAAAAAAAAAAAAAAAAAAAAAAAAAAAAAAAAAAAAAAAAAAAAAAAAAAAAAAAAAAAAAAAAAAAAAAAAAAAAAAAAAAAAAAAAAAAAAAAAAAAAAAAAAAAAAAAAAAAAAAAAAAAAAAAAAAAAAAAAAAAAAAAAAAAAAAAAAAAAAAAAAAAAAAAAAAAAAAAAAAAAAAAAAAAAAAAAAAAAAAAAAAAAAAAAAAAAAAAAAAAAAAAAAAAAAAAAAAAAAAAAAAAAAAAAAAAAAAAAAAAAAAAAAAAAAAAAAAAAAAAAAAAAAAAAAAAAAAAAAAAAAAAAAAAAAAAAAAAAAAAAAAAAAAAAAAAAAAAAAAAAAAAAAAAAAAAAAAAAAAAAAAAAAAAAAAAAAAAAAAAAAAAAAAAAAAAAAAAAAAAAAAAAAAAAAAAAAAAAAAAAAAAAAAAAAAAAAAAAAAAAAAAAAAAAAAAAAAAAAAAAAAAAAAAAAAAAAAAAAAAAAAAAAAAAAAAAAAAAAAAAAAAAAAAAAAAAAAAAAAAAAAAAAAAAAAAAAAAAAAAAAAAAAAAAAAAAAAAAAAAAAAAAAAAAAAAAAAAAAAAAAAAAAAAAAAAAAAAAAAAAAAAAAAAAAAAAAAAAAAAAAAAAAAAAAAAAAAAAAAAAAAAAAAAAAAAAAAAAAAAAAAAAAAAAAAAAAAAAAAAAAAAAAAAAAAAAAAAAAAAAAAAAAAAAAAAAAAAAAAAAAAAAAAAAAAAAAAAAAAAAAAAAAAAAAAAAAAAAAAAAAAAAAAAAAAAAAAAAAAAAAAAAAAAAAAAAAAAAAAAAAAAAAAAAAAAAAAAAAAAAAAAAAAAAAAAAAAAAAAAAAAAAAAAAAAAAAAAAAAAAAAAAAAAAAAAAAAAAAAAAAAAAAAAAAAAAAAAAAAAAAAAAAAAAAAAAAAAAAAAAAAAAAAAAAAAAAAAAAAAAAAAAAAAAAAAAAAAAAAAAAAAAAAAAAAAAAAAAAAAAAAAAAAAAAAAAAAAAAAAAAAAAAAAAAAAAAAAAAAAAAAAAAAAAAAAAAAAAAAAAAAAAAAAAAAAAAAAAAAAAAAAAAAAAAAAAAAAAAAAAAAAAAAAAAAAAAAAAAAAAAAAAAAAAAAAAAAAAAAAAAAAAAAAAAAAAAAAAAAAAAAAAAAAAAAAAAAAAAAAAAAAAAAAAAAAAAAAAAAAAAAAAAAAAAAAAAAAAAAAAAAAAAAAAAAAAAAAAAAAAAAAAAAAAAAAAAAAAAAAAAAAAAAAAAAAAAAAAAAAAAAAAAAAAAAAAAAAAAAAAAAAAAAAAAAAAAAAAAAAAAAAAAAAAAAAAAAAAAAAAAAAAAAAAAAAAAAAAAAAAAAAAAAAAAAAAAAAAAAAAAAAAAAAAAAAAAAAAAAAAAAAAAAAAAAAAAAAAAAAAAAAAAAAAAAAAAAAAAAAAAAAAAAAAAAAAAAAAAAAAAAAAAAAAAAAAAAAAAAAAAAAAAAAAAAAAAAAAAAAAAAAAAAAAAAAAAAAAAAAAAAAAAAAAAAAAAAAAAAAAAAAAAAAAAAAAAAAAAAAAAAAAAAAAAAAAAAAAAAAAAAAAAAAAAAAAAAAAAAAAAAAAAAAAAAAAAAAAAAAAAAAAAAAAAAAAAAAAAAAAAAAAAAAAAAAAAAAAAAAAAAAAAAAAAAAAAAAAAAAAAAAAAAAAAAAAAAAAAAAAAAAAAAAAAAAAAAAAAAAAAAAAAAAAAAAAAAAAAAAAAAAAAAAAAAAAAAAAAAAAAAAAAAAAAAAAAAAAAAAAAAAAAAAAAAAAAAAAAAAAAAAAAAAAAAAAAAAAAAAAAAAAAAAAAAAAAAAAAAAAAAAAAAAAAAAAAAAAAAAAAAAAAAAAAAAAAAAAAAAAAAAAAAAAAAAAAAAAAAAAAAAAAAAAAAAAAAAAAAAAAAAAAAAAAAAAAAAAAAAAAAAAAAAAAAAAAAAAAAAAAAAAAAAAAAAAAAAAAAAAAAAAAAAAAAAAAAAAAAAAAAAAAAAAAAAAAAAAAAAAAAAAAAAAAAAAAAAAAAAAAAAAAAAAAAAAAAAAAAAAAAAAAAAAAAAAAAAAAAAAAAAAAAAAAAAAAAAAAAAAAAAAAAAAAAAAAAAAAAAAAAAAAAAAAAAAAAAAAAAAAAAAAAAAAAAAAAAAAAAAAAAAAAAAAAAAAAAAAAAAAAAAAAAAAAAAAAAAAAAAAAAAAAAAAAAAAAAAAAAAAAAAAAAAAAAAAAAAAAAAAAAAAAAAAAAAAAAAAAAAAAAAAAAAAAAAAAAAAAAAAAAAAAAAAAAAAAAAAAAAAAAAAAAAAAAAAAAAAAAAAAAAAAAAAAAAAAAAAAAAAAAAAAAAAAAAAAAAAAAAAAAAAAAAAAAAAAAAAAAAAAAAAAAAAAAAAAAAAAAAAAAAAAAAAAAAAAAAAAAAAAAAAAAAAAAAAAAAAAAAAAAAAAAAAAAAAAAAAAAAAAAAAAAAAAAAAAAAAAAAAAAAAAAAAAAAAAAAAAAAAAAAAAAAAAAAAAAAAAAAAAAAAAAAAAAAAAAAAAAAAAAAAAAAAAAAAAAAAAAAAAAAAAAAAAAAAAAAAAAAAAAAAAAAAAAAAAAAAAAAAAAAAAAAAAAAAAAAAAAAAAAAAAAAAAAAAAAAAAAAAAAAAAAAAAAAAAAAAAAAAAAAAAAAAAAAAAAAAAAAAAAAAAAAAAAAAAAAAAAAAAAAAAAAAAAAAAAAAAAAAAAAAAAAAAAAAAAAAAAAAAAAAAAAAAAAAAAAAAAAAAAAAAAAAAAAAAAAAAAAAAAAAAAAAAAAAAAAAAAAAAAAAAAAAAAAAAAAAAAAAAAAAAAAAAAAAAAAAAAAAAAAAAAAAAAAAAAAAAAAAAAAAAAAAAAAAAAAAAAAAAAAAAAAAAAAAAAAAAAAAAAAAAAAAAAAAAAAAAAAAAAAAAAAP//AAAAAAAAAAAAAAAAAAAAAAAAAAAAAAAAAAAAAAAAAQAAAAAAAAD8////AAAAAP///f/9//7/AQD+//7////9/wAA///9//z//v8AAAAAAAAAAAAAAAAAAAAAAAD+//v//f8BAP///P/9//v//f/8//z//P/+/////P/8/////v/7//3//P/8//3//f/8//7/AAD8//3//v/9///////+/wAA/v/8////AAD9//3//f/8/////////////f/9//z//P/9//3//f/9//z//f/9//3//f/9//3//P/9//3//f/9//3//f/9//z//P/8//3//P/9//3//f/8//z//f/9//3//P/8//z//f/9//3//f/9//v//v////z//P/8//7/+////wAA/v8AAPz/AAAAAPz//P/+/wAA+//9/wAAAAAAAAAAAAD///v///////7/AAD7//7////9/wAA+P/9//7/+v8BAP7//f////z/AQAAAAAA///9/wEA/v////3//P8AAPv///8AAP3/AAD7/wAAAAD9/wAA/P/+/wAAAAAAAAAAAAAAAP7/AQD+//7////+/wAA/f8AAAAAAAAAAAAAAAAAAAAAAAAAAAAA///+/////f8AAP7//v8AAPz//f/8//7/AAD9////AQAAAP7///8CAAAA/v/9/wAAAQD9/wAAAAD+//7//f/+//7//f/+//7//f/+//7//f/9//7//f/+//7//v/+//3//v/9//7//v/9//7//f/9//7//f/9//3//v/9//3/AAAAAP3//f/9//7//f/+//3//v/9////AAD8//7//f8AAAAA/v/+//7//v/+//3///8BAP3/AAABAP3//v/+//3//v/+//3//v/8/wAAAAD+/wAA/P8AAAAA//8AAPz///8AAP3//v/9/wAAAQD9/wAAAAD+/wIAAAD//wAA//8CAAEA/f8AAAAA/f8AAAIAAQABAAEAAQABAAEAAgACAAIAAQACAAEAAQACAAEAAQABAAAAAAABAAEAAQABAAEAAQABAAEAAQABAAAAAQABAAEAAQAAAAEAAQABAAEAAAABAAAAAAABAAAAAQABAAEAAQAAAAAAAAAAAAAAAAAAAAAAAAABAAEAAAABAAEAAQABAAAAAAABAAEAAAABAAEAAAAAAAEAAQAAAAEAAQAAAAAAAQAAAAAAAQABAAAAAAABAAEAAAAAAAEAAAAAAAEAAAABAAEAAAAAAAAAAAAAAAAAAAABAAAAAAAAAAAAAAAAAAAAAAAAAAEAAAABAAEAAAABAAAAAQACAAAAAAABAAAAAQABAAEAAAABAAEAAAABAAAAAAABAAAAAAAAAAAAAAAAAAAAAAAAAAAAAAABAAAAAAABAAAAAAABAAAAAQABAAAAAQAAAAAAAQABAAAAAQABAAAAAAABAAEAAQAAAAEAAAAAAAEAAQAAAAAAAAAAAAAAAAAAAAAAAAAAAAAAAAAAAAEAAAABAAAAAAABAAAAAAAAAAAAAAAAAAAAAAAAAAAAAQAAAAAAAAAAAAEAAAABAAEAAQABAAEAAQABAAEAAQABAAEAAQABAAEAAQABAAEAAQABAAEAAQABAAEAAQABAAEAAQABAAEAAQABAAEAAQABAAEAAQABAAEAAQABAAEAAQABAAEAAQABAAEAAQABAAEAAQABAAEAAQABAAEAAQABAAEAAQABAAEAAQABAAEAAQABAAEAAQABAAEAAQABAAEAAQABAAEAAQABAAEAAQABAAEAAQABAAEAAQABAAEAAQABAAEAAQABAAEAAQABAAEAAQABAAEAAQABAAEAAQABAAEAAQABAAEAAQABAAEAAQABAAEAAQABAAEAAQABAAEAAQABAAEAAQABAAEAAQABAAEAAQABAAEAAQABAAEAAQABAAEAAQABAAEAAQABAAEAAQABAAEAAQABAAEAAQABAAEAAQABAAAAAQABAAEAAQABAAEAAQABAAEAAQABAAEAAAABAAAAAQAAAAAAAAAAAAAAAAAAAAAAAAAAAAAAAAAAAAAAAAAAAAAAAAAAAAAAAAAAAAAAAAAAAAAAAAAAAAAAAAAAAAAAAAAAAAAAAAAAAAAAAAAAAAAAAAAAAAAAAAAAAAAAAAAAAAAAAAAAAAAAAAAAAAAAAAAAAAAAAAAAAAAAAAAAAAAAAAAAAAAAAAAAAAAAAAAAAAAAAAAAAAAAAAAAAAAAAAAAAAAAAAAAAAAAAAAAAAAAAAAAAAAAAAAAAAAAAAAAAAAAAAAAAAAAAAAAAAAAAAAAAAAAAAAAAAAAAAAAAAAAAAAAAAAAAAAAAAAAAAAAAAAAAAAAAAAAAAAAAAAAAAAAAAAAAAAAAAAAAAAAAAAAAAAAAAAAAAAAAAAAAAAAAAAAAAAAAAAAAAAAAAAAAAAAAAAAAAAAAAAAAAAAAAAAAAAAAAAAAAAAAAAAAAAAAAAAAAAAAAAAAAAAAAAAAAAAAAAAAAAAAAAAAAAAAAAAAAAAAAAAAAAAAAAAAAAAAAAAAAAAAAAAAAAAAAAAAAAAAAAAAAAAAAAAAAAAAAAAAAAAAAAAAAAAAAAAAAAAAAAAAAAAAAAAAAAAAAAAAAAAAAAAAAAAAAAAAAAAAAAAAAAAAAAAAAAAAAAAAAAAAAAAAAAAAAAAAAAAAAAAAAAAAAAAAAAAAAAAAAAAAAAAAAAAAAAAAAAAAAAAAAAAAAAAAAAAAAAAAAAAAAAAAAAAAAAAAAAAAAAAAAAAAAAAAAAAAAAAAAAAAAAAAAAAAAAAAAAAAAAAAAAAAAAAAAAAAAAAAAAAAAAAAAAAAAAAAAAAAAAAAAAAAAAAAAAAAAAAAAAAAAAAAAAAAAAAAAAAAAAAAAAAAAAAAAAAAAAAAAAAAAAAAAAAAAAAAAAAAAAAAAAAAAAAAAAAAAAAAAAAAAAAAAAAAAAAAAAAAAAAAAAAAAAAAAAAAAAAAAAAAAAAAAAAAAAAAAAAAAAAAAAAAAAAAAAAAAAAAAAAAAAAAAAAAAAAAAAAAAAAAAAAAAAAAAAAAAAAAAAAAAAAAAAAAAAAAAAAAAAAAAAAAAAAAAAAAAAAAAAAAAAAAAAAAAAAAAAAAAAAAAAAAAAAAAAAAAAAAAAAAAAAAAAAAAAAAAAAAAAAAAAAAAAAAAAAAAAAAAAAAAAAAAAAAAAAAAAAAAAAAAAAAAAAAAAAAAAAAAAAAAAAAAAAAAAAAAAAAAAAAAAAAAAAAAAAAAAAAAAAAAAAAAAAAAAAAAAAAAAAAAAAAAAAAAAAAAAAAAAAAAAAAAAAAAAAAAAAAAAAAAAAAAAAAAAAAAAAAAAAAAAAAAAAAAAAAAAAAAAAAAAAAAAAAAAAAAAAAAAAAAAAAAAAAAAAAAAAAAAAAAAAAAAAAAAAAAAAAAAAAAAAAAAAAAAAAAAAAAAAAAAAAAAAAAAAAAAAAAAAAAAAAAAAAAAAAAAAAAAAAAAAAAAAAAAAAAAAAAAAAAAAAAAAAAAAAAAAAAAAAAAAAAAAAAAAAAAAAAAAAAAAAAAAAAAAAAAAAAAAAAAAAAAAAAAAAAAAAAAAAAAAAAAAAAAAAAAAAAAAAAAAAAAAAAAAAAAAAAAAAAAAAAAAAAAAAAAAAAAAAAAAAAAAAAAAAAAAAAAAAAAAAAAAAAAAAAAAAAAAAAAAAAAAAAAAAAAAAAAAAAAAAAAAAAAAAAAAAAAAAAAAAAAAAAAAAAAAAAAAAAAAAAAAAAAAAAAAAAAAAAAAAAAAAAAAAAAAAAAAAAAAAAAAAAAAAAAAAAAAAAAAAAAAAAAAAAAAAAAAAAAAAAAAAAAAAAAAAAAAAAAAAAAAAAAAAAAAAAAAAAAAAAAAAAAAAAAAAAAAAAAAAAAAAAAAAAAAAAAAAAAAAAAAAAAAAAAAAAAAAAAAAAAAAAAAAAAAAAAAAAAAAAAAAAAAAAAAAAAAAAAAAAAAAAAAAAAAAAAAAAAAAAAAAAAAAAAAAAAAAAAAAAAAAAAAAAAAAAAAAAAAAAAAAAAAAAAAAAAAAAAAAAAAAAAAAAAAAAAAAAAAAAAAAAAAAAAAAAAAAAAAAAAAAAAAAAAAAAAAAAAAAAAAAAAAAAAAAAAAAAAAAAAAAAAAAAAAAAAAAAAAAAAAAAAAAAAAAAAAAAAAAAAAAAAAAAAAAAAAAAAAAAAAAAAAAAAAAAAAAAAAAAAAAAAAAAAAAAAAAAAAAAAAAAAAAAAAAAAAAAAAAAAAAAAAAAAAAAAAAAAAAAAAAAAAAAAAAAAAAAAAAAAAAAAAAAAAAAAAAAAAAAAAAAAAAAAAAAAAAAAAAAAAAAAAAAAAAAAAAAAAAAAAAAAAAAAAAAAAAAAAAAAAAAAAAAAAAAAAAAAAAAAAAAAAAAAAAAAAAAAAAAAAAAAAAAAAAAAAAAAAAAAAAAAAAAAAAAAAAAAAAAAAAAAAAAAAAAAAAAAAAAAAAAAAAAAAAAAAAAAAAAAAAAAAAAAAAAAAAAAAAAAAAAAAAAAAAAAAAAAAAAAAAAAAAAAAAAAAAAAAAAAAAAAAAAAAAAAAAAAAAAAAAAAAAAAAAAAAAAAAAAAAAAAAAAAAAAAAAAAAAAAAAAAAAAAAAAAAAAAAAAAAAAAAAAAAAAAAAAAAAAAAAAAAAAAAAAAAAAAAAAAAAAAAAAAAAAAAAAAAAAAAAAAAAAAAAAAAAAAAAAAAAAAAAAAAAAAAAAAAAAAAAAAAAAAAAAAAAAAAAAAAAAAAAAAAAAAAAAAAAAAAAAAAAAAAAAAAAAAAAAAAAAAAAAAAAAAAAAAAAAAAAAAAAAAAAAAAAAAAAAAAAAAAAAAAAAAAAAAAAAAAAAAAAAAAAAAAAAAAAAAAAAAAAAAAAAAAAAAAAAAAAAAAAAAAAAAAAAAAAAAAAAAAAAAAAAAAAAAAAAAAAAAAAAAAAAAAAAAAAAAAAAAAAAAAAAAAAAAAAAAAAAAAAAAAAAAAAAAAAAAAAAAAAAAAAAAAAAAAAAAAAAAAAAAAAAAAAAAAAAAAAAAAAAAAAAAAAAAAAAAAAAAAAAAAAAAAAAAAAAAAAAAAAAAAAAAAAAAAAAAAAAAAAAAAAAAAAAAAAAAAAAAAAAAAAAAAAAAAAAAAAAAAAAAAAAAAAAAAAAAAAAAAAAAAAAAAAAAAAAAAAAAAAAAAAAAAAAAAAAAAAAAAAAAAAAAAAAAAAAAAAAAAAAAAAAAAAAAAAAAAAAAAAAAAAAAAAAAAAAAAAAAAAAAAAAAAAAAAAAAAAAAAAAAAAAAAAAAAAAAAAAAAAAAAAAAAAAAAAAAAAAAAAAAAAAAAAAAAAAAAAAAAAAAAAAAAAAAAAAAAAAAAAAAAAAAAAAAAAAAAAAAAAAAAAAAAAAAAAAAAAAAAAAAAAAAAAAAAAAAAAAAAAAAAAAAAAAAAAAAAAAAAAAAAAAAAAAAAAAAAAAAAAAAAAAAAAAAAAAAAAAAAAAAAAAAAAAAAAAAAAAAAAAAAAAAAAAAAAAAAAAAAAAAAAAAAAAAAAAAAAAAAAAAAAAAAAAAAAAAAAAAAAAAAAAAAAAAAAAAAAAAAAAAAAAAAAAAAAAAAAAAAAAAAAAAAAAAAAAAAAAAAAAAAAAAAAAAAAAAAAAAAAAAAAAAAAAAAAAAAAAAAAAAAAAAAAAAAAAAAAAAAAAAAAAAAAAAAAAAAAAAAAAAAAAAAAAAAAAAAAAAAAAAAAAAAAAAAAAAAAAAAAAAAAAAAAAAAAAAAAAAAAAAAAAAAAAAAAAAAAAAAAAAAAAAAAAAAAAAAAAAAAAAAAAAAAAAAAAAAAAAAAAAAAAAAAAAAAAAAAAAAAAAAAAAAAAAAAAAAAAAAAAAAAAAAAAAAAAAAAAAAAAAAAAAAAAAAAAAAAAAAAAAAAAAAAAAAAAAAAAAAAAAAAAAAAAAAAAAAAAAAAAAAAAAAAAAAAAAAAAAAAAAAAAAAAAAAAAAAAAAAAAAAAAAAAAAAAAAAAAAAAAAAAAAAAAAAAAAAAAAAAAAAAAAAAAAAAAAAAAAAAAAAAAAAAAAAAAAAAAAAAAAAAAAAAAAAAAAAAAAAAAAAAAAAAAAAAAAAAAAAAAAAAAAAAAAAAAAAAAAAAAAAAAAAAAAAAAAAAAAAAAAAAAAAAAAAAAAAAAAAAAAAAAAAAAAAAAAAAAAAAAAAAAAAAAAAAAAAAAAAAAAAAAAAAAAAAAAAAAAAAAAAAAAAAAAAAAAAAAAAAAAAAAAAAAAAAAAAAAAAAAAAAAAAAAAAAAAAAAAAAAAAAAAAAAAAAAAAAAAAAAAAAAAAAAAAAAAAAAAAAAAAAAAAAAAAAAAAAAAAAAAAAAAAAAAAAAAAAAAAAAAAAAAAAAAAAAAAAAAAAAAAAAAAAAAAAAAAAAAAAAAAAAAAAAAAAAAAAAAAAAAAAAAAAAAAAAAAAAAAAAAAAAAAAAAAAAAAAAAAAAAAAAAAAAAAAAAAAAAAAAAAAAAAAAAAAAAAAAAAAAAAAAAAAAAAAAAAAAAAAAAAAAAAAAAAAAAAAAAAAAAAAAAAAAAAAAAAAAAAAAAAAAAAAAAAAAAAAAAAAAAAAAAAAAAAAAAAAAAAAAAAAAAAAAAAAAAAAAAAAAAAAAAAAAAAAAAAAAAAAAAAAAAAAAAAAAAAAAAAAAAAAAAAAAAAAAAAAAAAAAAAAAAAAAAAAAAAAAAAAAAAAAAAAAAAAAAAAAAAAAAAAAAAAAAAAAAAAAAAAAAAAAAAAAAAAAAAAAAAAAAAAAAAAAAAAAAAAAAAAAAAAAAAAAAAAAAAAAAAAAAAAAAAAAAAAAAAAAAAAAAAAAAAAAAAAAAAAAAAAAAAAAAAAAAAAAAAAAAAAAAAAAAAAAAAAAAAAAAAAAAAAAAAAAAAAAAAAAAAAAAAAAAAAAAAAAAAAAAAAAAAAAAAAAAAAAAAAAAAAAAAAAAAAAAAAAAAAAAAAAAAAAAAAAAAAAAAAAAAAAAAAAAAAAAAAAAAAAAAAAAAAAAAAAAAAAAAAAAAAAAAAAAAAAAAAAAAAAAAAAAAAAAAAAAAAAAAAAAAAAAAAAAAAAAAAAAAAAAAAAAAAAAAAAAAAAAAAAAAAAAAAAAAAAAAAAAAAAAAAAAAAAAAAAAAAAAAAAAAAAAAAAAAAAAAAAAAAAAAAAAAAAAAAAAAAAAAAAAAAAAAAAAAAAAAAAAAAAAAAAAAAAAAAAAAAAAAAAAAAAAAAAAAAAAAAAAAAAAAAAAAAAAAAAAAAAAAAAAAAAAAAAAAAAAAAAAAAAAAAAAAAAAAAAAAAAAAAAD///7/AAAAAAAA///8//7/AAAAAAEA///9/wAA+////////v8AAPz//P///////v8AAPv///////7////9/wAA+////////v////7////+/wAA+//+/////f////7/AAD8//z//P/9//3//f/8///////9/wAA+////////v8AAP7/AAAAAAAAAAAAAAAAAAAAAAAAAAAAAAAAAAAAAAAAAAA=\" type=\"audio/wav\" />\n",
              "                    Your browser does not support the audio element.\n",
              "                </audio>\n",
              "              "
            ]
          },
          "metadata": {},
          "execution_count": 30
        }
      ]
    },
    {
      "cell_type": "markdown",
      "metadata": {
        "id": "gY8m3vARHYTa"
      },
      "source": [
        "It seems like the data is now correctly loaded and resampled."
      ]
    },
    {
      "cell_type": "markdown",
      "metadata": {
        "id": "1MaL9J2dNVtG"
      },
      "source": [
        "It can be heard, that the speakers change along with their speaking rate, accent, and background environment, etc. Overall, the recordings sound acceptably clear though, which is to be expected from a crowd-sourced read speech corpus.\n",
        "\n",
        "Let's do a final check that the data is correctly prepared, by printing the shape of the speech input, its transcription, and the corresponding sampling rate.\n",
        "\n",
        "**Note**: *You can click the following cell a couple of times to verify multiple samples.*"
      ]
    },
    {
      "cell_type": "code",
      "metadata": {
        "colab": {
          "base_uri": "https://localhost:8080/"
        },
        "id": "1Po2g7YPuRTx",
        "outputId": "9ec3b8ab-a08a-4728-bd5d-86bed5415947"
      },
      "source": [
        "rand_int = random.randint(0, len(common_voice_train)-1)\n",
        "\n",
        "print(\"Target text:\", common_voice_train[rand_int][\"sentence\"])\n",
        "print(\"Input array shape:\", common_voice_train[rand_int][\"audio\"][\"array\"].shape)\n",
        "print(\"Sampling rate:\", common_voice_train[rand_int][\"audio\"][\"sampling_rate\"])"
      ],
      "execution_count": null,
      "outputs": [
        {
          "output_type": "stream",
          "name": "stdout",
          "text": [
            "Target text: bağış anlaşması bir ağustosta imzalandı\n",
            "Input array shape: (70656,)\n",
            "Sampling rate: 16000\n"
          ]
        }
      ]
    },
    {
      "cell_type": "markdown",
      "metadata": {
        "id": "M9teZcSwOBJ4"
      },
      "source": [
        "Good! Everything looks fine - the data is a 1-dimensional array, the sampling rate always corresponds to 16kHz, and the target text is normalized."
      ]
    },
    {
      "cell_type": "markdown",
      "metadata": {
        "id": "k3Pbn5WvOYZF"
      },
      "source": [
        "Finally, we can leverage `Wav2Vec2Processor` to process the data to the format expected by `Wav2Vec2ForCTC` for training. To do so let's make use of Dataset's [`map(...)`](https://huggingface.co/docs/datasets/package_reference/main_classes.html?highlight=map#datasets.DatasetDict.map) function.\n",
        "\n",
        "First, we load and resample the audio data, simply by calling `batch[\"audio\"]`.\n",
        "Second, we extract the `input_values` from the loaded audio file. In our case, the `Wav2Vec2Processor` only normalizes the data. For other speech models, however, this step can include more complex feature extraction, such as [Log-Mel feature extraction](https://en.wikipedia.org/wiki/Mel-frequency_cepstrum).\n",
        "Third, we encode the transcriptions to label ids.\n",
        "\n",
        "**Note**: This mapping function is a good example of how the `Wav2Vec2Processor` class should be used. In \"normal\" context, calling `processor(...)` is redirected to `Wav2Vec2FeatureExtractor`'s call method. When wrapping the processor into the `as_target_processor` context, however, the same method is redirected to `Wav2Vec2CTCTokenizer`'s call method.\n",
        "For more information please check the [docs](https://huggingface.co/transformers/master/model_doc/wav2vec2.html#transformers.Wav2Vec2Processor.__call__)."
      ]
    },
    {
      "cell_type": "code",
      "metadata": {
        "id": "eJY7I0XAwe9p"
      },
      "source": [
        "def prepare_dataset(batch):\n",
        "    audio = batch[\"audio\"]\n",
        "\n",
        "    # batched output is \"un-batched\"\n",
        "    batch[\"input_values\"] = processor(audio[\"array\"], sampling_rate=audio[\"sampling_rate\"]).input_values[0]\n",
        "    batch[\"input_length\"] = len(batch[\"input_values\"])\n",
        "\n",
        "    with processor.as_target_processor():\n",
        "        batch[\"labels\"] = processor(batch[\"sentence\"]).input_ids\n",
        "    return batch"
      ],
      "execution_count": null,
      "outputs": []
    },
    {
      "cell_type": "markdown",
      "metadata": {
        "id": "q6Pg_WR3OGAP"
      },
      "source": [
        "Let's apply the data preparation function to all examples."
      ]
    },
    {
      "cell_type": "code",
      "metadata": {
        "colab": {
          "base_uri": "https://localhost:8080/"
        },
        "id": "-np9xYK-wl8q",
        "outputId": "c83dee4f-c8a4-46a3-b1fe-7a4549696661"
      },
      "source": [
        "common_voice_train = common_voice_train.map(prepare_dataset, remove_columns=common_voice_train.column_names)\n",
        "common_voice_test = common_voice_test.map(prepare_dataset, remove_columns=common_voice_test.column_names)"
      ],
      "execution_count": null,
      "outputs": [
        {
          "output_type": "stream",
          "name": "stderr",
          "text": [
            "WARNING:datasets.arrow_dataset:Loading cached processed dataset at /root/.cache/huggingface/datasets/mozilla-foundation___common_voice_6_1/tr/6.1.0/f4d7854c466f5bd4908988dbd39044ec4fc634d89e0515ab0c51715c0127ffe3/cache-e0532488cf9a90ad.arrow\n",
            "WARNING:datasets.arrow_dataset:Loading cached processed dataset at /root/.cache/huggingface/datasets/mozilla-foundation___common_voice_6_1/tr/6.1.0/f4d7854c466f5bd4908988dbd39044ec4fc634d89e0515ab0c51715c0127ffe3/cache-5d698dd494fcefc9.arrow\n"
          ]
        }
      ]
    },
    {
      "cell_type": "markdown",
      "metadata": {
        "id": "nKcEWHvKI1by"
      },
      "source": [
        "**Note**: `datasets` automatically takes care of audio loading and resampling. If you wish to implement your own costumized data loading/sampling, feel free to just make use of the `\"path\"` column instead and disregard the `\"audio\"` column."
      ]
    },
    {
      "cell_type": "markdown",
      "metadata": {
        "id": "1ZWDCCKqwcfS"
      },
      "source": [
        "Awesome, now we are ready to start training!"
      ]
    },
    {
      "cell_type": "markdown",
      "metadata": {
        "id": "gYlQkKVoRUos"
      },
      "source": [
        "## Training\n",
        "\n",
        "The data is processed so that we are ready to start setting up the training pipeline. We will make use of 🤗's [Trainer](https://huggingface.co/transformers/master/main_classes/trainer.html?highlight=trainer) for which we essentially need to do the following:\n",
        "\n",
        "- Define a data collator. In contrast to most NLP models, MMS has a much larger input length than output length. *E.g.*, a sample of input length 50000 has an output length of no more than 100. Given the large input sizes, it is much more efficient to pad the training batches dynamically meaning that all training samples should only be padded to the longest sample in their batch and not the overall longest sample. Therefore, fine-tuning MMS requires a special padding data collator, which we will define below\n",
        "\n",
        "- Evaluation metric. During training, the model should be evaluated on the word error rate. We should define a `compute_metrics` function accordingly\n",
        "\n",
        "- Load a pretrained checkpoint. We need to load a pretrained checkpoint and configure it correctly for training.\n",
        "\n",
        "- Define the training configuration.\n",
        "\n",
        "After having fine-tuned the model, we will correctly evaluate it on the test data and verify that it has indeed learned to correctly transcribe speech."
      ]
    },
    {
      "cell_type": "markdown",
      "metadata": {
        "id": "Slk403unUS91"
      },
      "source": [
        "### Set-up Trainer\n",
        "\n",
        "Let's start by defining the data collator. The code for the data collator was copied from [this example](https://github.com/huggingface/transformers/blob/7e61d56a45c19284cfda0cee8995fb552f6b1f4e/examples/pytorch/speech-recognition/run_speech_recognition_ctc.py#L219).\n",
        "\n",
        "Without going into too many details, in contrast to the common data collators, this data collator treats the `input_values` and `labels` differently and thus applies to separate padding functions on them (again making use of MMS processor's context manager). This is necessary because in speech input and output are of different modalities meaning that they should not be treated by the same padding function.\n",
        "Analogous to the common data collators, the padding tokens in the labels with `-100` so that those tokens are **not** taken into account when computing the loss."
      ]
    },
    {
      "cell_type": "code",
      "metadata": {
        "id": "tborvC9hx88e"
      },
      "source": [
        "import torch\n",
        "\n",
        "from dataclasses import dataclass, field\n",
        "from typing import Any, Dict, List, Optional, Union\n",
        "\n",
        "@dataclass\n",
        "class DataCollatorCTCWithPadding:\n",
        "    \"\"\"\n",
        "    Data collator that will dynamically pad the inputs received.\n",
        "    Args:\n",
        "        processor (:class:`~transformers.Wav2Vec2Processor`)\n",
        "            The processor used for proccessing the data.\n",
        "        padding (:obj:`bool`, :obj:`str` or :class:`~transformers.tokenization_utils_base.PaddingStrategy`, `optional`, defaults to :obj:`True`):\n",
        "            Select a strategy to pad the returned sequences (according to the model's padding side and padding index)\n",
        "            among:\n",
        "            * :obj:`True` or :obj:`'longest'`: Pad to the longest sequence in the batch (or no padding if only a single\n",
        "              sequence if provided).\n",
        "            * :obj:`'max_length'`: Pad to a maximum length specified with the argument :obj:`max_length` or to the\n",
        "              maximum acceptable input length for the model if that argument is not provided.\n",
        "            * :obj:`False` or :obj:`'do_not_pad'` (default): No padding (i.e., can output a batch with sequences of\n",
        "              different lengths).\n",
        "    \"\"\"\n",
        "\n",
        "    processor: Wav2Vec2Processor\n",
        "    padding: Union[bool, str] = True\n",
        "\n",
        "    def __call__(self, features: List[Dict[str, Union[List[int], torch.Tensor]]]) -> Dict[str, torch.Tensor]:\n",
        "        # split inputs and labels since they have to be of different lenghts and need\n",
        "        # different padding methods\n",
        "        input_features = [{\"input_values\": feature[\"input_values\"]} for feature in features]\n",
        "        label_features = [{\"input_ids\": feature[\"labels\"]} for feature in features]\n",
        "\n",
        "        batch = self.processor.pad(\n",
        "            input_features,\n",
        "            padding=self.padding,\n",
        "            return_tensors=\"pt\",\n",
        "        )\n",
        "        with self.processor.as_target_processor():\n",
        "            labels_batch = self.processor.pad(\n",
        "                label_features,\n",
        "                padding=self.padding,\n",
        "                return_tensors=\"pt\",\n",
        "            )\n",
        "\n",
        "        # replace padding with -100 to ignore loss correctly\n",
        "        labels = labels_batch[\"input_ids\"].masked_fill(labels_batch.attention_mask.ne(1), -100)\n",
        "\n",
        "        batch[\"labels\"] = labels\n",
        "\n",
        "        return batch"
      ],
      "execution_count": null,
      "outputs": []
    },
    {
      "cell_type": "code",
      "metadata": {
        "id": "lbQf5GuZyQ4_"
      },
      "source": [
        "data_collator = DataCollatorCTCWithPadding(processor=processor, padding=True)"
      ],
      "execution_count": null,
      "outputs": []
    },
    {
      "cell_type": "markdown",
      "metadata": {
        "id": "xO-Zdj-5cxXp"
      },
      "source": [
        "Next, the evaluation metric is defined. As mentioned earlier, the\n",
        "predominant metric in ASR is the word error rate (WER), hence we will use it in this notebook as well."
      ]
    },
    {
      "cell_type": "code",
      "metadata": {
        "id": "9Xsux2gmyXso"
      },
      "source": [
        "from evaluate import load\n",
        "\n",
        "wer_metric = load(\"wer\")"
      ],
      "execution_count": null,
      "outputs": []
    },
    {
      "cell_type": "markdown",
      "metadata": {
        "id": "E1qZU5p-deqB"
      },
      "source": [
        "The model will return a sequence of logit vectors:\n",
        "$\\mathbf{y}_1, \\ldots, \\mathbf{y}_m$ with $\\mathbf{y}_1 = f_{\\theta}(x_1, \\ldots, x_n)[0]$ and $n >> m$.\n",
        "\n",
        "A logit vector $\\mathbf{y}_1$ contains the log-odds for each word in the vocabulary we defined earlier, thus $\\text{len}(\\mathbf{y}_i) =$ `config.vocab_size`. We are interested in the most likely prediction of the model and thus take the `argmax(...)` of the logits. Also, we transform the encoded labels back to the original string by replacing `-100` with the `pad_token_id` and decoding the ids while making sure that consecutive tokens are **not** grouped to the same token in CTC style ${}^1$."
      ]
    },
    {
      "cell_type": "code",
      "metadata": {
        "id": "1XZ-kjweyTy_"
      },
      "source": [
        "def compute_metrics(pred):\n",
        "    pred_logits = pred.predictions\n",
        "    pred_ids = np.argmax(pred_logits, axis=-1)\n",
        "\n",
        "    pred.label_ids[pred.label_ids == -100] = processor.tokenizer.pad_token_id\n",
        "\n",
        "    pred_str = processor.batch_decode(pred_ids)\n",
        "    # we do not want to group tokens when computing the metrics\n",
        "    label_str = processor.batch_decode(pred.label_ids, group_tokens=False)\n",
        "\n",
        "    wer = wer_metric.compute(predictions=pred_str, references=label_str)\n",
        "\n",
        "    return {\"wer\": wer}"
      ],
      "execution_count": null,
      "outputs": []
    },
    {
      "cell_type": "markdown",
      "metadata": {
        "id": "Xmgrx4bRwLIH"
      },
      "source": [
        "Now, we can load the pretrained checkpoint of [`mms-1b-all`](https://huggingface.co/facebook/mms-1b-all). The tokenizer's `pad_token_id` must be to define the model's `pad_token_id` or in the case of `Wav2Vec2ForCTC` also CTC's *blank token* ${}^2$.\n",
        "\n",
        "Since, we're only training a small subset of weights, the model is not prone to overfitting. Therefore, we make sure to disable all dropout layers.\n",
        "\n",
        "**Note**: When using this notebook to train MMS on another language of Common Voice those hyper-parameter settings might not work very well. Feel free to adapt those depending on your use case."
      ]
    },
    {
      "cell_type": "code",
      "metadata": {
        "colab": {
          "base_uri": "https://localhost:8080/"
        },
        "id": "e7cqAWIayn6w",
        "outputId": "00cda0d9-f696-428c-dd47-b66efb3489cb"
      },
      "source": [
        "from transformers import Wav2Vec2ForCTC\n",
        "\n",
        "model = Wav2Vec2ForCTC.from_pretrained(\n",
        "    \"facebook/mms-1b-all\",\n",
        "    attention_dropout=0.0,\n",
        "    hidden_dropout=0.0,\n",
        "    feat_proj_dropout=0.0,\n",
        "    layerdrop=0.0,\n",
        "    ctc_loss_reduction=\"mean\",\n",
        "    pad_token_id=processor.tokenizer.pad_token_id,\n",
        "    vocab_size=len(processor.tokenizer),\n",
        "    ignore_mismatched_sizes=True,\n",
        ")"
      ],
      "execution_count": null,
      "outputs": [
        {
          "output_type": "stream",
          "name": "stderr",
          "text": [
            "Some weights of Wav2Vec2ForCTC were not initialized from the model checkpoint at facebook/mms-1b-all and are newly initialized because the shapes did not match:\n",
            "- lm_head.bias: found shape torch.Size([154]) in the checkpoint and torch.Size([39]) in the model instantiated\n",
            "- lm_head.weight: found shape torch.Size([154, 1280]) in the checkpoint and torch.Size([39, 1280]) in the model instantiated\n",
            "You should probably TRAIN this model on a down-stream task to be able to use it for predictions and inference.\n"
          ]
        }
      ]
    },
    {
      "cell_type": "markdown",
      "metadata": {
        "id": "1DwR3XLSzGDD"
      },
      "source": [
        "We now want to make sure that only the adapter weights will be trained and that the rest of the model stays frozen.\n",
        "\n",
        "First, we re-initialize all the adapter weights which can be done with the handy `init_adapter_layers` method. It is also possible to not re-initilize the adapter weights and continue fine-tuning, but in this case one should make sure to load fitting adapter weights via the [`load_adapter(...)` method](https://huggingface.co/docs/transformers/main/en/model_doc/wav2vec2#transformers.Wav2Vec2ForCTC.load_adapter) before training. Often the vocabulary still will not match the custom training data very well though, so it's usually easier to just re-initialize all adapter layers so that they can be easily fine-tuned."
      ]
    },
    {
      "cell_type": "code",
      "source": [
        "model.init_adapter_layers()"
      ],
      "metadata": {
        "id": "3LcbD4PGP6CG"
      },
      "execution_count": null,
      "outputs": []
    },
    {
      "cell_type": "markdown",
      "source": [
        "Next, we freeze all weights, **but** the adapter layers."
      ],
      "metadata": {
        "id": "xl8Y-njRQgrs"
      }
    },
    {
      "cell_type": "code",
      "metadata": {
        "id": "oGI8zObtZ3V0"
      },
      "source": [
        "model.freeze_base_model()\n",
        "\n",
        "adapter_weights = model._get_adapters()\n",
        "for param in adapter_weights.values():\n",
        "    param.requires_grad = True"
      ],
      "execution_count": null,
      "outputs": []
    },
    {
      "cell_type": "markdown",
      "metadata": {
        "id": "lD4aGhQM0K-D"
      },
      "source": [
        "In a final step, we define all parameters related to training.\n",
        "To give more explanation on some of the parameters:\n",
        "- `group_by_length` makes training more efficient by grouping training samples of similar input length into one batch. This can significantly speed up training time by heavily reducing the overall number of useless padding tokens that are passed through the model\n",
        "- `learning_rate` was chosen to be 1e-3 which is a common default value for training with Adam. Other learning rates might work equally well.\n",
        "\n",
        "For more explanations on other parameters, one can take a look at the [docs](https://huggingface.co/transformers/master/main_classes/trainer.html?highlight=trainer#trainingarguments).\n",
        "\n",
        " To save GPU memory, we enable PyTorch's [gradient checkpointing](https://pytorch.org/docs/stable/checkpoint.html) and also set the loss reduction to \"*mean*\".\n",
        "\n",
        " MMS adapter fine-tuning converges extremely fast to very good performance, so even for a dataset as small as 4h we will only train for 4 epochs. Training should\n",
        "\n",
        "During training, a checkpoint will be uploaded asynchronously to the hub every 200 training steps. It allows you to also play around with the demo widget even while your model is still training.\n",
        "\n",
        "**Note**: If one does not want to upload the model checkpoints to the hub, simply set `push_to_hub=False`."
      ]
    },
    {
      "cell_type": "code",
      "source": [
        "from transformers import TrainingArguments\n",
        "\n",
        "training_args = TrainingArguments(\n",
        "  output_dir=repo_name,\n",
        "  group_by_length=True,\n",
        "  per_device_train_batch_size=32,\n",
        "  evaluation_strategy=\"steps\",\n",
        "  num_train_epochs=4,\n",
        "  gradient_checkpointing=True,\n",
        "  fp16=True,\n",
        "  save_steps=200,\n",
        "  eval_steps=100,\n",
        "  logging_steps=100,\n",
        "  learning_rate=1e-3,\n",
        "  warmup_steps=100,\n",
        "  save_total_limit=2,\n",
        "  push_to_hub=True,\n",
        ")"
      ],
      "metadata": {
        "id": "Yg0mnd1lR7SC"
      },
      "execution_count": null,
      "outputs": []
    },
    {
      "cell_type": "markdown",
      "metadata": {
        "id": "OsW-WZcL1ZtN"
      },
      "source": [
        "Now, all instances can be passed to Trainer and we are ready to start training!"
      ]
    },
    {
      "cell_type": "code",
      "metadata": {
        "colab": {
          "base_uri": "https://localhost:8080/"
        },
        "id": "rY7vBmFCPFgC",
        "outputId": "665e7b9b-e12f-4de2-e01d-cf86aa71c620"
      },
      "source": [
        "from transformers import Trainer\n",
        "\n",
        "trainer = Trainer(\n",
        "    model=model,\n",
        "    data_collator=data_collator,\n",
        "    args=training_args,\n",
        "    compute_metrics=compute_metrics,\n",
        "    train_dataset=common_voice_train,\n",
        "    eval_dataset=common_voice_test,\n",
        "    tokenizer=processor.feature_extractor,\n",
        ")"
      ],
      "execution_count": null,
      "outputs": [
        {
          "output_type": "stream",
          "name": "stderr",
          "text": [
            "/content/wav2vec2-large-mms-1b-turkish-colab is already a clone of https://huggingface.co/patrickvonplaten/wav2vec2-large-mms-1b-turkish-colab. Make sure you pull the latest changes with `repo.git_pull()`.\n",
            "WARNING:huggingface_hub.repository:/content/wav2vec2-large-mms-1b-turkish-colab is already a clone of https://huggingface.co/patrickvonplaten/wav2vec2-large-mms-1b-turkish-colab. Make sure you pull the latest changes with `repo.git_pull()`.\n"
          ]
        }
      ]
    },
    {
      "cell_type": "markdown",
      "metadata": {
        "id": "UoXBx1JAA0DX"
      },
      "source": [
        "\n",
        "\n",
        "---\n",
        "\n",
        "${}^1$ To allow models to become independent of the speaker rate, in CTC, consecutive tokens that are identical are simply grouped as a single token. However, the encoded labels should not be grouped when decoding since they don't correspond to the predicted tokens of the model, which is why the `group_tokens=False` parameter has to be passed. If we wouldn't pass this parameter a word like `\"hello\"` would incorrectly be encoded, and decoded as `\"helo\"`.\n",
        "\n",
        "${}^2$ The blank token allows the model to predict a word, such as `\"hello\"` by forcing it to insert the blank token between the two l's. A CTC-conform prediction of `\"hello\"` of our model would be `[PAD] [PAD] \"h\" \"e\" \"e\" \"l\" \"l\" [PAD] \"l\" \"o\" \"o\" [PAD]`."
      ]
    },
    {
      "cell_type": "markdown",
      "metadata": {
        "id": "rpvZHM1xReIW"
      },
      "source": [
        "### Training"
      ]
    },
    {
      "cell_type": "markdown",
      "metadata": {
        "id": "j-3oKSzZ1hGq"
      },
      "source": [
        "Training should take less than 30 minutes depending on the GPU allocated to this notebook.\n",
        "\n",
        "In case you want to use this google colab to fine-tune your model, you should make sure that your training doesn't stop due to inactivity. A simple hack to prevent this is to paste the following code into the console of this tab (*right mouse click -> inspect -> Console tab and insert code*)."
      ]
    },
    {
      "cell_type": "markdown",
      "metadata": {
        "id": "VYYAvgkW4P0m"
      },
      "source": [
        "```javascript\n",
        "function ConnectButton(){\n",
        "    console.log(\"Connect pushed\");\n",
        "    document.querySelector(\"#top-toolbar > colab-connect-button\").shadowRoot.querySelector(\"#connect\").click()\n",
        "}\n",
        "setInterval(ConnectButton,60000);\n",
        "```"
      ]
    },
    {
      "cell_type": "markdown",
      "metadata": {
        "id": "7bGgLV2r0yvZ"
      },
      "source": [
        "Cool, let's start training!"
      ]
    },
    {
      "cell_type": "code",
      "metadata": {
        "colab": {
          "base_uri": "https://localhost:8080/",
          "height": 394
        },
        "id": "9fRr9TG5pGBl",
        "outputId": "e7f9a74e-9315-43e0-b82e-ce3e06daed8e"
      },
      "source": [
        "trainer.train()"
      ],
      "execution_count": null,
      "outputs": [
        {
          "output_type": "stream",
          "name": "stderr",
          "text": [
            "/usr/local/lib/python3.10/dist-packages/transformers/optimization.py:411: FutureWarning: This implementation of AdamW is deprecated and will be removed in a future version. Use the PyTorch implementation torch.optim.AdamW instead, or set `no_deprecation_warning=True` to disable this warning\n",
            "  warnings.warn(\n",
            "/usr/local/lib/python3.10/dist-packages/transformers/models/wav2vec2/processing_wav2vec2.py:155: UserWarning: `as_target_processor` is deprecated and will be removed in v5 of Transformers. You can process your labels by using the argument `text` of the regular `__call__` method (either in the same call as your audio inputs, or in a separate call.\n",
            "  warnings.warn(\n"
          ]
        },
        {
          "output_type": "display_data",
          "data": {
            "text/plain": [
              "<IPython.core.display.HTML object>"
            ],
            "text/html": [
              "\n",
              "    <div>\n",
              "      \n",
              "      <progress value='436' max='436' style='width:300px; height:20px; vertical-align: middle;'></progress>\n",
              "      [436/436 23:29, Epoch 4/4]\n",
              "    </div>\n",
              "    <table border=\"1\" class=\"dataframe\">\n",
              "  <thead>\n",
              " <tr style=\"text-align: left;\">\n",
              "      <th>Step</th>\n",
              "      <th>Training Loss</th>\n",
              "      <th>Validation Loss</th>\n",
              "      <th>Wer</th>\n",
              "    </tr>\n",
              "  </thead>\n",
              "  <tbody>\n",
              "    <tr>\n",
              "      <td>100</td>\n",
              "      <td>4.905000</td>\n",
              "      <td>0.214617</td>\n",
              "      <td>0.279645</td>\n",
              "    </tr>\n",
              "    <tr>\n",
              "      <td>200</td>\n",
              "      <td>0.290100</td>\n",
              "      <td>0.167282</td>\n",
              "      <td>0.231743</td>\n",
              "    </tr>\n",
              "    <tr>\n",
              "      <td>300</td>\n",
              "      <td>0.265900</td>\n",
              "      <td>0.160750</td>\n",
              "      <td>0.229292</td>\n",
              "    </tr>\n",
              "    <tr>\n",
              "      <td>400</td>\n",
              "      <td>0.239800</td>\n",
              "      <td>0.155632</td>\n",
              "      <td>0.222756</td>\n",
              "    </tr>\n",
              "  </tbody>\n",
              "</table><p>"
            ]
          },
          "metadata": {}
        },
        {
          "output_type": "stream",
          "name": "stderr",
          "text": [
            "/usr/local/lib/python3.10/dist-packages/transformers/models/wav2vec2/processing_wav2vec2.py:155: UserWarning: `as_target_processor` is deprecated and will be removed in v5 of Transformers. You can process your labels by using the argument `text` of the regular `__call__` method (either in the same call as your audio inputs, or in a separate call.\n",
            "  warnings.warn(\n",
            "/usr/local/lib/python3.10/dist-packages/transformers/models/wav2vec2/processing_wav2vec2.py:155: UserWarning: `as_target_processor` is deprecated and will be removed in v5 of Transformers. You can process your labels by using the argument `text` of the regular `__call__` method (either in the same call as your audio inputs, or in a separate call.\n",
            "  warnings.warn(\n"
          ]
        },
        {
          "output_type": "execute_result",
          "data": {
            "text/plain": [
              "TrainOutput(global_step=436, training_loss=1.3289124353216328, metrics={'train_runtime': 1414.9121, 'train_samples_per_second': 9.832, 'train_steps_per_second': 0.308, 'total_flos': 5.380615123975965e+18, 'train_loss': 1.3289124353216328, 'epoch': 4.0})"
            ]
          },
          "metadata": {},
          "execution_count": 51
        }
      ]
    },
    {
      "cell_type": "markdown",
      "metadata": {
        "id": "a9q4mgMZplr_"
      },
      "source": [
        "The training loss and validation WER go down nicely.\n",
        "\n",
        "**Note:** Fine-tuning adapter layers of `mms-1b-all` for just 100 steps outperforms fine-tuning the whole `xls-r-300m` checkpoint shown [here](https://huggingface.co/blog/fine-tune-xlsr-wav2vec2#training-1) already by a large margin."
      ]
    },
    {
      "cell_type": "markdown",
      "metadata": {
        "id": "4Ya7WEy0pd13"
      },
      "source": [
        "The adapter weights will be uploaded as part of the model checkpoint, but we also want to make sure to save them seperately so that they can easily be off- and onloaded.\n",
        "\n",
        "Let's save all the adapter layers into the training output dir so that it can be correctly uploaded to the Hub."
      ]
    },
    {
      "cell_type": "code",
      "source": [
        "from safetensors.torch import save_file as safe_save_file\n",
        "from transformers.models.wav2vec2.modeling_wav2vec2 import WAV2VEC2_ADAPTER_SAFE_FILE\n",
        "import os\n",
        "\n",
        "adapter_file = WAV2VEC2_ADAPTER_SAFE_FILE.format(target_lang)\n",
        "adapter_file = os.path.join(training_args.output_dir, adapter_file)\n",
        "\n",
        "safe_save_file(model._get_adapters(), adapter_file, metadata={\"format\": \"pt\"})"
      ],
      "metadata": {
        "id": "cMI_Q7DGdIgY"
      },
      "execution_count": null,
      "outputs": []
    },
    {
      "cell_type": "markdown",
      "source": [
        "Finally, you can upload the result of the training to the 🤗 Hub."
      ],
      "metadata": {
        "id": "uRgIquiPdkKv"
      }
    },
    {
      "cell_type": "code",
      "metadata": {
        "colab": {
          "referenced_widgets": [
            "65c958c4c1844281811e0e5d7e8e9fd3",
            "dce44d11b31d4229b448f65662594982",
            "cd90d6771efc48d79cfc4f594d91208f",
            "6fadd6717fa04055bf605d9d694b73fe",
            "48e0fc104e264bf7918d5578a3295bcb",
            "7f0457a3b99d4059b94cf69d91678196",
            "bb816b65e82a48739dfe2c1b091f0733",
            "075168d689814e3c9324799e2e3ac369",
            "c67efee8d8aa4135941cdf7968acc10c",
            "6d77a288a2de4cdc9a3b4cd7736abb13",
            "bb967889e66c463f8b786cebeb6c857a",
            "5b2de085305c49c390ed809327ed3e66",
            "535dce35c677461499f51a56917b2ca1",
            "645eefcce91740858e5c7760b53b1956",
            "f535278f5f9744b8b2e1fb0f4badd038",
            "1afd33a794d44bec84ae3234ed5eea3c",
            "d04e6a48d4004f8dbf7eed2f65804068",
            "a44672d0b6af4a95ab3b7c968f34e949",
            "2cdac7f427b447bb8bba0da29e7a2975",
            "203108773a5d4af3bcdb3b006f732a0e",
            "3f013282b7ff4602bac9fedf28d1d269",
            "18b046abf065480e846fa2b39c3bbd5f",
            "7ea22e5289494470be642de0540bfdc1",
            "38b8665eb12c486c88515db3127fc8cc",
            "dc5d3eaea73947ebaa33bd9c723515a6",
            "dda4ca3df5044f428d96676cb3cd4925",
            "d1b0c64575e948b7946ffed6b06f669a",
            "203d9f5da3ee4879bae2106f8ad9e22b",
            "f16a3d79b46d431db96bda00a809d6c0",
            "f4582655e54e47ce8970a75e07afe168",
            "9473f86a2a164b5cb00f1f844b239834",
            "f2b861e9f3d248e3a8b32ac76abc77e2",
            "f8d7af17d4214109b1364facb035d7ee"
          ],
          "base_uri": "https://localhost:8080/",
          "height": 340
        },
        "id": "ArG1Thf6NBWm",
        "outputId": "3d618123-7190-4b7b-8a39-aafdc5faba89"
      },
      "source": [
        "trainer.push_to_hub()"
      ],
      "execution_count": null,
      "outputs": [
        {
          "output_type": "display_data",
          "data": {
            "text/plain": [
              "Upload file pytorch_model.bin:   0%|          | 1.00/3.59G [00:00<?, ?B/s]"
            ],
            "application/vnd.jupyter.widget-view+json": {
              "version_major": 2,
              "version_minor": 0,
              "model_id": "65c958c4c1844281811e0e5d7e8e9fd3"
            }
          },
          "metadata": {}
        },
        {
          "output_type": "display_data",
          "data": {
            "text/plain": [
              "Upload file adapter.tur.safetensors:   0%|          | 1.00/8.43M [00:00<?, ?B/s]"
            ],
            "application/vnd.jupyter.widget-view+json": {
              "version_major": 2,
              "version_minor": 0,
              "model_id": "5b2de085305c49c390ed809327ed3e66"
            }
          },
          "metadata": {}
        },
        {
          "output_type": "display_data",
          "data": {
            "text/plain": [
              "Upload file runs/Jun19_11-16-23_f81f905e2ebb/events.out.tfevents.1687173484.f81f905e2ebb.12254.1:   0%|       …"
            ],
            "application/vnd.jupyter.widget-view+json": {
              "version_major": 2,
              "version_minor": 0,
              "model_id": "7ea22e5289494470be642de0540bfdc1"
            }
          },
          "metadata": {}
        },
        {
          "output_type": "stream",
          "name": "stderr",
          "text": [
            "To https://huggingface.co/patrickvonplaten/wav2vec2-large-mms-1b-turkish-colab\n",
            "   2f55d08..04cd7c5  main -> main\n",
            "\n",
            "WARNING:huggingface_hub.repository:To https://huggingface.co/patrickvonplaten/wav2vec2-large-mms-1b-turkish-colab\n",
            "   2f55d08..04cd7c5  main -> main\n",
            "\n",
            "To https://huggingface.co/patrickvonplaten/wav2vec2-large-mms-1b-turkish-colab\n",
            "   04cd7c5..928b085  main -> main\n",
            "\n",
            "WARNING:huggingface_hub.repository:To https://huggingface.co/patrickvonplaten/wav2vec2-large-mms-1b-turkish-colab\n",
            "   04cd7c5..928b085  main -> main\n",
            "\n"
          ]
        },
        {
          "output_type": "execute_result",
          "data": {
            "text/plain": [
              "'https://huggingface.co/patrickvonplaten/wav2vec2-large-mms-1b-turkish-colab/commit/04cd7c585cd3156df61211323190ba977870e5d3'"
            ],
            "application/vnd.google.colaboratory.intrinsic+json": {
              "type": "string"
            }
          },
          "metadata": {},
          "execution_count": 54
        }
      ]
    },
    {
      "cell_type": "markdown",
      "source": [
        "One of the main advantagehs of adapter weights training is that the \"base\" model which makes up roughly 99% of the model weights is kept unchanged and only a small [2.5M adapter checkpoint](https://huggingface.co/patrickvonplaten/wav2vec2-large-mms-1b-turkish-colab/blob/main/adapter.tur.safetensors) has to be shared in order to use the trained checkpoint.\n",
        "\n",
        "This makes it extremely simply to train additional adapter layers and add them to your repository.\n",
        "\n",
        "You can do some very easily by simply re-running this script and changing the language you would like to train on to a different one, *e.g.* `swe` for Swedish. In addition, you should make sure that the vocabulary does not get completely overwritten but that the new language vocabulary is **appended** to the existing one as stated above in the commented out cells.\n",
        "\n",
        "To demonstrate how different adapter layers can be loaded, I have trained and uploaded also an adapter layer for Swedish under the iso language code `swe` as you can see [here](https://huggingface.co/patrickvonplaten/wav2vec2-large-mms-1b-turkish-colab/blob/main/adapter.swe.safetensors)"
      ],
      "metadata": {
        "id": "zh1j3PdQeEN2"
      }
    },
    {
      "cell_type": "markdown",
      "source": [
        "You can load the fine-tuned checkpoint as usual by using `from_pretrained(...)`, but you should make sure to also add a `target_lang=\"<your-lang-code>\"` to the method so that the correct adapter is loaded. Also should you set the target language correctly for your tokenizer.\n",
        "\n",
        "Let's see how we can load the Turkish checkpoint first."
      ],
      "metadata": {
        "id": "K397I_Xsd594"
      }
    },
    {
      "cell_type": "code",
      "metadata": {
        "colab": {
          "base_uri": "https://localhost:8080/",
          "height": 49,
          "referenced_widgets": [
            "5ee1a7cd040a4115ba4d5d2b5f8d152a",
            "7fd8ed94dab0414da03da65f473bc554",
            "abdc75bd8c424e6882ef622ae05a1a93",
            "b399c67a50db4d85bcc1997ff3089af2",
            "480a94f66d5c4bf2a5706dc797c5c0f9",
            "48f7ef1a225749019b23676d9aaa2b05",
            "08e0803450b84e36a99c1e804f6d7aa6",
            "625712c7757b42f1b7ed4c0b4e01ff2a",
            "3671d992f5664b98bb0e24c7bd7eae01",
            "f08e59cc37d14ffda3d6bd42f16b300a",
            "0257eb08cd124fc9bcde7c9bf6873d8c"
          ]
        },
        "id": "R351I9IQp_9D",
        "outputId": "b5d44f77-8888-48a6-9dab-9c39960635c6"
      },
      "source": [
        "model_id = \"patrickvonplaten/wav2vec2-large-mms-1b-turkish-colab\"\n",
        "\n",
        "model = Wav2Vec2ForCTC.from_pretrained(model_id, target_lang=\"tur\").to(\"cuda\")\n",
        "processor = Wav2Vec2Processor.from_pretrained(model_id)\n",
        "\n",
        "processor.tokenizer.set_target_lang(\"tur\")"
      ],
      "execution_count": null,
      "outputs": [
        {
          "output_type": "display_data",
          "data": {
            "text/plain": [
              "Downloading (…)olve/main/vocab.json:   0%|          | 0.00/1.57k [00:00<?, ?B/s]"
            ],
            "application/vnd.jupyter.widget-view+json": {
              "version_major": 2,
              "version_minor": 0,
              "model_id": "5ee1a7cd040a4115ba4d5d2b5f8d152a"
            }
          },
          "metadata": {}
        }
      ]
    },
    {
      "cell_type": "markdown",
      "source": [
        "Let's check that the model can correctly transcribe Turkish"
      ],
      "metadata": {
        "id": "s_CQHW82kWHA"
      }
    },
    {
      "cell_type": "code",
      "metadata": {
        "colab": {
          "base_uri": "https://localhost:8080/"
        },
        "id": "fe2AE-2xqKHx",
        "outputId": "bfb5fe5a-24a6-46d6-90f3-62f782218940"
      },
      "source": [
        "from datasets import Audio\n",
        "\n",
        "common_voice_test_tr = load_dataset(\"mozilla-foundation/common_voice_6_1\", \"tr\", data_dir=\"./cv-corpus-6.1-2020-12-11\", split=\"test\", use_auth_token=True)\n",
        "common_voice_test_tr = common_voice_test_tr.cast_column(\"audio\", Audio(sampling_rate=16_000))"
      ],
      "execution_count": null,
      "outputs": [
        {
          "output_type": "stream",
          "name": "stderr",
          "text": [
            "WARNING:datasets.builder:Found cached dataset common_voice_6_1 (/root/.cache/huggingface/datasets/mozilla-foundation___common_voice_6_1/tr-6d41d172407fbb8e/6.1.0/f4d7854c466f5bd4908988dbd39044ec4fc634d89e0515ab0c51715c0127ffe3)\n"
          ]
        }
      ]
    },
    {
      "cell_type": "markdown",
      "source": [
        "Let's process the audio, run a forward pass and predict the ids"
      ],
      "metadata": {
        "id": "qD2v7KT6kurE"
      }
    },
    {
      "cell_type": "code",
      "metadata": {
        "id": "pax07TnL3WZn"
      },
      "source": [
        "input_dict = processor(common_voice_test_tr[0][\"audio\"][\"array\"], sampling_rate=16_000, return_tensors=\"pt\", padding=True)\n",
        "\n",
        "logits = model(input_dict.input_values.to(\"cuda\")).logits\n",
        "\n",
        "pred_ids = torch.argmax(logits, dim=-1)[0]"
      ],
      "execution_count": null,
      "outputs": []
    },
    {
      "cell_type": "markdown",
      "metadata": {
        "id": "epu8kCQZ3h70"
      },
      "source": [
        "\n",
        "Finally, we can decode the example."
      ]
    },
    {
      "cell_type": "code",
      "metadata": {
        "colab": {
          "base_uri": "https://localhost:8080/"
        },
        "id": "K4xWqmk_qMn0",
        "outputId": "8d10804f-93fb-4b3e-d1a4-d28b62134f97"
      },
      "source": [
        "print(\"Prediction:\")\n",
        "print(processor.decode(pred_ids))\n",
        "\n",
        "print(\"\\nReference:\")\n",
        "print(common_voice_test_tr[0][\"sentence\"].lower())"
      ],
      "execution_count": null,
      "outputs": [
        {
          "output_type": "stream",
          "name": "stdout",
          "text": [
            "Prediction:\n",
            "pekçoğuda roman toplumundan geliyor\n",
            "\n",
            "Reference:\n",
            "pek çoğu da roman toplumundan geliyor.\n"
          ]
        }
      ]
    },
    {
      "cell_type": "markdown",
      "metadata": {
        "id": "HwhyoMml3oOT"
      },
      "source": [
        "This looks like it's almost exactly right, just two empty spaces should have been added in the first word."
      ]
    },
    {
      "cell_type": "markdown",
      "source": [
        "Now it is very simple to change the adapter to Swedish by calling [`model.load_adapter(...)`](mozilla-foundation/common_voice_6_1) and by changing the tokenizer to Swedish as well."
      ],
      "metadata": {
        "id": "2RhVgZEZlATe"
      }
    },
    {
      "cell_type": "code",
      "source": [
        "model.load_adapter(\"swe\")\n",
        "\n",
        "processor.tokenizer.set_target_lang(\"swe\")"
      ],
      "metadata": {
        "colab": {
          "base_uri": "https://localhost:8080/",
          "height": 49,
          "referenced_widgets": [
            "78aedbf5b9844486becd0a873e09daf2",
            "411e507c944b444aa0ea7feece662869",
            "6ce91d9bdcbc43f88bcf5e6ebc809653",
            "5cc777f117fc4ecf8a1c2c35784b505c",
            "756eeb3b2249408db62ba9ca19c1087f",
            "6dd6da2af5b440ab86ff29fdd3cfc3c5",
            "5d5a61d1c78f4118b1e587656b7415b0",
            "41d5b4a351794489b678f9ac494f3722",
            "e667135b4f764d4582310168f7a34621",
            "d097c910183f4232b540dac9703d035d",
            "ad3c232080d441db9f69aa6cf9767ff1"
          ]
        },
        "id": "gbSXNIKNmkVX",
        "outputId": "2fa2f14b-0005-446b-a190-91722ff4f6f4"
      },
      "execution_count": null,
      "outputs": [
        {
          "output_type": "display_data",
          "data": {
            "text/plain": [
              "Downloading (…)pter.swe.safetensors:   0%|          | 0.00/9.02M [00:00<?, ?B/s]"
            ],
            "application/vnd.jupyter.widget-view+json": {
              "version_major": 2,
              "version_minor": 0,
              "model_id": "78aedbf5b9844486becd0a873e09daf2"
            }
          },
          "metadata": {}
        }
      ]
    },
    {
      "cell_type": "markdown",
      "source": [
        "We again load the Swedish test set from common voice"
      ],
      "metadata": {
        "id": "4_ysA-3tllPA"
      }
    },
    {
      "cell_type": "code",
      "source": [
        "common_voice_test_swe = load_dataset(\"mozilla-foundation/common_voice_6_1\", \"sv-SE\", data_dir=\"./cv-corpus-6.1-2020-12-11\", split=\"test\", use_auth_token=True)\n",
        "common_voice_test_swe = common_voice_test_swe.cast_column(\"audio\", Audio(sampling_rate=16_000))"
      ],
      "metadata": {
        "colab": {
          "base_uri": "https://localhost:8080/"
        },
        "id": "2cthF_RQobAh",
        "outputId": "dd68f0cf-3132-47e2-c8ba-541e8b8416d7"
      },
      "execution_count": null,
      "outputs": [
        {
          "output_type": "stream",
          "name": "stderr",
          "text": [
            "WARNING:datasets.builder:Found cached dataset common_voice_6_1 (/root/.cache/huggingface/datasets/mozilla-foundation___common_voice_6_1/sv-SE-6d41d172407fbb8e/6.1.0/f4d7854c466f5bd4908988dbd39044ec4fc634d89e0515ab0c51715c0127ffe3)\n"
          ]
        }
      ]
    },
    {
      "cell_type": "markdown",
      "source": [
        " and transcribe a sample:"
      ],
      "metadata": {
        "id": "mRfCgOy6o6V_"
      }
    },
    {
      "cell_type": "code",
      "source": [
        "input_dict = processor(common_voice_test_swe[0][\"audio\"][\"array\"], sampling_rate=16_000, return_tensors=\"pt\", padding=True)\n",
        "\n",
        "logits = model(input_dict.input_values.to(\"cuda\")).logits\n",
        "\n",
        "pred_ids = torch.argmax(logits, dim=-1)[0]\n",
        "\n",
        "print(\"Prediction:\")\n",
        "print(processor.decode(pred_ids))\n",
        "\n",
        "print(\"\\nReference:\")\n",
        "print(common_voice_test_swe[0][\"sentence\"].lower())"
      ],
      "metadata": {
        "colab": {
          "base_uri": "https://localhost:8080/"
        },
        "id": "5-bhaW_jotLh",
        "outputId": "68ef0f10-5d6d-4fc0-b051-4dd2ccc9173c"
      },
      "execution_count": null,
      "outputs": [
        {
          "output_type": "stream",
          "name": "stdout",
          "text": [
            "Prediction:\n",
            "jag lemnade grovyobbet ot honom\n",
            "\n",
            "Reference:\n",
            "jag lämnade grovjobbet åt honom.\n"
          ]
        }
      ]
    },
    {
      "cell_type": "markdown",
      "source": [
        "Great, this looks like an almost perfect transcription!\n",
        "\n",
        "We've shown in this blog post how MMS Adapter Weights fine-tuning not only gives state-of-the-art performance on low-resource languages, but also significantly speeds up training time and allows to easily build a collection of customized adapter weights."
      ],
      "metadata": {
        "id": "HABoBg95sfYa"
      }
    }
  ]
}